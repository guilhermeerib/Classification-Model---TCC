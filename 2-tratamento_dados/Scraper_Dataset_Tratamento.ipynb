{
 "cells": [
  {
   "cell_type": "code",
   "execution_count": 1,
   "metadata": {},
   "outputs": [],
   "source": [
    "#! pip install -U pip setuptools wheel\n",
    "#! pip install -U 'spacy[cuda12x]'\n",
    "#! python -m spacy download en_core_web_trf\n",
    "#! python -m spacy download en_core_web_sm\n",
    "#! pip install pandas"
   ]
  },
  {
   "cell_type": "markdown",
   "metadata": {},
   "source": [
    "### Baixar CSV DAtaset\n",
    "\n",
    "Para realizar o tratamento de dados a seguir, o IMDB Dataset deve ser baixado, e colocado na pasta raiz do projeto\n",
    "\n",
    "<a href=\"https://www.kaggle.com/datasets/lakshmi25npathi/imdb-dataset-of-50k-movie-reviews\" target=\"_blank\">Conjunto de dados IMDB de 50 mil críticas de filmes</a>\n"
   ]
  },
  {
   "cell_type": "code",
   "execution_count": 2,
   "metadata": {},
   "outputs": [],
   "source": [
    "import re\n",
    "import pandas as pd\n",
    "import spacy\n",
    "from spacy.tokens import Doc\n",
    "from tqdm import tqdm\n"
   ]
  },
  {
   "cell_type": "code",
   "execution_count": 3,
   "metadata": {},
   "outputs": [],
   "source": [
    "# Carregar o modelo em inglês\n",
    "# nlp = spacy.load(\"en_core_web_trf\", exclude=[\"parser\", \"ner\"])\n",
    "nlp = spacy.load(\"en_core_web_sm\", exclude=[\"parser\", \"ner\"])\n",
    "FILE_PATH = \"D:/tcc2/guilherme/1webscrapper/data/reviews_scraper_original.csv\"\n",
    "df = pd.read_csv(FILE_PATH)\n",
    "df = df[['review','rating']]\n",
    "# df = df[:1000]"
   ]
  },
  {
   "cell_type": "code",
   "execution_count": 4,
   "metadata": {},
   "outputs": [
    {
     "data": {
      "text/html": [
       "<div>\n",
       "<style scoped>\n",
       "    .dataframe tbody tr th:only-of-type {\n",
       "        vertical-align: middle;\n",
       "    }\n",
       "\n",
       "    .dataframe tbody tr th {\n",
       "        vertical-align: top;\n",
       "    }\n",
       "\n",
       "    .dataframe thead th {\n",
       "        text-align: right;\n",
       "    }\n",
       "</style>\n",
       "<table border=\"1\" class=\"dataframe\">\n",
       "  <thead>\n",
       "    <tr style=\"text-align: right;\">\n",
       "      <th></th>\n",
       "      <th>review</th>\n",
       "      <th>rating</th>\n",
       "    </tr>\n",
       "  </thead>\n",
       "  <tbody>\n",
       "    <tr>\n",
       "      <th>0</th>\n",
       "      <td>This movie takes place off in fantasy land som...</td>\n",
       "      <td>1</td>\n",
       "    </tr>\n",
       "    <tr>\n",
       "      <th>1</th>\n",
       "      <td>Too sentimental, too pathetic, too slow, too c...</td>\n",
       "      <td>1</td>\n",
       "    </tr>\n",
       "    <tr>\n",
       "      <th>2</th>\n",
       "      <td>There are some things in this life we will nev...</td>\n",
       "      <td>1</td>\n",
       "    </tr>\n",
       "    <tr>\n",
       "      <th>3</th>\n",
       "      <td>This movie was inspired by the brilliant Stir ...</td>\n",
       "      <td>1</td>\n",
       "    </tr>\n",
       "    <tr>\n",
       "      <th>4</th>\n",
       "      <td>For the life of me, I can't understand all the...</td>\n",
       "      <td>1</td>\n",
       "    </tr>\n",
       "  </tbody>\n",
       "</table>\n",
       "</div>"
      ],
      "text/plain": [
       "                                              review  rating\n",
       "0  This movie takes place off in fantasy land som...       1\n",
       "1  Too sentimental, too pathetic, too slow, too c...       1\n",
       "2  There are some things in this life we will nev...       1\n",
       "3  This movie was inspired by the brilliant Stir ...       1\n",
       "4  For the life of me, I can't understand all the...       1"
      ]
     },
     "execution_count": 4,
     "metadata": {},
     "output_type": "execute_result"
    }
   ],
   "source": [
    "df.head()"
   ]
  },
  {
   "cell_type": "code",
   "execution_count": 5,
   "metadata": {},
   "outputs": [
    {
     "data": {
      "text/plain": [
       "rating\n",
       "10    6236\n",
       "8     6226\n",
       "9     6223\n",
       "7     5800\n",
       "6     4651\n",
       "5     3745\n",
       "1     3455\n",
       "4     2964\n",
       "3     2731\n",
       "2     2421\n",
       "Name: count, dtype: int64"
      ]
     },
     "execution_count": 5,
     "metadata": {},
     "output_type": "execute_result"
    }
   ],
   "source": [
    "df[\"rating\"].value_counts()"
   ]
  },
  {
   "cell_type": "code",
   "execution_count": 6,
   "metadata": {},
   "outputs": [
    {
     "data": {
      "text/plain": [
       "review    0\n",
       "rating    0\n",
       "dtype: int64"
      ]
     },
     "execution_count": 6,
     "metadata": {},
     "output_type": "execute_result"
    }
   ],
   "source": [
    "df.isnull().sum()"
   ]
  },
  {
   "cell_type": "code",
   "execution_count": 7,
   "metadata": {},
   "outputs": [
    {
     "data": {
      "text/plain": [
       "16"
      ]
     },
     "execution_count": 7,
     "metadata": {},
     "output_type": "execute_result"
    }
   ],
   "source": [
    "df.duplicated().sum()"
   ]
  },
  {
   "cell_type": "code",
   "execution_count": 8,
   "metadata": {},
   "outputs": [],
   "source": [
    "# Remove linhas de reviews_treated duplicadoss\n",
    "df = df.drop_duplicates()"
   ]
  },
  {
   "cell_type": "code",
   "execution_count": 9,
   "metadata": {},
   "outputs": [
    {
     "data": {
      "text/plain": [
       "0"
      ]
     },
     "execution_count": 9,
     "metadata": {},
     "output_type": "execute_result"
    }
   ],
   "source": [
    "df.duplicated().sum()"
   ]
  },
  {
   "cell_type": "code",
   "execution_count": 10,
   "metadata": {},
   "outputs": [
    {
     "data": {
      "text/plain": [
       "rating\n",
       "10    6231\n",
       "8     6226\n",
       "9     6218\n",
       "7     5799\n",
       "6     4651\n",
       "5     3745\n",
       "1     3452\n",
       "4     2962\n",
       "3     2731\n",
       "2     2421\n",
       "Name: count, dtype: int64"
      ]
     },
     "execution_count": 10,
     "metadata": {},
     "output_type": "execute_result"
    }
   ],
   "source": [
    "df[\"rating\"].value_counts()"
   ]
  },
  {
   "cell_type": "code",
   "execution_count": 11,
   "metadata": {},
   "outputs": [],
   "source": [
    "def obter_maior_texto(df):\n",
    "    return max(df[\"review\"], key=lambda x: len(x.split()))"
   ]
  },
  {
   "cell_type": "code",
   "execution_count": 12,
   "metadata": {},
   "outputs": [
    {
     "name": "stdout",
     "output_type": "stream",
     "text": [
      "9942\n"
     ]
    }
   ],
   "source": [
    "maior_string = obter_maior_texto(df)\n",
    "tam_maior_string = len(maior_string)\n",
    "print(tam_maior_string)"
   ]
  },
  {
   "cell_type": "code",
   "execution_count": 13,
   "metadata": {},
   "outputs": [],
   "source": [
    "# funcoes de tratamento comuns\n",
    "def remove_extra_spaces(text):\n",
    "    r\"Remover espacos, quebra de linhas e tabulações do inicio e fim de frases e ubstituir sequências de espaços por um espaço\"\n",
    "    return re.sub(r\"\\s+\", \" \", text).strip()\n",
    "    \n",
    "\n",
    "\n",
    "def remove_tags(raw_text):\n",
    "    cleaned_text = re.sub(re.compile(\"<.*?>\"), \"\", raw_text)\n",
    "    return cleaned_text\n",
    "\n",
    "\n",
    "def normalize_lowercase(text: str) -> str:\n",
    "    return text.lower()\n",
    "\n",
    "\n",
    "# funcoes de tratamento spacy\n",
    "def lemmatize_text_remove_stopwords_and_puntuaction(doc: Doc | str):\n",
    "    if not isinstance(doc, Doc):\n",
    "        doc = nlp(doc)\n",
    "    return \" \".join(\n",
    "        [token.lemma_ for token in doc if not token.is_stop and not token.is_punct]\n",
    "    )\n",
    "\n",
    "\n",
    "def remove_stopwords_and_puntuaction(doc: Doc | str):\n",
    "    if not isinstance(doc, Doc):\n",
    "        doc = nlp(doc)\n",
    "    return \" \".join(\n",
    "        [token.text for token in doc if not token.is_stop and not token.is_punct]\n",
    "    )\n",
    "\n",
    "\n",
    "# def remove_punctuation(doc):\n",
    "#     return \" \".join([token.text for token in doc if not token.is_punct])\n",
    "\n",
    "\n",
    "# def remove_stopwords(doc):\n",
    "#     return \" \".join([token.text for token in doc if not token.is_stop])\n",
    "\n",
    "\n",
    "# def lemmatize_text(doc):\n",
    "#     return \" \".join([token.lemma_ for token in doc])"
   ]
  },
  {
   "cell_type": "code",
   "execution_count": 16,
   "metadata": {},
   "outputs": [],
   "source": [
    "def execute_all_trataments(series_review, FINAL_SPACY_FORMAT):\n",
    "    reviews_treated = df[\"review\"]\n",
    "\n",
    "    reviews_treated = reviews_treated.apply(remove_tags)\n",
    "    reviews_treated = reviews_treated.apply(normalize_lowercase)\n",
    "    reviews_treated = reviews_treated.apply(remove_extra_spaces)\n",
    "\n",
    "    len_texts = len(reviews_treated)\n",
    "    docs = list(\n",
    "        tqdm(\n",
    "            nlp.pipe(\n",
    "                reviews_treated,\n",
    "                batch_size=500,\n",
    "                disable=[\"parser\", \"ner\"],\n",
    "            ),\n",
    "            colour=\"green\",\n",
    "            desc=\"Progresso: \",\n",
    "            total=len_texts,\n",
    "        )\n",
    "    )\n",
    "\n",
    "    if FINAL_SPACY_FORMAT == \"lemma\":\n",
    "        reviews_treated = [\n",
    "            lemmatize_text_remove_stopwords_and_puntuaction(doc) for doc in docs\n",
    "        ]\n",
    "    elif FINAL_SPACY_FORMAT == \"text\":\n",
    "        reviews_treated = [remove_stopwords_and_puntuaction(doc) for doc in docs]\n",
    "    reviews_treated = [remove_extra_spaces(review) for review in reviews_treated]\n",
    "    return reviews_treated"
   ]
  },
  {
   "cell_type": "code",
   "execution_count": 17,
   "metadata": {},
   "outputs": [
    {
     "name": "stderr",
     "output_type": "stream",
     "text": [
      "Progresso: 100%|\u001b[32m██████████\u001b[0m| 44436/44436 [08:36<00:00, 85.97it/s] \n"
     ]
    }
   ],
   "source": [
    "# Aplicar as funções de str ao DataFrame\n",
    "# definir como True para saída em forma de token.lemma, ou False para token.text\n",
    "FINAL_SPACY_FORMAT= \"lemma\" \n",
    "reviews_treated= execute_all_trataments(df[\"review\"],FINAL_SPACY_FORMAT)"
   ]
  },
  {
   "cell_type": "code",
   "execution_count": 18,
   "metadata": {},
   "outputs": [],
   "source": [
    "df[\"review\"]= reviews_treated"
   ]
  },
  {
   "cell_type": "code",
   "execution_count": 19,
   "metadata": {},
   "outputs": [
    {
     "data": {
      "text/html": [
       "<div>\n",
       "<style scoped>\n",
       "    .dataframe tbody tr th:only-of-type {\n",
       "        vertical-align: middle;\n",
       "    }\n",
       "\n",
       "    .dataframe tbody tr th {\n",
       "        vertical-align: top;\n",
       "    }\n",
       "\n",
       "    .dataframe thead th {\n",
       "        text-align: right;\n",
       "    }\n",
       "</style>\n",
       "<table border=\"1\" class=\"dataframe\">\n",
       "  <thead>\n",
       "    <tr style=\"text-align: right;\">\n",
       "      <th></th>\n",
       "      <th>review</th>\n",
       "      <th>rating</th>\n",
       "    </tr>\n",
       "  </thead>\n",
       "  <tbody>\n",
       "    <tr>\n",
       "      <th>0</th>\n",
       "      <td>movie take place fantasy land absolutely ridic...</td>\n",
       "      <td>1</td>\n",
       "    </tr>\n",
       "    <tr>\n",
       "      <th>1</th>\n",
       "      <td>sentimental pathetic slow conventionally voice...</td>\n",
       "      <td>1</td>\n",
       "    </tr>\n",
       "    <tr>\n",
       "      <th>2</th>\n",
       "      <td>thing life understand universe begin happen so...</td>\n",
       "      <td>1</td>\n",
       "    </tr>\n",
       "    <tr>\n",
       "      <th>3</th>\n",
       "      <td>movie inspire brilliant stir crazy star gene w...</td>\n",
       "      <td>1</td>\n",
       "    </tr>\n",
       "    <tr>\n",
       "      <th>4</th>\n",
       "      <td>life understand gush cornball sentimental phon...</td>\n",
       "      <td>1</td>\n",
       "    </tr>\n",
       "    <tr>\n",
       "      <th>...</th>\n",
       "      <td>...</td>\n",
       "      <td>...</td>\n",
       "    </tr>\n",
       "    <tr>\n",
       "      <th>44447</th>\n",
       "      <td>uma thurman return bride time look continue st...</td>\n",
       "      <td>10</td>\n",
       "    </tr>\n",
       "    <tr>\n",
       "      <th>44448</th>\n",
       "      <td>quentin tarantino kill bill vol 2 complete 2 v...</td>\n",
       "      <td>10</td>\n",
       "    </tr>\n",
       "    <tr>\n",
       "      <th>44449</th>\n",
       "      <td>vol 2 completely different tone feature film a...</td>\n",
       "      <td>10</td>\n",
       "    </tr>\n",
       "    <tr>\n",
       "      <th>44450</th>\n",
       "      <td>movie great mix different genre movie martial ...</td>\n",
       "      <td>10</td>\n",
       "    </tr>\n",
       "    <tr>\n",
       "      <th>44451</th>\n",
       "      <td>kill bill volume 2 direct quentin tarantino gr...</td>\n",
       "      <td>10</td>\n",
       "    </tr>\n",
       "  </tbody>\n",
       "</table>\n",
       "<p>44436 rows × 2 columns</p>\n",
       "</div>"
      ],
      "text/plain": [
       "                                                  review  rating\n",
       "0      movie take place fantasy land absolutely ridic...       1\n",
       "1      sentimental pathetic slow conventionally voice...       1\n",
       "2      thing life understand universe begin happen so...       1\n",
       "3      movie inspire brilliant stir crazy star gene w...       1\n",
       "4      life understand gush cornball sentimental phon...       1\n",
       "...                                                  ...     ...\n",
       "44447  uma thurman return bride time look continue st...      10\n",
       "44448  quentin tarantino kill bill vol 2 complete 2 v...      10\n",
       "44449  vol 2 completely different tone feature film a...      10\n",
       "44450  movie great mix different genre movie martial ...      10\n",
       "44451  kill bill volume 2 direct quentin tarantino gr...      10\n",
       "\n",
       "[44436 rows x 2 columns]"
      ]
     },
     "execution_count": 19,
     "metadata": {},
     "output_type": "execute_result"
    }
   ],
   "source": [
    "df\n"
   ]
  },
  {
   "cell_type": "code",
   "execution_count": 20,
   "metadata": {},
   "outputs": [
    {
     "name": "stdout",
     "output_type": "stream",
     "text": [
      "6022\n"
     ]
    }
   ],
   "source": [
    "maior_string = obter_maior_texto(df)\n",
    "tam_maior_string= len(maior_string)\n",
    "print(tam_maior_string)"
   ]
  },
  {
   "cell_type": "code",
   "execution_count": 21,
   "metadata": {},
   "outputs": [
    {
     "data": {
      "text/plain": [
       "13"
      ]
     },
     "execution_count": 21,
     "metadata": {},
     "output_type": "execute_result"
    }
   ],
   "source": [
    "df.duplicated().sum()"
   ]
  },
  {
   "cell_type": "code",
   "execution_count": 22,
   "metadata": {},
   "outputs": [
    {
     "data": {
      "text/plain": [
       "0"
      ]
     },
     "execution_count": 22,
     "metadata": {},
     "output_type": "execute_result"
    }
   ],
   "source": [
    "df = df.drop_duplicates(ignore_index=True)\n",
    "df.duplicated().sum()"
   ]
  },
  {
   "cell_type": "code",
   "execution_count": 23,
   "metadata": {},
   "outputs": [
    {
     "name": "stdout",
     "output_type": "stream",
     "text": [
      "value counts df['rating']:\n",
      "rating\n",
      "10    6227\n",
      "8     6224\n",
      "9     6217\n",
      "7     5799\n",
      "6     4650\n",
      "5     3744\n",
      "1     3450\n",
      "4     2961\n",
      "3     2731\n",
      "2     2420\n",
      "Name: count, dtype: int64\n"
     ]
    }
   ],
   "source": [
    "print(\"value counts df['rating']:\")\n",
    "print(df[\"rating\"].value_counts())"
   ]
  },
  {
   "cell_type": "code",
   "execution_count": 24,
   "metadata": {},
   "outputs": [],
   "source": [
    "DATA_PATH= f\"D:/tcc2/guilherme/2tratamento_dados/dataset_tratado/Scraper_Dataset_tretead_{FINAL_SPACY_FORMAT}.csv\"\n",
    "df.to_csv(DATA_PATH, index=False)"
   ]
  },
  {
   "cell_type": "code",
   "execution_count": null,
   "metadata": {},
   "outputs": [],
   "source": [
    "print(df.groupby(\"rating\"))"
   ]
  },
  {
   "cell_type": "code",
   "execution_count": null,
   "metadata": {},
   "outputs": [],
   "source": [
    "# # Iterar sobre cada categoria\n",
    "# def balance_dataframe_groups(df, num_rows_per_rating):\n",
    "#     # Lista para armazenar os DataFrames de cada categoria\n",
    "#     df_list_rating = []\n",
    "#     for rating, group in df.groupby(\"rating\"):\n",
    "#         rating_str = str(rating)  # Convertendo para string\n",
    "#         num_samples = min(num_rows_per_rating[rating_str], len(group))\n",
    "#         # Selecionar aleatoriamente o número correto de linhas para cada categoria\n",
    "#         sampled_rows = group.sample(n=num_samples, random_state=42)\n",
    "#         # Adicionar os dados selecionados à lista\n",
    "#         df_list_rating.append(sampled_rows)\n",
    "#     balanced_df =pd.concat(df_list_rating)\n",
    "#     return balanced_df , df_list_rating"
   ]
  },
  {
   "cell_type": "code",
   "execution_count": null,
   "metadata": {},
   "outputs": [],
   "source": [
    "# # Defina o número de linhas desejado para cada categoria\n",
    "# num_rows_per_rating = {\n",
    "#     \"1\": 2000,\n",
    "#     \"2\": 2000,\n",
    "#     \"3\": 2000,\n",
    "#     \"4\": 2000,\n",
    "#     \"5\": 3744,\n",
    "#     \"6\": 4256,\n",
    "#     \"7\": 2000,\n",
    "#     \"8\": 2000,\n",
    "#     \"9\": 2000,\n",
    "#     \"10\": 2000,\n",
    "# }\n",
    "\n",
    "# # Concatenar os DataFrames de cada categoria em um único DataFrame\n",
    "# balanced_df, df_list_rating = balance_dataframe_groups(df, num_rows_per_rating)\n",
    "\n",
    "# # # Mostrar as primeiras linhas do DataFrame balanceado\n",
    "# # print(balanced_df.head())\n",
    "\n",
    "# # Verificar se as categorias estão balanceadas\n",
    "# print(balanced_df[\"rating\"].value_counts())"
   ]
  },
  {
   "cell_type": "code",
   "execution_count": null,
   "metadata": {},
   "outputs": [],
   "source": [
    "# DATA_PATH=\"D:/tcc2/guilherme/2tratamento_dados/dataset_tratado/Scraper_Dataset_tretead_text_balanced_10classes.csv\"\n",
    "# balanced_df.to_csv(DATA_PATH, index=False)"
   ]
  },
  {
   "cell_type": "code",
   "execution_count": null,
   "metadata": {},
   "outputs": [],
   "source": [
    "# def categorize_rating(rating):\n",
    "#     if int(rating) <= 4:\n",
    "#         return 0\n",
    "#     elif int(rating) <= 6:\n",
    "#         return 1\n",
    "#     else:\n",
    "#         return 2"
   ]
  },
  {
   "cell_type": "code",
   "execution_count": null,
   "metadata": {},
   "outputs": [],
   "source": [
    "# balanced_df[\"rating\"] = balanced_df[\"rating\"].apply(categorize_rating)\n",
    "# print(balanced_df[\"rating\"].value_counts())"
   ]
  },
  {
   "cell_type": "code",
   "execution_count": null,
   "metadata": {},
   "outputs": [],
   "source": [
    "# DATA_PATH=\"D:/tcc2/guilherme/2tratamento_dados/dataset_tratado/Scraper_Dataset_tretead_text_balanced_3classes.csv\"\n",
    "# balanced_df.to_csv(DATA_PATH, index=False)"
   ]
  }
 ],
 "metadata": {
  "kernelspec": {
   "display_name": ".venv-tcc",
   "language": "python",
   "name": "python3"
  },
  "language_info": {
   "codemirror_mode": {
    "name": "ipython",
    "version": 3
   },
   "file_extension": ".py",
   "mimetype": "text/x-python",
   "name": "python",
   "nbconvert_exporter": "python",
   "pygments_lexer": "ipython3",
   "version": "3.10.11"
  }
 },
 "nbformat": 4,
 "nbformat_minor": 2
}
