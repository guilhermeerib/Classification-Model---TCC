{
 "cells": [
  {
   "cell_type": "markdown",
   "metadata": {},
   "source": [
    "## Text Classification with BERT\n",
    "\n",
    "\n"
   ]
  },
  {
   "cell_type": "markdown",
   "metadata": {},
   "source": [
    "### Criando o ambiente virtual\n",
    "\n",
    "Digite no terminal os seguintes comandos:\n",
    "\n",
    "> python -m venv .venv\n",
    "\n",
    "\n"
   ]
  },
  {
   "cell_type": "code",
   "execution_count": 1,
   "metadata": {},
   "outputs": [],
   "source": [
    "# ## Instalando as dependências necessárias\n",
    "# ! pip install -q ipywidgets\n",
    "\n",
    "# ! pip install -q pandas\n",
    "# ! pip3 install -q torch torchvision torchaudio --index-url https://download.pytorch.org/whl/cu121\n",
    "# ! pip install -q transformers\n",
    "#  ! pip install -q scikit-learn\n",
    "\n",
    "# # Tratamento de dados\n",
    "# ! pip install -U -q pip setuptools wheel\n",
    "# ! pip install -U -q spacy\n",
    "# ! python -m spacy download en_core_web_sm"
   ]
  },
  {
   "cell_type": "markdown",
   "metadata": {},
   "source": [
    "### Importando dependencias\n"
   ]
  },
  {
   "cell_type": "code",
   "execution_count": 2,
   "metadata": {},
   "outputs": [],
   "source": [
    "import re\n",
    "import torch\n",
    "import pandas as pd\n",
    "import numpy as np\n",
    "from torch import nn\n",
    "import torch.nn.functional as F\n",
    "from torch.utils.data import DataLoader, Dataset\n",
    "from torch.optim import AdamW\n",
    "from transformers import (\n",
    "    BertTokenizer,\n",
    "    BertModel,\n",
    "    get_linear_schedule_with_warmup,\n",
    ")\n",
    "from tqdm import tqdm\n",
    "from sklearn.model_selection import train_test_split\n",
    "from sklearn.metrics import accuracy_score, classification_report"
   ]
  },
  {
   "cell_type": "markdown",
   "metadata": {},
   "source": [
    "### Baixar CSV DAtaset\n",
    "\n",
    "Usar o dataset obtido por meio do scraper"
   ]
  },
  {
   "cell_type": "markdown",
   "metadata": {},
   "source": [
    "#### reviews scraper original, com outliers\n"
   ]
  },
  {
   "cell_type": "code",
   "execution_count": 3,
   "metadata": {},
   "outputs": [
    {
     "data": {
      "text/html": [
       "<div>\n",
       "<style scoped>\n",
       "    .dataframe tbody tr th:only-of-type {\n",
       "        vertical-align: middle;\n",
       "    }\n",
       "\n",
       "    .dataframe tbody tr th {\n",
       "        vertical-align: top;\n",
       "    }\n",
       "\n",
       "    .dataframe thead th {\n",
       "        text-align: right;\n",
       "    }\n",
       "</style>\n",
       "<table border=\"1\" class=\"dataframe\">\n",
       "  <thead>\n",
       "    <tr style=\"text-align: right;\">\n",
       "      <th></th>\n",
       "      <th>review</th>\n",
       "      <th>rating</th>\n",
       "    </tr>\n",
       "  </thead>\n",
       "  <tbody>\n",
       "    <tr>\n",
       "      <th>0</th>\n",
       "      <td>This movie takes place off in fantasy land som...</td>\n",
       "      <td>1</td>\n",
       "    </tr>\n",
       "    <tr>\n",
       "      <th>1</th>\n",
       "      <td>Too sentimental, too pathetic, too slow, too c...</td>\n",
       "      <td>1</td>\n",
       "    </tr>\n",
       "    <tr>\n",
       "      <th>2</th>\n",
       "      <td>There are some things in this life we will nev...</td>\n",
       "      <td>1</td>\n",
       "    </tr>\n",
       "    <tr>\n",
       "      <th>3</th>\n",
       "      <td>This movie was inspired by the brilliant Stir ...</td>\n",
       "      <td>1</td>\n",
       "    </tr>\n",
       "    <tr>\n",
       "      <th>4</th>\n",
       "      <td>For the life of me, I can't understand all the...</td>\n",
       "      <td>1</td>\n",
       "    </tr>\n",
       "    <tr>\n",
       "      <th>...</th>\n",
       "      <td>...</td>\n",
       "      <td>...</td>\n",
       "    </tr>\n",
       "    <tr>\n",
       "      <th>44447</th>\n",
       "      <td>Uma Thurman returns as the Bride, who this tim...</td>\n",
       "      <td>10</td>\n",
       "    </tr>\n",
       "    <tr>\n",
       "      <th>44448</th>\n",
       "      <td>Quentin Tarantino's \"Kill Bill: Vol. 2\" comple...</td>\n",
       "      <td>10</td>\n",
       "    </tr>\n",
       "    <tr>\n",
       "      <th>44449</th>\n",
       "      <td>Vol 2 is completely different tone then the fi...</td>\n",
       "      <td>10</td>\n",
       "    </tr>\n",
       "    <tr>\n",
       "      <th>44450</th>\n",
       "      <td>This movie is great in that it mixes together ...</td>\n",
       "      <td>10</td>\n",
       "    </tr>\n",
       "    <tr>\n",
       "      <th>44451</th>\n",
       "      <td>Kill Bill Volume 2 (directed by Quentin Tarant...</td>\n",
       "      <td>10</td>\n",
       "    </tr>\n",
       "  </tbody>\n",
       "</table>\n",
       "<p>44452 rows × 2 columns</p>\n",
       "</div>"
      ],
      "text/plain": [
       "                                                  review  rating\n",
       "0      This movie takes place off in fantasy land som...       1\n",
       "1      Too sentimental, too pathetic, too slow, too c...       1\n",
       "2      There are some things in this life we will nev...       1\n",
       "3      This movie was inspired by the brilliant Stir ...       1\n",
       "4      For the life of me, I can't understand all the...       1\n",
       "...                                                  ...     ...\n",
       "44447  Uma Thurman returns as the Bride, who this tim...      10\n",
       "44448  Quentin Tarantino's \"Kill Bill: Vol. 2\" comple...      10\n",
       "44449  Vol 2 is completely different tone then the fi...      10\n",
       "44450  This movie is great in that it mixes together ...      10\n",
       "44451  Kill Bill Volume 2 (directed by Quentin Tarant...      10\n",
       "\n",
       "[44452 rows x 2 columns]"
      ]
     },
     "execution_count": 3,
     "metadata": {},
     "output_type": "execute_result"
    }
   ],
   "source": [
    "# DATA_PATH = \"D:/tcc2/guilherme/2-tratamento_dados/dataset_tratado/Scraper_Dataset_tretead_text.csv\"\n",
    "DATA_PATH= f\"D:/tcc2/guilherme/2_Web_Scrapping/data/reviews_scraper_original.csv\"\n",
    "df = pd.read_csv(DATA_PATH)\n",
    "df = df[['review','rating']]\n",
    "df\n"
   ]
  },
  {
   "cell_type": "code",
   "execution_count": 4,
   "metadata": {},
   "outputs": [
    {
     "name": "stdout",
     "output_type": "stream",
     "text": [
      "Valores duplicados 16\n"
     ]
    }
   ],
   "source": [
    "print(\"Valores duplicados\",df.duplicated().sum())\n"
   ]
  },
  {
   "cell_type": "code",
   "execution_count": 5,
   "metadata": {},
   "outputs": [
    {
     "data": {
      "text/html": [
       "<div>\n",
       "<style scoped>\n",
       "    .dataframe tbody tr th:only-of-type {\n",
       "        vertical-align: middle;\n",
       "    }\n",
       "\n",
       "    .dataframe tbody tr th {\n",
       "        vertical-align: top;\n",
       "    }\n",
       "\n",
       "    .dataframe thead th {\n",
       "        text-align: right;\n",
       "    }\n",
       "</style>\n",
       "<table border=\"1\" class=\"dataframe\">\n",
       "  <thead>\n",
       "    <tr style=\"text-align: right;\">\n",
       "      <th></th>\n",
       "      <th>review</th>\n",
       "      <th>rating</th>\n",
       "    </tr>\n",
       "  </thead>\n",
       "  <tbody>\n",
       "    <tr>\n",
       "      <th>0</th>\n",
       "      <td>This movie takes place off in fantasy land som...</td>\n",
       "      <td>1</td>\n",
       "    </tr>\n",
       "    <tr>\n",
       "      <th>1</th>\n",
       "      <td>Too sentimental, too pathetic, too slow, too c...</td>\n",
       "      <td>1</td>\n",
       "    </tr>\n",
       "    <tr>\n",
       "      <th>2</th>\n",
       "      <td>There are some things in this life we will nev...</td>\n",
       "      <td>1</td>\n",
       "    </tr>\n",
       "    <tr>\n",
       "      <th>3</th>\n",
       "      <td>This movie was inspired by the brilliant Stir ...</td>\n",
       "      <td>1</td>\n",
       "    </tr>\n",
       "    <tr>\n",
       "      <th>4</th>\n",
       "      <td>For the life of me, I can't understand all the...</td>\n",
       "      <td>1</td>\n",
       "    </tr>\n",
       "    <tr>\n",
       "      <th>...</th>\n",
       "      <td>...</td>\n",
       "      <td>...</td>\n",
       "    </tr>\n",
       "    <tr>\n",
       "      <th>44431</th>\n",
       "      <td>Uma Thurman returns as the Bride, who this tim...</td>\n",
       "      <td>10</td>\n",
       "    </tr>\n",
       "    <tr>\n",
       "      <th>44432</th>\n",
       "      <td>Quentin Tarantino's \"Kill Bill: Vol. 2\" comple...</td>\n",
       "      <td>10</td>\n",
       "    </tr>\n",
       "    <tr>\n",
       "      <th>44433</th>\n",
       "      <td>Vol 2 is completely different tone then the fi...</td>\n",
       "      <td>10</td>\n",
       "    </tr>\n",
       "    <tr>\n",
       "      <th>44434</th>\n",
       "      <td>This movie is great in that it mixes together ...</td>\n",
       "      <td>10</td>\n",
       "    </tr>\n",
       "    <tr>\n",
       "      <th>44435</th>\n",
       "      <td>Kill Bill Volume 2 (directed by Quentin Tarant...</td>\n",
       "      <td>10</td>\n",
       "    </tr>\n",
       "  </tbody>\n",
       "</table>\n",
       "<p>44436 rows × 2 columns</p>\n",
       "</div>"
      ],
      "text/plain": [
       "                                                  review  rating\n",
       "0      This movie takes place off in fantasy land som...       1\n",
       "1      Too sentimental, too pathetic, too slow, too c...       1\n",
       "2      There are some things in this life we will nev...       1\n",
       "3      This movie was inspired by the brilliant Stir ...       1\n",
       "4      For the life of me, I can't understand all the...       1\n",
       "...                                                  ...     ...\n",
       "44431  Uma Thurman returns as the Bride, who this tim...      10\n",
       "44432  Quentin Tarantino's \"Kill Bill: Vol. 2\" comple...      10\n",
       "44433  Vol 2 is completely different tone then the fi...      10\n",
       "44434  This movie is great in that it mixes together ...      10\n",
       "44435  Kill Bill Volume 2 (directed by Quentin Tarant...      10\n",
       "\n",
       "[44436 rows x 2 columns]"
      ]
     },
     "execution_count": 5,
     "metadata": {},
     "output_type": "execute_result"
    }
   ],
   "source": [
    "df = df.drop_duplicates(ignore_index=True)\n",
    "df\n"
   ]
  },
  {
   "cell_type": "code",
   "execution_count": 6,
   "metadata": {},
   "outputs": [
    {
     "name": "stdout",
     "output_type": "stream",
     "text": [
      "value counts df['rating']:\n",
      "rating\n",
      "10    6231\n",
      "8     6226\n",
      "9     6218\n",
      "7     5799\n",
      "6     4651\n",
      "5     3745\n",
      "1     3452\n",
      "4     2962\n",
      "3     2731\n",
      "2     2421\n",
      "Name: count, dtype: int64\n"
     ]
    }
   ],
   "source": [
    "print(\"value counts df['rating']:\")\n",
    "print(df[\"rating\"].value_counts())\n",
    "\n"
   ]
  },
  {
   "cell_type": "code",
   "execution_count": 7,
   "metadata": {},
   "outputs": [],
   "source": [
    "# Iterar sobre cada categoria\n",
    "def balance_dataframe_groups(df,column, NUM_ROWS_PER_CATEGORY):\n",
    "    # Lista para armazenar os DataFrames de cada categoria(um por categoria)\n",
    "    df_list_rating = []\n",
    "    for rating, group in df.groupby(column):\n",
    "        rating_str = str(rating)  # Convertendo para string\n",
    "        num_samples = min(NUM_ROWS_PER_CATEGORY[rating_str], len(group))\n",
    "        # Selecionar aleatoriamente o número correto de linhas para cada categoria\n",
    "        sampled_rows = group.sample(n=num_samples, random_state=42)\n",
    "        # Adicionar os dados selecionados à lista\n",
    "        df_list_rating.append(sampled_rows)\n",
    "    balanced_df =pd.concat(df_list_rating)\n",
    "    return balanced_df "
   ]
  },
  {
   "cell_type": "code",
   "execution_count": 8,
   "metadata": {},
   "outputs": [
    {
     "name": "stdout",
     "output_type": "stream",
     "text": [
      "rating\n",
      "1     2000\n",
      "2     2000\n",
      "3     2000\n",
      "8     2000\n",
      "9     2000\n",
      "10    2000\n",
      "4     1500\n",
      "5     1500\n",
      "6     1500\n",
      "7     1500\n",
      "Name: count, dtype: int64\n"
     ]
    }
   ],
   "source": [
    "# Definido para situacao onde a classe neutra vai representar os ratings [4,5,6,7]\n",
    "NUM_ROWS_PER_CATEGORY = {\n",
    "    \"1\": 2000,\n",
    "    \"2\": 2000,\n",
    "    \"3\": 2000,\n",
    "    \"4\": 1500,\n",
    "    \"5\": 1500,\n",
    "    \"6\": 1500,\n",
    "    \"7\": 1500,\n",
    "    \"8\": 2000,\n",
    "    \"9\": 2000,\n",
    "    \"10\": 2000,\n",
    "}\n",
    "# Obter dataframe balenceado\n",
    "balanced_df = balance_dataframe_groups(df, \"rating\", NUM_ROWS_PER_CATEGORY)\n",
    "\n",
    "# Verificar se as categorias estão balanceadas\n",
    "print(balanced_df[\"rating\"].value_counts())"
   ]
  },
  {
   "cell_type": "markdown",
   "metadata": {},
   "source": [
    "Criar Dataframe de teste\n",
    "\n",
    "Os dados de teste não são usados durante o treinamento do modelo e nem na validaçõa\n"
   ]
  },
  {
   "cell_type": "code",
   "execution_count": 9,
   "metadata": {},
   "outputs": [],
   "source": [
    "# Crie uma série com todos os índices únicos\n",
    "# df original \n",
    "df_indices = pd.Series(df.index)\n",
    "# Crie uma série com os índices que estão no balanced_df\n",
    "balanced_indices = pd.Series(balanced_df.index)\n",
    "# Selecione os índices que não estão no balanced_df\n",
    "indices_teste = df_indices[~df_indices.isin(balanced_indices)]\n",
    "# Crie um novo dataframe com os índices não presentes no balanced_df\n",
    "df_teste = df.loc[indices_teste]\n"
   ]
  },
  {
   "cell_type": "code",
   "execution_count": 10,
   "metadata": {},
   "outputs": [
    {
     "data": {
      "text/plain": [
       "rating\n",
       "7     4299\n",
       "10    4231\n",
       "8     4226\n",
       "9     4218\n",
       "6     3151\n",
       "5     2245\n",
       "4     1462\n",
       "1     1452\n",
       "3      731\n",
       "2      421\n",
       "Name: count, dtype: int64"
      ]
     },
     "execution_count": 10,
     "metadata": {},
     "output_type": "execute_result"
    }
   ],
   "source": [
    "df_teste['rating'].value_counts()"
   ]
  },
  {
   "cell_type": "code",
   "execution_count": 11,
   "metadata": {},
   "outputs": [
    {
     "name": "stdout",
     "output_type": "stream",
     "text": [
      "rating\n",
      "0    6000\n",
      "1    6000\n",
      "2    6000\n",
      "Name: count, dtype: int64\n",
      "rating\n",
      "2    12675\n",
      "1    11157\n",
      "0     2604\n",
      "Name: count, dtype: int64\n"
     ]
    }
   ],
   "source": [
    "def categorize_rating(rating):\n",
    "    # classe negativa[1,2,3]\n",
    "    if int(rating) <= 3:\n",
    "        return 0\n",
    "    # Classe neutra se rating in [4,5,6,7]\n",
    "    elif int(rating) <= 7:\n",
    "        return 1\n",
    "    # Classe positiva se rating in [8,9,10]\n",
    "    else:\n",
    "        return 2\n",
    "\n",
    "balanced_df[\"rating\"] = balanced_df[\"rating\"].apply(categorize_rating)\n",
    "df_teste[\"rating\"] = df_teste[\"rating\"].apply(categorize_rating)\n",
    "print(balanced_df[\"rating\"].value_counts())\n",
    "print(df_teste[\"rating\"].value_counts())\n"
   ]
  },
  {
   "cell_type": "code",
   "execution_count": 12,
   "metadata": {},
   "outputs": [
    {
     "data": {
      "text/html": [
       "<div>\n",
       "<style scoped>\n",
       "    .dataframe tbody tr th:only-of-type {\n",
       "        vertical-align: middle;\n",
       "    }\n",
       "\n",
       "    .dataframe tbody tr th {\n",
       "        vertical-align: top;\n",
       "    }\n",
       "\n",
       "    .dataframe thead th {\n",
       "        text-align: right;\n",
       "    }\n",
       "</style>\n",
       "<table border=\"1\" class=\"dataframe\">\n",
       "  <thead>\n",
       "    <tr style=\"text-align: right;\">\n",
       "      <th></th>\n",
       "      <th>review</th>\n",
       "      <th>rating</th>\n",
       "    </tr>\n",
       "  </thead>\n",
       "  <tbody>\n",
       "    <tr>\n",
       "      <th>17087</th>\n",
       "      <td>I write this as an NGO worker who was fortunat...</td>\n",
       "      <td>0</td>\n",
       "    </tr>\n",
       "    <tr>\n",
       "      <th>493</th>\n",
       "      <td>I am a hardcore movie buff. I've seen them all...</td>\n",
       "      <td>0</td>\n",
       "    </tr>\n",
       "    <tr>\n",
       "      <th>5848</th>\n",
       "      <td>Hard to believe that so many people seem to be...</td>\n",
       "      <td>0</td>\n",
       "    </tr>\n",
       "    <tr>\n",
       "      <th>18840</th>\n",
       "      <td>First, I love Tarantino, because he is able (a...</td>\n",
       "      <td>0</td>\n",
       "    </tr>\n",
       "    <tr>\n",
       "      <th>13707</th>\n",
       "      <td>The Nolan fans are going to tell me that I am ...</td>\n",
       "      <td>0</td>\n",
       "    </tr>\n",
       "    <tr>\n",
       "      <th>...</th>\n",
       "      <td>...</td>\n",
       "      <td>...</td>\n",
       "    </tr>\n",
       "    <tr>\n",
       "      <th>28496</th>\n",
       "      <td>Kill Bill: Vol. 1 (2003) is a movie in my DVD ...</td>\n",
       "      <td>2</td>\n",
       "    </tr>\n",
       "    <tr>\n",
       "      <th>38680</th>\n",
       "      <td>A young woman is held captive in a suburban ga...</td>\n",
       "      <td>2</td>\n",
       "    </tr>\n",
       "    <tr>\n",
       "      <th>26454</th>\n",
       "      <td>A vibrant incredible period piece full of incr...</td>\n",
       "      <td>2</td>\n",
       "    </tr>\n",
       "    <tr>\n",
       "      <th>39529</th>\n",
       "      <td>At a moment when the world is rallying to the ...</td>\n",
       "      <td>2</td>\n",
       "    </tr>\n",
       "    <tr>\n",
       "      <th>1261</th>\n",
       "      <td>Schindler's List is undeniably one of the most...</td>\n",
       "      <td>2</td>\n",
       "    </tr>\n",
       "  </tbody>\n",
       "</table>\n",
       "<p>18000 rows × 2 columns</p>\n",
       "</div>"
      ],
      "text/plain": [
       "                                                  review  rating\n",
       "17087  I write this as an NGO worker who was fortunat...       0\n",
       "493    I am a hardcore movie buff. I've seen them all...       0\n",
       "5848   Hard to believe that so many people seem to be...       0\n",
       "18840  First, I love Tarantino, because he is able (a...       0\n",
       "13707  The Nolan fans are going to tell me that I am ...       0\n",
       "...                                                  ...     ...\n",
       "28496  Kill Bill: Vol. 1 (2003) is a movie in my DVD ...       2\n",
       "38680  A young woman is held captive in a suburban ga...       2\n",
       "26454  A vibrant incredible period piece full of incr...       2\n",
       "39529  At a moment when the world is rallying to the ...       2\n",
       "1261   Schindler's List is undeniably one of the most...       2\n",
       "\n",
       "[18000 rows x 2 columns]"
      ]
     },
     "execution_count": 12,
     "metadata": {},
     "output_type": "execute_result"
    }
   ],
   "source": [
    "balanced_df"
   ]
  },
  {
   "cell_type": "code",
   "execution_count": 13,
   "metadata": {},
   "outputs": [
    {
     "data": {
      "text/html": [
       "<div>\n",
       "<style scoped>\n",
       "    .dataframe tbody tr th:only-of-type {\n",
       "        vertical-align: middle;\n",
       "    }\n",
       "\n",
       "    .dataframe tbody tr th {\n",
       "        vertical-align: top;\n",
       "    }\n",
       "\n",
       "    .dataframe thead th {\n",
       "        text-align: right;\n",
       "    }\n",
       "</style>\n",
       "<table border=\"1\" class=\"dataframe\">\n",
       "  <thead>\n",
       "    <tr style=\"text-align: right;\">\n",
       "      <th></th>\n",
       "      <th>review</th>\n",
       "      <th>rating</th>\n",
       "    </tr>\n",
       "  </thead>\n",
       "  <tbody>\n",
       "    <tr>\n",
       "      <th>1</th>\n",
       "      <td>Too sentimental, too pathetic, too slow, too c...</td>\n",
       "      <td>0</td>\n",
       "    </tr>\n",
       "    <tr>\n",
       "      <th>3</th>\n",
       "      <td>This movie was inspired by the brilliant Stir ...</td>\n",
       "      <td>0</td>\n",
       "    </tr>\n",
       "    <tr>\n",
       "      <th>4</th>\n",
       "      <td>For the life of me, I can't understand all the...</td>\n",
       "      <td>0</td>\n",
       "    </tr>\n",
       "    <tr>\n",
       "      <th>5</th>\n",
       "      <td>Very very weak. There is practically nothing i...</td>\n",
       "      <td>0</td>\n",
       "    </tr>\n",
       "    <tr>\n",
       "      <th>9</th>\n",
       "      <td>i had to comment, i really did, all those eulo...</td>\n",
       "      <td>0</td>\n",
       "    </tr>\n",
       "    <tr>\n",
       "      <th>...</th>\n",
       "      <td>...</td>\n",
       "      <td>...</td>\n",
       "    </tr>\n",
       "    <tr>\n",
       "      <th>44427</th>\n",
       "      <td>The exploitation movie – that branch of cheap ...</td>\n",
       "      <td>2</td>\n",
       "    </tr>\n",
       "    <tr>\n",
       "      <th>44429</th>\n",
       "      <td>Where the first film grabbed our attention, wi...</td>\n",
       "      <td>2</td>\n",
       "    </tr>\n",
       "    <tr>\n",
       "      <th>44433</th>\n",
       "      <td>Vol 2 is completely different tone then the fi...</td>\n",
       "      <td>2</td>\n",
       "    </tr>\n",
       "    <tr>\n",
       "      <th>44434</th>\n",
       "      <td>This movie is great in that it mixes together ...</td>\n",
       "      <td>2</td>\n",
       "    </tr>\n",
       "    <tr>\n",
       "      <th>44435</th>\n",
       "      <td>Kill Bill Volume 2 (directed by Quentin Tarant...</td>\n",
       "      <td>2</td>\n",
       "    </tr>\n",
       "  </tbody>\n",
       "</table>\n",
       "<p>26436 rows × 2 columns</p>\n",
       "</div>"
      ],
      "text/plain": [
       "                                                  review  rating\n",
       "1      Too sentimental, too pathetic, too slow, too c...       0\n",
       "3      This movie was inspired by the brilliant Stir ...       0\n",
       "4      For the life of me, I can't understand all the...       0\n",
       "5      Very very weak. There is practically nothing i...       0\n",
       "9      i had to comment, i really did, all those eulo...       0\n",
       "...                                                  ...     ...\n",
       "44427  The exploitation movie – that branch of cheap ...       2\n",
       "44429  Where the first film grabbed our attention, wi...       2\n",
       "44433  Vol 2 is completely different tone then the fi...       2\n",
       "44434  This movie is great in that it mixes together ...       2\n",
       "44435  Kill Bill Volume 2 (directed by Quentin Tarant...       2\n",
       "\n",
       "[26436 rows x 2 columns]"
      ]
     },
     "execution_count": 13,
     "metadata": {},
     "output_type": "execute_result"
    }
   ],
   "source": [
    "df_teste"
   ]
  },
  {
   "cell_type": "code",
   "execution_count": 14,
   "metadata": {},
   "outputs": [],
   "source": [
    "def load_texts_labels(df):\n",
    "    texts = df[\"review\"].tolist()\n",
    "    labels = df[\"rating\"].tolist()\n",
    "    return texts, labels"
   ]
  },
  {
   "cell_type": "code",
   "execution_count": 15,
   "metadata": {},
   "outputs": [],
   "source": [
    "def maior_text(texts):\n",
    "    return max(texts, key=lambda x: len(x.split()))"
   ]
  },
  {
   "cell_type": "code",
   "execution_count": 16,
   "metadata": {},
   "outputs": [
    {
     "name": "stdout",
     "output_type": "stream",
     "text": [
      "9877\n",
      "9942\n"
     ]
    }
   ],
   "source": [
    "texts, labels = load_texts_labels(balanced_df)\n",
    "test_texts , test_labels = load_texts_labels(df_teste)\n",
    "\n",
    "maior_string = maior_text(texts)\n",
    "tam_maior_string = len(maior_string)\n",
    "print(tam_maior_string)\n",
    "\n",
    "maior_string = maior_text(test_texts)\n",
    "tam_maior_string = len(maior_string)\n",
    "print(tam_maior_string)"
   ]
  },
  {
   "cell_type": "markdown",
   "metadata": {},
   "source": [
    "## Construindo nosso modelo"
   ]
  },
  {
   "cell_type": "code",
   "execution_count": 17,
   "metadata": {},
   "outputs": [],
   "source": [
    "class TextClassificationDataset(Dataset):\n",
    "    def __init__(self, texts, labels, tokenizer, max_length):\n",
    "        self.texts = texts\n",
    "        self.labels = labels\n",
    "        self.tokenizer = tokenizer\n",
    "        self.max_length = max_length\n",
    "\n",
    "    def __len__(self):\n",
    "        return len(self.texts)\n",
    "\n",
    "    def __getitem__(self, idx):\n",
    "        text = self.texts[idx]\n",
    "        label = self.labels[idx]\n",
    "        encoding = self.tokenizer(\n",
    "            text,\n",
    "            return_tensors=\"pt\",\n",
    "            max_length=self.max_length,\n",
    "            padding=\"max_length\",\n",
    "            truncation=True,\n",
    "        )\n",
    "        return {\n",
    "            \"input_ids\": encoding[\"input_ids\"].flatten(),\n",
    "            \"attention_mask\": encoding[\"attention_mask\"].flatten(),\n",
    "            \"label\": torch.tensor(label),\n",
    "        }"
   ]
  },
  {
   "cell_type": "code",
   "execution_count": 18,
   "metadata": {},
   "outputs": [],
   "source": [
    "class MultiClassClassifier(nn.Module):\n",
    "    def __init__(self, bert_model_name: str, hidden_size: int, num_classes: int):\n",
    "        super(MultiClassClassifier, self).__init__()\n",
    "        self.bert = BertModel.from_pretrained(bert_model_name)\n",
    "        self.dropout = nn.Dropout(0.1)\n",
    "        self.linear1 = nn.Linear(self.bert.config.hidden_size, hidden_size)\n",
    "        self.linear2 = nn.Linear(hidden_size, num_classes)\n",
    "\n",
    "    def forward(self, input_ids, attention_mask):\n",
    "        outputs_bert = self.bert(input_ids=input_ids, attention_mask=attention_mask)\n",
    "        pooled_output = outputs_bert.pooler_output\n",
    "        drop = self.dropout(pooled_output)\n",
    "        logits = F.relu(self.linear1(drop))\n",
    "        logits = self.linear2(logits)\n",
    "\n",
    "        return logits"
   ]
  },
  {
   "cell_type": "code",
   "execution_count": 19,
   "metadata": {},
   "outputs": [],
   "source": [
    "def train_model_epoch(\n",
    "    model: MultiClassClassifier, data_loader, optimizer, scheduler, loss_func, device\n",
    "):\n",
    "    model.train()\n",
    "    losses = []\n",
    "    model_prediction = []\n",
    "    actual_labels = []\n",
    "    for batch in tqdm(data_loader, colour=\"green\", desc=\"Train_epoch: \"):\n",
    "    \n",
    "        optimizer.zero_grad()\n",
    "        input_ids = batch[\"input_ids\"].to(device)\n",
    "        attention_mask = batch[\"attention_mask\"].to(device)\n",
    "        labels = batch[\"label\"].to(device)\n",
    "        outputs = model(input_ids=input_ids, attention_mask=attention_mask)\n",
    "\n",
    "        loss = loss_func(outputs, labels)\n",
    "        loss.backward()\n",
    "        losses.append(loss.item())\n",
    "\n",
    "        _, preds = torch.max(outputs, dim=1)\n",
    "        model_prediction.extend(preds.cpu().tolist())\n",
    "        actual_labels.extend(labels.cpu().tolist())\n",
    "\n",
    "        optimizer.step()\n",
    "        scheduler.step()\n",
    "\n",
    "    train_accuracy = accuracy_score(actual_labels, model_prediction)\n",
    "    train_loss = np.mean(losses)\n",
    "\n",
    "\n",
    "    return train_accuracy, train_loss"
   ]
  },
  {
   "cell_type": "code",
   "execution_count": 20,
   "metadata": {},
   "outputs": [],
   "source": [
    "def eval_model_epoch(\n",
    "    model: MultiClassClassifier, data_loader: TextClassificationDataset,loss_func, device: str\n",
    "):\n",
    "    model.eval()\n",
    "    losses = []\n",
    "    model_prediction = []\n",
    "    actual_labels = []\n",
    "    correct_predictions = 0\n",
    "    with torch.no_grad():\n",
    "        for batch in tqdm(data_loader, colour=\"blue\", desc=\"Validation_epoch: \"):\n",
    "            input_ids = batch[\"input_ids\"].to(device)\n",
    "            attention_mask = batch[\"attention_mask\"].to(device)\n",
    "            labels = batch[\"label\"].to(device)\n",
    "            outputs = model(input_ids=input_ids, attention_mask=attention_mask)\n",
    "            _, preds = torch.max(outputs, dim=1)\n",
    "            model_prediction.extend(preds.cpu().tolist())\n",
    "            actual_labels.extend(labels.cpu().tolist())\n",
    "            correct_predictions += torch.sum(preds == labels)\n",
    "            loss = loss_func(outputs, labels)\n",
    "            losses.append(loss.item())\n",
    "    val_losses = np.mean(losses)\n",
    "    val_accuracies = accuracy_score(actual_labels, model_prediction)\n",
    "    report = classification_report(actual_labels, model_prediction,output_dict=True)\n",
    "    return (val_accuracies, val_losses, report)"
   ]
  },
  {
   "cell_type": "code",
   "execution_count": 21,
   "metadata": {},
   "outputs": [],
   "source": [
    "# Set up parameters\n",
    "BERT_MODEL_NAME = \"bert-base-uncased\"\n",
    "hidden_size = 10  # Tamanho caamda oculto, neuronios\n",
    "num_outputs = 3  # numero de classes de saida [negativo,neutro, positivo]\n",
    "max_length = 256  # 128,256,512\n",
    "batch_size = 4  # 8, 16, 32 (tamanho do lote na iteracao, treinamento e classe)\n",
    "num_epochs = 4  # recomended in the Bert Article [2,3,4]\n",
    "learning_rate = 2e-5  # Taxa de aprendizagem (Adam): 5e-5, 3e-5, 2e-5"
   ]
  },
  {
   "cell_type": "code",
   "execution_count": 22,
   "metadata": {},
   "outputs": [],
   "source": [
    "train_texts, val_texts, train_labels, val_labels = train_test_split(\n",
    "    texts, labels, test_size=0.2, random_state=42\n",
    ")"
   ]
  },
  {
   "cell_type": "code",
   "execution_count": 23,
   "metadata": {},
   "outputs": [
    {
     "name": "stderr",
     "output_type": "stream",
     "text": [
      "d:\\tcc2\\guilherme\\.venv\\Lib\\site-packages\\huggingface_hub\\file_download.py:1132: FutureWarning: `resume_download` is deprecated and will be removed in version 1.0.0. Downloads always resume when possible. If you want to force a new download, use `force_download=True`.\n",
      "  warnings.warn(\n"
     ]
    }
   ],
   "source": [
    "tokenizer = BertTokenizer.from_pretrained(BERT_MODEL_NAME)\n"
   ]
  },
  {
   "cell_type": "code",
   "execution_count": 24,
   "metadata": {},
   "outputs": [],
   "source": [
    "train_dataset = TextClassificationDataset(\n",
    "    train_texts, train_labels, tokenizer, max_length\n",
    ")\n",
    "val_dataset = TextClassificationDataset(val_texts, val_labels, tokenizer, max_length)\n",
    "test_dataset = TextClassificationDataset(test_texts, test_labels, tokenizer, max_length)\n",
    "\n",
    "train_dataloader = DataLoader(train_dataset, batch_size=batch_size, shuffle=True)\n",
    "val_dataloader = DataLoader(val_dataset, batch_size=batch_size)\n",
    "test_dataloader = DataLoader(val_dataset, batch_size=batch_size)\n"
   ]
  },
  {
   "cell_type": "code",
   "execution_count": 25,
   "metadata": {},
   "outputs": [],
   "source": [
    "device = torch.device(\"cuda\" if torch.cuda.is_available() else \"cpu\")\n",
    "model = MultiClassClassifier(BERT_MODEL_NAME,hidden_size, num_outputs).to(device)"
   ]
  },
  {
   "cell_type": "code",
   "execution_count": 26,
   "metadata": {},
   "outputs": [],
   "source": [
    "optimizer = AdamW(model.parameters(), lr=learning_rate)# adicionado #correct_bias=False\n",
    "total_steps = len(train_dataloader) * num_epochs\n",
    "scheduler = get_linear_schedule_with_warmup(\n",
    "    optimizer, num_warmup_steps=0, num_training_steps=total_steps\n",
    ")\n",
    "loss_func = nn.CrossEntropyLoss().to(device)"
   ]
  },
  {
   "cell_type": "code",
   "execution_count": 27,
   "metadata": {},
   "outputs": [],
   "source": [
    "history = {\n",
    "    \"train_losses\": [],\n",
    "    \"train_accuracies\": [],\n",
    "    \"val_losses\": [],\n",
    "    \"val_accuracies\": [],\n",
    "    \"val_reports\": []\n",
    "}\n",
    "\n",
    "best_accuracy = 0\n",
    "epochs_without_improvements = 0\n",
    "\n",
    "\n",
    "PATH_MODEL_SAVED= \"savad_models/MultiClassClassifier_BERT_srapper_neutro_4567.pth\"\n"
   ]
  },
  {
   "cell_type": "code",
   "execution_count": 28,
   "metadata": {},
   "outputs": [
    {
     "name": "stdout",
     "output_type": "stream",
     "text": [
      "Epoch 1/4\n",
      "--------------------------------------------------\n"
     ]
    },
    {
     "name": "stderr",
     "output_type": "stream",
     "text": [
      "Train_epoch:   0%|\u001b[32m          \u001b[0m| 0/3600 [00:00<?, ?it/s]"
     ]
    },
    {
     "name": "stderr",
     "output_type": "stream",
     "text": [
      "Train_epoch: 100%|\u001b[32m██████████\u001b[0m| 3600/3600 [7:06:54<00:00,  7.12s/it]      \n",
      "Validation_epoch: 100%|\u001b[34m██████████\u001b[0m| 900/900 [01:09<00:00, 12.93it/s]\n"
     ]
    },
    {
     "name": "stdout",
     "output_type": "stream",
     "text": [
      "Train => Loss = 0.7287, Accuracy = 0.6636\n",
      "Validation => Loss = 0.6533, Accuracy = 0.7017\n",
      "{'0': {'precision': 0.673469387755102, 'recall': 0.8496677740863787, 'f1-score': 0.7513771575468233, 'support': 1204.0}, '1': {'precision': 0.6528150134048257, 'recall': 0.39918032786885244, 'f1-score': 0.49542217700915564, 'support': 1220.0}, '2': {'precision': 0.7610486891385768, 'recall': 0.8639455782312925, 'f1-score': 0.8092393468737554, 'support': 1176.0}, 'accuracy': 0.7016666666666667, 'macro avg': {'precision': 0.6957776967661683, 'recall': 0.7042645600621745, 'f1-score': 0.6853462271432448, 'support': 3600.0}, 'weighted avg': {'precision': 0.6950790882327768, 'recall': 0.7016666666666667, 'f1-score': 0.6835385071003005, 'support': 3600.0}}\n",
      "\n",
      "Epoch 2/4\n",
      "--------------------------------------------------\n"
     ]
    },
    {
     "name": "stderr",
     "output_type": "stream",
     "text": [
      "Train_epoch: 100%|\u001b[32m██████████\u001b[0m| 3600/3600 [13:34<00:00,  4.42it/s]\n",
      "Validation_epoch: 100%|\u001b[34m██████████\u001b[0m| 900/900 [01:11<00:00, 12.57it/s]\n"
     ]
    },
    {
     "name": "stdout",
     "output_type": "stream",
     "text": [
      "Train => Loss = 0.5217, Accuracy = 0.7795\n",
      "Validation => Loss = 0.6822, Accuracy = 0.7111\n",
      "{'0': {'precision': 0.7134587554269175, 'recall': 0.8189368770764119, 'f1-score': 0.7625676720804331, 'support': 1204.0}, '1': {'precision': 0.6767955801104972, 'recall': 0.4016393442622951, 'f1-score': 0.5041152263374485, 'support': 1220.0}, '2': {'precision': 0.7255689424364123, 'recall': 0.9217687074829932, 'f1-score': 0.8119850187265918, 'support': 1176.0}, 'accuracy': 0.7111111111111111, 'macro avg': {'precision': 0.7052744259912758, 'recall': 0.7141149762739, 'f1-score': 0.6928893057148245, 'support': 3600.0}, 'weighted avg': {'precision': 0.7049900071038989, 'recall': 0.7111111111111111, 'f1-score': 0.6911240098163891, 'support': 3600.0}}\n",
      "\n",
      "Epoch 3/4\n",
      "--------------------------------------------------\n"
     ]
    },
    {
     "name": "stderr",
     "output_type": "stream",
     "text": [
      "Train_epoch: 100%|\u001b[32m██████████\u001b[0m| 3600/3600 [13:35<00:00,  4.41it/s]\n",
      "Validation_epoch: 100%|\u001b[34m██████████\u001b[0m| 900/900 [01:09<00:00, 12.88it/s]\n"
     ]
    },
    {
     "name": "stdout",
     "output_type": "stream",
     "text": [
      "Train => Loss = 0.3379, Accuracy = 0.8730\n",
      "Validation => Loss = 0.7392, Accuracy = 0.7206\n",
      "{'0': {'precision': 0.7634315424610052, 'recall': 0.7317275747508306, 'f1-score': 0.7472434266327396, 'support': 1204.0}, '1': {'precision': 0.6056910569105691, 'recall': 0.610655737704918, 'f1-score': 0.6081632653061224, 'support': 1220.0}, '2': {'precision': 0.7960526315789473, 'recall': 0.8231292517006803, 'f1-score': 0.8093645484949833, 'support': 1176.0}, 'accuracy': 0.7205555555555555, 'macro avg': {'precision': 0.7217250769835072, 'recall': 0.7218375213854763, 'f1-score': 0.7215904134779484, 'support': 3600.0}, 'weighted avg': {'precision': 0.7206312670252185, 'recall': 0.7205555555555555, 'f1-score': 0.7204036051026079, 'support': 3600.0}}\n",
      "\n",
      "Epoch 4/4\n",
      "--------------------------------------------------\n"
     ]
    },
    {
     "name": "stderr",
     "output_type": "stream",
     "text": [
      "Train_epoch: 100%|\u001b[32m██████████\u001b[0m| 3600/3600 [13:40<00:00,  4.39it/s]\n",
      "Validation_epoch: 100%|\u001b[34m██████████\u001b[0m| 900/900 [01:18<00:00, 11.40it/s]"
     ]
    },
    {
     "name": "stdout",
     "output_type": "stream",
     "text": [
      "Train => Loss = 0.1927, Accuracy = 0.9426\n",
      "Validation => Loss = 0.8707, Accuracy = 0.7161\n",
      "{'0': {'precision': 0.7376116978066612, 'recall': 0.7541528239202658, 'f1-score': 0.7457905544147844, 'support': 1204.0}, '1': {'precision': 0.6073619631901841, 'recall': 0.5680327868852459, 'f1-score': 0.5870393900889453, 'support': 1220.0}, '2': {'precision': 0.7956026058631922, 'recall': 0.83078231292517, 'f1-score': 0.8128119800332779, 'support': 1176.0}, 'accuracy': 0.7161111111111111, 'macro avg': {'precision': 0.7135254222866791, 'recall': 0.7176559745768939, 'f1-score': 0.7152139748456693, 'support': 3600.0}, 'weighted avg': {'precision': 0.7124152065962107, 'recall': 0.7161111111111111, 'f1-score': 0.7138852144286246, 'support': 3600.0}}\n",
      "\n"
     ]
    },
    {
     "name": "stderr",
     "output_type": "stream",
     "text": [
      "\n"
     ]
    }
   ],
   "source": [
    "# Foi executado até chegar em 10 épocas para demonstrar o overfiting \n",
    "# as informações estão no gráfico de perda e de acuracia\n",
    "for epoch in range(num_epochs):\n",
    "    print(f\"Epoch {epoch + 1}/{num_epochs}\")\n",
    "    print(\"-\" * 50)\n",
    "    # Treinamento\n",
    "    train_accuracy, train_loss = train_model_epoch(\n",
    "        model, train_dataloader, optimizer, scheduler, loss_func, device\n",
    "    )\n",
    "    # Validation\n",
    "    val_accuracy, val_loss, report = eval_model_epoch(\n",
    "        model, val_dataloader, loss_func, device\n",
    "    )\n",
    "\n",
    "    history[\"train_losses\"].append(train_loss)\n",
    "    history[\"train_accuracies\"].append(train_accuracy)\n",
    "    history[\"val_losses\"].append(val_loss)\n",
    "    history[\"val_accuracies\"].append(val_accuracy)\n",
    "    history[\"val_reports\"].append(report)\n",
    "    print(f\"Train => Loss = {train_loss:.4f}, Accuracy = {train_accuracy:.4f}\")\n",
    "    print(f\"Validation => Loss = {val_loss:.4f}, Accuracy = {val_accuracy:.4f}\")\n",
    "    print(report)\n",
    "    print()\n",
    "    if val_accuracy > best_accuracy:\n",
    "        torch.save(model.state_dict(),PATH_MODEL_SAVED )\n",
    "        epochs_without_improvements = 0\n",
    "        best_accuracy = val_accuracy\n",
    "    else:\n",
    "        epochs_without_improvements += 1\n",
    "\n",
    "    if epochs_without_improvements > 2:\n",
    "        break"
   ]
  },
  {
   "cell_type": "code",
   "execution_count": 29,
   "metadata": {},
   "outputs": [
    {
     "data": {
      "text/plain": [
       "{'train_losses': [0.7287166897310979,\n",
       "  0.521723291196136,\n",
       "  0.3378905567402641,\n",
       "  0.19265962309669704],\n",
       " 'train_accuracies': [0.6636111111111112,\n",
       "  0.7795138888888888,\n",
       "  0.8729861111111111,\n",
       "  0.9426388888888889],\n",
       " 'val_losses': [0.6532923897107442,\n",
       "  0.6822051802525918,\n",
       "  0.7391917036308182,\n",
       "  0.8707311985662414],\n",
       " 'val_accuracies': [0.7016666666666667,\n",
       "  0.7111111111111111,\n",
       "  0.7205555555555555,\n",
       "  0.7161111111111111],\n",
       " 'val_reports': [{'0': {'precision': 0.673469387755102,\n",
       "    'recall': 0.8496677740863787,\n",
       "    'f1-score': 0.7513771575468233,\n",
       "    'support': 1204.0},\n",
       "   '1': {'precision': 0.6528150134048257,\n",
       "    'recall': 0.39918032786885244,\n",
       "    'f1-score': 0.49542217700915564,\n",
       "    'support': 1220.0},\n",
       "   '2': {'precision': 0.7610486891385768,\n",
       "    'recall': 0.8639455782312925,\n",
       "    'f1-score': 0.8092393468737554,\n",
       "    'support': 1176.0},\n",
       "   'accuracy': 0.7016666666666667,\n",
       "   'macro avg': {'precision': 0.6957776967661683,\n",
       "    'recall': 0.7042645600621745,\n",
       "    'f1-score': 0.6853462271432448,\n",
       "    'support': 3600.0},\n",
       "   'weighted avg': {'precision': 0.6950790882327768,\n",
       "    'recall': 0.7016666666666667,\n",
       "    'f1-score': 0.6835385071003005,\n",
       "    'support': 3600.0}},\n",
       "  {'0': {'precision': 0.7134587554269175,\n",
       "    'recall': 0.8189368770764119,\n",
       "    'f1-score': 0.7625676720804331,\n",
       "    'support': 1204.0},\n",
       "   '1': {'precision': 0.6767955801104972,\n",
       "    'recall': 0.4016393442622951,\n",
       "    'f1-score': 0.5041152263374485,\n",
       "    'support': 1220.0},\n",
       "   '2': {'precision': 0.7255689424364123,\n",
       "    'recall': 0.9217687074829932,\n",
       "    'f1-score': 0.8119850187265918,\n",
       "    'support': 1176.0},\n",
       "   'accuracy': 0.7111111111111111,\n",
       "   'macro avg': {'precision': 0.7052744259912758,\n",
       "    'recall': 0.7141149762739,\n",
       "    'f1-score': 0.6928893057148245,\n",
       "    'support': 3600.0},\n",
       "   'weighted avg': {'precision': 0.7049900071038989,\n",
       "    'recall': 0.7111111111111111,\n",
       "    'f1-score': 0.6911240098163891,\n",
       "    'support': 3600.0}},\n",
       "  {'0': {'precision': 0.7634315424610052,\n",
       "    'recall': 0.7317275747508306,\n",
       "    'f1-score': 0.7472434266327396,\n",
       "    'support': 1204.0},\n",
       "   '1': {'precision': 0.6056910569105691,\n",
       "    'recall': 0.610655737704918,\n",
       "    'f1-score': 0.6081632653061224,\n",
       "    'support': 1220.0},\n",
       "   '2': {'precision': 0.7960526315789473,\n",
       "    'recall': 0.8231292517006803,\n",
       "    'f1-score': 0.8093645484949833,\n",
       "    'support': 1176.0},\n",
       "   'accuracy': 0.7205555555555555,\n",
       "   'macro avg': {'precision': 0.7217250769835072,\n",
       "    'recall': 0.7218375213854763,\n",
       "    'f1-score': 0.7215904134779484,\n",
       "    'support': 3600.0},\n",
       "   'weighted avg': {'precision': 0.7206312670252185,\n",
       "    'recall': 0.7205555555555555,\n",
       "    'f1-score': 0.7204036051026079,\n",
       "    'support': 3600.0}},\n",
       "  {'0': {'precision': 0.7376116978066612,\n",
       "    'recall': 0.7541528239202658,\n",
       "    'f1-score': 0.7457905544147844,\n",
       "    'support': 1204.0},\n",
       "   '1': {'precision': 0.6073619631901841,\n",
       "    'recall': 0.5680327868852459,\n",
       "    'f1-score': 0.5870393900889453,\n",
       "    'support': 1220.0},\n",
       "   '2': {'precision': 0.7956026058631922,\n",
       "    'recall': 0.83078231292517,\n",
       "    'f1-score': 0.8128119800332779,\n",
       "    'support': 1176.0},\n",
       "   'accuracy': 0.7161111111111111,\n",
       "   'macro avg': {'precision': 0.7135254222866791,\n",
       "    'recall': 0.7176559745768939,\n",
       "    'f1-score': 0.7152139748456693,\n",
       "    'support': 3600.0},\n",
       "   'weighted avg': {'precision': 0.7124152065962107,\n",
       "    'recall': 0.7161111111111111,\n",
       "    'f1-score': 0.7138852144286246,\n",
       "    'support': 3600.0}}]}"
      ]
     },
     "execution_count": 29,
     "metadata": {},
     "output_type": "execute_result"
    }
   ],
   "source": [
    "history"
   ]
  },
  {
   "cell_type": "code",
   "execution_count": 30,
   "metadata": {},
   "outputs": [
    {
     "data": {
      "image/png": "[encoded data removed]",
      "text/plain": [
       "<Figure size 640x480 with 1 Axes>"
      ]
     },
     "metadata": {},
     "output_type": "display_data"
    },
    {
     "data": {
      "image/png": "[encoded data removed]",
      "text/plain": [
       "<Figure size 640x480 with 1 Axes>"
      ]
     },
     "metadata": {},
     "output_type": "display_data"
    }
   ],
   "source": [
    "import matplotlib.pyplot as plt\n",
    "\n",
    "\n",
    "train_loss = history[\"train_losses\"]\n",
    "val_loss = history[\"val_losses\"]\n",
    "# Plotting the training and validation loss\n",
    "def plot_loss_fun_graph(train_loss, val_loss):\n",
    "    plt.plot(train_loss, \"b\", label=\"Training loss\")\n",
    "    plt.plot(val_loss, \"r\", label=\"Validation loss\")\n",
    "    plt.title(\"Training and validation loss\")\n",
    "    plt.xlabel(\"Epochs\")\n",
    "    plt.ylabel(\"Loss\")\n",
    "    plt.legend()\n",
    "    plt.show()\n",
    "    \n",
    "plot_loss_fun_graph(train_loss, val_loss)\n",
    "\n",
    "\n",
    "# Plotting the training and validation accuracy\n",
    "train_acc = history[\"train_accuracies\"]\n",
    "val_acc = history[\"val_accuracies\"]\n",
    "# Encontrar o índice do melhor valor de acurácia de validação\n",
    "def plot_accurary_graph(train_acc, val_acc):\n",
    "    best_epoch = np.argmax(val_acc)\n",
    "    best_accuracy = val_acc[best_epoch]\n",
    "    plt.clf()\n",
    "    plt.plot(train_acc, \"r\", label=\"train accuracy\")\n",
    "    plt.plot(val_acc, \"b\", label=\"validation accuracy\")\n",
    "    # Adicionar texto para destacar o melhor valor de acurácia de validação\n",
    "    plt.text(\n",
    "        best_epoch,\n",
    "        best_accuracy,\n",
    "        f\"{best_accuracy:.2f}\",\n",
    "        fontsize=12,\n",
    "        ha=\"left\",\n",
    "    )\n",
    "    plt.title(\"Training and validation accuracy\")\n",
    "    plt.xlabel(\"Epoch\")\n",
    "    plt.ylabel(\"Accuracy\")\n",
    "    plt.grid()\n",
    "    plt.legend()\n",
    "    plt.show()\n",
    "\n",
    "\n",
    "plot_accurary_graph(train_acc, val_acc)"
   ]
  },
  {
   "cell_type": "code",
   "execution_count": 31,
   "metadata": {},
   "outputs": [
    {
     "data": {
      "text/plain": [
       "{'0': {'precision': 0.7634315424610052,\n",
       "  'recall': 0.7317275747508306,\n",
       "  'f1-score': 0.7472434266327396,\n",
       "  'support': 1204.0},\n",
       " '1': {'precision': 0.6056910569105691,\n",
       "  'recall': 0.610655737704918,\n",
       "  'f1-score': 0.6081632653061224,\n",
       "  'support': 1220.0},\n",
       " '2': {'precision': 0.7960526315789473,\n",
       "  'recall': 0.8231292517006803,\n",
       "  'f1-score': 0.8093645484949833,\n",
       "  'support': 1176.0},\n",
       " 'accuracy': 0.7205555555555555,\n",
       " 'macro avg': {'precision': 0.7217250769835072,\n",
       "  'recall': 0.7218375213854763,\n",
       "  'f1-score': 0.7215904134779484,\n",
       "  'support': 3600.0},\n",
       " 'weighted avg': {'precision': 0.7206312670252185,\n",
       "  'recall': 0.7205555555555555,\n",
       "  'f1-score': 0.7204036051026079,\n",
       "  'support': 3600.0}}"
      ]
     },
     "execution_count": 31,
     "metadata": {},
     "output_type": "execute_result"
    }
   ],
   "source": [
    "history['val_reports'][2]"
   ]
  },
  {
   "cell_type": "markdown",
   "metadata": {},
   "source": [
    "## Saving & Loading Model for Inference\n",
    "\n",
    "Save:\n"
   ]
  },
  {
   "cell_type": "code",
   "execution_count": 32,
   "metadata": {},
   "outputs": [],
   "source": [
    "# PATH_MODEL_SAVE = \"sentiment_classifier_Bert_IMDB_Dataset_eith_lemma.pth\"\n",
    "# torch.save(model.state_dict(), PATH_MODEL_SAVE)"
   ]
  },
  {
   "cell_type": "markdown",
   "metadata": {},
   "source": [
    "load:\n"
   ]
  },
  {
   "cell_type": "code",
   "execution_count": 33,
   "metadata": {},
   "outputs": [],
   "source": [
    "# # PATH_MODEL_SAVE = \"sentiment_classifier_en_49500_reviews.pth\"\n",
    "# saved_model = MultiClassClassifier(BERT_MODEL_NAME,hidden_size, num_outputs).to(device)\n",
    "# saved_model.load_state_dict(torch.load(PATH_MODEL_SAVE))\n",
    "# # saved_model.eval()"
   ]
  },
  {
   "cell_type": "markdown",
   "metadata": {},
   "source": [
    "### Evaluation in test_data\n"
   ]
  },
  {
   "cell_type": "markdown",
   "metadata": {},
   "source": [
    "### Get predicitons in test_texts and test_labels"
   ]
  },
  {
   "cell_type": "code",
   "execution_count": 68,
   "metadata": {},
   "outputs": [],
   "source": [
    "def get_predictions(model, data_loader,device):\n",
    "    model = model.eval()\n",
    "\n",
    "    # corresponde ao indice(classe) com maior probabilidade na saída do modelo\n",
    "    predictions = []\n",
    "    # corresponde ao indice real(classe verdadeira)\n",
    "    real_values = []\n",
    "    \n",
    "\n",
    "    with torch.no_grad():\n",
    "        for batch in tqdm(data_loader):\n",
    "            input_ids = batch[\"input_ids\"].to(device)\n",
    "            attention_mask = batch[\"attention_mask\"].to(device)\n",
    "            labels = batch[\"label\"].to(device)\n",
    "            m_output = model(input_ids=input_ids, attention_mask=attention_mask)\n",
    "            probs = F.softmax(m_output, dim=1)\n",
    "            \n",
    "            _, max_index = torch.max(probs, dim=1)\n",
    "\n",
    "            predictions.extend(max_index)\n",
    "            real_values.extend(labels)\n",
    "    \n",
    "    predictions = torch.stack(predictions).cpu()\n",
    "    real_values = torch.stack(real_values).cpu()\n",
    "    \n",
    "    return  predictions, real_values"
   ]
  },
  {
   "cell_type": "code",
   "execution_count": 70,
   "metadata": {},
   "outputs": [
    {
     "name": "stderr",
     "output_type": "stream",
     "text": [
      "100%|██████████| 900/900 [00:57<00:00, 15.72it/s]\n"
     ]
    }
   ],
   "source": [
    "#  CArregando com o modelo final atualizado\n",
    "test_predictions,  test_real_values=get_predictions(model,test_dataloader,device)"
   ]
  },
  {
   "cell_type": "code",
   "execution_count": 76,
   "metadata": {},
   "outputs": [
    {
     "name": "stdout",
     "output_type": "stream",
     "text": [
      "              precision    recall  f1-score   support\n",
      "\n",
      "    negativo       0.75      0.74      0.75      1231\n",
      "      neutro       0.57      0.61      0.59      1141\n",
      "    positivo       0.83      0.80      0.81      1228\n",
      "\n",
      "    accuracy                           0.72      3600\n",
      "   macro avg       0.72      0.71      0.72      3600\n",
      "weighted avg       0.72      0.72      0.72      3600\n",
      "\n"
     ]
    }
   ],
   "source": [
    "classes_names = [\"negativo\",'neutro', \"positivo\"]\n",
    "test_report = classification_report(\n",
    "    test_predictions, test_real_values, target_names=classes_names, output_dict=False\n",
    ")\n",
    "\n",
    "print(test_report)"
   ]
  },
  {
   "cell_type": "code",
   "execution_count": 80,
   "metadata": {},
   "outputs": [
    {
     "data": {
      "image/png": "[encoded data removed]",
      "text/plain": [
       "<Figure size 640x480 with 2 Axes>"
      ]
     },
     "metadata": {},
     "output_type": "display_data"
    }
   ],
   "source": [
    "from sklearn.metrics import confusion_matrix, ConfusionMatrixDisplay\n",
    "cm = confusion_matrix(test_predictions,test_real_values)\n",
    "cm_display = ConfusionMatrixDisplay(cm,display_labels=classes_names).plot()"
   ]
  },
  {
   "cell_type": "code",
   "execution_count": 81,
   "metadata": {},
   "outputs": [
    {
     "data": {
      "image/png": "[encoded data removed]",
      "text/plain": [
       "<Figure size 640x480 with 2 Axes>"
      ]
     },
     "metadata": {},
     "output_type": "display_data"
    }
   ],
   "source": [
    "from sklearn.metrics import confusion_matrix, ConfusionMatrixDisplay\n",
    "import matplotlib.pyplot as plt\n",
    "import seaborn as sns\n",
    "\n",
    "def show_confusion_matrix(confusion_matrix):\n",
    "    hmap = sns.heatmap(confusion_matrix, annot=True, fmt=\"d\", cmap=\"Blues\")\n",
    "    hmap.yaxis.set_ticklabels(hmap.yaxis.get_ticklabels(), rotation=0, ha='right')\n",
    "    hmap.xaxis.set_ticklabels(hmap.xaxis.get_ticklabels(), rotation=30, ha='right')\n",
    "    plt.ylabel('True sentiment')\n",
    "    plt.xlabel('Predicted sentiment');\n",
    "  \n",
    "cm = confusion_matrix(test_predictions,test_real_values)\n",
    "df_cm = pd.DataFrame(cm, index=classes_names, columns=classes_names)\n",
    "show_confusion_matrix(df_cm)\n",
    "\n"
   ]
  },
  {
   "cell_type": "markdown",
   "metadata": {},
   "source": [
    "## Sentiment prediction"
   ]
  },
  {
   "cell_type": "code",
   "execution_count": 82,
   "metadata": {},
   "outputs": [],
   "source": [
    "import spacy\n",
    "def predict_tratamento_texto(text: str, lemma:bool):\n",
    "    # nlp = spacy.load(\"en_core_web_sm\", exclude=[\"parser\", \"ner\"])\n",
    "    text = text.lower()\n",
    "    text = re.sub(r\"\\s+\", \" \", text).strip()\n",
    "    text = re.sub(re.compile(\"<.*?>\"), \"\", text)\n",
    "    # doc = nlp(text)\n",
    "    # if lemma == True:\n",
    "    #     text = \" \".join(\n",
    "    #         [token.lemma_ for token in doc if not token.is_stop and not token.is_punct]\n",
    "    #     )  # retorna o lemma\n",
    "    # else:\n",
    "    #     text = \" \".join(\n",
    "    #         [token.text for token in doc if not token.is_stop and not token.is_punct]\n",
    "    #     )  # return text\n",
    "    return text\n"
   ]
  },
  {
   "cell_type": "code",
   "execution_count": 83,
   "metadata": {},
   "outputs": [],
   "source": [
    "\n",
    "def predict_sentiment(\n",
    "    text: str,\n",
    "    model: MultiClassClassifier,\n",
    "    tokenizer: BertTokenizer,\n",
    "    device: str,\n",
    "    max_length: int,\n",
    "    lemma=False,\n",
    "):\n",
    "    model.eval()\n",
    "    text = predict_tratamento_texto(text, lemma)\n",
    "    encoding = tokenizer(\n",
    "        text,\n",
    "        return_tensors=\"pt\",\n",
    "        max_length=max_length,\n",
    "        padding=\"max_length\",\n",
    "        truncation=True,\n",
    "    )\n",
    "    input_ids = encoding[\"input_ids\"].to(device)\n",
    "    attention_mask = encoding[\"attention_mask\"].to(device)\n",
    "\n",
    "    with torch.no_grad():\n",
    "        output = model(input_ids=input_ids, attention_mask=attention_mask)\n",
    "        prob = torch.nn.functional.softmax(output,dim=1)\n",
    "    prob_neg = prob[0, 0].item()\n",
    "    prob_neutra=prob[0,1].item()\n",
    "    prob_pos = prob[0, 2].item()\n",
    "    print(f\"prob negativa: {prob_neg:.5f}\")\n",
    "    print(f\"prob neutra: {prob_neutra:.5f}\")\n",
    "    print(f\"prob positiva: {prob_pos:.5f}\")\n",
    "\n",
    "    classes = [\"negativo\", \"neutro\", \"positivo\"]\n",
    "    predicted_class_index = torch.argmax(prob, dim=1).item()\n",
    "    predicted_class = classes[predicted_class_index]\n",
    "    return predicted_class"
   ]
  },
  {
   "cell_type": "code",
   "execution_count": 84,
   "metadata": {},
   "outputs": [],
   "source": [
    "# Challengers 1/10\n",
    "text= \"\"\"The audience was in hysterics by the end. The choices made in every aspect of this movie were shockingly bad. The abysmal and strange music, the constant shift in time, the laughable script, the nauseating camera work, and just truly one of the worst directed films I've ever seen. I would have left halfway through if I didn't have to pay for my food. But I'm glad I stayed because it got so much more hysterically bad than I even thought possible. I feel like I'm insane because the audience was screaming with laughter. I got the sense that the director thinks he's a genius, but this movie is 1% short of a feature length SNL parody.\"\"\""
   ]
  },
  {
   "cell_type": "code",
   "execution_count": 85,
   "metadata": {},
   "outputs": [
    {
     "name": "stdout",
     "output_type": "stream",
     "text": [
      "prob negativa: 0.97214\n",
      "prob neutra: 0.02500\n",
      "prob positiva: 0.00287\n",
      "the audience was in hysterics by the end. the choices made in every aspect of this movie were shockingly bad. the abysmal and strange music, the constant shift in time, the laughable script, the nauseating camera work, and just truly one of the worst directed films i've ever seen. i would have left halfway through if i didn't have to pay for my food. but i'm glad i stayed because it got so much more hysterically bad than i even thought possible. i feel like i'm insane because the audience was screaming with laughter. i got the sense that the director thinks he's a genius, but this movie is 1% short of a feature length snl parody.\n",
      "Predicted sentiment: negativo\n"
     ]
    }
   ],
   "source": [
    "sentiment = predict_sentiment(text, model, tokenizer, device, max_length)\n",
    "print(predict_tratamento_texto(text,lemma= False))\n",
    "print(f\"Predicted sentiment: {sentiment}\")"
   ]
  },
  {
   "cell_type": "code",
   "execution_count": 86,
   "metadata": {},
   "outputs": [],
   "source": [
    "# The Fall Guy 2/10\n",
    "text = \"\"\"Almost ok! But not good or great. Could had been.\n",
    "\n",
    "It was evident that the makers of this movie never saw more than couple of episodes of Fall guy the TV series it's based on. There were more reference to Miami vice tv series than the actual tv series this movie is supposedly based on. First half an hour or so of the movie was pure cringe. The dialogues were written by couple of teenagers who were probably paid in TikTok views. The rom com scenes were cringy and unwatchable.\n",
    "\n",
    "Action sequences and stunts were excellent but kept getting interrupted by really really awful cringy love story. One scene ( not a spoiler) where the action sequence keeps breaking away to a cringey Karakoram no , made us almost walk out of the movie.\n",
    "\n",
    "Some of the acting is sooo bad.\n",
    "\n",
    "If you make a movie based on the TV series Atleast watch every episode of it. We did. The tv series that made every kid want to get a pickup truck and be a stunt man. The tv series which made kids attempt dangerous stunts on their bikes.\n",
    "\n",
    "And the actual fall guy Lee majors. Makes an appearance post credit? Really. Why even bother.\n",
    "\n",
    "Was ok but a missed opportunity to make it great.\"\"\""
   ]
  },
  {
   "cell_type": "code",
   "execution_count": 87,
   "metadata": {},
   "outputs": [
    {
     "name": "stdout",
     "output_type": "stream",
     "text": [
      "prob negativa: 0.96296\n",
      "prob neutra: 0.03597\n",
      "prob positiva: 0.00107\n",
      "almost ok! but not good or great. could had been. it was evident that the makers of this movie never saw more than couple of episodes of fall guy the tv series it's based on. there were more reference to miami vice tv series than the actual tv series this movie is supposedly based on. first half an hour or so of the movie was pure cringe. the dialogues were written by couple of teenagers who were probably paid in tiktok views. the rom com scenes were cringy and unwatchable. action sequences and stunts were excellent but kept getting interrupted by really really awful cringy love story. one scene ( not a spoiler) where the action sequence keeps breaking away to a cringey karakoram no , made us almost walk out of the movie. some of the acting is sooo bad. if you make a movie based on the tv series atleast watch every episode of it. we did. the tv series that made every kid want to get a pickup truck and be a stunt man. the tv series which made kids attempt dangerous stunts on their bikes. and the actual fall guy lee majors. makes an appearance post credit? really. why even bother. was ok but a missed opportunity to make it great.\n",
      "Predicted sentiment: negativo\n"
     ]
    }
   ],
   "source": [
    "sentiment = predict_sentiment(text, model, tokenizer, device, max_length)\n",
    "print(predict_tratamento_texto(text,lemma= False))\n",
    "print(f\"Predicted sentiment: {sentiment}\")"
   ]
  },
  {
   "cell_type": "code",
   "execution_count": 88,
   "metadata": {},
   "outputs": [],
   "source": [
    "# THe Idea of You 3/10\n",
    "text= \"\"\"Oh dear. Absolutely no chemistry between the two main characters. The lead female Solene, apart from the absurd name is totally unrelatable or endearing. She acts like his teacher, or mother \"I'll make you a sandwich?!\" When she talks about herself he's uncomfortably interested, uncomfortable because it's not believable. The art they show in the gallery and warehouse are pretentious and boring, a lot like Solene.\n",
    "      \n",
    "I'm surprised at the positive reviews.\n",
    "\n",
    "It's mildly entertaining - a background movie for when you're building Lego for example. But I couldn't take the pairing seriously. Maybe I'm feeling the uncomfortable atmosphere that potentially could have been on set that I'm picking up on? I dunno. It could've been so much better with a different female lead.\"\"\""
   ]
  },
  {
   "cell_type": "code",
   "execution_count": 89,
   "metadata": {},
   "outputs": [
    {
     "name": "stdout",
     "output_type": "stream",
     "text": [
      "prob negativa: 0.95954\n",
      "prob neutra: 0.03980\n",
      "prob positiva: 0.00067\n",
      "oh dear. absolutely no chemistry between the two main characters. the lead female solene, apart from the absurd name is totally unrelatable or endearing. she acts like his teacher, or mother \"i'll make you a sandwich?!\" when she talks about herself he's uncomfortably interested, uncomfortable because it's not believable. the art they show in the gallery and warehouse are pretentious and boring, a lot like solene. i'm surprised at the positive reviews. it's mildly entertaining - a background movie for when you're building lego for example. but i couldn't take the pairing seriously. maybe i'm feeling the uncomfortable atmosphere that potentially could have been on set that i'm picking up on? i dunno. it could've been so much better with a different female lead.\n",
      "Predicted sentiment: negativo\n"
     ]
    }
   ],
   "source": [
    "sentiment = predict_sentiment(text, model, tokenizer, device, max_length)\n",
    "print(predict_tratamento_texto(text,lemma= False))\n",
    "print(f\"Predicted sentiment: {sentiment}\")"
   ]
  },
  {
   "cell_type": "code",
   "execution_count": 90,
   "metadata": {},
   "outputs": [],
   "source": [
    "# nota 4\n",
    "text= \"\"\"I'm a big fan of Garland's earlier films (Ex Machina, Annihilation) and wanted to like this, but sadly this one was a miss. There's not really a story - no reason why the war is happening or what is at stake. The characters are extremely unrelatable and are more there just to represent concepts (the media, racism, etc) rather than have any identity of their own. The war just happens to be there in the background while the characters are taking a roadtrip through rural America, which doesn't actually show any war going on, just random series of fights which could just be regular gun violence from today. You would hardly know there's a war going on except the characters telling you there is.\n",
    "\n",
    "It's not until the last 10 minutes that you see any military operations and it lacks scale for only seemingly having about 100 troops fighting, given what's supposedly at stake. The movie should've started here and gone backwards into why the war is happening, which would've made a more interesting film in my opinion.\n",
    "\n",
    "\"\"\""
   ]
  },
  {
   "cell_type": "code",
   "execution_count": 91,
   "metadata": {},
   "outputs": [
    {
     "name": "stdout",
     "output_type": "stream",
     "text": [
      "prob negativa: 0.91704\n",
      "prob neutra: 0.08247\n",
      "prob positiva: 0.00049\n",
      "i'm a big fan of garland's earlier films (ex machina, annihilation) and wanted to like this, but sadly this one was a miss. there's not really a story - no reason why the war is happening or what is at stake. the characters are extremely unrelatable and are more there just to represent concepts (the media, racism, etc) rather than have any identity of their own. the war just happens to be there in the background while the characters are taking a roadtrip through rural america, which doesn't actually show any war going on, just random series of fights which could just be regular gun violence from today. you would hardly know there's a war going on except the characters telling you there is. it's not until the last 10 minutes that you see any military operations and it lacks scale for only seemingly having about 100 troops fighting, given what's supposedly at stake. the movie should've started here and gone backwards into why the war is happening, which would've made a more interesting film in my opinion.\n",
      "Predicted sentiment: negativo\n"
     ]
    }
   ],
   "source": [
    "sentiment = predict_sentiment(text, model, tokenizer, device, max_length)\n",
    "print(predict_tratamento_texto(text,lemma= False))\n",
    "print(f\"Predicted sentiment: {sentiment}\")"
   ]
  },
  {
   "cell_type": "code",
   "execution_count": 92,
   "metadata": {},
   "outputs": [],
   "source": [
    "# Anyone But You 5/10\n",
    "\n",
    "text = \"\"\"They really did make a whole movie just to show off Glen Powell's smoking hot body and honestly - I'm here for it!\n",
    "\n",
    "The storyline and the acting is... wait, who cares?? Glen Powell is shirtless about half the time.\n",
    "\n",
    "This is a movie about two people who fall in love only to find out that... Glen Powell's body is so hot!\n",
    "\n",
    "If you watch the trailer you already know exactly what happ... Glen Powell!!\n",
    "\n",
    "The predictability factor is super strong with this one. The cheese is sprinkled all over the movie, in every scene, there is little room left for any other ingredients because... cheese. And Glen Powell.\n",
    "\n",
    "Glen Powell\"\"\""
   ]
  },
  {
   "cell_type": "code",
   "execution_count": 93,
   "metadata": {},
   "outputs": [
    {
     "name": "stdout",
     "output_type": "stream",
     "text": [
      "prob negativa: 0.64449\n",
      "prob neutra: 0.34672\n",
      "prob positiva: 0.00880\n",
      "they really did make a whole movie just to show off glen powell's smoking hot body and honestly - i'm here for it! the storyline and the acting is... wait, who cares?? glen powell is shirtless about half the time. this is a movie about two people who fall in love only to find out that... glen powell's body is so hot! if you watch the trailer you already know exactly what happ... glen powell!! the predictability factor is super strong with this one. the cheese is sprinkled all over the movie, in every scene, there is little room left for any other ingredients because... cheese. and glen powell. glen powell\n",
      "Predicted sentiment: negativo\n"
     ]
    }
   ],
   "source": [
    "sentiment = predict_sentiment(text, model, tokenizer, device, max_length)\n",
    "print(predict_tratamento_texto(text,lemma= False))\n",
    "print(f\"Predicted sentiment: {sentiment}\")"
   ]
  },
  {
   "cell_type": "code",
   "execution_count": 94,
   "metadata": {},
   "outputs": [],
   "source": [
    "# Capita marvel 2019 5/10\n",
    "text = \"\"\"Plot\n",
    "\n",
    "Carol Danvers     becomes one of the universe's most powerful heroes when Earth is caught in the middle of a galactic war between two alien races.\n",
    "\n",
    "Cast\n",
    "\n",
    "Brie Larson, Samuel L. Jackson (Because duh), Jude \"Just consistently dreadful\" Law, Annette Bening, Djimon Hounsou, Clark Gregg and blink and you'll miss him Lee Pace who returns as Ronan but looks so different I didn't even think it was him.\n",
    "\n",
    "Verdict\n",
    "\n",
    "I watched this back when it was initially released, I watched it a second time a few days ago as the missus is wanting us to binge watch the entire MCU as she's very behind. My opinion has changed on the 2nd viewing and not in a good way, my rating has shifted from a 6/10 to 5/10.\n",
    "\n",
    "You see straight out of the gate the first thing you notice about Carol Danvers is she's not really a character you can get behind. She's not funny, she's not entertaining, she comes across as a surly teenage girl who is just upset at the slightest thing and just doesn't want to be there. This is not a character you can build a movie around, like trying to make a teenage Groot movie! It wouldn't work, but he's okay as a side character.\n",
    "\n",
    "Supporting cast are also hit and miss, Jackson and Gregg are great, but Lynch and Law just stink up every scene they're in.\n",
    "\n",
    "I'm a Marvel fan but I recognize where it's weak, this is a distinctly average film that serves as a standalone origin story and doesn't contribute much to the universe as a whole.\n",
    "\n",
    "Rants\n",
    "\n",
    "I remember when the movie came out all the controversy with Brie Larson, I just had to Google what the controversy even was as I don't remember due to not focusing on such things. Now I can't really get a definitive answer. From what I see it's a combination of people not liking her attitude and her comments on feminism. So I Googled further to see what she said, she came across arrogant in them and a smidge out of touch but none of it explained the overwhelming hate I've seen aimed at her. Then I remembered that people talk about all the different types of bigotry but misogyny rarely comes up, I remembered that it's visibly increased over the past decade and appreciated why she's been targeted. News flash, the outspoken loud brash man hating femnists you likely thing of when you hear that word make up a very small percentage. Feminism is good, if you disagree I hope you simply don't know the meaning of the word.\n",
    "\n",
    "The Good\n",
    "\n",
    "Jackson and Gregg Has a couple of decent moments Not a bad soundtrack Goose!\n",
    "\n",
    "The Bad\n",
    "\n",
    "Larson isn't great Law and Lynch are terrible Lead just comes across unlikable.\n",
    "\n",
    "Overall just a weak entry to the MC\n",
    "\"\"\""
   ]
  },
  {
   "cell_type": "code",
   "execution_count": 95,
   "metadata": {},
   "outputs": [
    {
     "name": "stdout",
     "output_type": "stream",
     "text": [
      "prob negativa: 0.01834\n",
      "prob neutra: 0.97866\n",
      "prob positiva: 0.00300\n",
      "plot carol danvers becomes one of the universe's most powerful heroes when earth is caught in the middle of a galactic war between two alien races. cast brie larson, samuel l. jackson (because duh), jude \"just consistently dreadful\" law, annette bening, djimon hounsou, clark gregg and blink and you'll miss him lee pace who returns as ronan but looks so different i didn't even think it was him. verdict i watched this back when it was initially released, i watched it a second time a few days ago as the missus is wanting us to binge watch the entire mcu as she's very behind. my opinion has changed on the 2nd viewing and not in a good way, my rating has shifted from a 6/10 to 5/10. you see straight out of the gate the first thing you notice about carol danvers is she's not really a character you can get behind. she's not funny, she's not entertaining, she comes across as a surly teenage girl who is just upset at the slightest thing and just doesn't want to be there. this is not a character you can build a movie around, like trying to make a teenage groot movie! it wouldn't work, but he's okay as a side character. supporting cast are also hit and miss, jackson and gregg are great, but lynch and law just stink up every scene they're in. i'm a marvel fan but i recognize where it's weak, this is a distinctly average film that serves as a standalone origin story and doesn't contribute much to the universe as a whole. rants i remember when the movie came out all the controversy with brie larson, i just had to google what the controversy even was as i don't remember due to not focusing on such things. now i can't really get a definitive answer. from what i see it's a combination of people not liking her attitude and her comments on feminism. so i googled further to see what she said, she came across arrogant in them and a smidge out of touch but none of it explained the overwhelming hate i've seen aimed at her. then i remembered that people talk about all the different types of bigotry but misogyny rarely comes up, i remembered that it's visibly increased over the past decade and appreciated why she's been targeted. news flash, the outspoken loud brash man hating femnists you likely thing of when you hear that word make up a very small percentage. feminism is good, if you disagree i hope you simply don't know the meaning of the word. the good jackson and gregg has a couple of decent moments not a bad soundtrack goose! the bad larson isn't great law and lynch are terrible lead just comes across unlikable. overall just a weak entry to the mc\n",
      "Predicted sentiment: neutro\n"
     ]
    }
   ],
   "source": [
    "# nota 5 = neutra\n",
    "sentiment = predict_sentiment(text, model, tokenizer, device, max_length)\n",
    "print(predict_tratamento_texto(text,lemma= False))\n",
    "print(f\"Predicted sentiment: {sentiment}\")"
   ]
  },
  {
   "cell_type": "code",
   "execution_count": 96,
   "metadata": {},
   "outputs": [],
   "source": [
    "# CApita marvel 2019 6/10\n",
    "text=\"\"\"Mediocre Marvel is still pretty good.\n",
    "\n",
    "My first review in a long time! Dont know why I decided to write about this movie.\n",
    "\n",
    "I agree with most mediocre reviews I read here.\n",
    "\n",
    "The pacing was pretty good.\n",
    "\n",
    "Most of the action was good!\n",
    "\n",
    "The story was ok and had some good twists.\n",
    "\n",
    "I thought about giving this movie a 6 but after letting it sink in I decided to give it 8 out of 10\n",
    "\n",
    "It entertained me and my company from beginning to end.\n",
    "\n",
    "There were some eye rolling moments but they are easily forgiven.\"\"\""
   ]
  },
  {
   "cell_type": "code",
   "execution_count": 97,
   "metadata": {},
   "outputs": [
    {
     "name": "stdout",
     "output_type": "stream",
     "text": [
      "prob negativa: 0.01125\n",
      "prob neutra: 0.97400\n",
      "prob positiva: 0.01474\n",
      "mediocre marvel is still pretty good. my first review in a long time! dont know why i decided to write about this movie. i agree with most mediocre reviews i read here. the pacing was pretty good. most of the action was good! the story was ok and had some good twists. i thought about giving this movie a 6 but after letting it sink in i decided to give it 8 out of 10 it entertained me and my company from beginning to end. there were some eye rolling moments but they are easily forgiven.\n",
      "Predicted sentiment: neutro\n"
     ]
    }
   ],
   "source": [
    "sentiment = predict_sentiment(text, model, tokenizer, device, max_length)\n",
    "print(predict_tratamento_texto(text,lemma= False))\n",
    "print(f\"Predicted sentiment: {sentiment}\")"
   ]
  },
  {
   "cell_type": "code",
   "execution_count": 98,
   "metadata": {},
   "outputs": [],
   "source": [
    "# Duna parte 2 6/10\n",
    "text =\"\"\"Dune Part 2 is an epic movie; slickly made, and visually stunning.\n",
    "\n",
    "But I had to explain quite a bit to the friends around me who had not read the book, especially the water of life scene and the final battle.\n",
    "\n",
    "The movie had almost a 3 hour run time, but it felt overlong because Villenue focuses too much on spectacle on very little on substance.\n",
    "\n",
    "It is a beautiful movie, but it feels like it has no soul. The emotional connection between Paul and Chani, so vital to the story, is completely lacking and unbelievable. The two main characters are good looking enough but has absolutely zero chemistry on screen.\n",
    "\n",
    "I am certain Zendaya is a fine actress in some things, but she has basically 2 facial expressions here, and the one she uses the most is a scowl directed at Paul. I found her to be the worst part of this movie.\n",
    "\n",
    "The final fight scene is short, choppy, and a mess. It felt anticlimactic and unfulfilling The Harkonens are basically reduced to bumbling villainy almost cartoonish. The ending was super abrupt, and was so different from the book that it left me wondering what the filmmakers would do if they want to do a sequel.\n",
    "\n",
    "I want to reiterate that this isn't a bad movie. Villenue is great at creating a world that looks living and breathing, but he can't give life to individual characters.\n",
    "\n",
    "It is like he can't see the trees for the forest.\"\"\""
   ]
  },
  {
   "cell_type": "code",
   "execution_count": 99,
   "metadata": {},
   "outputs": [
    {
     "name": "stdout",
     "output_type": "stream",
     "text": [
      "prob negativa: 0.04769\n",
      "prob neutra: 0.95046\n",
      "prob positiva: 0.00185\n",
      "dune part 2 is an epic movie; slickly made, and visually stunning. but i had to explain quite a bit to the friends around me who had not read the book, especially the water of life scene and the final battle. the movie had almost a 3 hour run time, but it felt overlong because villenue focuses too much on spectacle on very little on substance. it is a beautiful movie, but it feels like it has no soul. the emotional connection between paul and chani, so vital to the story, is completely lacking and unbelievable. the two main characters are good looking enough but has absolutely zero chemistry on screen. i am certain zendaya is a fine actress in some things, but she has basically 2 facial expressions here, and the one she uses the most is a scowl directed at paul. i found her to be the worst part of this movie. the final fight scene is short, choppy, and a mess. it felt anticlimactic and unfulfilling the harkonens are basically reduced to bumbling villainy almost cartoonish. the ending was super abrupt, and was so different from the book that it left me wondering what the filmmakers would do if they want to do a sequel. i want to reiterate that this isn't a bad movie. villenue is great at creating a world that looks living and breathing, but he can't give life to individual characters. it is like he can't see the trees for the forest.\n",
      "Predicted sentiment: neutro\n"
     ]
    }
   ],
   "source": [
    "sentiment = predict_sentiment(text, model, tokenizer, device, max_length)\n",
    "print(predict_tratamento_texto(text,lemma= False))\n",
    "print(f\"Predicted sentiment: {sentiment}\")"
   ]
  },
  {
   "cell_type": "code",
   "execution_count": 100,
   "metadata": {},
   "outputs": [],
   "source": [
    "# duna parte 2 7/10\n",
    "\n",
    "text =\"\"\"I mean, yeah, it's very entertaining and, of course, very visually stunning. The set pieces, the cinematography, the use of visual effects and lights, the sound design and music, all, absolutely amazing and almost literally stunning!\n",
    "\n",
    "But then? I'm not really seeing much after that. As I have not read the books, this movie was a total mystery to me. There's barely any dialog--at least not any that would explain anything what's going on at all. The world and the technology etc just doesn't make much sense to me.\n",
    "\n",
    "None of the characters are particularly interesting, to be honest. They don't really have that much personality to them, and even if they did, they didn't really make me care about them all that much.\n",
    "\n",
    "I don't know, I'm a bit conflicted, it wasn't a bad movie and, as I said, it was entertaining and visually mesmerizing, but it lacked the depth that I was expecting of a world this size and this rich with lore and history. Maybe the movie makers assumed everyone has read the books? As someone to who the world is not familiar at all, it just seems rather confusing and strange. I feel like they just focused on making it as visually awesome as they can (in which they arguably succeeded), but left the story on the pages of the books.\"\"\""
   ]
  },
  {
   "cell_type": "code",
   "execution_count": 101,
   "metadata": {},
   "outputs": [
    {
     "name": "stdout",
     "output_type": "stream",
     "text": [
      "prob negativa: 0.01609\n",
      "prob neutra: 0.98068\n",
      "prob positiva: 0.00323\n",
      "i mean, yeah, it's very entertaining and, of course, very visually stunning. the set pieces, the cinematography, the use of visual effects and lights, the sound design and music, all, absolutely amazing and almost literally stunning! but then? i'm not really seeing much after that. as i have not read the books, this movie was a total mystery to me. there's barely any dialog--at least not any that would explain anything what's going on at all. the world and the technology etc just doesn't make much sense to me. none of the characters are particularly interesting, to be honest. they don't really have that much personality to them, and even if they did, they didn't really make me care about them all that much. i don't know, i'm a bit conflicted, it wasn't a bad movie and, as i said, it was entertaining and visually mesmerizing, but it lacked the depth that i was expecting of a world this size and this rich with lore and history. maybe the movie makers assumed everyone has read the books? as someone to who the world is not familiar at all, it just seems rather confusing and strange. i feel like they just focused on making it as visually awesome as they can (in which they arguably succeeded), but left the story on the pages of the books.\n",
      "Predicted sentiment: neutro\n"
     ]
    }
   ],
   "source": [
    "sentiment = predict_sentiment(text, model, tokenizer, device, max_length)\n",
    "print(predict_tratamento_texto(text,lemma= False))\n",
    "print(f\"Predicted sentiment: {sentiment}\")"
   ]
  },
  {
   "cell_type": "code",
   "execution_count": 102,
   "metadata": {},
   "outputs": [],
   "source": [
    "# Love Lies Bleeding (2024) 8/10\n",
    "\n",
    "text=\"\"\"Love Lies Bleeding is a bigger, bolder, and more violent follow-up feature for Rose Glass. It literally puts the premise of Thelma & Louise on steroids with a very muscular approach that goes for broke in its ending which, love it or hate it, is to be commended for its audacity. Body horror, romance, and dark comedy are all blended into one distinctive vision.\n",
    "\n",
    "Kristen Stewart is amazing, awkward and off hand with one of the best dramatic pauses of recent memory. Katy O'Brian has been massively under served by her roles in the big franchises which makes this much more layered performance all the more satisfying. Together, their chemistry is instant and they communicate how badly they want each other so well.\n",
    "\n",
    "Ed Harris has played a lot of villains so its a real testament to his performance and the writing of the character that this one still stands out. His long haired, bug eating gangster makes for a consistently creepy highlight. Also, Dave Franco does a great job as a spineless abusive husband who's fate is obvious and all the more satisfying because of how he plays it.\n",
    "\n",
    "Saint Maud definitely wasn't lacking in vision but Rose Glass has really upped her craft here. From its reality manipulating opening scene to the extreme close ups of muscles in action, it's clear that the film will move between extremes as it deftly balances the violence and body horror against an affecting romance that refuses to go for the most obvious outcomes.\n",
    "\n",
    "The sound design and editing here is so visceral. Gunshots feel scary as they often come out of nowhere and the way scenes can abruptly switch between very different soundscapes keeps you on edge. Clint Mansell's score really matches the song choices for a seamless soundtrack whilst being completely distinct.\"\"\""
   ]
  },
  {
   "cell_type": "code",
   "execution_count": 103,
   "metadata": {},
   "outputs": [
    {
     "name": "stdout",
     "output_type": "stream",
     "text": [
      "prob negativa: 0.00312\n",
      "prob neutra: 0.01556\n",
      "prob positiva: 0.98132\n",
      "love lies bleeding is a bigger, bolder, and more violent follow-up feature for rose glass. it literally puts the premise of thelma & louise on steroids with a very muscular approach that goes for broke in its ending which, love it or hate it, is to be commended for its audacity. body horror, romance, and dark comedy are all blended into one distinctive vision. kristen stewart is amazing, awkward and off hand with one of the best dramatic pauses of recent memory. katy o'brian has been massively under served by her roles in the big franchises which makes this much more layered performance all the more satisfying. together, their chemistry is instant and they communicate how badly they want each other so well. ed harris has played a lot of villains so its a real testament to his performance and the writing of the character that this one still stands out. his long haired, bug eating gangster makes for a consistently creepy highlight. also, dave franco does a great job as a spineless abusive husband who's fate is obvious and all the more satisfying because of how he plays it. saint maud definitely wasn't lacking in vision but rose glass has really upped her craft here. from its reality manipulating opening scene to the extreme close ups of muscles in action, it's clear that the film will move between extremes as it deftly balances the violence and body horror against an affecting romance that refuses to go for the most obvious outcomes. the sound design and editing here is so visceral. gunshots feel scary as they often come out of nowhere and the way scenes can abruptly switch between very different soundscapes keeps you on edge. clint mansell's score really matches the song choices for a seamless soundtrack whilst being completely distinct.\n",
      "Predicted sentiment: positivo\n"
     ]
    }
   ],
   "source": [
    "sentiment = predict_sentiment(text, model, tokenizer, device, max_length)\n",
    "print(predict_tratamento_texto(text,lemma= False))\n",
    "print(f\"Predicted sentiment: {sentiment}\")"
   ]
  },
  {
   "cell_type": "code",
   "execution_count": 104,
   "metadata": {},
   "outputs": [],
   "source": [
    "# The Godfather Part II (1974) 9/10\n",
    "text =\"\"\"Although the casual way it has been titled leaves it with plenty to answer for, 'Godfather II' rightly remains the only sequel ever to win an Oscar for Best Picture of the year.\n",
    "\n",
    "With Brando out of the picture the focus has shifted to Michael and much more money was obviously available to spend on the movie itself (with plush production design and cool fifties cars gliding across the screen a recurrent motif).\n",
    "\n",
    "Robert De Niro as the young Don Corleone brings a lean and hungry look to the part by then completely beyond Brando (by comparison Al Pacino looks much older).\n",
    "\n",
    "The film is far more ambitious, both technically and thematically, addressing America's changing role in the world rather than just the activities of one family.\"\"\""
   ]
  },
  {
   "cell_type": "code",
   "execution_count": 105,
   "metadata": {},
   "outputs": [
    {
     "name": "stdout",
     "output_type": "stream",
     "text": [
      "prob negativa: 0.00890\n",
      "prob neutra: 0.22316\n",
      "prob positiva: 0.76794\n",
      "although the casual way it has been titled leaves it with plenty to answer for, 'godfather ii' rightly remains the only sequel ever to win an oscar for best picture of the year. with brando out of the picture the focus has shifted to michael and much more money was obviously available to spend on the movie itself (with plush production design and cool fifties cars gliding across the screen a recurrent motif). robert de niro as the young don corleone brings a lean and hungry look to the part by then completely beyond brando (by comparison al pacino looks much older). the film is far more ambitious, both technically and thematically, addressing america's changing role in the world rather than just the activities of one family.\n",
      "Predicted sentiment: positivo\n"
     ]
    }
   ],
   "source": [
    "sentiment = predict_sentiment(text, model, tokenizer, device, max_length)\n",
    "print(predict_tratamento_texto(text,lemma= False))\n",
    "print(f\"Predicted sentiment: {sentiment}\")"
   ]
  },
  {
   "cell_type": "code",
   "execution_count": 106,
   "metadata": {},
   "outputs": [],
   "source": [
    "# The Godfather Part II (1974) 10/10\n",
    "\n",
    "text = \"\"\"One of the all time greats. Or probably the alone greatest thing ever made in the history of cinematography. This movie is both \"prequel\" and \"sequel\" of the first godfather movie. I have never watched anything like this in my entire life. This movie has explained the life of underworld people in a great way. It also shows how vengeance eradicates happiness from your life. People don't even care about their family in greed of power. It's a masterpiece that can never be written off even after centuries. Even if you are not into these kind of movies, I will suggest to watch it for atleast once in your life or you'll be deprived of one of the greatest things to watch that have been ever made.\"\"\""
   ]
  },
  {
   "cell_type": "code",
   "execution_count": 107,
   "metadata": {},
   "outputs": [
    {
     "name": "stdout",
     "output_type": "stream",
     "text": [
      "prob negativa: 0.00674\n",
      "prob neutra: 0.01004\n",
      "prob positiva: 0.98322\n",
      "one of the all time greats. or probably the alone greatest thing ever made in the history of cinematography. this movie is both \"prequel\" and \"sequel\" of the first godfather movie. i have never watched anything like this in my entire life. this movie has explained the life of underworld people in a great way. it also shows how vengeance eradicates happiness from your life. people don't even care about their family in greed of power. it's a masterpiece that can never be written off even after centuries. even if you are not into these kind of movies, i will suggest to watch it for atleast once in your life or you'll be deprived of one of the greatest things to watch that have been ever made.\n",
      "Predicted sentiment: positivo\n"
     ]
    }
   ],
   "source": [
    "sentiment = predict_sentiment(text, model, tokenizer, device, max_length)\n",
    "print(predict_tratamento_texto(text,lemma= False))\n",
    "print(f\"Predicted sentiment: {sentiment}\")"
   ]
  },
  {
   "cell_type": "markdown",
   "metadata": {},
   "source": [
    "### Simples test sentiment prections"
   ]
  },
  {
   "cell_type": "code",
   "execution_count": 108,
   "metadata": {},
   "outputs": [
    {
     "name": "stdout",
     "output_type": "stream",
     "text": [
      "prob negativa: 0.97179\n",
      "prob neutra: 0.02576\n",
      "prob positiva: 0.00244\n",
      "Texto:  The movie was so bad and I would not recommend it to anyone.\n",
      "Predicted sentiment: negativo\n"
     ]
    }
   ],
   "source": [
    "# Test sentiment prediction\n",
    "test_text = \"The movie was so bad and I would not recommend it to anyone.\"\n",
    "sentiment = predict_sentiment(test_text, model, tokenizer, device, max_length)\n",
    "print(\"Texto: \", test_text)\n",
    "print(f\"Predicted sentiment: {sentiment}\")"
   ]
  },
  {
   "cell_type": "code",
   "execution_count": 109,
   "metadata": {},
   "outputs": [
    {
     "name": "stdout",
     "output_type": "stream",
     "text": [
      "prob negativa: 0.28567\n",
      "prob neutra: 0.15531\n",
      "prob positiva: 0.55902\n",
      "Worst movie of the year.\n",
      "Predicted sentiment: positivo\n"
     ]
    }
   ],
   "source": [
    "# Test sentiment prediction\n",
    "test_text = \"Best movie of the year. \"\n",
    "sentiment = predict_sentiment(test_text, model, tokenizer, device, max_length)\n",
    "print(\"Worst movie of the year.\")\n",
    "print(f\"Predicted sentiment: {sentiment}\")"
   ]
  },
  {
   "cell_type": "code",
   "execution_count": 110,
   "metadata": {},
   "outputs": [
    {
     "name": "stdout",
     "output_type": "stream",
     "text": [
      "prob negativa: 0.97360\n",
      "prob neutra: 0.02449\n",
      "prob positiva: 0.00191\n",
      "This movie is more or less,and I would not recommend it to anyone.\n",
      "Predicted sentiment: negativo\n"
     ]
    }
   ],
   "source": [
    "# Test sentiment prediction\n",
    "test_text = \"This movie is more or less,and I would not recommend it to anyone.\"\n",
    "sentiment = predict_sentiment(test_text, model, tokenizer, device, max_length)\n",
    "print(test_text)\n",
    "print(f\"Predicted sentiment: {sentiment}\")"
   ]
  }
 ],
 "metadata": {
  "kernelspec": {
   "display_name": ".venv-tcc",
   "language": "python",
   "name": "python3"
  },
  "language_info": {
   "codemirror_mode": {
    "name": "ipython",
    "version": 3
   },
   "file_extension": ".py",
   "mimetype": "text/x-python",
   "name": "python",
   "nbconvert_exporter": "python",
   "pygments_lexer": "ipython3",
   "version": "3.11.5"
  }
 },
 "nbformat": 4,
 "nbformat_minor": 2
}
