{
 "cells": [
  {
   "cell_type": "markdown",
   "metadata": {},
   "source": [
    "## Text Classification with BERT\n",
    "\n",
    "Alterações mínimas para saida ser classificada em positivo e Negativo\n",
    "\n"
   ]
  },
  {
   "cell_type": "markdown",
   "metadata": {},
   "source": [
    "### Criando o ambiente virtual\n",
    "\n",
    "Digite no terminal os seguintes comandos:\n",
    "\n",
    "> python -m venv .venv\n",
    "\n",
    "> python -m ipykernel install --user --name=.venv\n",
    "\n",
    "> pip install ipywidgets\n"
   ]
  },
  {
   "cell_type": "code",
   "execution_count": 1,
   "metadata": {},
   "outputs": [],
   "source": [
    "# ## Instalando as dependências necessárias\n",
    "# ! pip install -q ipywidgets\n",
    "\n",
    "# ! pip install -q pandas\n",
    "# ! pip3 install -q torch torchvision torchaudio --index-url https://download.pytorch.org/whl/cu121\n",
    "# ! pip install -q transformers\n",
    "#  ! pip install -q scikit-learn\n",
    "\n",
    "# # Tratamento de dados\n",
    "# ! pip install -U -q pip setuptools wheel\n",
    "# ! pip install -U -q spacy\n",
    "# ! python -m spacy download en_core_web_sm"
   ]
  },
  {
   "cell_type": "markdown",
   "metadata": {},
   "source": [
    "### Importando dependencias\n"
   ]
  },
  {
   "cell_type": "code",
   "execution_count": 2,
   "metadata": {},
   "outputs": [],
   "source": [
    "import re\n",
    "import spacy\n",
    "import torch\n",
    "import pandas as pd\n",
    "\n",
    "from torch import nn\n",
    "from torch.utils.data import DataLoader, Dataset\n",
    "import torch.nn.functional as F\n",
    "from torch.optim import AdamW\n",
    "from transformers import (\n",
    "    BertTokenizer,\n",
    "    BertModel,\n",
    "    get_linear_schedule_with_warmup,\n",
    ")\n",
    "from tqdm import tqdm\n",
    "from sklearn.model_selection import train_test_split\n",
    "from sklearn.metrics import accuracy_score, classification_report"
   ]
  },
  {
   "cell_type": "markdown",
   "metadata": {},
   "source": [
    "### Baixar CSV DAtaset\n",
    "\n",
    "Usar o dataset obtido por meio do scraper"
   ]
  },
  {
   "cell_type": "code",
   "execution_count": 3,
   "metadata": {},
   "outputs": [
    {
     "data": {
      "text/html": [
       "<div>\n",
       "<style scoped>\n",
       "    .dataframe tbody tr th:only-of-type {\n",
       "        vertical-align: middle;\n",
       "    }\n",
       "\n",
       "    .dataframe tbody tr th {\n",
       "        vertical-align: top;\n",
       "    }\n",
       "\n",
       "    .dataframe thead th {\n",
       "        text-align: right;\n",
       "    }\n",
       "</style>\n",
       "<table border=\"1\" class=\"dataframe\">\n",
       "  <thead>\n",
       "    <tr style=\"text-align: right;\">\n",
       "      <th></th>\n",
       "      <th>review</th>\n",
       "      <th>rating</th>\n",
       "    </tr>\n",
       "  </thead>\n",
       "  <tbody>\n",
       "    <tr>\n",
       "      <th>0</th>\n",
       "      <td>movie takes place fantasy land absolutely ridi...</td>\n",
       "      <td>1</td>\n",
       "    </tr>\n",
       "    <tr>\n",
       "      <th>1</th>\n",
       "      <td>sentimental pathetic slow conventionally voice...</td>\n",
       "      <td>1</td>\n",
       "    </tr>\n",
       "    <tr>\n",
       "      <th>2</th>\n",
       "      <td>things life understand universe begin happens ...</td>\n",
       "      <td>1</td>\n",
       "    </tr>\n",
       "    <tr>\n",
       "      <th>3</th>\n",
       "      <td>movie inspired brilliant stir crazy starring g...</td>\n",
       "      <td>1</td>\n",
       "    </tr>\n",
       "    <tr>\n",
       "      <th>4</th>\n",
       "      <td>life understand gushing cornball sentimental p...</td>\n",
       "      <td>1</td>\n",
       "    </tr>\n",
       "    <tr>\n",
       "      <th>...</th>\n",
       "      <td>...</td>\n",
       "      <td>...</td>\n",
       "    </tr>\n",
       "    <tr>\n",
       "      <th>44419</th>\n",
       "      <td>uma thurman returns bride time looks continue ...</td>\n",
       "      <td>10</td>\n",
       "    </tr>\n",
       "    <tr>\n",
       "      <th>44420</th>\n",
       "      <td>quentin tarantino kill bill vol 2 completes 2 ...</td>\n",
       "      <td>10</td>\n",
       "    </tr>\n",
       "    <tr>\n",
       "      <th>44421</th>\n",
       "      <td>vol 2 completely different tone features film ...</td>\n",
       "      <td>10</td>\n",
       "    </tr>\n",
       "    <tr>\n",
       "      <th>44422</th>\n",
       "      <td>movie great mixes different genres movies mart...</td>\n",
       "      <td>10</td>\n",
       "    </tr>\n",
       "    <tr>\n",
       "      <th>44423</th>\n",
       "      <td>kill bill volume 2 directed quentin tarantino ...</td>\n",
       "      <td>10</td>\n",
       "    </tr>\n",
       "  </tbody>\n",
       "</table>\n",
       "<p>44424 rows × 2 columns</p>\n",
       "</div>"
      ],
      "text/plain": [
       "                                                  review  rating\n",
       "0      movie takes place fantasy land absolutely ridi...       1\n",
       "1      sentimental pathetic slow conventionally voice...       1\n",
       "2      things life understand universe begin happens ...       1\n",
       "3      movie inspired brilliant stir crazy starring g...       1\n",
       "4      life understand gushing cornball sentimental p...       1\n",
       "...                                                  ...     ...\n",
       "44419  uma thurman returns bride time looks continue ...      10\n",
       "44420  quentin tarantino kill bill vol 2 completes 2 ...      10\n",
       "44421  vol 2 completely different tone features film ...      10\n",
       "44422  movie great mixes different genres movies mart...      10\n",
       "44423  kill bill volume 2 directed quentin tarantino ...      10\n",
       "\n",
       "[44424 rows x 2 columns]"
      ]
     },
     "execution_count": 3,
     "metadata": {},
     "output_type": "execute_result"
    }
   ],
   "source": [
    "DATA_PATH = \"D:/tcc2/guilherme/2-tratamento_dados/dataset_tratado/Scraper_Dataset_tretead_text.csv\"\n",
    "df = pd.read_csv(DATA_PATH)\n",
    "df = df[['review','rating']]\n",
    "df\n"
   ]
  },
  {
   "cell_type": "code",
   "execution_count": 4,
   "metadata": {},
   "outputs": [
    {
     "data": {
      "text/plain": [
       "0"
      ]
     },
     "execution_count": 4,
     "metadata": {},
     "output_type": "execute_result"
    }
   ],
   "source": [
    "df.duplicated().sum()\n",
    "\n"
   ]
  },
  {
   "cell_type": "code",
   "execution_count": 5,
   "metadata": {},
   "outputs": [
    {
     "data": {
      "text/html": [
       "<div>\n",
       "<style scoped>\n",
       "    .dataframe tbody tr th:only-of-type {\n",
       "        vertical-align: middle;\n",
       "    }\n",
       "\n",
       "    .dataframe tbody tr th {\n",
       "        vertical-align: top;\n",
       "    }\n",
       "\n",
       "    .dataframe thead th {\n",
       "        text-align: right;\n",
       "    }\n",
       "</style>\n",
       "<table border=\"1\" class=\"dataframe\">\n",
       "  <thead>\n",
       "    <tr style=\"text-align: right;\">\n",
       "      <th></th>\n",
       "      <th>review</th>\n",
       "      <th>rating</th>\n",
       "    </tr>\n",
       "  </thead>\n",
       "  <tbody>\n",
       "    <tr>\n",
       "      <th>0</th>\n",
       "      <td>movie takes place fantasy land absolutely ridi...</td>\n",
       "      <td>1</td>\n",
       "    </tr>\n",
       "    <tr>\n",
       "      <th>1</th>\n",
       "      <td>sentimental pathetic slow conventionally voice...</td>\n",
       "      <td>1</td>\n",
       "    </tr>\n",
       "    <tr>\n",
       "      <th>2</th>\n",
       "      <td>things life understand universe begin happens ...</td>\n",
       "      <td>1</td>\n",
       "    </tr>\n",
       "    <tr>\n",
       "      <th>3</th>\n",
       "      <td>movie inspired brilliant stir crazy starring g...</td>\n",
       "      <td>1</td>\n",
       "    </tr>\n",
       "    <tr>\n",
       "      <th>4</th>\n",
       "      <td>life understand gushing cornball sentimental p...</td>\n",
       "      <td>1</td>\n",
       "    </tr>\n",
       "    <tr>\n",
       "      <th>...</th>\n",
       "      <td>...</td>\n",
       "      <td>...</td>\n",
       "    </tr>\n",
       "    <tr>\n",
       "      <th>44419</th>\n",
       "      <td>uma thurman returns bride time looks continue ...</td>\n",
       "      <td>10</td>\n",
       "    </tr>\n",
       "    <tr>\n",
       "      <th>44420</th>\n",
       "      <td>quentin tarantino kill bill vol 2 completes 2 ...</td>\n",
       "      <td>10</td>\n",
       "    </tr>\n",
       "    <tr>\n",
       "      <th>44421</th>\n",
       "      <td>vol 2 completely different tone features film ...</td>\n",
       "      <td>10</td>\n",
       "    </tr>\n",
       "    <tr>\n",
       "      <th>44422</th>\n",
       "      <td>movie great mixes different genres movies mart...</td>\n",
       "      <td>10</td>\n",
       "    </tr>\n",
       "    <tr>\n",
       "      <th>44423</th>\n",
       "      <td>kill bill volume 2 directed quentin tarantino ...</td>\n",
       "      <td>10</td>\n",
       "    </tr>\n",
       "  </tbody>\n",
       "</table>\n",
       "<p>44424 rows × 2 columns</p>\n",
       "</div>"
      ],
      "text/plain": [
       "                                                  review  rating\n",
       "0      movie takes place fantasy land absolutely ridi...       1\n",
       "1      sentimental pathetic slow conventionally voice...       1\n",
       "2      things life understand universe begin happens ...       1\n",
       "3      movie inspired brilliant stir crazy starring g...       1\n",
       "4      life understand gushing cornball sentimental p...       1\n",
       "...                                                  ...     ...\n",
       "44419  uma thurman returns bride time looks continue ...      10\n",
       "44420  quentin tarantino kill bill vol 2 completes 2 ...      10\n",
       "44421  vol 2 completely different tone features film ...      10\n",
       "44422  movie great mixes different genres movies mart...      10\n",
       "44423  kill bill volume 2 directed quentin tarantino ...      10\n",
       "\n",
       "[44424 rows x 2 columns]"
      ]
     },
     "execution_count": 5,
     "metadata": {},
     "output_type": "execute_result"
    }
   ],
   "source": [
    "df = df.drop_duplicates(ignore_index=True)\n",
    "df\n"
   ]
  },
  {
   "cell_type": "code",
   "execution_count": 6,
   "metadata": {},
   "outputs": [
    {
     "name": "stdout",
     "output_type": "stream",
     "text": [
      "value counts df['rating']:\n",
      "rating\n",
      "10    6228\n",
      "8     6224\n",
      "9     6217\n",
      "7     5799\n",
      "6     4650\n",
      "5     3744\n",
      "1     3450\n",
      "4     2961\n",
      "3     2731\n",
      "2     2420\n",
      "Name: count, dtype: int64\n"
     ]
    }
   ],
   "source": [
    "print(\"value counts df['rating']:\")\n",
    "print(df[\"rating\"].value_counts())\n",
    "\n"
   ]
  },
  {
   "cell_type": "code",
   "execution_count": 7,
   "metadata": {},
   "outputs": [],
   "source": [
    "# Iterar sobre cada categoria\n",
    "def balance_dataframe_groups(df,column, NUM_ROWS_PER_CATEGORY):\n",
    "    # Lista para armazenar os DataFrames de cada categoria(um por categoria)\n",
    "    df_list_rating = []\n",
    "    for rating, group in df.groupby(column):\n",
    "        rating_str = str(rating)  # Convertendo para string\n",
    "        num_samples = min(NUM_ROWS_PER_CATEGORY[rating_str], len(group))\n",
    "        # Selecionar aleatoriamente o número correto de linhas para cada categoria\n",
    "        sampled_rows = group.sample(n=num_samples, random_state=42)\n",
    "        # Adicionar os dados selecionados à lista\n",
    "        df_list_rating.append(sampled_rows)\n",
    "    balanced_df =pd.concat(df_list_rating)\n",
    "    return balanced_df "
   ]
  },
  {
   "cell_type": "code",
   "execution_count": 8,
   "metadata": {},
   "outputs": [
    {
     "name": "stdout",
     "output_type": "stream",
     "text": [
      "rating\n",
      "8     6001\n",
      "7     5799\n",
      "6     4650\n",
      "10    4044\n",
      "9     4000\n",
      "5     3744\n",
      "1     3450\n",
      "4     2961\n",
      "3     2731\n",
      "2     2420\n",
      "Name: count, dtype: int64\n"
     ]
    }
   ],
   "source": [
    "# Definido para situacao onde a classe neutra vai representar os ratings [5,6]\n",
    "# Defina o número de linhas desejado para cada categoria\n",
    "NUM_ROWS_PER_CATEGORY = {\n",
    "    \"10\": 4044,\n",
    "    \"9\": 4000,\n",
    "    \"8\": 6001,\n",
    "    \"7\": 6000,\n",
    "    \"6\": 5000,\n",
    "    \"5\": 5000,\n",
    "    \"4\": 5000,\n",
    "    \"3\": 5000,\n",
    "    \"2\": 5000,\n",
    "    \"1\": 6000,\n",
    "}\n",
    "# Obter dataframe balenceado\n",
    "balanced_df = balance_dataframe_groups(df, \"rating\", NUM_ROWS_PER_CATEGORY)\n",
    "\n",
    "# Verificar se as categorias estão balanceadas\n",
    "print(balanced_df[\"rating\"].value_counts())"
   ]
  },
  {
   "cell_type": "code",
   "execution_count": 9,
   "metadata": {},
   "outputs": [
    {
     "data": {
      "text/html": [
       "<div>\n",
       "<style scoped>\n",
       "    .dataframe tbody tr th:only-of-type {\n",
       "        vertical-align: middle;\n",
       "    }\n",
       "\n",
       "    .dataframe tbody tr th {\n",
       "        vertical-align: top;\n",
       "    }\n",
       "\n",
       "    .dataframe thead th {\n",
       "        text-align: right;\n",
       "    }\n",
       "</style>\n",
       "<table border=\"1\" class=\"dataframe\">\n",
       "  <thead>\n",
       "    <tr style=\"text-align: right;\">\n",
       "      <th></th>\n",
       "      <th>review</th>\n",
       "      <th>rating</th>\n",
       "    </tr>\n",
       "  </thead>\n",
       "  <tbody>\n",
       "    <tr>\n",
       "      <th>17085</th>\n",
       "      <td>write ngo worker fortunate travel cannes husba...</td>\n",
       "      <td>1</td>\n",
       "    </tr>\n",
       "    <tr>\n",
       "      <th>493</th>\n",
       "      <td>hardcore movie buff seen studied movies said g...</td>\n",
       "      <td>1</td>\n",
       "    </tr>\n",
       "    <tr>\n",
       "      <th>5846</th>\n",
       "      <td>hard believe people believe cheesy movie maste...</td>\n",
       "      <td>1</td>\n",
       "    </tr>\n",
       "    <tr>\n",
       "      <th>18838</th>\n",
       "      <td>love tarantino able director follow unique sty...</td>\n",
       "      <td>1</td>\n",
       "    </tr>\n",
       "    <tr>\n",
       "      <th>13705</th>\n",
       "      <td>nolan fans going tell reading start there.read...</td>\n",
       "      <td>1</td>\n",
       "    </tr>\n",
       "    <tr>\n",
       "      <th>...</th>\n",
       "      <td>...</td>\n",
       "      <td>...</td>\n",
       "    </tr>\n",
       "    <tr>\n",
       "      <th>41226</th>\n",
       "      <td>extremely movie based true story 1995 deserves...</td>\n",
       "      <td>10</td>\n",
       "    </tr>\n",
       "    <tr>\n",
       "      <th>36094</th>\n",
       "      <td>best omnibus dark comedy movie funny explores ...</td>\n",
       "      <td>10</td>\n",
       "    </tr>\n",
       "    <tr>\n",
       "      <th>16735</th>\n",
       "      <td>kurosawa police procedural opens moral dilemma...</td>\n",
       "      <td>10</td>\n",
       "    </tr>\n",
       "    <tr>\n",
       "      <th>8415</th>\n",
       "      <td>film leon professional strong powerful film th...</td>\n",
       "      <td>10</td>\n",
       "    </tr>\n",
       "    <tr>\n",
       "      <th>4163</th>\n",
       "      <td>best thriller david fincher likely best thrill...</td>\n",
       "      <td>10</td>\n",
       "    </tr>\n",
       "  </tbody>\n",
       "</table>\n",
       "<p>39800 rows × 2 columns</p>\n",
       "</div>"
      ],
      "text/plain": [
       "                                                  review  rating\n",
       "17085  write ngo worker fortunate travel cannes husba...       1\n",
       "493    hardcore movie buff seen studied movies said g...       1\n",
       "5846   hard believe people believe cheesy movie maste...       1\n",
       "18838  love tarantino able director follow unique sty...       1\n",
       "13705  nolan fans going tell reading start there.read...       1\n",
       "...                                                  ...     ...\n",
       "41226  extremely movie based true story 1995 deserves...      10\n",
       "36094  best omnibus dark comedy movie funny explores ...      10\n",
       "16735  kurosawa police procedural opens moral dilemma...      10\n",
       "8415   film leon professional strong powerful film th...      10\n",
       "4163   best thriller david fincher likely best thrill...      10\n",
       "\n",
       "[39800 rows x 2 columns]"
      ]
     },
     "execution_count": 9,
     "metadata": {},
     "output_type": "execute_result"
    }
   ],
   "source": [
    "balanced_df"
   ]
  },
  {
   "cell_type": "code",
   "execution_count": 10,
   "metadata": {},
   "outputs": [],
   "source": [
    "# # Para Classe Positivo[7,8,9,10] e Negativo [...]\n",
    "def categorize_rating(rating):\n",
    "    if int(rating) <= 6:\n",
    "        return 0\n",
    "    else:\n",
    "        return 1"
   ]
  },
  {
   "cell_type": "code",
   "execution_count": 11,
   "metadata": {},
   "outputs": [
    {
     "name": "stdout",
     "output_type": "stream",
     "text": [
      "rating\n",
      "0    19956\n",
      "1    19844\n",
      "Name: count, dtype: int64\n"
     ]
    }
   ],
   "source": [
    "balanced_df[\"rating\"] = balanced_df[\"rating\"].apply(categorize_rating)\n",
    "print(balanced_df[\"rating\"].value_counts())\n"
   ]
  },
  {
   "cell_type": "code",
   "execution_count": 12,
   "metadata": {},
   "outputs": [
    {
     "data": {
      "text/html": [
       "<div>\n",
       "<style scoped>\n",
       "    .dataframe tbody tr th:only-of-type {\n",
       "        vertical-align: middle;\n",
       "    }\n",
       "\n",
       "    .dataframe tbody tr th {\n",
       "        vertical-align: top;\n",
       "    }\n",
       "\n",
       "    .dataframe thead th {\n",
       "        text-align: right;\n",
       "    }\n",
       "</style>\n",
       "<table border=\"1\" class=\"dataframe\">\n",
       "  <thead>\n",
       "    <tr style=\"text-align: right;\">\n",
       "      <th></th>\n",
       "      <th>review</th>\n",
       "      <th>rating</th>\n",
       "    </tr>\n",
       "  </thead>\n",
       "  <tbody>\n",
       "    <tr>\n",
       "      <th>17085</th>\n",
       "      <td>write ngo worker fortunate travel cannes husba...</td>\n",
       "      <td>0</td>\n",
       "    </tr>\n",
       "    <tr>\n",
       "      <th>493</th>\n",
       "      <td>hardcore movie buff seen studied movies said g...</td>\n",
       "      <td>0</td>\n",
       "    </tr>\n",
       "    <tr>\n",
       "      <th>5846</th>\n",
       "      <td>hard believe people believe cheesy movie maste...</td>\n",
       "      <td>0</td>\n",
       "    </tr>\n",
       "    <tr>\n",
       "      <th>18838</th>\n",
       "      <td>love tarantino able director follow unique sty...</td>\n",
       "      <td>0</td>\n",
       "    </tr>\n",
       "    <tr>\n",
       "      <th>13705</th>\n",
       "      <td>nolan fans going tell reading start there.read...</td>\n",
       "      <td>0</td>\n",
       "    </tr>\n",
       "    <tr>\n",
       "      <th>...</th>\n",
       "      <td>...</td>\n",
       "      <td>...</td>\n",
       "    </tr>\n",
       "    <tr>\n",
       "      <th>41226</th>\n",
       "      <td>extremely movie based true story 1995 deserves...</td>\n",
       "      <td>1</td>\n",
       "    </tr>\n",
       "    <tr>\n",
       "      <th>36094</th>\n",
       "      <td>best omnibus dark comedy movie funny explores ...</td>\n",
       "      <td>1</td>\n",
       "    </tr>\n",
       "    <tr>\n",
       "      <th>16735</th>\n",
       "      <td>kurosawa police procedural opens moral dilemma...</td>\n",
       "      <td>1</td>\n",
       "    </tr>\n",
       "    <tr>\n",
       "      <th>8415</th>\n",
       "      <td>film leon professional strong powerful film th...</td>\n",
       "      <td>1</td>\n",
       "    </tr>\n",
       "    <tr>\n",
       "      <th>4163</th>\n",
       "      <td>best thriller david fincher likely best thrill...</td>\n",
       "      <td>1</td>\n",
       "    </tr>\n",
       "  </tbody>\n",
       "</table>\n",
       "<p>39800 rows × 2 columns</p>\n",
       "</div>"
      ],
      "text/plain": [
       "                                                  review  rating\n",
       "17085  write ngo worker fortunate travel cannes husba...       0\n",
       "493    hardcore movie buff seen studied movies said g...       0\n",
       "5846   hard believe people believe cheesy movie maste...       0\n",
       "18838  love tarantino able director follow unique sty...       0\n",
       "13705  nolan fans going tell reading start there.read...       0\n",
       "...                                                  ...     ...\n",
       "41226  extremely movie based true story 1995 deserves...       1\n",
       "36094  best omnibus dark comedy movie funny explores ...       1\n",
       "16735  kurosawa police procedural opens moral dilemma...       1\n",
       "8415   film leon professional strong powerful film th...       1\n",
       "4163   best thriller david fincher likely best thrill...       1\n",
       "\n",
       "[39800 rows x 2 columns]"
      ]
     },
     "execution_count": 12,
     "metadata": {},
     "output_type": "execute_result"
    }
   ],
   "source": [
    "balanced_df"
   ]
  },
  {
   "cell_type": "code",
   "execution_count": 13,
   "metadata": {},
   "outputs": [],
   "source": [
    "df = balanced_df"
   ]
  },
  {
   "cell_type": "code",
   "execution_count": 14,
   "metadata": {},
   "outputs": [],
   "source": [
    "def load_texts_labels(df):\n",
    "    texts = df[\"review\"].tolist()\n",
    "    labels = df[\"rating\"].tolist()\n",
    "    return texts, labels"
   ]
  },
  {
   "cell_type": "code",
   "execution_count": 15,
   "metadata": {},
   "outputs": [
    {
     "data": {
      "text/html": [
       "<div>\n",
       "<style scoped>\n",
       "    .dataframe tbody tr th:only-of-type {\n",
       "        vertical-align: middle;\n",
       "    }\n",
       "\n",
       "    .dataframe tbody tr th {\n",
       "        vertical-align: top;\n",
       "    }\n",
       "\n",
       "    .dataframe thead th {\n",
       "        text-align: right;\n",
       "    }\n",
       "</style>\n",
       "<table border=\"1\" class=\"dataframe\">\n",
       "  <thead>\n",
       "    <tr style=\"text-align: right;\">\n",
       "      <th></th>\n",
       "      <th>review</th>\n",
       "      <th>rating</th>\n",
       "    </tr>\n",
       "  </thead>\n",
       "  <tbody>\n",
       "    <tr>\n",
       "      <th>17085</th>\n",
       "      <td>write ngo worker fortunate travel cannes husba...</td>\n",
       "      <td>0</td>\n",
       "    </tr>\n",
       "    <tr>\n",
       "      <th>493</th>\n",
       "      <td>hardcore movie buff seen studied movies said g...</td>\n",
       "      <td>0</td>\n",
       "    </tr>\n",
       "    <tr>\n",
       "      <th>5846</th>\n",
       "      <td>hard believe people believe cheesy movie maste...</td>\n",
       "      <td>0</td>\n",
       "    </tr>\n",
       "    <tr>\n",
       "      <th>18838</th>\n",
       "      <td>love tarantino able director follow unique sty...</td>\n",
       "      <td>0</td>\n",
       "    </tr>\n",
       "    <tr>\n",
       "      <th>13705</th>\n",
       "      <td>nolan fans going tell reading start there.read...</td>\n",
       "      <td>0</td>\n",
       "    </tr>\n",
       "    <tr>\n",
       "      <th>...</th>\n",
       "      <td>...</td>\n",
       "      <td>...</td>\n",
       "    </tr>\n",
       "    <tr>\n",
       "      <th>41226</th>\n",
       "      <td>extremely movie based true story 1995 deserves...</td>\n",
       "      <td>1</td>\n",
       "    </tr>\n",
       "    <tr>\n",
       "      <th>36094</th>\n",
       "      <td>best omnibus dark comedy movie funny explores ...</td>\n",
       "      <td>1</td>\n",
       "    </tr>\n",
       "    <tr>\n",
       "      <th>16735</th>\n",
       "      <td>kurosawa police procedural opens moral dilemma...</td>\n",
       "      <td>1</td>\n",
       "    </tr>\n",
       "    <tr>\n",
       "      <th>8415</th>\n",
       "      <td>film leon professional strong powerful film th...</td>\n",
       "      <td>1</td>\n",
       "    </tr>\n",
       "    <tr>\n",
       "      <th>4163</th>\n",
       "      <td>best thriller david fincher likely best thrill...</td>\n",
       "      <td>1</td>\n",
       "    </tr>\n",
       "  </tbody>\n",
       "</table>\n",
       "<p>39800 rows × 2 columns</p>\n",
       "</div>"
      ],
      "text/plain": [
       "                                                  review  rating\n",
       "17085  write ngo worker fortunate travel cannes husba...       0\n",
       "493    hardcore movie buff seen studied movies said g...       0\n",
       "5846   hard believe people believe cheesy movie maste...       0\n",
       "18838  love tarantino able director follow unique sty...       0\n",
       "13705  nolan fans going tell reading start there.read...       0\n",
       "...                                                  ...     ...\n",
       "41226  extremely movie based true story 1995 deserves...       1\n",
       "36094  best omnibus dark comedy movie funny explores ...       1\n",
       "16735  kurosawa police procedural opens moral dilemma...       1\n",
       "8415   film leon professional strong powerful film th...       1\n",
       "4163   best thriller david fincher likely best thrill...       1\n",
       "\n",
       "[39800 rows x 2 columns]"
      ]
     },
     "metadata": {},
     "output_type": "display_data"
    }
   ],
   "source": [
    "display(df)"
   ]
  },
  {
   "cell_type": "code",
   "execution_count": 16,
   "metadata": {},
   "outputs": [],
   "source": [
    "def maior_text(texts):\n",
    "    return max(texts, key=lambda x: len(x.split()))"
   ]
  },
  {
   "cell_type": "code",
   "execution_count": 17,
   "metadata": {},
   "outputs": [
    {
     "name": "stdout",
     "output_type": "stream",
     "text": [
      "6280\n"
     ]
    }
   ],
   "source": [
    "texts, labels = load_texts_labels(df)\n",
    "maior_string = maior_text(texts)\n",
    "tam_maior_string = len(maior_string)\n",
    "print(tam_maior_string)"
   ]
  },
  {
   "cell_type": "code",
   "execution_count": 18,
   "metadata": {},
   "outputs": [],
   "source": [
    "class TextClassificationDataset(Dataset):\n",
    "    def __init__(self, texts, labels, tokenizer, max_length):\n",
    "        self.texts = texts\n",
    "        self.labels = labels\n",
    "        self.tokenizer = tokenizer\n",
    "        self.max_length = max_length\n",
    "\n",
    "    def __len__(self):\n",
    "        return len(self.texts)\n",
    "\n",
    "    def __getitem__(self, idx):\n",
    "        text = self.texts[idx]\n",
    "        label = self.labels[idx]\n",
    "        encoding = self.tokenizer(\n",
    "            text,\n",
    "            return_tensors=\"pt\",\n",
    "            max_length=self.max_length,\n",
    "            padding=\"max_length\",\n",
    "            truncation=True,\n",
    "        )\n",
    "        return {\n",
    "            \"input_ids\": encoding[\"input_ids\"].flatten(),\n",
    "            \"attention_mask\": encoding[\"attention_mask\"].flatten(),\n",
    "            \"label\": torch.tensor(label),\n",
    "        }"
   ]
  },
  {
   "cell_type": "code",
   "execution_count": 19,
   "metadata": {},
   "outputs": [],
   "source": [
    "class MultiClassClassifier(nn.Module):\n",
    "    def __init__(self, bert_model_name: str, hidden_size: int, num_outputs: int):\n",
    "        super(MultiClassClassifier, self).__init__()\n",
    "        self.bert = BertModel.from_pretrained(bert_model_name)\n",
    "        self.dropout = nn.Dropout(0.1)\n",
    "        self.linear1 = nn.Linear(self.bert.config.hidden_size, hidden_size)\n",
    "        self.linear2 = nn.Linear(hidden_size, num_outputs)\n",
    "        self.softmax = nn.Softmax(dim=1)\n",
    "\n",
    "    def forward(self, input_ids, attention_mask):\n",
    "        outputs_bert = self.bert(input_ids=input_ids, attention_mask=attention_mask)\n",
    "        pooled_output = outputs_bert.pooler_output\n",
    "        dropout = self.dropout(pooled_output)\n",
    "        logits = F.relu(self.linear1(dropout))\n",
    "        logits = self.linear2(logits)\n",
    "        probs = self.softmax(logits)\n",
    "        return probs"
   ]
  },
  {
   "cell_type": "code",
   "execution_count": 20,
   "metadata": {},
   "outputs": [],
   "source": [
    "def train(model: MultiClassClassifier, data_loader, optimizer, scheduler, device):\n",
    "    model.train()\n",
    "    for batch in data_loader:\n",
    "        optimizer.zero_grad()\n",
    "        input_ids = batch[\"input_ids\"].to(device)\n",
    "        attention_mask = batch[\"attention_mask\"].to(device)\n",
    "        labels = batch[\"label\"].to(device)\n",
    "        outputs = model(input_ids=input_ids, attention_mask=attention_mask)\n",
    "        loss = nn.CrossEntropyLoss()(outputs, labels)\n",
    "        loss.backward()\n",
    "        optimizer.step()\n",
    "        scheduler.step() "
   ]
  },
  {
   "cell_type": "code",
   "execution_count": 21,
   "metadata": {},
   "outputs": [],
   "source": [
    "def evaluate(\n",
    "    model: MultiClassClassifier, data_loader: TextClassificationDataset, device: str\n",
    "):\n",
    "    model.eval()\n",
    "    predictions = []\n",
    "    actual_labels = []\n",
    "    with torch.no_grad():\n",
    "        for batch in data_loader:\n",
    "            input_ids = batch[\"input_ids\"].to(device)\n",
    "            attention_mask = batch[\"attention_mask\"].to(device)\n",
    "            labels = batch[\"label\"].to(device)\n",
    "            outputs = model(input_ids=input_ids, attention_mask=attention_mask)\n",
    "\n",
    "            _, preds = torch.max(outputs, dim=1)\n",
    "\n",
    "            predictions.extend(preds.cpu().tolist())\n",
    "            actual_labels.extend(labels.cpu().tolist())\n",
    "    return accuracy_score(actual_labels, predictions), classification_report(\n",
    "        actual_labels, predictions\n",
    "    )"
   ]
  },
  {
   "cell_type": "code",
   "execution_count": 22,
   "metadata": {},
   "outputs": [],
   "source": [
    "def predict_tratamento_texto(text: str, lemma:bool):\n",
    "    nlp = spacy.load(\"en_core_web_sm\", exclude=[\"parser\", \"ner\"])\n",
    "    text = text.lower()\n",
    "    text = re.sub(r\"\\s+\", \" \", text).strip()\n",
    "    text = re.sub(re.compile(\"<.*?>\"), \"\", text)\n",
    "    doc = nlp(text)\n",
    "    if lemma == True:\n",
    "        text = \" \".join(\n",
    "            [token.lemma_ for token in doc if not token.is_stop and not token.is_punct]\n",
    "        )  # retorna o lemma\n",
    "    else:\n",
    "        text = \" \".join(\n",
    "            [token.text for token in doc if not token.is_stop and not token.is_punct]\n",
    "        )  # return text\n",
    "    return text"
   ]
  },
  {
   "cell_type": "code",
   "execution_count": 61,
   "metadata": {},
   "outputs": [],
   "source": [
    "def predict_sentiment(\n",
    "    text: str,\n",
    "    model: MultiClassClassifier,\n",
    "    tokenizer: BertTokenizer,\n",
    "    device: str,\n",
    "    max_length: int,\n",
    "    lemma=False,\n",
    "):\n",
    "    model.eval()\n",
    "    text = predict_tratamento_texto(text, lemma)\n",
    "    encoding = tokenizer(\n",
    "        text,\n",
    "        return_tensors=\"pt\",\n",
    "        max_length=max_length,\n",
    "        padding=\"max_length\",\n",
    "        truncation=True,\n",
    "    )\n",
    "    input_ids = encoding[\"input_ids\"].to(device)\n",
    "    attention_mask = encoding[\"attention_mask\"].to(device)\n",
    "\n",
    "    with torch.no_grad():\n",
    "        prob = model(input_ids=input_ids, attention_mask=attention_mask)\n",
    "\n",
    "    prob_neg = prob[0, 0].item()\n",
    "    prob_pos = prob[0, 1].item()\n",
    "    print(f\"prob negativa: {prob_neg:.5f}\")\n",
    "    print(f\"prob positiva: {prob_pos:.5f}\")\n",
    "\n",
    "    classes = [\"negativo\", \"positivo\"]\n",
    "    # predicted_class_index = torch.argmax(prob, dim=1).item()\n",
    "    # predicted_class = classes[predicted_class_index]\n",
    "    maior_prob = torch.argmax(prob, dim=1).item()\n",
    "    return classes[maior_prob]"
   ]
  },
  {
   "cell_type": "code",
   "execution_count": 25,
   "metadata": {},
   "outputs": [],
   "source": [
    "# Set up parameters\n",
    "BERT_MODEL_NAME = \"bert-base-uncased\"\n",
    "hidden_size = 10 #Tamanho oculto, neuronios\n",
    "num_outputs = 2 # numero de classes de saida [negativo,positivo]\n",
    "max_length = 128 # 128\n",
    "batch_size = 16  # 16, 32\n",
    "num_epochs = 4 #recomended in the Bert Article [2,3,4]\n",
    "learning_rate = 5e-5 # Taxa de aprendizagem (Adam): 5e-5, 3e-5, 2e-5 "
   ]
  },
  {
   "cell_type": "code",
   "execution_count": 26,
   "metadata": {},
   "outputs": [],
   "source": [
    "train_texts, val_texts, train_labels, val_labels = train_test_split(\n",
    "    texts, labels, test_size=0.2, random_state=42\n",
    ")"
   ]
  },
  {
   "cell_type": "code",
   "execution_count": 27,
   "metadata": {},
   "outputs": [
    {
     "name": "stderr",
     "output_type": "stream",
     "text": [
      "d:\\tcc2\\guilherme\\.venv\\Lib\\site-packages\\huggingface_hub\\file_download.py:1132: FutureWarning: `resume_download` is deprecated and will be removed in version 1.0.0. Downloads always resume when possible. If you want to force a new download, use `force_download=True`.\n",
      "  warnings.warn(\n"
     ]
    }
   ],
   "source": [
    "tokenizer = BertTokenizer.from_pretrained(BERT_MODEL_NAME)\n",
    "train_dataset = TextClassificationDataset(\n",
    "    train_texts, train_labels, tokenizer, max_length\n",
    ")\n",
    "val_dataset = TextClassificationDataset(val_texts, val_labels, tokenizer, max_length)\n",
    "\n",
    "train_dataloader = DataLoader(train_dataset, batch_size=batch_size, shuffle=True)\n",
    "val_dataloader = DataLoader(val_dataset, batch_size=batch_size)"
   ]
  },
  {
   "cell_type": "code",
   "execution_count": 28,
   "metadata": {},
   "outputs": [],
   "source": [
    "device = torch.device(\"cuda\" if torch.cuda.is_available() else \"cpu\")\n",
    "model = MultiClassClassifier(BERT_MODEL_NAME,hidden_size, num_outputs).to(device)"
   ]
  },
  {
   "cell_type": "code",
   "execution_count": 29,
   "metadata": {},
   "outputs": [],
   "source": [
    "optimizer = AdamW(model.parameters(), lr=learning_rate)\n",
    "total_steps = len(train_dataloader) * num_epochs\n",
    "#: Isso configura o agendador de taxa de aprendizado. O agendador ajusta a taxa de aprendizado ao longo do treinamento. Neste caso, a taxa de aprendizado aumentará linearmente por um número de etapas de aquecimento e, em seguida, diminuirá linearmente.\n",
    "scheduler = get_linear_schedule_with_warmup(\n",
    "    optimizer, num_warmup_steps=0, num_training_steps=total_steps\n",
    ")"
   ]
  },
  {
   "cell_type": "code",
   "execution_count": 30,
   "metadata": {},
   "outputs": [
    {
     "name": "stderr",
     "output_type": "stream",
     "text": [
      "Progresso:   0%|\u001b[32m          \u001b[0m| 0/4 [00:00<?, ?it/s]"
     ]
    },
    {
     "name": "stdout",
     "output_type": "stream",
     "text": [
      "Epoch 1/4\n"
     ]
    },
    {
     "name": "stderr",
     "output_type": "stream",
     "text": [
      "Progresso:  25%|\u001b[32m██▌       \u001b[0m| 1/4 [13:13<39:40, 793.38s/it]"
     ]
    },
    {
     "name": "stdout",
     "output_type": "stream",
     "text": [
      "Validation Accuracy: 0.8121\n",
      "              precision    recall  f1-score   support\n",
      "\n",
      "           0       0.80      0.84      0.82      4010\n",
      "           1       0.83      0.79      0.81      3950\n",
      "\n",
      "    accuracy                           0.81      7960\n",
      "   macro avg       0.81      0.81      0.81      7960\n",
      "weighted avg       0.81      0.81      0.81      7960\n",
      "\n",
      "Epoch 2/4\n"
     ]
    },
    {
     "name": "stderr",
     "output_type": "stream",
     "text": [
      "Progresso:  50%|\u001b[32m█████     \u001b[0m| 2/4 [26:30<26:31, 795.53s/it]"
     ]
    },
    {
     "name": "stdout",
     "output_type": "stream",
     "text": [
      "Validation Accuracy: 0.7972\n",
      "              precision    recall  f1-score   support\n",
      "\n",
      "           0       0.82      0.77      0.79      4010\n",
      "           1       0.78      0.82      0.80      3950\n",
      "\n",
      "    accuracy                           0.80      7960\n",
      "   macro avg       0.80      0.80      0.80      7960\n",
      "weighted avg       0.80      0.80      0.80      7960\n",
      "\n",
      "Epoch 3/4\n"
     ]
    },
    {
     "name": "stderr",
     "output_type": "stream",
     "text": [
      "Progresso:  75%|\u001b[32m███████▌  \u001b[0m| 3/4 [39:55<13:19, 799.75s/it]"
     ]
    },
    {
     "name": "stdout",
     "output_type": "stream",
     "text": [
      "Validation Accuracy: 0.8224\n",
      "              precision    recall  f1-score   support\n",
      "\n",
      "           0       0.83      0.81      0.82      4010\n",
      "           1       0.81      0.84      0.82      3950\n",
      "\n",
      "    accuracy                           0.82      7960\n",
      "   macro avg       0.82      0.82      0.82      7960\n",
      "weighted avg       0.82      0.82      0.82      7960\n",
      "\n",
      "Epoch 4/4\n"
     ]
    },
    {
     "name": "stderr",
     "output_type": "stream",
     "text": [
      "Progresso: 100%|\u001b[32m██████████\u001b[0m| 4/4 [53:12<00:00, 798.15s/it]"
     ]
    },
    {
     "name": "stdout",
     "output_type": "stream",
     "text": [
      "Validation Accuracy: 0.8303\n",
      "              precision    recall  f1-score   support\n",
      "\n",
      "           0       0.84      0.82      0.83      4010\n",
      "           1       0.82      0.85      0.83      3950\n",
      "\n",
      "    accuracy                           0.83      7960\n",
      "   macro avg       0.83      0.83      0.83      7960\n",
      "weighted avg       0.83      0.83      0.83      7960\n",
      "\n",
      "CPU times: total: 8min 9s\n",
      "Wall time: 53min 12s\n"
     ]
    },
    {
     "name": "stderr",
     "output_type": "stream",
     "text": [
      "\n"
     ]
    }
   ],
   "source": [
    "%%time\n",
    "# Equivalente a Funcao fit()\n",
    "val_accuracy= []\n",
    "for epoch in tqdm(range(num_epochs), colour=\"green\", desc=\"Progresso: \"):\n",
    "\n",
    "    print(f\"Epoch {epoch + 1}/{num_epochs}\")\n",
    "    train(model, train_dataloader, optimizer, scheduler, device)\n",
    "    accuracy, report = evaluate(model, val_dataloader, device)\n",
    "    print(f\"Validation Accuracy: {accuracy:.4f}\")\n",
    "    print(report)\n",
    "    val_accuracy.append(accuracy)"
   ]
  },
  {
   "cell_type": "markdown",
   "metadata": {},
   "source": [
    "### Grafico de perda, histograma, overfiting\n"
   ]
  },
  {
   "cell_type": "code",
   "execution_count": 65,
   "metadata": {},
   "outputs": [
    {
     "data": {
      "text/plain": [
       "<matplotlib.legend.Legend at 0x1ecdf0ec3d0>"
      ]
     },
     "execution_count": 65,
     "metadata": {},
     "output_type": "execute_result"
    },
    {
     "data": {
      "image/png": "[encoded data removed]",
      "text/plain": [
       "<Figure size 640x480 with 1 Axes>"
      ]
     },
     "metadata": {},
     "output_type": "display_data"
    }
   ],
   "source": [
    "import matplotlib.pyplot as plt\n",
    "\n",
    "# train_acc = history[\"train_accuracies\"]\n",
    "val_acc = val_accuracy\n",
    "plt.clf()\n",
    "plt.plot(val_acc, \"b\", label=\"train accuracy\")\n",
    "# plt.plot(val_acc, \"b\", label=\"validation accuracy\")\n",
    "\n",
    "plt.title(\"Validation accuracy\")\n",
    "plt.xlabel(\"Epoch\")\n",
    "plt.ylabel(\"Accuracy\")\n",
    "plt.legend()"
   ]
  },
  {
   "cell_type": "markdown",
   "metadata": {},
   "source": [
    "## Saving & Loading Model for Inference\n",
    "\n",
    "Save:\n"
   ]
  },
  {
   "cell_type": "code",
   "execution_count": 32,
   "metadata": {},
   "outputs": [],
   "source": [
    "# PATH_MODEL_SAVE = \"sentiment_classifier_Bert_IMDB_Dataset_eith_lemma.pth\"\n",
    "# torch.save(model.state_dict(), PATH_MODEL_SAVE)"
   ]
  },
  {
   "cell_type": "markdown",
   "metadata": {},
   "source": [
    "load:\n"
   ]
  },
  {
   "cell_type": "code",
   "execution_count": null,
   "metadata": {},
   "outputs": [],
   "source": []
  },
  {
   "cell_type": "code",
   "execution_count": 33,
   "metadata": {},
   "outputs": [],
   "source": [
    "# # PATH_MODEL_SAVE = \"sentiment_classifier_en_49500_reviews.pth\"\n",
    "# saved_model = MultiClassClassifier(BERT_MODEL_NAME,hidden_size, num_outputs).to(device)\n",
    "# saved_model.load_state_dict(torch.load(PATH_MODEL_SAVE))\n",
    "# # saved_model.eval()"
   ]
  },
  {
   "cell_type": "markdown",
   "metadata": {},
   "source": [
    "## Sentiment prediction"
   ]
  },
  {
   "cell_type": "code",
   "execution_count": 34,
   "metadata": {},
   "outputs": [],
   "source": [
    "# Challengers 1/10\n",
    "text= \"\"\"The audience was in hysterics by the end. The choices made in every aspect of this movie were shockingly bad. The abysmal and strange music, the constant shift in time, the laughable script, the nauseating camera work, and just truly one of the worst directed films I've ever seen. I would have left halfway through if I didn't have to pay for my food. But I'm glad I stayed because it got so much more hysterically bad than I even thought possible. I feel like I'm insane because the audience was screaming with laughter. I got the sense that the director thinks he's a genius, but this movie is 1% short of a feature length SNL parody.\"\"\""
   ]
  },
  {
   "cell_type": "code",
   "execution_count": 35,
   "metadata": {},
   "outputs": [
    {
     "name": "stdout",
     "output_type": "stream",
     "text": [
      "prob negativa: 0.99994\n",
      "prob positiva: 0.00006\n",
      "audience hysterics end choices aspect movie shockingly bad abysmal strange music constant shift time laughable script nauseating camera work truly worst directed films seen left halfway pay food glad stayed got hysterically bad thought possible feel like insane audience screaming laughter got sense director thinks genius movie 1 short feature length snl parody\n",
      "Predicted sentiment: negativo\n"
     ]
    }
   ],
   "source": [
    "sentiment = predict_sentiment(text, model, tokenizer, device, max_length)\n",
    "print(predict_tratamento_texto(text,lemma= False))\n",
    "print(f\"Predicted sentiment: {sentiment}\")"
   ]
  },
  {
   "cell_type": "code",
   "execution_count": 36,
   "metadata": {},
   "outputs": [],
   "source": [
    "# The Fall Guy 2/10\n",
    "text = \"\"\"Almost ok! But not good or great. Could had been.\n",
    "\n",
    "It was evident that the makers of this movie never saw more than couple of episodes of Fall guy the TV series it's based on. There were more reference to Miami vice tv series than the actual tv series this movie is supposedly based on. First half an hour or so of the movie was pure cringe. The dialogues were written by couple of teenagers who were probably paid in TikTok views. The rom com scenes were cringy and unwatchable.\n",
    "\n",
    "Action sequences and stunts were excellent but kept getting interrupted by really really awful cringy love story. One scene ( not a spoiler) where the action sequence keeps breaking away to a cringey Karakoram no , made us almost walk out of the movie.\n",
    "\n",
    "Some of the acting is sooo bad.\n",
    "\n",
    "If you make a movie based on the TV series Atleast watch every episode of it. We did. The tv series that made every kid want to get a pickup truck and be a stunt man. The tv series which made kids attempt dangerous stunts on their bikes.\n",
    "\n",
    "And the actual fall guy Lee majors. Makes an appearance post credit? Really. Why even bother.\n",
    "\n",
    "Was ok but a missed opportunity to make it great.\"\"\""
   ]
  },
  {
   "cell_type": "code",
   "execution_count": 37,
   "metadata": {},
   "outputs": [
    {
     "name": "stdout",
     "output_type": "stream",
     "text": [
      "prob negativa: 0.99991\n",
      "prob positiva: 0.00009\n",
      "ok good great evident makers movie saw couple episodes fall guy tv series based reference miami vice tv series actual tv series movie supposedly based half hour movie pure cringe dialogues written couple teenagers probably paid tiktok views rom com scenes cringy unwatchable action sequences stunts excellent kept getting interrupted awful cringy love story scene spoiler action sequence keeps breaking away cringey karakoram walk movie acting sooo bad movie based tv series atleast watch episode tv series kid want pickup truck stunt man tv series kids attempt dangerous stunts bikes actual fall guy lee majors makes appearance post credit bother ok missed opportunity great\n",
      "Predicted sentiment: negativo\n"
     ]
    }
   ],
   "source": [
    "sentiment = predict_sentiment(text, model, tokenizer, device, max_length)\n",
    "print(predict_tratamento_texto(text,lemma= False))\n",
    "print(f\"Predicted sentiment: {sentiment}\")"
   ]
  },
  {
   "cell_type": "code",
   "execution_count": 38,
   "metadata": {},
   "outputs": [],
   "source": [
    "# THe Idea of You 3/10\n",
    "text= \"\"\"Oh dear. Absolutely no chemistry between the two main characters. The lead female Solene, apart from the absurd name is totally unrelatable or endearing. She acts like his teacher, or mother \"I'll make you a sandwich?!\" When she talks about herself he's uncomfortably interested, uncomfortable because it's not believable. The art they show in the gallery and warehouse are pretentious and boring, a lot like Solene.\n",
    "      \n",
    "I'm surprised at the positive reviews.\n",
    "\n",
    "It's mildly entertaining - a background movie for when you're building Lego for example. But I couldn't take the pairing seriously. Maybe I'm feeling the uncomfortable atmosphere that potentially could have been on set that I'm picking up on? I dunno. It could've been so much better with a different female lead.\"\"\""
   ]
  },
  {
   "cell_type": "code",
   "execution_count": 39,
   "metadata": {},
   "outputs": [
    {
     "name": "stdout",
     "output_type": "stream",
     "text": [
      "prob negativa: 0.99994\n",
      "prob positiva: 0.00006\n",
      "oh dear absolutely chemistry main characters lead female solene apart absurd totally unrelatable endearing acts like teacher mother sandwich talks uncomfortably interested uncomfortable believable art gallery warehouse pretentious boring lot like solene surprised positive reviews mildly entertaining background movie building lego example pairing seriously maybe feeling uncomfortable atmosphere potentially set picking dunno better different female lead\n",
      "Predicted sentiment: negativo\n"
     ]
    }
   ],
   "source": [
    "sentiment = predict_sentiment(text, model, tokenizer, device, max_length)\n",
    "print(predict_tratamento_texto(text,lemma= False))\n",
    "print(f\"Predicted sentiment: {sentiment}\")"
   ]
  },
  {
   "cell_type": "code",
   "execution_count": 40,
   "metadata": {},
   "outputs": [],
   "source": [
    "# nota 4\n",
    "text= \"\"\"I'm a big fan of Garland's earlier films (Ex Machina, Annihilation) and wanted to like this, but sadly this one was a miss. There's not really a story - no reason why the war is happening or what is at stake. The characters are extremely unrelatable and are more there just to represent concepts (the media, racism, etc) rather than have any identity of their own. The war just happens to be there in the background while the characters are taking a roadtrip through rural America, which doesn't actually show any war going on, just random series of fights which could just be regular gun violence from today. You would hardly know there's a war going on except the characters telling you there is.\n",
    "\n",
    "It's not until the last 10 minutes that you see any military operations and it lacks scale for only seemingly having about 100 troops fighting, given what's supposedly at stake. The movie should've started here and gone backwards into why the war is happening, which would've made a more interesting film in my opinion.\n",
    "\n",
    "\"\"\""
   ]
  },
  {
   "cell_type": "code",
   "execution_count": 41,
   "metadata": {},
   "outputs": [
    {
     "name": "stdout",
     "output_type": "stream",
     "text": [
      "prob negativa: 0.99990\n",
      "prob positiva: 0.00010\n",
      "big fan garland earlier films ex machina annihilation wanted like sadly miss story reason war happening stake characters extremely unrelatable represent concepts media racism etc identity war happens background characters taking roadtrip rural america actually war going random series fights regular gun violence today hardly know war going characters telling 10 minutes military operations lacks scale seemingly having 100 troops fighting given supposedly stake movie started gone backwards war happening interesting film opinion\n",
      "Predicted sentiment: negativo\n"
     ]
    }
   ],
   "source": [
    "sentiment = predict_sentiment(text, model, tokenizer, device, max_length)\n",
    "print(predict_tratamento_texto(text,lemma= False))\n",
    "print(f\"Predicted sentiment: {sentiment}\")"
   ]
  },
  {
   "cell_type": "code",
   "execution_count": 42,
   "metadata": {},
   "outputs": [],
   "source": [
    "# Anyone But You 5/10\n",
    "\n",
    "text = \"\"\"They really did make a whole movie just to show off Glen Powell's smoking hot body and honestly - I'm here for it!\n",
    "\n",
    "The storyline and the acting is... wait, who cares?? Glen Powell is shirtless about half the time.\n",
    "\n",
    "This is a movie about two people who fall in love only to find out that... Glen Powell's body is so hot!\n",
    "\n",
    "If you watch the trailer you already know exactly what happ... Glen Powell!!\n",
    "\n",
    "The predictability factor is super strong with this one. The cheese is sprinkled all over the movie, in every scene, there is little room left for any other ingredients because... cheese. And Glen Powell.\n",
    "\n",
    "Glen Powell\"\"\""
   ]
  },
  {
   "cell_type": "code",
   "execution_count": 43,
   "metadata": {},
   "outputs": [
    {
     "name": "stdout",
     "output_type": "stream",
     "text": [
      "prob negativa: 0.99993\n",
      "prob positiva: 0.00007\n",
      "movie glen powell smoking hot body honestly storyline acting wait cares glen powell shirtless half time movie people fall love find glen powell body hot watch trailer know exactly happ glen powell predictability factor super strong cheese sprinkled movie scene little room left ingredients cheese glen powell glen powell\n",
      "Predicted sentiment: negativo\n"
     ]
    }
   ],
   "source": [
    "sentiment = predict_sentiment(text, model, tokenizer, device, max_length)\n",
    "print(predict_tratamento_texto(text,lemma= False))\n",
    "print(f\"Predicted sentiment: {sentiment}\")"
   ]
  },
  {
   "cell_type": "code",
   "execution_count": 44,
   "metadata": {},
   "outputs": [],
   "source": [
    "# Capita marvel 2019 5/10\n",
    "text = \"\"\"Plot\n",
    "\n",
    "Carol Danvers     becomes one of the universe's most powerful heroes when Earth is caught in the middle of a galactic war between two alien races.\n",
    "\n",
    "Cast\n",
    "\n",
    "Brie Larson, Samuel L. Jackson (Because duh), Jude \"Just consistently dreadful\" Law, Annette Bening, Djimon Hounsou, Clark Gregg and blink and you'll miss him Lee Pace who returns as Ronan but looks so different I didn't even think it was him.\n",
    "\n",
    "Verdict\n",
    "\n",
    "I watched this back when it was initially released, I watched it a second time a few days ago as the missus is wanting us to binge watch the entire MCU as she's very behind. My opinion has changed on the 2nd viewing and not in a good way, my rating has shifted from a 6/10 to 5/10.\n",
    "\n",
    "You see straight out of the gate the first thing you notice about Carol Danvers is she's not really a character you can get behind. She's not funny, she's not entertaining, she comes across as a surly teenage girl who is just upset at the slightest thing and just doesn't want to be there. This is not a character you can build a movie around, like trying to make a teenage Groot movie! It wouldn't work, but he's okay as a side character.\n",
    "\n",
    "Supporting cast are also hit and miss, Jackson and Gregg are great, but Lynch and Law just stink up every scene they're in.\n",
    "\n",
    "I'm a Marvel fan but I recognize where it's weak, this is a distinctly average film that serves as a standalone origin story and doesn't contribute much to the universe as a whole.\n",
    "\n",
    "Rants\n",
    "\n",
    "I remember when the movie came out all the controversy with Brie Larson, I just had to Google what the controversy even was as I don't remember due to not focusing on such things. Now I can't really get a definitive answer. From what I see it's a combination of people not liking her attitude and her comments on feminism. So I Googled further to see what she said, she came across arrogant in them and a smidge out of touch but none of it explained the overwhelming hate I've seen aimed at her. Then I remembered that people talk about all the different types of bigotry but misogyny rarely comes up, I remembered that it's visibly increased over the past decade and appreciated why she's been targeted. News flash, the outspoken loud brash man hating femnists you likely thing of when you hear that word make up a very small percentage. Feminism is good, if you disagree I hope you simply don't know the meaning of the word.\n",
    "\n",
    "The Good\n",
    "\n",
    "Jackson and Gregg Has a couple of decent moments Not a bad soundtrack Goose!\n",
    "\n",
    "The Bad\n",
    "\n",
    "Larson isn't great Law and Lynch are terrible Lead just comes across unlikable.\n",
    "\n",
    "Overall just a weak entry to the MC\n",
    "\"\"\""
   ]
  },
  {
   "cell_type": "code",
   "execution_count": 45,
   "metadata": {},
   "outputs": [
    {
     "name": "stdout",
     "output_type": "stream",
     "text": [
      "prob negativa: 0.72823\n",
      "prob positiva: 0.27177\n",
      "plot carol danvers universe powerful heroes earth caught middle galactic war alien races cast brie larson samuel l. jackson duh jude consistently dreadful law annette bening djimon hounsou clark gregg blink miss lee pace returns ronan looks different think verdict watched initially released watched second time days ago missus wanting binge watch entire mcu opinion changed 2nd viewing good way rating shifted 6/10 5/10 straight gate thing notice carol danvers character funny entertaining comes surly teenage girl upset slightest thing want character build movie like trying teenage groot movie work okay character supporting cast hit miss jackson gregg great lynch law stink scene marvel fan recognize weak distinctly average film serves standalone origin story contribute universe rants remember movie came controversy brie larson google controversy remember focusing things definitive answer combination people liking attitude comments feminism googled said came arrogant smidge touch explained overwhelming hate seen aimed remembered people talk different types bigotry misogyny rarely comes remembered visibly increased past decade appreciated targeted news flash outspoken loud brash man hating femnists likely thing hear word small percentage feminism good disagree hope simply know meaning word good jackson gregg couple decent moments bad soundtrack goose bad larson great law lynch terrible lead comes unlikable overall weak entry mc\n",
      "Predicted sentiment: negativo\n"
     ]
    }
   ],
   "source": [
    "sentiment = predict_sentiment(text, model, tokenizer, device, max_length)\n",
    "print(predict_tratamento_texto(text,lemma= False))\n",
    "print(f\"Predicted sentiment: {sentiment}\")"
   ]
  },
  {
   "cell_type": "code",
   "execution_count": 46,
   "metadata": {},
   "outputs": [],
   "source": [
    "# CApita marvel 2019 6/10\n",
    "text=\"\"\"Mediocre Marvel is still pretty good.\n",
    "\n",
    "My first review in a long time! Dont know why I decided to write about this movie.\n",
    "\n",
    "I agree with most mediocre reviews I read here.\n",
    "\n",
    "The pacing was pretty good.\n",
    "\n",
    "Most of the action was good!\n",
    "\n",
    "The story was ok and had some good twists.\n",
    "\n",
    "I thought about giving this movie a 6 but after letting it sink in I decided to give it 8 out of 10\n",
    "\n",
    "It entertained me and my company from beginning to end.\n",
    "\n",
    "There were some eye rolling moments but they are easily forgiven.\"\"\""
   ]
  },
  {
   "cell_type": "code",
   "execution_count": 47,
   "metadata": {},
   "outputs": [
    {
     "name": "stdout",
     "output_type": "stream",
     "text": [
      "prob negativa: 0.99994\n",
      "prob positiva: 0.00006\n",
      "mediocre marvel pretty good review long time nt know decided write movie agree mediocre reviews read pacing pretty good action good story ok good twists thought giving movie 6 letting sink decided 8 10 entertained company beginning end eye rolling moments easily forgiven\n",
      "Predicted sentiment: negativo\n"
     ]
    }
   ],
   "source": [
    "sentiment = predict_sentiment(text, model, tokenizer, device, max_length)\n",
    "print(predict_tratamento_texto(text,lemma= False))\n",
    "print(f\"Predicted sentiment: {sentiment}\")"
   ]
  },
  {
   "cell_type": "code",
   "execution_count": 48,
   "metadata": {},
   "outputs": [],
   "source": [
    "# Duna parte 2 6/10\n",
    "text =\"\"\"Dune Part 2 is an epic movie; slickly made, and visually stunning.\n",
    "\n",
    "But I had to explain quite a bit to the friends around me who had not read the book, especially the water of life scene and the final battle.\n",
    "\n",
    "The movie had almost a 3 hour run time, but it felt overlong because Villenue focuses too much on spectacle on very little on substance.\n",
    "\n",
    "It is a beautiful movie, but it feels like it has no soul. The emotional connection between Paul and Chani, so vital to the story, is completely lacking and unbelievable. The two main characters are good looking enough but has absolutely zero chemistry on screen.\n",
    "\n",
    "I am certain Zendaya is a fine actress in some things, but she has basically 2 facial expressions here, and the one she uses the most is a scowl directed at Paul. I found her to be the worst part of this movie.\n",
    "\n",
    "The final fight scene is short, choppy, and a mess. It felt anticlimactic and unfulfilling The Harkonens are basically reduced to bumbling villainy almost cartoonish. The ending was super abrupt, and was so different from the book that it left me wondering what the filmmakers would do if they want to do a sequel.\n",
    "\n",
    "I want to reiterate that this isn't a bad movie. Villenue is great at creating a world that looks living and breathing, but he can't give life to individual characters.\n",
    "\n",
    "It is like he can't see the trees for the forest.\"\"\""
   ]
  },
  {
   "cell_type": "code",
   "execution_count": 49,
   "metadata": {},
   "outputs": [
    {
     "name": "stdout",
     "output_type": "stream",
     "text": [
      "prob negativa: 0.99992\n",
      "prob positiva: 0.00008\n",
      "dune 2 epic movie slickly visually stunning explain bit friends read book especially water life scene final battle movie 3 hour run time felt overlong villenue focuses spectacle little substance beautiful movie feels like soul emotional connection paul chani vital story completely lacking unbelievable main characters good looking absolutely zero chemistry screen certain zendaya fine actress things basically 2 facial expressions uses scowl directed paul found worst movie final fight scene short choppy mess felt anticlimactic unfulfilling harkonens basically reduced bumbling villainy cartoonish ending super abrupt different book left wondering filmmakers want sequel want reiterate bad movie villenue great creating world looks living breathing life individual characters like trees forest\n",
      "Predicted sentiment: negativo\n"
     ]
    }
   ],
   "source": [
    "sentiment = predict_sentiment(text, model, tokenizer, device, max_length)\n",
    "print(predict_tratamento_texto(text,lemma= False))\n",
    "print(f\"Predicted sentiment: {sentiment}\")"
   ]
  },
  {
   "cell_type": "code",
   "execution_count": 50,
   "metadata": {},
   "outputs": [],
   "source": [
    "# duna parte 2 7/10\n",
    "\n",
    "text =\"\"\"I mean, yeah, it's very entertaining and, of course, very visually stunning. The set pieces, the cinematography, the use of visual effects and lights, the sound design and music, all, absolutely amazing and almost literally stunning!\n",
    "\n",
    "But then? I'm not really seeing much after that. As I have not read the books, this movie was a total mystery to me. There's barely any dialog--at least not any that would explain anything what's going on at all. The world and the technology etc just doesn't make much sense to me.\n",
    "\n",
    "None of the characters are particularly interesting, to be honest. They don't really have that much personality to them, and even if they did, they didn't really make me care about them all that much.\n",
    "\n",
    "I don't know, I'm a bit conflicted, it wasn't a bad movie and, as I said, it was entertaining and visually mesmerizing, but it lacked the depth that I was expecting of a world this size and this rich with lore and history. Maybe the movie makers assumed everyone has read the books? As someone to who the world is not familiar at all, it just seems rather confusing and strange. I feel like they just focused on making it as visually awesome as they can (in which they arguably succeeded), but left the story on the pages of the books.\"\"\""
   ]
  },
  {
   "cell_type": "code",
   "execution_count": 51,
   "metadata": {},
   "outputs": [
    {
     "name": "stdout",
     "output_type": "stream",
     "text": [
      "prob negativa: 0.99994\n",
      "prob positiva: 0.00006\n",
      "mean yeah entertaining course visually stunning set pieces cinematography use visual effects lights sound design music absolutely amazing literally stunning seeing read books movie total mystery barely dialog explain going world technology etc sense characters particularly interesting honest personality care know bit conflicted bad movie said entertaining visually mesmerizing lacked depth expecting world size rich lore history maybe movie makers assumed read books world familiar confusing strange feel like focused making visually awesome arguably succeeded left story pages books\n",
      "Predicted sentiment: negativo\n"
     ]
    }
   ],
   "source": [
    "sentiment = predict_sentiment(text, model, tokenizer, device, max_length)\n",
    "print(predict_tratamento_texto(text,lemma= False))\n",
    "print(f\"Predicted sentiment: {sentiment}\")"
   ]
  },
  {
   "cell_type": "code",
   "execution_count": 52,
   "metadata": {},
   "outputs": [],
   "source": [
    "# Love Lies Bleeding (2024) 8/10\n",
    "\n",
    "text=\"\"\"Love Lies Bleeding is a bigger, bolder, and more violent follow-up feature for Rose Glass. It literally puts the premise of Thelma & Louise on steroids with a very muscular approach that goes for broke in its ending which, love it or hate it, is to be commended for its audacity. Body horror, romance, and dark comedy are all blended into one distinctive vision.\n",
    "\n",
    "Kristen Stewart is amazing, awkward and off hand with one of the best dramatic pauses of recent memory. Katy O'Brian has been massively under served by her roles in the big franchises which makes this much more layered performance all the more satisfying. Together, their chemistry is instant and they communicate how badly they want each other so well.\n",
    "\n",
    "Ed Harris has played a lot of villains so its a real testament to his performance and the writing of the character that this one still stands out. His long haired, bug eating gangster makes for a consistently creepy highlight. Also, Dave Franco does a great job as a spineless abusive husband who's fate is obvious and all the more satisfying because of how he plays it.\n",
    "\n",
    "Saint Maud definitely wasn't lacking in vision but Rose Glass has really upped her craft here. From its reality manipulating opening scene to the extreme close ups of muscles in action, it's clear that the film will move between extremes as it deftly balances the violence and body horror against an affecting romance that refuses to go for the most obvious outcomes.\n",
    "\n",
    "The sound design and editing here is so visceral. Gunshots feel scary as they often come out of nowhere and the way scenes can abruptly switch between very different soundscapes keeps you on edge. Clint Mansell's score really matches the song choices for a seamless soundtrack whilst being completely distinct.\"\"\""
   ]
  },
  {
   "cell_type": "code",
   "execution_count": 53,
   "metadata": {},
   "outputs": [
    {
     "name": "stdout",
     "output_type": "stream",
     "text": [
      "prob negativa: 0.00052\n",
      "prob positiva: 0.99948\n",
      "love lies bleeding bigger bolder violent follow feature rose glass literally puts premise thelma louise steroids muscular approach goes broke ending love hate commended audacity body horror romance dark comedy blended distinctive vision kristen stewart amazing awkward hand best dramatic pauses recent memory katy o'brian massively served roles big franchises makes layered performance satisfying chemistry instant communicate badly want ed harris played lot villains real testament performance writing character stands long haired bug eating gangster makes consistently creepy highlight dave franco great job spineless abusive husband fate obvious satisfying plays saint maud definitely lacking vision rose glass upped craft reality manipulating opening scene extreme close ups muscles action clear film extremes deftly balances violence body horror affecting romance refuses obvious outcomes sound design editing visceral gunshots feel scary come way scenes abruptly switch different soundscapes keeps edge clint mansell score matches song choices seamless soundtrack whilst completely distinct\n",
      "Predicted sentiment: positivo\n"
     ]
    }
   ],
   "source": [
    "sentiment = predict_sentiment(text, model, tokenizer, device, max_length)\n",
    "print(predict_tratamento_texto(text,lemma= False))\n",
    "print(f\"Predicted sentiment: {sentiment}\")"
   ]
  },
  {
   "cell_type": "code",
   "execution_count": 54,
   "metadata": {},
   "outputs": [],
   "source": [
    "# The Godfather Part II (1974) 9/10\n",
    "text =\"\"\"Although the casual way it has been titled leaves it with plenty to answer for, 'Godfather II' rightly remains the only sequel ever to win an Oscar for Best Picture of the year.\n",
    "\n",
    "With Brando out of the picture the focus has shifted to Michael and much more money was obviously available to spend on the movie itself (with plush production design and cool fifties cars gliding across the screen a recurrent motif).\n",
    "\n",
    "Robert De Niro as the young Don Corleone brings a lean and hungry look to the part by then completely beyond Brando (by comparison Al Pacino looks much older).\n",
    "\n",
    "The film is far more ambitious, both technically and thematically, addressing America's changing role in the world rather than just the activities of one family.\"\"\""
   ]
  },
  {
   "cell_type": "code",
   "execution_count": 55,
   "metadata": {},
   "outputs": [
    {
     "name": "stdout",
     "output_type": "stream",
     "text": [
      "prob negativa: 0.00052\n",
      "prob positiva: 0.99948\n",
      "casual way titled leaves plenty answer godfather ii rightly remains sequel win oscar best picture year brando picture focus shifted michael money obviously available spend movie plush production design cool fifties cars gliding screen recurrent motif robert de niro young don corleone brings lean hungry look completely brando comparison al pacino looks older film far ambitious technically thematically addressing america changing role world activities family\n",
      "Predicted sentiment: positivo\n"
     ]
    }
   ],
   "source": [
    "sentiment = predict_sentiment(text, model, tokenizer, device, max_length)\n",
    "print(predict_tratamento_texto(text,lemma= False))\n",
    "print(f\"Predicted sentiment: {sentiment}\")"
   ]
  },
  {
   "cell_type": "code",
   "execution_count": 56,
   "metadata": {},
   "outputs": [],
   "source": [
    "# The Godfather Part II (1974) 10/10\n",
    "\n",
    "text = \"\"\"One of the all time greats. Or probably the alone greatest thing ever made in the history of cinematography. This movie is both \"prequel\" and \"sequel\" of the first godfather movie. I have never watched anything like this in my entire life. This movie has explained the life of underworld people in a great way. It also shows how vengeance eradicates happiness from your life. People don't even care about their family in greed of power. It's a masterpiece that can never be written off even after centuries. Even if you are not into these kind of movies, I will suggest to watch it for atleast once in your life or you'll be deprived of one of the greatest things to watch that have been ever made.\"\"\""
   ]
  },
  {
   "cell_type": "code",
   "execution_count": 57,
   "metadata": {},
   "outputs": [
    {
     "name": "stdout",
     "output_type": "stream",
     "text": [
      "prob negativa: 0.00051\n",
      "prob positiva: 0.99949\n",
      "time greats probably greatest thing history cinematography movie prequel sequel godfather movie watched like entire life movie explained life underworld people great way shows vengeance eradicates happiness life people care family greed power masterpiece written centuries kind movies suggest watch atleast life deprived greatest things watch\n",
      "Predicted sentiment: positivo\n"
     ]
    }
   ],
   "source": [
    "sentiment = predict_sentiment(text, model, tokenizer, device, max_length)\n",
    "print(predict_tratamento_texto(text,lemma= False))\n",
    "print(f\"Predicted sentiment: {sentiment}\")"
   ]
  },
  {
   "cell_type": "markdown",
   "metadata": {},
   "source": [
    "### Simples test sentiment prections"
   ]
  },
  {
   "cell_type": "code",
   "execution_count": 58,
   "metadata": {},
   "outputs": [
    {
     "name": "stdout",
     "output_type": "stream",
     "text": [
      "prob negativa: 0.99994\n",
      "prob positiva: 0.00006\n",
      "Texto:  The movie was so bad and I would not recommend it to anyone.\n",
      "Predicted sentiment: negativo\n"
     ]
    }
   ],
   "source": [
    "# Test sentiment prediction\n",
    "test_text = \"The movie was so bad and I would not recommend it to anyone.\"\n",
    "sentiment = predict_sentiment(test_text, model, tokenizer, device, max_length)\n",
    "print(\"Texto: \", test_text)\n",
    "print(f\"Predicted sentiment: {sentiment}\")"
   ]
  },
  {
   "cell_type": "code",
   "execution_count": 59,
   "metadata": {},
   "outputs": [
    {
     "name": "stdout",
     "output_type": "stream",
     "text": [
      "prob negativa: 0.00053\n",
      "prob positiva: 0.99947\n",
      "Worst movie of the year.\n",
      "Predicted sentiment: positivo\n"
     ]
    }
   ],
   "source": [
    "# Test sentiment prediction\n",
    "test_text = \"Best movie of the year. \"\n",
    "sentiment = predict_sentiment(test_text, model, tokenizer, device, max_length)\n",
    "print(\"Worst movie of the year.\")\n",
    "print(f\"Predicted sentiment: {sentiment}\")"
   ]
  },
  {
   "cell_type": "code",
   "execution_count": 60,
   "metadata": {},
   "outputs": [
    {
     "name": "stdout",
     "output_type": "stream",
     "text": [
      "prob negativa: 0.49091\n",
      "prob positiva: 0.50909\n",
      "This movie is more or less,and I would not no not recommend not it to anyone.\n",
      "Predicted sentiment: positivo\n"
     ]
    }
   ],
   "source": [
    "# Test sentiment prediction\n",
    "test_text = \"This movie is more or less,and I would not no not recommend not it to anyone.\"\n",
    "sentiment = predict_sentiment(test_text, model, tokenizer, device, max_length)\n",
    "print(test_text)\n",
    "print(f\"Predicted sentiment: {sentiment}\")"
   ]
  }
 ],
 "metadata": {
  "kernelspec": {
   "display_name": ".venv-tcc",
   "language": "python",
   "name": "python3"
  },
  "language_info": {
   "codemirror_mode": {
    "name": "ipython",
    "version": 3
   },
   "file_extension": ".py",
   "mimetype": "text/x-python",
   "name": "python",
   "nbconvert_exporter": "python",
   "pygments_lexer": "ipython3",
   "version": "3.11.5"
  }
 },
 "nbformat": 4,
 "nbformat_minor": 2
}
