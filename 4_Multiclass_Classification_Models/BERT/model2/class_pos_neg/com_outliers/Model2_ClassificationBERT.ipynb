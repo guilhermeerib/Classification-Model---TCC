{
 "cells": [
  {
   "cell_type": "code",
   "execution_count": 2,
   "metadata": {},
   "outputs": [],
   "source": [
    "# %reset"
   ]
  },
  {
   "cell_type": "markdown",
   "metadata": {},
   "source": [
    "## Text Classification with BERT\n",
    "\n",
    "usando lemma sem pontuações sem stop_words\n",
    ", foram removidos os textos outliers.\n",
    "\n",
    "\n",
    "\n"
   ]
  },
  {
   "cell_type": "code",
   "execution_count": 3,
   "metadata": {},
   "outputs": [],
   "source": [
    "## Instalando as dependências necessárias\n",
    "# ! pip install -q ipywidgets\n",
    "\n",
    "# #Vizualizacao e manipulacao de dados\n",
    "# ! pip install -q pandas\n",
    "# ! pip install matplotlib\n",
    "# ! pip install seaborn\n",
    "\n",
    "# ! pip3 install  torch torchvision torchaudio --index-url https://download.pytorch.org/whl/cu121\n",
    "# ! pip install  transformers\n",
    "# ! pip install  scikit-learn\n",
    "\n",
    "# Tratamento de dados\n",
    "# ! pip install -U  pip setuptools wheel\n",
    "# ! pip install -U  spacy\n",
    "# ! python -m spacy download en_core_web_sm"
   ]
  },
  {
   "cell_type": "markdown",
   "metadata": {},
   "source": [
    "### Importando dependencias\n"
   ]
  },
  {
   "cell_type": "code",
   "execution_count": 4,
   "metadata": {},
   "outputs": [],
   "source": [
    "import os\n",
    "import torch\n",
    "import pandas as pd\n",
    "import numpy as np\n",
    "import matplotlib.pyplot as plt\n",
    "from torch import nn\n",
    "import torch.nn.functional as F\n",
    "from torch.utils.data import DataLoader, Dataset\n",
    "from torch.optim import AdamW\n",
    "from transformers import (\n",
    "    BertTokenizer, \n",
    "    BertModel,\n",
    "    get_linear_schedule_with_warmup,\n",
    ")\n",
    "from tqdm import tqdm\n",
    "from sklearn.model_selection import train_test_split\n",
    "from sklearn.metrics import accuracy_score, classification_report"
   ]
  },
  {
   "cell_type": "markdown",
   "metadata": {},
   "source": [
    "Definir nome do modelo, e diretorio para salvar o modelo posteriormente\n"
   ]
  },
  {
   "cell_type": "code",
   "execution_count": 5,
   "metadata": {},
   "outputs": [
    {
     "name": "stdout",
     "output_type": "stream",
     "text": [
      "O diretório de trabalho atual é: d:\\tcc2\\guilherme\\4_Multiclass_Classification_Models\\BERT\\model2\\class_pos_neg\\com_outliers\\MultiClassification.pth\n"
     ]
    }
   ],
   "source": [
    "# Obter o diretório de trabalho atual\n",
    "MODEL_NAME= \"MultiClassification\"\n",
    "PATH_ATUAL = os.getcwd()\n",
    "PATH_MODEL_SAVED = os.path.join(PATH_ATUAL, f\"{MODEL_NAME}.pth\")\n",
    "\n",
    "print(\"O diretório de trabalho atual é:\", PATH_MODEL_SAVED)\n"
   ]
  },
  {
   "cell_type": "markdown",
   "metadata": {},
   "source": [
    "### Baixar CSV DAtaset\n",
    "\n",
    "Usar o dataset obtido por meio do scraper"
   ]
  },
  {
   "cell_type": "code",
   "execution_count": 6,
   "metadata": {},
   "outputs": [
    {
     "data": {
      "text/html": [
       "<div>\n",
       "<style scoped>\n",
       "    .dataframe tbody tr th:only-of-type {\n",
       "        vertical-align: middle;\n",
       "    }\n",
       "\n",
       "    .dataframe tbody tr th {\n",
       "        vertical-align: top;\n",
       "    }\n",
       "\n",
       "    .dataframe thead th {\n",
       "        text-align: right;\n",
       "    }\n",
       "</style>\n",
       "<table border=\"1\" class=\"dataframe\">\n",
       "  <thead>\n",
       "    <tr style=\"text-align: right;\">\n",
       "      <th></th>\n",
       "      <th>review</th>\n",
       "      <th>rating</th>\n",
       "    </tr>\n",
       "  </thead>\n",
       "  <tbody>\n",
       "    <tr>\n",
       "      <th>0</th>\n",
       "      <td>This movie takes place off in fantasy land som...</td>\n",
       "      <td>1</td>\n",
       "    </tr>\n",
       "    <tr>\n",
       "      <th>1</th>\n",
       "      <td>Too sentimental, too pathetic, too slow, too c...</td>\n",
       "      <td>1</td>\n",
       "    </tr>\n",
       "    <tr>\n",
       "      <th>2</th>\n",
       "      <td>There are some things in this life we will nev...</td>\n",
       "      <td>1</td>\n",
       "    </tr>\n",
       "    <tr>\n",
       "      <th>3</th>\n",
       "      <td>This movie was inspired by the brilliant Stir ...</td>\n",
       "      <td>1</td>\n",
       "    </tr>\n",
       "    <tr>\n",
       "      <th>4</th>\n",
       "      <td>For the life of me, I can't understand all the...</td>\n",
       "      <td>1</td>\n",
       "    </tr>\n",
       "    <tr>\n",
       "      <th>...</th>\n",
       "      <td>...</td>\n",
       "      <td>...</td>\n",
       "    </tr>\n",
       "    <tr>\n",
       "      <th>44422</th>\n",
       "      <td>Uma Thurman returns as the Bride, who this tim...</td>\n",
       "      <td>10</td>\n",
       "    </tr>\n",
       "    <tr>\n",
       "      <th>44423</th>\n",
       "      <td>Quentin Tarantino's \"Kill Bill: Vol. 2\" comple...</td>\n",
       "      <td>10</td>\n",
       "    </tr>\n",
       "    <tr>\n",
       "      <th>44424</th>\n",
       "      <td>Vol 2 is completely different tone then the fi...</td>\n",
       "      <td>10</td>\n",
       "    </tr>\n",
       "    <tr>\n",
       "      <th>44425</th>\n",
       "      <td>This movie is great in that it mixes together ...</td>\n",
       "      <td>10</td>\n",
       "    </tr>\n",
       "    <tr>\n",
       "      <th>44426</th>\n",
       "      <td>Kill Bill Volume 2 (directed by Quentin Tarant...</td>\n",
       "      <td>10</td>\n",
       "    </tr>\n",
       "  </tbody>\n",
       "</table>\n",
       "<p>44427 rows × 2 columns</p>\n",
       "</div>"
      ],
      "text/plain": [
       "                                                  review  rating\n",
       "0      This movie takes place off in fantasy land som...       1\n",
       "1      Too sentimental, too pathetic, too slow, too c...       1\n",
       "2      There are some things in this life we will nev...       1\n",
       "3      This movie was inspired by the brilliant Stir ...       1\n",
       "4      For the life of me, I can't understand all the...       1\n",
       "...                                                  ...     ...\n",
       "44422  Uma Thurman returns as the Bride, who this tim...      10\n",
       "44423  Quentin Tarantino's \"Kill Bill: Vol. 2\" comple...      10\n",
       "44424  Vol 2 is completely different tone then the fi...      10\n",
       "44425  This movie is great in that it mixes together ...      10\n",
       "44426  Kill Bill Volume 2 (directed by Quentin Tarant...      10\n",
       "\n",
       "[44427 rows x 2 columns]"
      ]
     },
     "execution_count": 6,
     "metadata": {},
     "output_type": "execute_result"
    }
   ],
   "source": [
    "DATA_PATH = \"D:/tcc2/guilherme/3_Data_Processing/data/scrapper_reviews_english_original.csv\"\n",
    "df = pd.read_csv(DATA_PATH)\n",
    "df = df[['review','rating',]]\n",
    "df\n"
   ]
  },
  {
   "cell_type": "code",
   "execution_count": 7,
   "metadata": {},
   "outputs": [
    {
     "data": {
      "text/plain": [
       "16"
      ]
     },
     "execution_count": 7,
     "metadata": {},
     "output_type": "execute_result"
    }
   ],
   "source": [
    "df.duplicated(subset=['review', 'rating'],).sum()\n"
   ]
  },
  {
   "cell_type": "code",
   "execution_count": 8,
   "metadata": {},
   "outputs": [
    {
     "name": "stdout",
     "output_type": "stream",
     "text": [
      "0\n"
     ]
    },
    {
     "data": {
      "text/html": [
       "<div>\n",
       "<style scoped>\n",
       "    .dataframe tbody tr th:only-of-type {\n",
       "        vertical-align: middle;\n",
       "    }\n",
       "\n",
       "    .dataframe tbody tr th {\n",
       "        vertical-align: top;\n",
       "    }\n",
       "\n",
       "    .dataframe thead th {\n",
       "        text-align: right;\n",
       "    }\n",
       "</style>\n",
       "<table border=\"1\" class=\"dataframe\">\n",
       "  <thead>\n",
       "    <tr style=\"text-align: right;\">\n",
       "      <th></th>\n",
       "      <th>review</th>\n",
       "      <th>rating</th>\n",
       "    </tr>\n",
       "  </thead>\n",
       "  <tbody>\n",
       "    <tr>\n",
       "      <th>0</th>\n",
       "      <td>This movie takes place off in fantasy land som...</td>\n",
       "      <td>1</td>\n",
       "    </tr>\n",
       "    <tr>\n",
       "      <th>1</th>\n",
       "      <td>Too sentimental, too pathetic, too slow, too c...</td>\n",
       "      <td>1</td>\n",
       "    </tr>\n",
       "    <tr>\n",
       "      <th>2</th>\n",
       "      <td>There are some things in this life we will nev...</td>\n",
       "      <td>1</td>\n",
       "    </tr>\n",
       "    <tr>\n",
       "      <th>3</th>\n",
       "      <td>This movie was inspired by the brilliant Stir ...</td>\n",
       "      <td>1</td>\n",
       "    </tr>\n",
       "    <tr>\n",
       "      <th>4</th>\n",
       "      <td>For the life of me, I can't understand all the...</td>\n",
       "      <td>1</td>\n",
       "    </tr>\n",
       "    <tr>\n",
       "      <th>...</th>\n",
       "      <td>...</td>\n",
       "      <td>...</td>\n",
       "    </tr>\n",
       "    <tr>\n",
       "      <th>44406</th>\n",
       "      <td>Uma Thurman returns as the Bride, who this tim...</td>\n",
       "      <td>10</td>\n",
       "    </tr>\n",
       "    <tr>\n",
       "      <th>44407</th>\n",
       "      <td>Quentin Tarantino's \"Kill Bill: Vol. 2\" comple...</td>\n",
       "      <td>10</td>\n",
       "    </tr>\n",
       "    <tr>\n",
       "      <th>44408</th>\n",
       "      <td>Vol 2 is completely different tone then the fi...</td>\n",
       "      <td>10</td>\n",
       "    </tr>\n",
       "    <tr>\n",
       "      <th>44409</th>\n",
       "      <td>This movie is great in that it mixes together ...</td>\n",
       "      <td>10</td>\n",
       "    </tr>\n",
       "    <tr>\n",
       "      <th>44410</th>\n",
       "      <td>Kill Bill Volume 2 (directed by Quentin Tarant...</td>\n",
       "      <td>10</td>\n",
       "    </tr>\n",
       "  </tbody>\n",
       "</table>\n",
       "<p>44411 rows × 2 columns</p>\n",
       "</div>"
      ],
      "text/plain": [
       "                                                  review  rating\n",
       "0      This movie takes place off in fantasy land som...       1\n",
       "1      Too sentimental, too pathetic, too slow, too c...       1\n",
       "2      There are some things in this life we will nev...       1\n",
       "3      This movie was inspired by the brilliant Stir ...       1\n",
       "4      For the life of me, I can't understand all the...       1\n",
       "...                                                  ...     ...\n",
       "44406  Uma Thurman returns as the Bride, who this tim...      10\n",
       "44407  Quentin Tarantino's \"Kill Bill: Vol. 2\" comple...      10\n",
       "44408  Vol 2 is completely different tone then the fi...      10\n",
       "44409  This movie is great in that it mixes together ...      10\n",
       "44410  Kill Bill Volume 2 (directed by Quentin Tarant...      10\n",
       "\n",
       "[44411 rows x 2 columns]"
      ]
     },
     "execution_count": 8,
     "metadata": {},
     "output_type": "execute_result"
    }
   ],
   "source": [
    "df = df.drop_duplicates(subset=['review','rating'],ignore_index=True)\n",
    "print(df.duplicated().sum())\n",
    "df\n"
   ]
  },
  {
   "cell_type": "code",
   "execution_count": 9,
   "metadata": {},
   "outputs": [
    {
     "name": "stderr",
     "output_type": "stream",
     "text": [
      "C:\\Users\\Guilherme\\AppData\\Local\\Temp\\ipykernel_5248\\2177369500.py:4: SettingWithCopyWarning: \n",
      "A value is trying to be set on a copy of a slice from a DataFrame.\n",
      "Try using .loc[row_indexer,col_indexer] = value instead\n",
      "\n",
      "See the caveats in the documentation: https://pandas.pydata.org/pandas-docs/stable/user_guide/indexing.html#returning-a-view-versus-a-copy\n",
      "  df.loc[:, 'qtd_tokens'] = df['review'].apply(get_qtd_tokens)\n"
     ]
    },
    {
     "data": {
      "text/html": [
       "<div>\n",
       "<style scoped>\n",
       "    .dataframe tbody tr th:only-of-type {\n",
       "        vertical-align: middle;\n",
       "    }\n",
       "\n",
       "    .dataframe tbody tr th {\n",
       "        vertical-align: top;\n",
       "    }\n",
       "\n",
       "    .dataframe thead th {\n",
       "        text-align: right;\n",
       "    }\n",
       "</style>\n",
       "<table border=\"1\" class=\"dataframe\">\n",
       "  <thead>\n",
       "    <tr style=\"text-align: right;\">\n",
       "      <th></th>\n",
       "      <th>review</th>\n",
       "      <th>rating</th>\n",
       "      <th>qtd_tokens</th>\n",
       "    </tr>\n",
       "  </thead>\n",
       "  <tbody>\n",
       "    <tr>\n",
       "      <th>0</th>\n",
       "      <td>This movie takes place off in fantasy land som...</td>\n",
       "      <td>1</td>\n",
       "      <td>62</td>\n",
       "    </tr>\n",
       "    <tr>\n",
       "      <th>1</th>\n",
       "      <td>Too sentimental, too pathetic, too slow, too c...</td>\n",
       "      <td>1</td>\n",
       "      <td>32</td>\n",
       "    </tr>\n",
       "    <tr>\n",
       "      <th>2</th>\n",
       "      <td>There are some things in this life we will nev...</td>\n",
       "      <td>1</td>\n",
       "      <td>300</td>\n",
       "    </tr>\n",
       "    <tr>\n",
       "      <th>3</th>\n",
       "      <td>This movie was inspired by the brilliant Stir ...</td>\n",
       "      <td>1</td>\n",
       "      <td>133</td>\n",
       "    </tr>\n",
       "    <tr>\n",
       "      <th>4</th>\n",
       "      <td>For the life of me, I can't understand all the...</td>\n",
       "      <td>1</td>\n",
       "      <td>72</td>\n",
       "    </tr>\n",
       "    <tr>\n",
       "      <th>...</th>\n",
       "      <td>...</td>\n",
       "      <td>...</td>\n",
       "      <td>...</td>\n",
       "    </tr>\n",
       "    <tr>\n",
       "      <th>44406</th>\n",
       "      <td>Uma Thurman returns as the Bride, who this tim...</td>\n",
       "      <td>10</td>\n",
       "      <td>243</td>\n",
       "    </tr>\n",
       "    <tr>\n",
       "      <th>44407</th>\n",
       "      <td>Quentin Tarantino's \"Kill Bill: Vol. 2\" comple...</td>\n",
       "      <td>10</td>\n",
       "      <td>630</td>\n",
       "    </tr>\n",
       "    <tr>\n",
       "      <th>44408</th>\n",
       "      <td>Vol 2 is completely different tone then the fi...</td>\n",
       "      <td>10</td>\n",
       "      <td>41</td>\n",
       "    </tr>\n",
       "    <tr>\n",
       "      <th>44409</th>\n",
       "      <td>This movie is great in that it mixes together ...</td>\n",
       "      <td>10</td>\n",
       "      <td>111</td>\n",
       "    </tr>\n",
       "    <tr>\n",
       "      <th>44410</th>\n",
       "      <td>Kill Bill Volume 2 (directed by Quentin Tarant...</td>\n",
       "      <td>10</td>\n",
       "      <td>213</td>\n",
       "    </tr>\n",
       "  </tbody>\n",
       "</table>\n",
       "<p>44411 rows × 3 columns</p>\n",
       "</div>"
      ],
      "text/plain": [
       "                                                  review  rating  qtd_tokens\n",
       "0      This movie takes place off in fantasy land som...       1          62\n",
       "1      Too sentimental, too pathetic, too slow, too c...       1          32\n",
       "2      There are some things in this life we will nev...       1         300\n",
       "3      This movie was inspired by the brilliant Stir ...       1         133\n",
       "4      For the life of me, I can't understand all the...       1          72\n",
       "...                                                  ...     ...         ...\n",
       "44406  Uma Thurman returns as the Bride, who this tim...      10         243\n",
       "44407  Quentin Tarantino's \"Kill Bill: Vol. 2\" comple...      10         630\n",
       "44408  Vol 2 is completely different tone then the fi...      10          41\n",
       "44409  This movie is great in that it mixes together ...      10         111\n",
       "44410  Kill Bill Volume 2 (directed by Quentin Tarant...      10         213\n",
       "\n",
       "[44411 rows x 3 columns]"
      ]
     },
     "execution_count": 9,
     "metadata": {},
     "output_type": "execute_result"
    }
   ],
   "source": [
    "def get_qtd_tokens(x):\n",
    "    return len(x.split())\n",
    "\n",
    "df.loc[:, 'qtd_tokens'] = df['review'].apply(get_qtd_tokens)\n",
    "df\n"
   ]
  },
  {
   "cell_type": "markdown",
   "metadata": {},
   "source": [
    "### Gráfico de distribuição de palavras\n"
   ]
  },
  {
   "cell_type": "code",
   "execution_count": 10,
   "metadata": {},
   "outputs": [
    {
     "data": {
      "image/png": "[encoded data removed]",
      "text/plain": [
       "<Figure size 800x500 with 1 Axes>"
      ]
     },
     "metadata": {},
     "output_type": "display_data"
    }
   ],
   "source": [
    "# Plotar o gráfico por quantidade de palavras\n",
    "def plot_distr_qtd_palavras(series,title):\n",
    "    mean_length = series.mean()\n",
    "\n",
    "    plt.figure(figsize=(8, 5))\n",
    "    plt.hist(series, edgecolor=\"k\", alpha=0.7)\n",
    "    plt.axvline(mean_length, color=\"r\", linestyle=\"dashed\", linewidth=1)\n",
    "    plt.text(\n",
    "        x=mean_length * 1.1,\n",
    "        y=plt.ylim()[1] * 0.9,\n",
    "        s=f\"Média: {mean_length:.2f}\",\n",
    "        color=\"r\",\n",
    "    )\n",
    "    plt.title(title)\n",
    "    plt.xlabel(\"Quantidade de palavras\")\n",
    "    plt.ylabel(\"Frequência\")\n",
    "    plt.show()\n",
    "\n",
    "title= \"Distribuição de quantidade de palavras\"\n",
    "plot_distr_qtd_palavras(df[\"qtd_tokens\"], title)"
   ]
  },
  {
   "cell_type": "code",
   "execution_count": 11,
   "metadata": {},
   "outputs": [
    {
     "name": "stdout",
     "output_type": "stream",
     "text": [
      "Analise estatistica de quantidade de tokens\n"
     ]
    },
    {
     "data": {
      "text/plain": [
       "count    44411.000000\n",
       "mean       233.548355\n",
       "std        209.116905\n",
       "min          1.000000\n",
       "25%        106.000000\n",
       "50%        169.000000\n",
       "75%        296.000000\n",
       "max       1772.000000\n",
       "Name: qtd_tokens, dtype: float64"
      ]
     },
     "execution_count": 11,
     "metadata": {},
     "output_type": "execute_result"
    }
   ],
   "source": [
    "print(\"Analise estatistica de quantidade de tokens\")\n",
    "df['qtd_tokens'].describe()"
   ]
  },
  {
   "cell_type": "code",
   "execution_count": 12,
   "metadata": {},
   "outputs": [
    {
     "name": "stdout",
     "output_type": "stream",
     "text": [
      "value counts df['rating']:\n",
      "rating\n",
      "10    6231\n",
      "8     6225\n",
      "9     6217\n",
      "7     5799\n",
      "6     4649\n",
      "5     3741\n",
      "1     3443\n",
      "4     2960\n",
      "3     2726\n",
      "2     2420\n",
      "Name: count, dtype: int64\n"
     ]
    }
   ],
   "source": [
    "print(\"value counts df['rating']:\")\n",
    "print(df[\"rating\"].value_counts())\n"
   ]
  },
  {
   "cell_type": "code",
   "execution_count": 13,
   "metadata": {},
   "outputs": [],
   "source": [
    "# Iterar sobre cada categoria\n",
    "def balance_dataframe_groups(df,column, NUM_ROWS_PER_CATEGORY):\n",
    "    # Lista para armazenar os DataFrames de cada categoria(um por categoria)\n",
    "    df_list_rating = []\n",
    "    for rating, group in df.groupby(column):\n",
    "        rating_str = str(rating)  # Convertendo para string\n",
    "        num_samples = min(NUM_ROWS_PER_CATEGORY[rating_str], len(group))\n",
    "        # Selecionar aleatoriamente o número correto de linhas para cada categoria\n",
    "        sampled_rows = group.sample(n=num_samples, random_state=42)\n",
    "        # Adicionar os dados selecionados à lista\n",
    "        df_list_rating.append(sampled_rows)\n",
    "    balanced_df =pd.concat(df_list_rating)\n",
    "    return balanced_df "
   ]
  },
  {
   "cell_type": "code",
   "execution_count": 14,
   "metadata": {},
   "outputs": [
    {
     "name": "stdout",
     "output_type": "stream",
     "text": [
      "rating\n",
      "8     6000\n",
      "7     5799\n",
      "6     4649\n",
      "9     4010\n",
      "10    4000\n",
      "5     3741\n",
      "1     3400\n",
      "4     2960\n",
      "3     2702\n",
      "2     2400\n",
      "Name: count, dtype: int64\n"
     ]
    }
   ],
   "source": [
    "# Defina o número de linhas desejado para cada categoria\n",
    "NUM_ROWS_PER_CATEGORY = {\n",
    "    \"10\": 4000,\n",
    "    \"9\": 4010,\n",
    "    \"8\": 6000,\n",
    "    \"7\": 6000,\n",
    "    \"6\": 5000,\n",
    "    \"5\": 5000,\n",
    "    \"4\": 5000,\n",
    "    \"3\": 2702,\n",
    "    \"2\": 2400,\n",
    "    \"1\": 3400,\n",
    "}\n",
    "# Obter dataframe balenceado\n",
    "balanced_df = balance_dataframe_groups(df, \"rating\", NUM_ROWS_PER_CATEGORY)\n",
    "\n",
    "# Verificar se as categorias estão balanceadas\n",
    "print(balanced_df[\"rating\"].value_counts())"
   ]
  },
  {
   "cell_type": "code",
   "execution_count": 15,
   "metadata": {},
   "outputs": [
    {
     "data": {
      "text/html": [
       "<div>\n",
       "<style scoped>\n",
       "    .dataframe tbody tr th:only-of-type {\n",
       "        vertical-align: middle;\n",
       "    }\n",
       "\n",
       "    .dataframe tbody tr th {\n",
       "        vertical-align: top;\n",
       "    }\n",
       "\n",
       "    .dataframe thead th {\n",
       "        text-align: right;\n",
       "    }\n",
       "</style>\n",
       "<table border=\"1\" class=\"dataframe\">\n",
       "  <thead>\n",
       "    <tr style=\"text-align: right;\">\n",
       "      <th></th>\n",
       "      <th>review</th>\n",
       "      <th>rating</th>\n",
       "      <th>qtd_tokens</th>\n",
       "    </tr>\n",
       "  </thead>\n",
       "  <tbody>\n",
       "    <tr>\n",
       "      <th>8439</th>\n",
       "      <td>American History X tries teach us all a lesson...</td>\n",
       "      <td>1</td>\n",
       "      <td>72</td>\n",
       "    </tr>\n",
       "    <tr>\n",
       "      <th>489</th>\n",
       "      <td>I am a hardcore movie buff. I've seen them all...</td>\n",
       "      <td>1</td>\n",
       "      <td>530</td>\n",
       "    </tr>\n",
       "    <tr>\n",
       "      <th>12588</th>\n",
       "      <td>I'll give you a point for the animation but no...</td>\n",
       "      <td>1</td>\n",
       "      <td>15</td>\n",
       "    </tr>\n",
       "    <tr>\n",
       "      <th>5829</th>\n",
       "      <td>I really wanted to like this film, I really tr...</td>\n",
       "      <td>1</td>\n",
       "      <td>607</td>\n",
       "    </tr>\n",
       "    <tr>\n",
       "      <th>21790</th>\n",
       "      <td>I could nor believe myself watching this movie...</td>\n",
       "      <td>1</td>\n",
       "      <td>178</td>\n",
       "    </tr>\n",
       "    <tr>\n",
       "      <th>...</th>\n",
       "      <td>...</td>\n",
       "      <td>...</td>\n",
       "      <td>...</td>\n",
       "    </tr>\n",
       "    <tr>\n",
       "      <th>28067</th>\n",
       "      <td>Ron Howard and Brian Grazer introduce their be...</td>\n",
       "      <td>10</td>\n",
       "      <td>185</td>\n",
       "    </tr>\n",
       "    <tr>\n",
       "      <th>37910</th>\n",
       "      <td>Pixar never disappoints me: \"Ratatouille\" just...</td>\n",
       "      <td>10</td>\n",
       "      <td>142</td>\n",
       "    </tr>\n",
       "    <tr>\n",
       "      <th>29969</th>\n",
       "      <td>Greetings from Lithuania.\"Chinatown\" (1974) wi...</td>\n",
       "      <td>10</td>\n",
       "      <td>137</td>\n",
       "    </tr>\n",
       "    <tr>\n",
       "      <th>13933</th>\n",
       "      <td>Our \"knight\" and shining armor has arrived to ...</td>\n",
       "      <td>10</td>\n",
       "      <td>619</td>\n",
       "    </tr>\n",
       "    <tr>\n",
       "      <th>41039</th>\n",
       "      <td>This is one of those works that is emblematic ...</td>\n",
       "      <td>10</td>\n",
       "      <td>791</td>\n",
       "    </tr>\n",
       "  </tbody>\n",
       "</table>\n",
       "<p>39661 rows × 3 columns</p>\n",
       "</div>"
      ],
      "text/plain": [
       "                                                  review  rating  qtd_tokens\n",
       "8439   American History X tries teach us all a lesson...       1          72\n",
       "489    I am a hardcore movie buff. I've seen them all...       1         530\n",
       "12588  I'll give you a point for the animation but no...       1          15\n",
       "5829   I really wanted to like this film, I really tr...       1         607\n",
       "21790  I could nor believe myself watching this movie...       1         178\n",
       "...                                                  ...     ...         ...\n",
       "28067  Ron Howard and Brian Grazer introduce their be...      10         185\n",
       "37910  Pixar never disappoints me: \"Ratatouille\" just...      10         142\n",
       "29969  Greetings from Lithuania.\"Chinatown\" (1974) wi...      10         137\n",
       "13933  Our \"knight\" and shining armor has arrived to ...      10         619\n",
       "41039  This is one of those works that is emblematic ...      10         791\n",
       "\n",
       "[39661 rows x 3 columns]"
      ]
     },
     "execution_count": 15,
     "metadata": {},
     "output_type": "execute_result"
    }
   ],
   "source": [
    "balanced_df"
   ]
  },
  {
   "cell_type": "markdown",
   "metadata": {},
   "source": [
    "Guardando os dados fora do balanceamento para analise posterior, se necessário\n"
   ]
  },
  {
   "cell_type": "code",
   "execution_count": 16,
   "metadata": {},
   "outputs": [],
   "source": [
    "# # Crie uma série com todos os índices únicos\n",
    "# # df original \n",
    "# df_indices = pd.Series(df.index)\n",
    "# # Crie uma série com os índices que estão no balanced_df\n",
    "# balanced_indices = pd.Series(balanced_df.index)\n",
    "# # Selecione os índices que não estão no balanced_df\n",
    "# indices_teste = df_indices[~df_indices.isin(balanced_indices)]\n",
    "# # Crie um novo dataframe com os índices não presentes no balanced_df\n",
    "# df_fora_balanceamento = df.loc[indices_teste]\n"
   ]
  },
  {
   "cell_type": "code",
   "execution_count": 17,
   "metadata": {},
   "outputs": [],
   "source": [
    "# df_fora_balanceamento"
   ]
  },
  {
   "cell_type": "code",
   "execution_count": 18,
   "metadata": {},
   "outputs": [],
   "source": [
    "# # Para Classe Positivo[7,8,9,10] e Negativo [...]\n",
    "def categorize_rating(rating):\n",
    "    if int(rating) <= 6:\n",
    "        return 0\n",
    "    else:\n",
    "        return 1"
   ]
  },
  {
   "cell_type": "code",
   "execution_count": 19,
   "metadata": {},
   "outputs": [
    {
     "name": "stdout",
     "output_type": "stream",
     "text": [
      "rating\n",
      "0    19852\n",
      "1    19809\n",
      "Name: count, dtype: int64\n"
     ]
    }
   ],
   "source": [
    "balanced_df[\"rating\"] = balanced_df[\"rating\"].apply(categorize_rating)\n",
    "print(balanced_df[\"rating\"].value_counts())\n"
   ]
  },
  {
   "cell_type": "markdown",
   "metadata": {},
   "source": [
    "Executar a celular abaixo somente se for necessário balancear novamente"
   ]
  },
  {
   "cell_type": "code",
   "execution_count": 20,
   "metadata": {},
   "outputs": [
    {
     "name": "stdout",
     "output_type": "stream",
     "text": [
      "rating\n",
      "0    18500\n",
      "1    18500\n",
      "Name: count, dtype: int64\n"
     ]
    }
   ],
   "source": [
    "# Defina o número de linhas desejado para cada categoria\n",
    "NUM_ROWS_PER_CATEGORY = {\n",
    "    \"1\": 18500,\n",
    "    \"0\": 18500,\n",
    "}\n",
    "\n",
    "# Obter dataframe balenceado\n",
    "balanced_df = balance_dataframe_groups(balanced_df, \"rating\", NUM_ROWS_PER_CATEGORY)\n",
    "\n",
    "# Verificar se as categorias estão balanceadas\n",
    "print(balanced_df[\"rating\"].value_counts())"
   ]
  },
  {
   "cell_type": "code",
   "execution_count": 21,
   "metadata": {},
   "outputs": [
    {
     "data": {
      "text/html": [
       "<div>\n",
       "<style scoped>\n",
       "    .dataframe tbody tr th:only-of-type {\n",
       "        vertical-align: middle;\n",
       "    }\n",
       "\n",
       "    .dataframe tbody tr th {\n",
       "        vertical-align: top;\n",
       "    }\n",
       "\n",
       "    .dataframe thead th {\n",
       "        text-align: right;\n",
       "    }\n",
       "</style>\n",
       "<table border=\"1\" class=\"dataframe\">\n",
       "  <thead>\n",
       "    <tr style=\"text-align: right;\">\n",
       "      <th></th>\n",
       "      <th>review</th>\n",
       "      <th>rating</th>\n",
       "      <th>qtd_tokens</th>\n",
       "    </tr>\n",
       "  </thead>\n",
       "  <tbody>\n",
       "    <tr>\n",
       "      <th>30119</th>\n",
       "      <td>This is probably the cheesiest most melodramat...</td>\n",
       "      <td>0</td>\n",
       "      <td>97</td>\n",
       "    </tr>\n",
       "    <tr>\n",
       "      <th>4029</th>\n",
       "      <td>I have never understood why so many people con...</td>\n",
       "      <td>0</td>\n",
       "      <td>81</td>\n",
       "    </tr>\n",
       "    <tr>\n",
       "      <th>11016</th>\n",
       "      <td>I have just finished reading an interview with...</td>\n",
       "      <td>0</td>\n",
       "      <td>474</td>\n",
       "    </tr>\n",
       "    <tr>\n",
       "      <th>2253</th>\n",
       "      <td>I remember the BBC coverage of the Oscars in 1...</td>\n",
       "      <td>0</td>\n",
       "      <td>188</td>\n",
       "    </tr>\n",
       "    <tr>\n",
       "      <th>13456</th>\n",
       "      <td>You might enjoy this movie if you believe Tom ...</td>\n",
       "      <td>0</td>\n",
       "      <td>291</td>\n",
       "    </tr>\n",
       "    <tr>\n",
       "      <th>...</th>\n",
       "      <td>...</td>\n",
       "      <td>...</td>\n",
       "      <td>...</td>\n",
       "    </tr>\n",
       "    <tr>\n",
       "      <th>28420</th>\n",
       "      <td>This movie appears to be a backhanded slap at ...</td>\n",
       "      <td>1</td>\n",
       "      <td>373</td>\n",
       "    </tr>\n",
       "    <tr>\n",
       "      <th>10687</th>\n",
       "      <td>There's no messing around with this, Chaplin's...</td>\n",
       "      <td>1</td>\n",
       "      <td>341</td>\n",
       "    </tr>\n",
       "    <tr>\n",
       "      <th>30984</th>\n",
       "      <td>Inside Out (2015)Totally fun, with some semi-s...</td>\n",
       "      <td>1</td>\n",
       "      <td>317</td>\n",
       "    </tr>\n",
       "    <tr>\n",
       "      <th>1697</th>\n",
       "      <td>I don't get this film and why it's so great ac...</td>\n",
       "      <td>1</td>\n",
       "      <td>146</td>\n",
       "    </tr>\n",
       "    <tr>\n",
       "      <th>35922</th>\n",
       "      <td>Attempting to piece together the chronology of...</td>\n",
       "      <td>1</td>\n",
       "      <td>534</td>\n",
       "    </tr>\n",
       "  </tbody>\n",
       "</table>\n",
       "<p>37000 rows × 3 columns</p>\n",
       "</div>"
      ],
      "text/plain": [
       "                                                  review  rating  qtd_tokens\n",
       "30119  This is probably the cheesiest most melodramat...       0          97\n",
       "4029   I have never understood why so many people con...       0          81\n",
       "11016  I have just finished reading an interview with...       0         474\n",
       "2253   I remember the BBC coverage of the Oscars in 1...       0         188\n",
       "13456  You might enjoy this movie if you believe Tom ...       0         291\n",
       "...                                                  ...     ...         ...\n",
       "28420  This movie appears to be a backhanded slap at ...       1         373\n",
       "10687  There's no messing around with this, Chaplin's...       1         341\n",
       "30984  Inside Out (2015)Totally fun, with some semi-s...       1         317\n",
       "1697   I don't get this film and why it's so great ac...       1         146\n",
       "35922  Attempting to piece together the chronology of...       1         534\n",
       "\n",
       "[37000 rows x 3 columns]"
      ]
     },
     "execution_count": 21,
     "metadata": {},
     "output_type": "execute_result"
    }
   ],
   "source": [
    "balanced_df"
   ]
  },
  {
   "cell_type": "markdown",
   "metadata": {},
   "source": [
    "Tonar o df balanceado como padrão\n"
   ]
  },
  {
   "cell_type": "code",
   "execution_count": 22,
   "metadata": {},
   "outputs": [],
   "source": [
    "df = balanced_df"
   ]
  },
  {
   "cell_type": "code",
   "execution_count": 23,
   "metadata": {},
   "outputs": [
    {
     "data": {
      "text/html": [
       "<div>\n",
       "<style scoped>\n",
       "    .dataframe tbody tr th:only-of-type {\n",
       "        vertical-align: middle;\n",
       "    }\n",
       "\n",
       "    .dataframe tbody tr th {\n",
       "        vertical-align: top;\n",
       "    }\n",
       "\n",
       "    .dataframe thead th {\n",
       "        text-align: right;\n",
       "    }\n",
       "</style>\n",
       "<table border=\"1\" class=\"dataframe\">\n",
       "  <thead>\n",
       "    <tr style=\"text-align: right;\">\n",
       "      <th></th>\n",
       "      <th>review</th>\n",
       "      <th>rating</th>\n",
       "      <th>qtd_tokens</th>\n",
       "    </tr>\n",
       "  </thead>\n",
       "  <tbody>\n",
       "    <tr>\n",
       "      <th>30119</th>\n",
       "      <td>This is probably the cheesiest most melodramat...</td>\n",
       "      <td>0</td>\n",
       "      <td>97</td>\n",
       "    </tr>\n",
       "    <tr>\n",
       "      <th>4029</th>\n",
       "      <td>I have never understood why so many people con...</td>\n",
       "      <td>0</td>\n",
       "      <td>81</td>\n",
       "    </tr>\n",
       "    <tr>\n",
       "      <th>11016</th>\n",
       "      <td>I have just finished reading an interview with...</td>\n",
       "      <td>0</td>\n",
       "      <td>474</td>\n",
       "    </tr>\n",
       "    <tr>\n",
       "      <th>2253</th>\n",
       "      <td>I remember the BBC coverage of the Oscars in 1...</td>\n",
       "      <td>0</td>\n",
       "      <td>188</td>\n",
       "    </tr>\n",
       "    <tr>\n",
       "      <th>13456</th>\n",
       "      <td>You might enjoy this movie if you believe Tom ...</td>\n",
       "      <td>0</td>\n",
       "      <td>291</td>\n",
       "    </tr>\n",
       "    <tr>\n",
       "      <th>...</th>\n",
       "      <td>...</td>\n",
       "      <td>...</td>\n",
       "      <td>...</td>\n",
       "    </tr>\n",
       "    <tr>\n",
       "      <th>28420</th>\n",
       "      <td>This movie appears to be a backhanded slap at ...</td>\n",
       "      <td>1</td>\n",
       "      <td>373</td>\n",
       "    </tr>\n",
       "    <tr>\n",
       "      <th>10687</th>\n",
       "      <td>There's no messing around with this, Chaplin's...</td>\n",
       "      <td>1</td>\n",
       "      <td>341</td>\n",
       "    </tr>\n",
       "    <tr>\n",
       "      <th>30984</th>\n",
       "      <td>Inside Out (2015)Totally fun, with some semi-s...</td>\n",
       "      <td>1</td>\n",
       "      <td>317</td>\n",
       "    </tr>\n",
       "    <tr>\n",
       "      <th>1697</th>\n",
       "      <td>I don't get this film and why it's so great ac...</td>\n",
       "      <td>1</td>\n",
       "      <td>146</td>\n",
       "    </tr>\n",
       "    <tr>\n",
       "      <th>35922</th>\n",
       "      <td>Attempting to piece together the chronology of...</td>\n",
       "      <td>1</td>\n",
       "      <td>534</td>\n",
       "    </tr>\n",
       "  </tbody>\n",
       "</table>\n",
       "<p>37000 rows × 3 columns</p>\n",
       "</div>"
      ],
      "text/plain": [
       "                                                  review  rating  qtd_tokens\n",
       "30119  This is probably the cheesiest most melodramat...       0          97\n",
       "4029   I have never understood why so many people con...       0          81\n",
       "11016  I have just finished reading an interview with...       0         474\n",
       "2253   I remember the BBC coverage of the Oscars in 1...       0         188\n",
       "13456  You might enjoy this movie if you believe Tom ...       0         291\n",
       "...                                                  ...     ...         ...\n",
       "28420  This movie appears to be a backhanded slap at ...       1         373\n",
       "10687  There's no messing around with this, Chaplin's...       1         341\n",
       "30984  Inside Out (2015)Totally fun, with some semi-s...       1         317\n",
       "1697   I don't get this film and why it's so great ac...       1         146\n",
       "35922  Attempting to piece together the chronology of...       1         534\n",
       "\n",
       "[37000 rows x 3 columns]"
      ]
     },
     "execution_count": 23,
     "metadata": {},
     "output_type": "execute_result"
    }
   ],
   "source": [
    "df"
   ]
  },
  {
   "cell_type": "code",
   "execution_count": 24,
   "metadata": {},
   "outputs": [
    {
     "data": {
      "text/html": [
       "<div>\n",
       "<style scoped>\n",
       "    .dataframe tbody tr th:only-of-type {\n",
       "        vertical-align: middle;\n",
       "    }\n",
       "\n",
       "    .dataframe tbody tr th {\n",
       "        vertical-align: top;\n",
       "    }\n",
       "\n",
       "    .dataframe thead th {\n",
       "        text-align: right;\n",
       "    }\n",
       "</style>\n",
       "<table border=\"1\" class=\"dataframe\">\n",
       "  <thead>\n",
       "    <tr style=\"text-align: right;\">\n",
       "      <th></th>\n",
       "      <th>rating</th>\n",
       "      <th>qtd_tokens</th>\n",
       "    </tr>\n",
       "  </thead>\n",
       "  <tbody>\n",
       "    <tr>\n",
       "      <th>count</th>\n",
       "      <td>37000.000000</td>\n",
       "      <td>37000.000000</td>\n",
       "    </tr>\n",
       "    <tr>\n",
       "      <th>mean</th>\n",
       "      <td>0.500000</td>\n",
       "      <td>227.988973</td>\n",
       "    </tr>\n",
       "    <tr>\n",
       "      <th>std</th>\n",
       "      <td>0.500007</td>\n",
       "      <td>204.060410</td>\n",
       "    </tr>\n",
       "    <tr>\n",
       "      <th>min</th>\n",
       "      <td>0.000000</td>\n",
       "      <td>1.000000</td>\n",
       "    </tr>\n",
       "    <tr>\n",
       "      <th>25%</th>\n",
       "      <td>0.000000</td>\n",
       "      <td>104.000000</td>\n",
       "    </tr>\n",
       "    <tr>\n",
       "      <th>50%</th>\n",
       "      <td>0.500000</td>\n",
       "      <td>165.000000</td>\n",
       "    </tr>\n",
       "    <tr>\n",
       "      <th>75%</th>\n",
       "      <td>1.000000</td>\n",
       "      <td>289.000000</td>\n",
       "    </tr>\n",
       "    <tr>\n",
       "      <th>max</th>\n",
       "      <td>1.000000</td>\n",
       "      <td>1772.000000</td>\n",
       "    </tr>\n",
       "  </tbody>\n",
       "</table>\n",
       "</div>"
      ],
      "text/plain": [
       "             rating    qtd_tokens\n",
       "count  37000.000000  37000.000000\n",
       "mean       0.500000    227.988973\n",
       "std        0.500007    204.060410\n",
       "min        0.000000      1.000000\n",
       "25%        0.000000    104.000000\n",
       "50%        0.500000    165.000000\n",
       "75%        1.000000    289.000000\n",
       "max        1.000000   1772.000000"
      ]
     },
     "execution_count": 24,
     "metadata": {},
     "output_type": "execute_result"
    }
   ],
   "source": [
    "df.describe()"
   ]
  },
  {
   "cell_type": "code",
   "execution_count": 25,
   "metadata": {},
   "outputs": [],
   "source": [
    "def load_texts_labels(df):\n",
    "    texts = df[\"review\"].tolist()\n",
    "    labels = df[\"rating\"].tolist()\n",
    "    return texts, labels"
   ]
  },
  {
   "cell_type": "code",
   "execution_count": 26,
   "metadata": {},
   "outputs": [],
   "source": [
    "texts, labels = load_texts_labels(df)\n"
   ]
  },
  {
   "cell_type": "code",
   "execution_count": 27,
   "metadata": {},
   "outputs": [],
   "source": [
    "class TextClassificationDataset(Dataset):\n",
    "    def __init__(self, texts, labels, tokenizer, max_length):\n",
    "        self.texts = texts\n",
    "        self.labels = labels\n",
    "        self.tokenizer = tokenizer\n",
    "        self.max_length = max_length\n",
    "\n",
    "    def __len__(self):\n",
    "        return len(self.texts)\n",
    "\n",
    "    def __getitem__(self, idx):\n",
    "        text = self.texts[idx]\n",
    "        label = self.labels[idx]\n",
    "        encoding = self.tokenizer(\n",
    "            text,\n",
    "            return_tensors=\"pt\",\n",
    "            max_length=self.max_length,\n",
    "            padding=\"max_length\",\n",
    "            truncation=True,\n",
    "        )\n",
    "        return {\n",
    "            \"input_ids\": encoding[\"input_ids\"].flatten(),\n",
    "            \"attention_mask\": encoding[\"attention_mask\"].flatten(),\n",
    "            \"label\": torch.tensor(label),\n",
    "        }"
   ]
  },
  {
   "cell_type": "code",
   "execution_count": 28,
   "metadata": {},
   "outputs": [],
   "source": [
    "class MultiClassClassifier(nn.Module):\n",
    "    def __init__(self, bert_model_name: str, hidden_size: int, num_outputs: int):\n",
    "        super(MultiClassClassifier, self).__init__()\n",
    "        self.bert = BertModel.from_pretrained(bert_model_name)\n",
    "        self.dropout = nn.Dropout(0.1)\n",
    "        self.linear1 = nn.Linear(self.bert.config.hidden_size, hidden_size)\n",
    "        self.linear2 = nn.Linear(hidden_size, num_outputs)\n",
    "\n",
    "    def forward(self, input_ids, attention_mask):\n",
    "        outputs_bert = self.bert(input_ids=input_ids, attention_mask=attention_mask)\n",
    "        pooled_output = outputs_bert.pooler_output\n",
    "        dropout = self.dropout(pooled_output)\n",
    "        logits = F.relu(self.linear1(dropout))\n",
    "        logits = self.linear2(logits)\n",
    "\n",
    "        return logits"
   ]
  },
  {
   "cell_type": "code",
   "execution_count": 29,
   "metadata": {},
   "outputs": [],
   "source": [
    "def train_model_epoch(\n",
    "    model: MultiClassClassifier, data_loader, optimizer, scheduler, loss_func, device\n",
    "):\n",
    "    model.train()\n",
    "    \n",
    "    losses = []\n",
    "    model_prediction = []\n",
    "    actual_labels = []\n",
    "    \n",
    "    for batch in tqdm(data_loader, colour=\"green\", desc=\"Train_epoch: \"):\n",
    "\n",
    "        optimizer.zero_grad()\n",
    "        input_ids = batch[\"input_ids\"].to(device)\n",
    "        attention_mask = batch[\"attention_mask\"].to(device)\n",
    "        labels = batch[\"label\"].to(device)\n",
    "        outputs = model(input_ids=input_ids, attention_mask=attention_mask)\n",
    "\n",
    "       \n",
    "        loss = loss_func(outputs, labels)\n",
    "        loss.backward()\n",
    "        optimizer.step()\n",
    "        scheduler.step()\n",
    "        \n",
    "        losses.append(loss.item())\n",
    "        _, preds = torch.max(outputs, dim=1)\n",
    "        model_prediction.extend(preds.cpu().tolist())\n",
    "        actual_labels.extend(labels.cpu().tolist())\n",
    "\n",
    "        \n",
    "\n",
    "    train_accuracy = accuracy_score(actual_labels, model_prediction)\n",
    "    train_loss = np.mean(losses)\n",
    "\n",
    "    return train_accuracy, train_loss\n"
   ]
  },
  {
   "cell_type": "code",
   "execution_count": 30,
   "metadata": {},
   "outputs": [],
   "source": [
    "def eval_model_epoch(\n",
    "    model: MultiClassClassifier,\n",
    "    data_loader: TextClassificationDataset,\n",
    "    loss_func,\n",
    "    device: str,\n",
    "):\n",
    "    model.eval()\n",
    "\n",
    "    losses = []\n",
    "    model_prediction = []\n",
    "    real_labels = []\n",
    "\n",
    "    with torch.no_grad():\n",
    "        for batch in tqdm(data_loader, colour=\"blue\", desc=\"Validation_epoch: \"):\n",
    "            input_ids = batch[\"input_ids\"].to(device)\n",
    "            attention_mask = batch[\"attention_mask\"].to(device)\n",
    "            labels = batch[\"label\"].to(device)\n",
    "            outputs = model(input_ids=input_ids, attention_mask=attention_mask)\n",
    "            \n",
    "            _, preds = torch.max(outputs, dim=1)\n",
    "            \n",
    "            model_prediction.extend(preds.cpu().tolist())\n",
    "            real_labels.extend(labels.cpu().tolist())\n",
    "            loss = loss_func(outputs, labels)\n",
    "            losses.append(loss.item())\n",
    "            \n",
    "    val_losses = np.mean(losses)\n",
    "    val_accuracies = accuracy_score(real_labels, model_prediction)\n",
    "    report = classification_report(real_labels, model_prediction, output_dict=False)\n",
    "    \n",
    "    return (val_accuracies, val_losses, report)"
   ]
  },
  {
   "cell_type": "code",
   "execution_count": 31,
   "metadata": {},
   "outputs": [],
   "source": [
    "# Set up parameters\n",
    "BERT_MODEL_NAME = \"bert-base-uncased\"\n",
    "hidden_size = 10 #Tamanho oculto, neuronios\n",
    "num_outputs = 2 # numero de classes de saida [negativo,positivo]\n",
    "max_length = 256 # 128\n",
    "batch_size = 8  # 16, 32\n",
    "num_epochs = 4 #recomended in the Bert Article [2,3,4]\n",
    "learning_rate = 3e-5 # Taxa de aprendizagem (Adam): 5e-5, 3e-5, 2e-5 "
   ]
  },
  {
   "cell_type": "code",
   "execution_count": 32,
   "metadata": {},
   "outputs": [],
   "source": [
    "tokenizer = BertTokenizer.from_pretrained(BERT_MODEL_NAME)"
   ]
  },
  {
   "cell_type": "code",
   "execution_count": 33,
   "metadata": {},
   "outputs": [],
   "source": [
    "train_texts, temp_texts, train_labels, temp_labels = train_test_split(\n",
    "    texts, labels, test_size=0.3, random_state=42\n",
    ")\n",
    "\n",
    "\n",
    "val_texts, test_texts, val_labels, test_labels = train_test_split(\n",
    "    temp_texts, temp_labels, test_size=0.5, random_state=42\n",
    ")\n",
    "\n"
   ]
  },
  {
   "cell_type": "code",
   "execution_count": 34,
   "metadata": {},
   "outputs": [],
   "source": [
    "train_dataset = TextClassificationDataset(\n",
    "    train_texts, train_labels, tokenizer, max_length\n",
    ")\n",
    "val_dataset = TextClassificationDataset(val_texts, val_labels, tokenizer, max_length)\n",
    "\n",
    "train_dataloader = DataLoader(train_dataset, batch_size=batch_size, shuffle=True)\n",
    "val_dataloader = DataLoader(val_dataset, batch_size=batch_size)\n",
    "\n",
    "# # Create prediction_dataset\n",
    "test_dataset = TextClassificationDataset(test_texts, test_labels, tokenizer, max_length)\n",
    "test_dataloader = DataLoader(test_dataset, batch_size=batch_size)"
   ]
  },
  {
   "cell_type": "code",
   "execution_count": 35,
   "metadata": {},
   "outputs": [],
   "source": [
    "device = torch.device(\"cuda\" if torch.cuda.is_available() else \"cpu\")\n",
    "model = MultiClassClassifier(BERT_MODEL_NAME,hidden_size=hidden_size,num_outputs= num_outputs).to(device)"
   ]
  },
  {
   "cell_type": "code",
   "execution_count": 36,
   "metadata": {},
   "outputs": [],
   "source": [
    "optimizer = AdamW(model.parameters(), lr=learning_rate)\n",
    "total_steps = len(train_dataloader) * num_epochs\n",
    "#: Isso configura o agendador de taxa de aprendizado.\n",
    "scheduler = get_linear_schedule_with_warmup(\n",
    "    optimizer, num_warmup_steps=0, num_training_steps=total_steps\n",
    ")\n",
    "\n",
    "loss_func = nn.CrossEntropyLoss().to(device)"
   ]
  },
  {
   "cell_type": "code",
   "execution_count": 37,
   "metadata": {},
   "outputs": [
    {
     "name": "stdout",
     "output_type": "stream",
     "text": [
      "Epoch 1/4\n",
      "--------------------------------------------------\n"
     ]
    },
    {
     "name": "stderr",
     "output_type": "stream",
     "text": [
      "Train_epoch:   0%|\u001b[32m          \u001b[0m| 0/3238 [00:00<?, ?it/s]d:\\tcc2\\guilherme\\.venv\\Lib\\site-packages\\transformers\\models\\bert\\modeling_bert.py:435: UserWarning: 1Torch was not compiled with flash attention. (Triggered internally at ..\\aten\\src\\ATen\\native\\transformers\\cuda\\sdp_utils.cpp:455.)\n",
      "  attn_output = torch.nn.functional.scaled_dot_product_attention(\n",
      "Train_epoch: 100%|\u001b[32m██████████\u001b[0m| 3238/3238 [21:50<00:00,  2.47it/s]\n",
      "Validation_epoch: 100%|\u001b[34m██████████\u001b[0m| 694/694 [01:31<00:00,  7.62it/s]\n"
     ]
    },
    {
     "name": "stdout",
     "output_type": "stream",
     "text": [
      "Train => Loss = 0.3811, Accuracy = 0.8354\n",
      "Validation => Loss = 0.3474, Accuracy = 0.8616\n",
      "              precision    recall  f1-score   support\n",
      "\n",
      "           0       0.90      0.82      0.86      2799\n",
      "           1       0.83      0.90      0.87      2751\n",
      "\n",
      "    accuracy                           0.86      5550\n",
      "   macro avg       0.86      0.86      0.86      5550\n",
      "weighted avg       0.86      0.86      0.86      5550\n",
      "\n",
      "\n",
      "Modelo salvo com sucesso!\n",
      "Epoch 2/4\n",
      "--------------------------------------------------\n"
     ]
    },
    {
     "name": "stderr",
     "output_type": "stream",
     "text": [
      "Train_epoch: 100%|\u001b[32m██████████\u001b[0m| 3238/3238 [22:17<00:00,  2.42it/s]\n",
      "Validation_epoch: 100%|\u001b[34m██████████\u001b[0m| 694/694 [01:36<00:00,  7.22it/s]\n"
     ]
    },
    {
     "name": "stdout",
     "output_type": "stream",
     "text": [
      "Train => Loss = 0.2382, Accuracy = 0.9087\n",
      "Validation => Loss = 0.3586, Accuracy = 0.8600\n",
      "              precision    recall  f1-score   support\n",
      "\n",
      "           0       0.89      0.82      0.86      2799\n",
      "           1       0.83      0.90      0.86      2751\n",
      "\n",
      "    accuracy                           0.86      5550\n",
      "   macro avg       0.86      0.86      0.86      5550\n",
      "weighted avg       0.86      0.86      0.86      5550\n",
      "\n",
      "\n",
      "Epoch 3/4\n",
      "--------------------------------------------------\n"
     ]
    },
    {
     "name": "stderr",
     "output_type": "stream",
     "text": [
      "Train_epoch: 100%|\u001b[32m██████████\u001b[0m| 3238/3238 [21:49<00:00,  2.47it/s]\n",
      "Validation_epoch: 100%|\u001b[34m██████████\u001b[0m| 694/694 [01:31<00:00,  7.60it/s]\n"
     ]
    },
    {
     "name": "stdout",
     "output_type": "stream",
     "text": [
      "Train => Loss = 0.1235, Accuracy = 0.9597\n",
      "Validation => Loss = 0.4385, Accuracy = 0.8555\n",
      "              precision    recall  f1-score   support\n",
      "\n",
      "           0       0.86      0.85      0.86      2799\n",
      "           1       0.85      0.86      0.85      2751\n",
      "\n",
      "    accuracy                           0.86      5550\n",
      "   macro avg       0.86      0.86      0.86      5550\n",
      "weighted avg       0.86      0.86      0.86      5550\n",
      "\n",
      "\n",
      "Epoch 4/4\n",
      "--------------------------------------------------\n"
     ]
    },
    {
     "name": "stderr",
     "output_type": "stream",
     "text": [
      "Train_epoch: 100%|\u001b[32m██████████\u001b[0m| 3238/3238 [22:24<00:00,  2.41it/s]\n",
      "Validation_epoch: 100%|\u001b[34m██████████\u001b[0m| 694/694 [01:38<00:00,  7.07it/s]\n"
     ]
    },
    {
     "name": "stdout",
     "output_type": "stream",
     "text": [
      "Train => Loss = 0.0539, Accuracy = 0.9857\n",
      "Validation => Loss = 0.5602, Accuracy = 0.8560\n",
      "              precision    recall  f1-score   support\n",
      "\n",
      "           0       0.86      0.85      0.86      2799\n",
      "           1       0.85      0.86      0.86      2751\n",
      "\n",
      "    accuracy                           0.86      5550\n",
      "   macro avg       0.86      0.86      0.86      5550\n",
      "weighted avg       0.86      0.86      0.86      5550\n",
      "\n",
      "\n",
      "CPU times: total: 20min 21s\n",
      "Wall time: 1h 34min 45s\n"
     ]
    }
   ],
   "source": [
    "%%time\n",
    "\n",
    "import time\n",
    "import winsound\n",
    "\n",
    "# Definindo a frequência e a duração do bip\n",
    "frequency = 400  # Define a frequência para 2500 Hertz\n",
    "duration = 500  # Define a duração para 1000 ms == 1 segundo\n",
    "\n",
    "\n",
    "\n",
    "history_epoch = {\n",
    "    \"train_losses\": [],\n",
    "    \"train_accuracies\": [],\n",
    "    \"val_losses\": [],\n",
    "    \"val_accuracies\": [],\n",
    "    \"val_reports\": [],\n",
    "}\n",
    "\n",
    "best_accuracy = 0\n",
    "epochs_without_improvements = 0\n",
    "\n",
    "for epoch in range(num_epochs):\n",
    "    print(f\"Epoch {epoch + 1}/{num_epochs}\")\n",
    "    print(\"-\" * 50)\n",
    "\n",
    "    # Treinamento\n",
    "    train_accuracy, train_loss = train_model_epoch(\n",
    "        model, train_dataloader, optimizer, scheduler, loss_func, device\n",
    "    )\n",
    "    # Validation\n",
    "    val_accuracy, val_loss, report = eval_model_epoch(\n",
    "        model, val_dataloader, loss_func, device\n",
    "    )\n",
    "\n",
    "    history_epoch[\"train_losses\"].append(train_loss)\n",
    "    history_epoch[\"train_accuracies\"].append(train_accuracy)\n",
    "    history_epoch[\"val_losses\"].append(val_loss)\n",
    "    history_epoch[\"val_accuracies\"].append(val_accuracy)\n",
    "    history_epoch[\"val_reports\"].append(report)\n",
    "\n",
    "    print(f\"Train => Loss = {train_loss:.4f}, Accuracy = {train_accuracy:.4f}\")\n",
    "    print(f\"Validation => Loss = {val_loss:.4f}, Accuracy = {val_accuracy:.4f}\")\n",
    "    print(report)\n",
    "    print()\n",
    "    if val_accuracy > best_accuracy:\n",
    "        try:\n",
    "            torch.save(model.state_dict(), PATH_MODEL_SAVED)\n",
    "            print(\"Modelo salvo com sucesso!\")\n",
    "        except Exception as e:\n",
    "            print(\"Ocorreu um erro ao tentar salvar o modelo.\")\n",
    "            print(\"Detalhes do erro:\", str(e))\n",
    "        epochs_without_improvements = 0\n",
    "        best_accuracy = val_accuracy\n",
    "    else:\n",
    "        epochs_without_improvements += 1\n",
    "\n",
    "    if epochs_without_improvements > 4:\n",
    "        break\n",
    "     # Seu código aqui\n",
    "    time.sleep(1)  # Simulando um tempo de processamento\n",
    "    winsound.Beep(frequency, duration) \n"
   ]
  },
  {
   "cell_type": "code",
   "execution_count": 38,
   "metadata": {},
   "outputs": [
    {
     "data": {
      "text/plain": [
       "{'train_losses': [0.3810876678391242,\n",
       "  0.23819306098704743,\n",
       "  0.12349527721825948,\n",
       "  0.05387912638917729],\n",
       " 'train_accuracies': [0.8354440154440155,\n",
       "  0.9086872586872586,\n",
       "  0.9596525096525097,\n",
       "  0.9856756756756757],\n",
       " 'val_losses': [0.3474270669469658,\n",
       "  0.35860842933894405,\n",
       "  0.4385345716154208,\n",
       "  0.5601641784699886],\n",
       " 'val_accuracies': [0.8616216216216216,\n",
       "  0.86,\n",
       "  0.8554954954954955,\n",
       "  0.8560360360360361],\n",
       " 'val_reports': ['              precision    recall  f1-score   support\\n\\n           0       0.90      0.82      0.86      2799\\n           1       0.83      0.90      0.87      2751\\n\\n    accuracy                           0.86      5550\\n   macro avg       0.86      0.86      0.86      5550\\nweighted avg       0.86      0.86      0.86      5550\\n',\n",
       "  '              precision    recall  f1-score   support\\n\\n           0       0.89      0.82      0.86      2799\\n           1       0.83      0.90      0.86      2751\\n\\n    accuracy                           0.86      5550\\n   macro avg       0.86      0.86      0.86      5550\\nweighted avg       0.86      0.86      0.86      5550\\n',\n",
       "  '              precision    recall  f1-score   support\\n\\n           0       0.86      0.85      0.86      2799\\n           1       0.85      0.86      0.85      2751\\n\\n    accuracy                           0.86      5550\\n   macro avg       0.86      0.86      0.86      5550\\nweighted avg       0.86      0.86      0.86      5550\\n',\n",
       "  '              precision    recall  f1-score   support\\n\\n           0       0.86      0.85      0.86      2799\\n           1       0.85      0.86      0.86      2751\\n\\n    accuracy                           0.86      5550\\n   macro avg       0.86      0.86      0.86      5550\\nweighted avg       0.86      0.86      0.86      5550\\n']}"
      ]
     },
     "execution_count": 38,
     "metadata": {},
     "output_type": "execute_result"
    }
   ],
   "source": [
    "history_epoch"
   ]
  },
  {
   "cell_type": "code",
   "execution_count": 39,
   "metadata": {},
   "outputs": [
    {
     "name": "stdout",
     "output_type": "stream",
     "text": [
      "train_accuracies:  [0.8354440154440155, 0.9086872586872586, 0.9596525096525097, 0.9856756756756757]\n",
      "val_accuracies:  [0.8616216216216216, 0.86, 0.8554954954954955, 0.8560360360360361]\n",
      "              precision    recall  f1-score   support\n",
      "\n",
      "           0       0.86      0.85      0.86      2799\n",
      "           1       0.85      0.86      0.86      2751\n",
      "\n",
      "    accuracy                           0.86      5550\n",
      "   macro avg       0.86      0.86      0.86      5550\n",
      "weighted avg       0.86      0.86      0.86      5550\n",
      "\n"
     ]
    }
   ],
   "source": [
    "print(\"train_accuracies: \", history_epoch['train_accuracies'])\n",
    "print(\"val_accuracies: \",history_epoch['val_accuracies'])\n",
    "print(history_epoch['val_reports'][3])"
   ]
  },
  {
   "cell_type": "markdown",
   "metadata": {},
   "source": [
    "### Plot Graph losses and acurracies\n"
   ]
  },
  {
   "cell_type": "code",
   "execution_count": 40,
   "metadata": {},
   "outputs": [
    {
     "data": {
      "image/png": "[encoded data removed]",
      "text/plain": [
       "<Figure size 640x480 with 1 Axes>"
      ]
     },
     "metadata": {},
     "output_type": "display_data"
    },
    {
     "data": {
      "image/png": "[encoded data removed]",
      "text/plain": [
       "<Figure size 640x480 with 1 Axes>"
      ]
     },
     "metadata": {},
     "output_type": "display_data"
    }
   ],
   "source": [
    "import matplotlib.pyplot as plt\n",
    "\n",
    "\n",
    "train_loss = history_epoch[\"train_losses\"]\n",
    "val_loss = history_epoch[\"val_losses\"]\n",
    "# Plotting the training and validation loss\n",
    "def plot_loss_fun_graph(train_loss, val_loss):\n",
    "    plt.plot(train_loss, \"r\", label=\"Training loss\")\n",
    "    plt.plot(val_loss, \"b\", label=\"Validation loss\")\n",
    "    plt.title(\"Training and validation loss\")\n",
    "    plt.xlabel(\"Epochs\")\n",
    "    plt.ylabel(\"Loss\")\n",
    "    plt.legend()\n",
    "    plt.grid()\n",
    "    plt.show()\n",
    "    \n",
    "plot_loss_fun_graph(train_loss, val_loss)\n",
    "\n",
    "\n",
    "# Plotting the training and validation accuracy\n",
    "train_acc = history_epoch[\"train_accuracies\"]\n",
    "val_acc = history_epoch[\"val_accuracies\"]\n",
    "# Encontrar o índice do melhor valor de acurácia de validação\n",
    "def plot_accurary_graph(train_acc, val_acc):\n",
    "    best_epoch = np.argmax(val_acc)\n",
    "    plt.clf()\n",
    "    plt.plot(train_acc, \"r\", label=\"Training accuracy\")\n",
    "    plt.plot(val_acc, \"b\", label=\"validation accuracy\")\n",
    "    plt.title(\"Training and validation accuracy\")\n",
    "    plt.xlabel(\"Epoch\")\n",
    "    plt.ylabel(\"Accuracy\")\n",
    "    plt.grid()\n",
    "    plt.legend()\n",
    "    plt.show()\n",
    "\n",
    "\n",
    "plot_accurary_graph(train_acc, val_acc)"
   ]
  },
  {
   "cell_type": "markdown",
   "metadata": {},
   "source": [
    "## Saving & Loading Model for Inference\n"
   ]
  },
  {
   "cell_type": "markdown",
   "metadata": {},
   "source": [
    "\n",
    "Save:\n"
   ]
  },
  {
   "cell_type": "code",
   "execution_count": 41,
   "metadata": {},
   "outputs": [],
   "source": [
    "# PATH_MODEL_SAVE = \"sentiment_classifier_Bert_IMDB_Dataset_eith_lemma.pth\"\n",
    "# torch.save(model.state_dict(), PATH_MODEL_SAVE)"
   ]
  },
  {
   "cell_type": "markdown",
   "metadata": {},
   "source": [
    "load:\n"
   ]
  },
  {
   "cell_type": "code",
   "execution_count": 42,
   "metadata": {},
   "outputs": [],
   "source": [
    "# # PATH_MODEL_SAVE = \"sentiment_classifier_en_49500_reviews.pth\"\n",
    "# saved_model = MultiClassClassifier(BERT_MODEL_NAME,hidden_size, num_outputs).to(device)\n",
    "# saved_model.load_state_dict(torch.load(PATH_MODEL_SAVE))\n",
    "# # saved_model.eval()"
   ]
  },
  {
   "cell_type": "markdown",
   "metadata": {},
   "source": [
    "## Sentiment prediction"
   ]
  },
  {
   "cell_type": "markdown",
   "metadata": {},
   "source": [
    "### Evaluation in test_data\n"
   ]
  },
  {
   "cell_type": "markdown",
   "metadata": {},
   "source": [
    "### Get predicitons in test_texts and test_labels"
   ]
  },
  {
   "cell_type": "code",
   "execution_count": 43,
   "metadata": {},
   "outputs": [],
   "source": [
    "def get_predictions(model, data_loader, device):\n",
    "    model = model.eval()\n",
    "\n",
    "    # corresponde ao indice(classe) com maior probabilidade na saída do modelo\n",
    "    predictions = []\n",
    "    # corresponde ao indice real(classe verdadeira)\n",
    "    real_values = []\n",
    "\n",
    "    with torch.no_grad():\n",
    "        for batch in tqdm(data_loader):\n",
    "            input_ids = batch[\"input_ids\"].to(device)\n",
    "            attention_mask = batch[\"attention_mask\"].to(device)\n",
    "            labels = batch[\"label\"].to(device)\n",
    "            m_output = model(input_ids=input_ids, attention_mask=attention_mask)\n",
    "            probs = F.softmax(m_output, dim=1)\n",
    "\n",
    "            _, max_index = torch.max(probs, dim=1)\n",
    "\n",
    "            predictions.extend(max_index)\n",
    "            real_values.extend(labels)\n",
    "\n",
    "    predictions = torch.stack(predictions).cpu()\n",
    "    real_values = torch.stack(real_values).cpu()\n",
    "\n",
    "    return predictions, real_values"
   ]
  },
  {
   "cell_type": "code",
   "execution_count": 44,
   "metadata": {},
   "outputs": [
    {
     "name": "stderr",
     "output_type": "stream",
     "text": [
      "100%|██████████| 694/694 [01:16<00:00,  9.04it/s]\n"
     ]
    }
   ],
   "source": [
    "#  CArregando com o modelo final atualizado\n",
    "test_predictions, test_real_values=get_predictions(model,test_dataloader,device)"
   ]
  },
  {
   "cell_type": "code",
   "execution_count": 45,
   "metadata": {},
   "outputs": [
    {
     "name": "stdout",
     "output_type": "stream",
     "text": [
      "A precisão foi: 85.8739\n",
      "              precision    recall  f1-score   support\n",
      "\n",
      "    negativo       0.85      0.86      0.86      2718\n",
      "    positivo       0.86      0.86      0.86      2832\n",
      "\n",
      "    accuracy                           0.86      5550\n",
      "   macro avg       0.86      0.86      0.86      5550\n",
      "weighted avg       0.86      0.86      0.86      5550\n",
      "\n"
     ]
    }
   ],
   "source": [
    "classes_names = [\"negativo\", \"positivo\"]\n",
    "test_accuracies = accuracy_score(test_predictions, test_real_values)\n",
    "\n",
    "test_report = classification_report(\n",
    "    test_predictions, test_real_values, target_names=classes_names, output_dict=False\n",
    ")\n",
    "print(f\"A precisão foi: {test_accuracies*100:.4f}\")\n",
    "print(test_report)"
   ]
  },
  {
   "cell_type": "code",
   "execution_count": 46,
   "metadata": {},
   "outputs": [
    {
     "data": {
      "image/png": "[encoded data removed]",
      "text/plain": [
       "<Figure size 640x480 with 2 Axes>"
      ]
     },
     "metadata": {},
     "output_type": "display_data"
    }
   ],
   "source": [
    "from sklearn.metrics import confusion_matrix, ConfusionMatrixDisplay\n",
    "cm = confusion_matrix(test_predictions,test_real_values)\n",
    "cm_display = ConfusionMatrixDisplay(cm,display_labels=classes_names).plot()"
   ]
  },
  {
   "cell_type": "code",
   "execution_count": 47,
   "metadata": {},
   "outputs": [
    {
     "data": {
      "image/png": "[encoded data removed]",
      "text/plain": [
       "<Figure size 640x480 with 2 Axes>"
      ]
     },
     "metadata": {},
     "output_type": "display_data"
    }
   ],
   "source": [
    "from sklearn.metrics import confusion_matrix\n",
    "import matplotlib.pyplot as plt\n",
    "import seaborn as sns\n",
    "\n",
    "def show_confusion_matrix(confusion_matrix):\n",
    "    hmap = sns.heatmap(confusion_matrix, annot=True, fmt=\"d\", cmap=\"Blues\")\n",
    "    hmap.yaxis.set_ticklabels(hmap.yaxis.get_ticklabels(), rotation=0, ha='right')\n",
    "    hmap.xaxis.set_ticklabels(hmap.xaxis.get_ticklabels(), rotation=30, ha='right')\n",
    "    plt.ylabel('True sentiment')\n",
    "    plt.xlabel('Predicted sentiment');\n",
    "  \n",
    "cm = confusion_matrix(test_predictions,test_real_values)\n",
    "df_cm = pd.DataFrame(cm, index=classes_names, columns=classes_names)\n",
    "show_confusion_matrix(df_cm)\n",
    "\n"
   ]
  },
  {
   "cell_type": "markdown",
   "metadata": {},
   "source": [
    "## Sentiment prediction"
   ]
  },
  {
   "cell_type": "code",
   "execution_count": 77,
   "metadata": {},
   "outputs": [],
   "source": [
    "import re\n",
    "import spacy\n",
    "def predict_tratamento_texto(text: str, lemma:bool):\n",
    "    # nlp = spacy.load(\"en_core_web_sm\", exclude=[\"parser\", \"ner\"])\n",
    "    text = text.lower()\n",
    "    text = re.sub(r\"\\s+\", \" \", text).strip()\n",
    "    # remover html\n",
    "    # text = re.sub(re.compile(\"<.*?>\"), \"\", text)\n",
    "    # doc = nlp(text)\n",
    "    # if lemma == True:\n",
    "    #     text = \" \".join(\n",
    "    #         [token.lemma_ for token in doc if not token.is_stop and not token.is_punct]\n",
    "    #     )  # retorna o lemma\n",
    "    # else:\n",
    "    #     text = \" \".join(\n",
    "    #         [token.text for token in doc if not token.is_stop and not token.is_punct]\n",
    "    #     )  # return text\n",
    "    return text\n"
   ]
  },
  {
   "cell_type": "code",
   "execution_count": 78,
   "metadata": {},
   "outputs": [],
   "source": [
    "\n",
    "def predict_sentiment(\n",
    "    text: str,\n",
    "    model: MultiClassClassifier,\n",
    "    tokenizer: BertTokenizer,\n",
    "    device: str,\n",
    "    max_length: int,\n",
    "    lemma=False,\n",
    "):\n",
    "    model.eval()\n",
    "    text = predict_tratamento_texto(text, lemma)\n",
    "    encoding = tokenizer(\n",
    "        text,\n",
    "        return_tensors=\"pt\",\n",
    "        max_length=max_length,\n",
    "        padding=\"max_length\",\n",
    "        truncation=True,\n",
    "    )\n",
    "    input_ids = encoding[\"input_ids\"].to(device)\n",
    "    attention_mask = encoding[\"attention_mask\"].to(device)\n",
    "\n",
    "    with torch.no_grad():\n",
    "        output = model(input_ids=input_ids, attention_mask=attention_mask)\n",
    "        prob = F.softmax(output,dim=1)\n",
    "    prob_neg = prob[0, 0].item()\n",
    "    prob_pos = prob[0, 1].item()\n",
    "    print(f\"prob negativa: {prob_neg:.5f}\")\n",
    "    print(f\"prob positiva: {prob_pos:.5f}\")\n",
    "\n",
    "    classes = [\"negativo\", \"positivo\"]\n",
    "    predicted_class_index = torch.argmax(prob, dim=1).item()\n",
    "    predicted_class = classes[predicted_class_index]\n",
    "    return predicted_class"
   ]
  },
  {
   "cell_type": "code",
   "execution_count": 79,
   "metadata": {},
   "outputs": [],
   "source": [
    "# Challengers 1/10\n",
    "text= \"\"\"The audience was in hysterics by the end. The choices made in every aspect of this movie were shockingly bad. The abysmal and strange music, the constant shift in time, the laughable script, the nauseating camera work, and just truly one of the worst directed films I've ever seen. I would have left halfway through if I didn't have to pay for my food. But I'm glad I stayed because it got so much more hysterically bad than I even thought possible. I feel like I'm insane because the audience was screaming with laughter. I got the sense that the director thinks he's a genius, but this movie is 1% short of a feature length SNL parody.\"\"\""
   ]
  },
  {
   "cell_type": "code",
   "execution_count": 80,
   "metadata": {},
   "outputs": [
    {
     "name": "stdout",
     "output_type": "stream",
     "text": [
      "prob negativa: 0.99851\n",
      "prob positiva: 0.00149\n",
      "the audience was in hysterics by the end. the choices made in every aspect of this movie were shockingly bad. the abysmal and strange music, the constant shift in time, the laughable script, the nauseating camera work, and just truly one of the worst directed films i've ever seen. i would have left halfway through if i didn't have to pay for my food. but i'm glad i stayed because it got so much more hysterically bad than i even thought possible. i feel like i'm insane because the audience was screaming with laughter. i got the sense that the director thinks he's a genius, but this movie is 1% short of a feature length snl parody.\n",
      "Predicted sentiment: negativo\n"
     ]
    }
   ],
   "source": [
    "sentiment = predict_sentiment(text, model, tokenizer, device, max_length)\n",
    "print(predict_tratamento_texto(text,lemma= False))\n",
    "print(f\"Predicted sentiment: {sentiment}\")"
   ]
  },
  {
   "cell_type": "code",
   "execution_count": 81,
   "metadata": {},
   "outputs": [],
   "source": [
    "# The Fall Guy 2/10\n",
    "text = \"\"\"Almost ok! But not good or great. Could had been.  It was evident that the makers of this movie never saw more than couple of episodes of Fall guy the TV series it's based on. There were more reference to Miami vice tv series than the actual tv series this movie is supposedly based on. First half an hour or so of the movie was pure cringe. The dialogues were written by couple of teenagers who were probably paid in TikTok views. The rom com scenes were cringy and unwatchable.  Action sequences and stunts were excellent but kept getting interrupted by really really awful cringy love story. One scene ( not a spoiler) where the action sequence keeps breaking away to a cringey Karakoram no , made us almost walk out of the movie.  Some of the acting is sooo bad.  If you make a movie based on the TV series Atleast watch every episode of it. We did. The tv series that made every kid want to get a pickup truck and be a stunt man. The tv series which made kids attempt dangerous stunts on their bikes.  And the actual fall guy Lee majors. Makes an appearance post credit? Really. Why even bother.  Was ok but a missed opportunity to make it great.\"\"\""
   ]
  },
  {
   "cell_type": "code",
   "execution_count": 82,
   "metadata": {},
   "outputs": [
    {
     "name": "stdout",
     "output_type": "stream",
     "text": [
      "prob negativa: 0.99860\n",
      "prob positiva: 0.00140\n",
      "almost ok! but not good or great. could had been. it was evident that the makers of this movie never saw more than couple of episodes of fall guy the tv series it's based on. there were more reference to miami vice tv series than the actual tv series this movie is supposedly based on. first half an hour or so of the movie was pure cringe. the dialogues were written by couple of teenagers who were probably paid in tiktok views. the rom com scenes were cringy and unwatchable. action sequences and stunts were excellent but kept getting interrupted by really really awful cringy love story. one scene ( not a spoiler) where the action sequence keeps breaking away to a cringey karakoram no , made us almost walk out of the movie. some of the acting is sooo bad. if you make a movie based on the tv series atleast watch every episode of it. we did. the tv series that made every kid want to get a pickup truck and be a stunt man. the tv series which made kids attempt dangerous stunts on their bikes. and the actual fall guy lee majors. makes an appearance post credit? really. why even bother. was ok but a missed opportunity to make it great.\n",
      "Predicted sentiment: negativo\n"
     ]
    }
   ],
   "source": [
    "sentiment = predict_sentiment(text, model, tokenizer, device, max_length)\n",
    "print(predict_tratamento_texto(text,lemma= False))\n",
    "print(f\"Predicted sentiment: {sentiment}\")"
   ]
  },
  {
   "cell_type": "code",
   "execution_count": 83,
   "metadata": {},
   "outputs": [],
   "source": [
    "# THe Idea of You 3/10\n",
    "text= \"\"\"Oh dear. Absolutely no chemistry between the two main characters. The lead female Solene, apart from the absurd name is totally unrelatable or endearing. She acts like his teacher, or mother \"I'll make you a sandwich?!\" When she talks about herself he's uncomfortably interested, uncomfortable because it's not believable. The art they show in the gallery and warehouse are pretentious and boring, a lot like Solene. I'm surprised at the positive reviews.  It's mildly entertaining - a background movie for when you're building Lego for example. But I couldn't take the pairing seriously. Maybe I'm feeling the uncomfortable atmosphere that potentially could have been on set that I'm picking up on? I dunno. It could've been so much better with a different female lead.\"\"\""
   ]
  },
  {
   "cell_type": "code",
   "execution_count": 84,
   "metadata": {},
   "outputs": [
    {
     "name": "stdout",
     "output_type": "stream",
     "text": [
      "prob negativa: 0.99852\n",
      "prob positiva: 0.00148\n",
      "oh dear. absolutely no chemistry between the two main characters. the lead female solene, apart from the absurd name is totally unrelatable or endearing. she acts like his teacher, or mother \"i'll make you a sandwich?!\" when she talks about herself he's uncomfortably interested, uncomfortable because it's not believable. the art they show in the gallery and warehouse are pretentious and boring, a lot like solene. i'm surprised at the positive reviews. it's mildly entertaining - a background movie for when you're building lego for example. but i couldn't take the pairing seriously. maybe i'm feeling the uncomfortable atmosphere that potentially could have been on set that i'm picking up on? i dunno. it could've been so much better with a different female lead.\n",
      "Predicted sentiment: negativo\n"
     ]
    }
   ],
   "source": [
    "sentiment = predict_sentiment(text, model, tokenizer, device, max_length)\n",
    "print(predict_tratamento_texto(text,lemma= False))\n",
    "print(f\"Predicted sentiment: {sentiment}\")"
   ]
  },
  {
   "cell_type": "code",
   "execution_count": 85,
   "metadata": {},
   "outputs": [],
   "source": [
    "# nota 4\n",
    "text= \"\"\"I'm a big fan of Garland's earlier films (Ex Machina, Annihilation) and wanted to like this, but sadly this one was a miss. There's not really a story - no reason why the war is happening or what is at stake. The characters are extremely unrelatable and are more there just to represent concepts (the media, racism, etc) rather than have any identity of their own. The war just happens to be there in the background while the characters are taking a roadtrip through rural America, which doesn't actually show any war going on, just random series of fights which could just be regular gun violence from today. You would hardly know there's a war going on except the characters telling you there is.  It's not until the last 10 minutes that you see any military operations and it lacks scale for only seemingly having about 100 troops fighting, given what's supposedly at stake. The movie should've started here and gone backwards into why the war is happening, which would've made a more interesting film in my opinion.\n",
    "\n",
    "\"\"\""
   ]
  },
  {
   "cell_type": "code",
   "execution_count": 86,
   "metadata": {},
   "outputs": [
    {
     "name": "stdout",
     "output_type": "stream",
     "text": [
      "prob negativa: 0.99857\n",
      "prob positiva: 0.00143\n",
      "i'm a big fan of garland's earlier films (ex machina, annihilation) and wanted to like this, but sadly this one was a miss. there's not really a story - no reason why the war is happening or what is at stake. the characters are extremely unrelatable and are more there just to represent concepts (the media, racism, etc) rather than have any identity of their own. the war just happens to be there in the background while the characters are taking a roadtrip through rural america, which doesn't actually show any war going on, just random series of fights which could just be regular gun violence from today. you would hardly know there's a war going on except the characters telling you there is. it's not until the last 10 minutes that you see any military operations and it lacks scale for only seemingly having about 100 troops fighting, given what's supposedly at stake. the movie should've started here and gone backwards into why the war is happening, which would've made a more interesting film in my opinion.\n",
      "Predicted sentiment: negativo\n"
     ]
    }
   ],
   "source": [
    "sentiment = predict_sentiment(text, model, tokenizer, device, max_length)\n",
    "print(predict_tratamento_texto(text,lemma= False))\n",
    "print(f\"Predicted sentiment: {sentiment}\")"
   ]
  },
  {
   "cell_type": "code",
   "execution_count": 87,
   "metadata": {},
   "outputs": [],
   "source": [
    "# Anyone But You 5/10\n",
    " \n",
    "text = \"\"\"They really did make a whole movie just to show off Glen Powell's smoking hot body and honestly - I'm here for it! The storyline and the acting is... wait, who cares?? Glen Powell is shirtless about half the time. This is a movie about two people who fall in love only to find out that... Glen Powell's body is so hot! If you watch the trailer you already know exactly what happ... Glen Powell!! The predictability factor is super strong with this one. The cheese is sprinkled all over the movie, in every scene, there is little room left for any other ingredients because... cheese. And Glen Powell.  Glen Powell\"\"\""
   ]
  },
  {
   "cell_type": "code",
   "execution_count": 88,
   "metadata": {},
   "outputs": [
    {
     "name": "stdout",
     "output_type": "stream",
     "text": [
      "prob negativa: 0.01756\n",
      "prob positiva: 0.98244\n",
      "they really did make a whole movie just to show off glen powell's smoking hot body and honestly - i'm here for it! the storyline and the acting is... wait, who cares?? glen powell is shirtless about half the time. this is a movie about two people who fall in love only to find out that... glen powell's body is so hot! if you watch the trailer you already know exactly what happ... glen powell!! the predictability factor is super strong with this one. the cheese is sprinkled all over the movie, in every scene, there is little room left for any other ingredients because... cheese. and glen powell. glen powell\n",
      "Predicted sentiment: positivo\n"
     ]
    }
   ],
   "source": [
    "sentiment = predict_sentiment(text, model, tokenizer, device, max_length)\n",
    "print(predict_tratamento_texto(text,lemma= False))\n",
    "print(f\"Predicted sentiment: {sentiment}\")"
   ]
  },
  {
   "cell_type": "code",
   "execution_count": 89,
   "metadata": {},
   "outputs": [],
   "source": [
    "# Capita marvel 2019 5/10 \n",
    "text = \"\"\"Plot  Carol Danvers     becomes one of the universe's most powerful heroes when Earth is caught in the middle of a galactic war between two alien races.  Cast  Brie Larson, Samuel L. Jackson (Because duh), Jude \"Just consistently dreadful\" Law, Annette Bening, Djimon Hounsou, Clark Gregg and blink and you'll miss him Lee Pace who returns as Ronan but looks so different I didn't even think it was him.  Verdict  I watched this back when it was initially released, I watched it a second time a few days ago as the missus is wanting us to binge watch the entire MCU as she's very behind. My opinion has changed on the 2nd viewing and not in a good way, my rating has shifted from a 6/10 to 5/10.  You see straight out of the gate the first thing you notice about Carol Danvers is she's not really a character you can get behind. She's not funny, she's not entertaining, she comes across as a surly teenage girl who is just upset at the slightest thing and just doesn't want to be there. This is not a character you can build a movie around, like trying to make a teenage Groot movie! It wouldn't work, but he's okay as a side character.  Supporting cast are also hit and miss, Jackson and Gregg are great, but Lynch and Law just stink up every scene they're in.  I'm a Marvel fan but I recognize where it's weak, this is a distinctly average film that serves as a standalone origin story and doesn't contribute much to the universe as a whole.  Rants  I remember when the movie came out all the controversy with Brie Larson, I just had to Google what the controversy even was as I don't remember due to not focusing on such things. Now I can't really get a definitive answer. From what I see it's a combination of people not liking her attitude and her comments on feminism. So I Googled further to see what she said, she came across arrogant in them and a smidge out of touch but none of it explained the overwhelming hate I've seen aimed at her. Then I remembered that people talk about all the different types of bigotry but misogyny rarely comes up, I remembered that it's visibly increased over the past decade and appreciated why she's been targeted. News flash, the outspoken loud brash man hating femnists you likely thing of when you hear that word make up a very small percentage. Feminism is good, if you disagree I hope you simply don't know the meaning of the word.  The Good  Jackson and Gregg Has a couple of decent moments Not a bad soundtrack Goose!  The Bad  Larson isn't great Law and Lynch are terrible Lead just comes across unlikable.  Overall just a weak entry to the MC \"\"\""
   ]
  },
  {
   "cell_type": "code",
   "execution_count": 90,
   "metadata": {},
   "outputs": [
    {
     "name": "stdout",
     "output_type": "stream",
     "text": [
      "prob negativa: 0.98316\n",
      "prob positiva: 0.01684\n",
      "plot carol danvers becomes one of the universe's most powerful heroes when earth is caught in the middle of a galactic war between two alien races. cast brie larson, samuel l. jackson (because duh), jude \"just consistently dreadful\" law, annette bening, djimon hounsou, clark gregg and blink and you'll miss him lee pace who returns as ronan but looks so different i didn't even think it was him. verdict i watched this back when it was initially released, i watched it a second time a few days ago as the missus is wanting us to binge watch the entire mcu as she's very behind. my opinion has changed on the 2nd viewing and not in a good way, my rating has shifted from a 6/10 to 5/10. you see straight out of the gate the first thing you notice about carol danvers is she's not really a character you can get behind. she's not funny, she's not entertaining, she comes across as a surly teenage girl who is just upset at the slightest thing and just doesn't want to be there. this is not a character you can build a movie around, like trying to make a teenage groot movie! it wouldn't work, but he's okay as a side character. supporting cast are also hit and miss, jackson and gregg are great, but lynch and law just stink up every scene they're in. i'm a marvel fan but i recognize where it's weak, this is a distinctly average film that serves as a standalone origin story and doesn't contribute much to the universe as a whole. rants i remember when the movie came out all the controversy with brie larson, i just had to google what the controversy even was as i don't remember due to not focusing on such things. now i can't really get a definitive answer. from what i see it's a combination of people not liking her attitude and her comments on feminism. so i googled further to see what she said, she came across arrogant in them and a smidge out of touch but none of it explained the overwhelming hate i've seen aimed at her. then i remembered that people talk about all the different types of bigotry but misogyny rarely comes up, i remembered that it's visibly increased over the past decade and appreciated why she's been targeted. news flash, the outspoken loud brash man hating femnists you likely thing of when you hear that word make up a very small percentage. feminism is good, if you disagree i hope you simply don't know the meaning of the word. the good jackson and gregg has a couple of decent moments not a bad soundtrack goose! the bad larson isn't great law and lynch are terrible lead just comes across unlikable. overall just a weak entry to the mc\n",
      "Predicted sentiment: negativo\n"
     ]
    }
   ],
   "source": [
    "# nota 5 = neutra\n",
    "sentiment = predict_sentiment(text, model, tokenizer, device, max_length)\n",
    "print(predict_tratamento_texto(text,lemma= False))\n",
    "print(f\"Predicted sentiment: {sentiment}\")"
   ]
  },
  {
   "cell_type": "code",
   "execution_count": 91,
   "metadata": {},
   "outputs": [],
   "source": [
    "# CApita marvel 2019 6/10\n",
    "text=\"\"\"Mediocre Marvel is still pretty good. My first review in a long time! Dont know why I decided to write about this movie. I agree with most mediocre reviews I read here. The pacing was pretty good. Most of the action was good! The story was ok and had some good twists. I thought about giving this movie a 6 but after letting it sink in I decided to give it 8 out of 10 It entertained me and my company from beginning to end. There were some eye rolling moments but they are easily forgiven.\"\"\""
   ]
  },
  {
   "cell_type": "code",
   "execution_count": 92,
   "metadata": {},
   "outputs": [
    {
     "name": "stdout",
     "output_type": "stream",
     "text": [
      "prob negativa: 0.69254\n",
      "prob positiva: 0.30746\n",
      "mediocre marvel is still pretty good. my first review in a long time! dont know why i decided to write about this movie. i agree with most mediocre reviews i read here. the pacing was pretty good. most of the action was good! the story was ok and had some good twists. i thought about giving this movie a 6 but after letting it sink in i decided to give it 8 out of 10 it entertained me and my company from beginning to end. there were some eye rolling moments but they are easily forgiven.\n",
      "Predicted sentiment: negativo\n"
     ]
    }
   ],
   "source": [
    "sentiment = predict_sentiment(text, model, tokenizer, device, max_length)\n",
    "print(predict_tratamento_texto(text,lemma= False))\n",
    "print(f\"Predicted sentiment: {sentiment}\")"
   ]
  },
  {
   "cell_type": "code",
   "execution_count": 93,
   "metadata": {},
   "outputs": [],
   "source": [
    "# Duna parte 2 6/10 \n",
    "text =\"\"\"Dune Part 2 is an epic movie; slickly made, and visually stunning.  But I had to explain quite a bit to the friends around me who had not read the book, especially the water of life scene and the final battle.  The movie had almost a 3 hour run time, but it felt overlong because Villenue focuses too much on spectacle on very little on substance.  It is a beautiful movie, but it feels like it has no soul. The emotional connection between Paul and Chani, so vital to the story, is completely lacking and unbelievable. The two main characters are good looking enough but has absolutely zero chemistry on screen.  I am certain Zendaya is a fine actress in some things, but she has basically 2 facial expressions here, and the one she uses the most is a scowl directed at Paul. I found her to be the worst part of this movie.  The final fight scene is short, choppy, and a mess. It felt anticlimactic and unfulfilling The Harkonens are basically reduced to bumbling villainy almost cartoonish. The ending was super abrupt, and was so different from the book that it left me wondering what the filmmakers would do if they want to do a sequel.  I want to reiterate that this isn't a bad movie. Villenue is great at creating a world that looks living and breathing, but he can't give life to individual characters.  It is like he can't see the trees for the forest.\"\"\""
   ]
  },
  {
   "cell_type": "code",
   "execution_count": 94,
   "metadata": {},
   "outputs": [
    {
     "name": "stdout",
     "output_type": "stream",
     "text": [
      "prob negativa: 0.99748\n",
      "prob positiva: 0.00252\n",
      "dune part 2 is an epic movie; slickly made, and visually stunning. but i had to explain quite a bit to the friends around me who had not read the book, especially the water of life scene and the final battle. the movie had almost a 3 hour run time, but it felt overlong because villenue focuses too much on spectacle on very little on substance. it is a beautiful movie, but it feels like it has no soul. the emotional connection between paul and chani, so vital to the story, is completely lacking and unbelievable. the two main characters are good looking enough but has absolutely zero chemistry on screen. i am certain zendaya is a fine actress in some things, but she has basically 2 facial expressions here, and the one she uses the most is a scowl directed at paul. i found her to be the worst part of this movie. the final fight scene is short, choppy, and a mess. it felt anticlimactic and unfulfilling the harkonens are basically reduced to bumbling villainy almost cartoonish. the ending was super abrupt, and was so different from the book that it left me wondering what the filmmakers would do if they want to do a sequel. i want to reiterate that this isn't a bad movie. villenue is great at creating a world that looks living and breathing, but he can't give life to individual characters. it is like he can't see the trees for the forest.\n",
      "Predicted sentiment: negativo\n"
     ]
    }
   ],
   "source": [
    "sentiment = predict_sentiment(text, model, tokenizer, device, max_length)\n",
    "print(predict_tratamento_texto(text,lemma= False))\n",
    "print(f\"Predicted sentiment: {sentiment}\")"
   ]
  },
  {
   "cell_type": "code",
   "execution_count": 95,
   "metadata": {},
   "outputs": [],
   "source": [
    "# duna parte 2 7/10 \n",
    "text =\"\"\"I mean, yeah, it's very entertaining and, of course, very visually stunning. The set pieces, the cinematography, the use of visual effects and lights, the sound design and music, all, absolutely amazing and almost literally stunning!  But then? I'm not really seeing much after that. As I have not read the books, this movie was a total mystery to me. There's barely any dialog--at least not any that would explain anything what's going on at all. The world and the technology etc just doesn't make much sense to me.  None of the characters are particularly interesting, to be honest. They don't really have that much personality to them, and even if they did, they didn't really make me care about them all that much.  I don't know, I'm a bit conflicted, it wasn't a bad movie and, as I said, it was entertaining and visually mesmerizing, but it lacked the depth that I was expecting of a world this size and this rich with lore and history_epoch. Maybe the movie makers assumed everyone has read the books? As someone to who the world is not familiar at all, it just seems rather confusing and strange. I feel like they just focused on making it as visually awesome as they can (in which they arguably succeeded), but left the story on the pages of the books.\"\"\""
   ]
  },
  {
   "cell_type": "code",
   "execution_count": 96,
   "metadata": {},
   "outputs": [
    {
     "name": "stdout",
     "output_type": "stream",
     "text": [
      "prob negativa: 0.99857\n",
      "prob positiva: 0.00143\n",
      "i mean, yeah, it's very entertaining and, of course, very visually stunning. the set pieces, the cinematography, the use of visual effects and lights, the sound design and music, all, absolutely amazing and almost literally stunning! but then? i'm not really seeing much after that. as i have not read the books, this movie was a total mystery to me. there's barely any dialog--at least not any that would explain anything what's going on at all. the world and the technology etc just doesn't make much sense to me. none of the characters are particularly interesting, to be honest. they don't really have that much personality to them, and even if they did, they didn't really make me care about them all that much. i don't know, i'm a bit conflicted, it wasn't a bad movie and, as i said, it was entertaining and visually mesmerizing, but it lacked the depth that i was expecting of a world this size and this rich with lore and history_epoch. maybe the movie makers assumed everyone has read the books? as someone to who the world is not familiar at all, it just seems rather confusing and strange. i feel like they just focused on making it as visually awesome as they can (in which they arguably succeeded), but left the story on the pages of the books.\n",
      "Predicted sentiment: negativo\n"
     ]
    }
   ],
   "source": [
    "sentiment = predict_sentiment(text, model, tokenizer, device, max_length)\n",
    "print(predict_tratamento_texto(text,lemma= False))\n",
    "print(f\"Predicted sentiment: {sentiment}\")"
   ]
  },
  {
   "cell_type": "code",
   "execution_count": 97,
   "metadata": {},
   "outputs": [],
   "source": [
    "# Love Lies Bleeding (2024) 8/10 \n",
    "text=\"\"\"Love Lies Bleeding is a bigger, bolder, and more violent follow-up feature for Rose Glass. It literally puts the premise of Thelma & Louise on steroids with a very muscular approach that goes for broke in its ending which, love it or hate it, is to be commended for its audacity. Body horror, romance, and dark comedy are all blended into one distinctive vision.  Kristen Stewart is amazing, awkward and off hand with one of the best dramatic pauses of recent memory. Katy O'Brian has been massively under served by her roles in the big franchises which makes this much more layered performance all the more satisfying. Together, their chemistry is instant and they communicate how badly they want each other so well.  Ed Harris has played a lot of villains so its a real testament to his performance and the writing of the character that this one still stands out. His long haired, bug eating gangster makes for a consistently creepy highlight. Also, Dave Franco does a great job as a spineless abusive husband who's fate is obvious and all the more satisfying because of how he plays it.  Saint Maud definitely wasn't lacking in vision but Rose Glass has really upped her craft here. From its reality manipulating opening scene to the extreme close ups of muscles in action, it's clear that the film will move between extremes as it deftly balances the violence and body horror against an affecting romance that refuses to go for the most obvious outcomes.  The sound design and editing here is so visceral. Gunshots feel scary as they often come out of nowhere and the way scenes can abruptly switch between very different soundscapes keeps you on edge. Clint Mansell's score really matches the song choices for a seamless soundtrack whilst being completely distinct.\"\"\""
   ]
  },
  {
   "cell_type": "code",
   "execution_count": 98,
   "metadata": {},
   "outputs": [
    {
     "name": "stdout",
     "output_type": "stream",
     "text": [
      "prob negativa: 0.00562\n",
      "prob positiva: 0.99438\n",
      "love lies bleeding is a bigger, bolder, and more violent follow-up feature for rose glass. it literally puts the premise of thelma & louise on steroids with a very muscular approach that goes for broke in its ending which, love it or hate it, is to be commended for its audacity. body horror, romance, and dark comedy are all blended into one distinctive vision. kristen stewart is amazing, awkward and off hand with one of the best dramatic pauses of recent memory. katy o'brian has been massively under served by her roles in the big franchises which makes this much more layered performance all the more satisfying. together, their chemistry is instant and they communicate how badly they want each other so well. ed harris has played a lot of villains so its a real testament to his performance and the writing of the character that this one still stands out. his long haired, bug eating gangster makes for a consistently creepy highlight. also, dave franco does a great job as a spineless abusive husband who's fate is obvious and all the more satisfying because of how he plays it. saint maud definitely wasn't lacking in vision but rose glass has really upped her craft here. from its reality manipulating opening scene to the extreme close ups of muscles in action, it's clear that the film will move between extremes as it deftly balances the violence and body horror against an affecting romance that refuses to go for the most obvious outcomes. the sound design and editing here is so visceral. gunshots feel scary as they often come out of nowhere and the way scenes can abruptly switch between very different soundscapes keeps you on edge. clint mansell's score really matches the song choices for a seamless soundtrack whilst being completely distinct.\n",
      "Predicted sentiment: positivo\n"
     ]
    }
   ],
   "source": [
    "sentiment = predict_sentiment(text, model, tokenizer, device, max_length)\n",
    "print(predict_tratamento_texto(text,lemma= False))\n",
    "print(f\"Predicted sentiment: {sentiment}\")"
   ]
  },
  {
   "cell_type": "code",
   "execution_count": 99,
   "metadata": {},
   "outputs": [],
   "source": [
    "# The Godfather Part II (1974) 9/10\n",
    "text =\"\"\"Although the casual way it has been titled leaves it with plenty to answer for, 'Godfather II' rightly remains the only sequel ever to win an Oscar for Best Picture of the year.  With Brando out of the picture the focus has shifted to Michael and much more money was obviously available to spend on the movie itself (with plush production design and cool fifties cars gliding across the screen a recurrent motif).  Robert De Niro as the young Don Corleone brings a lean and hungry look to the part by then completely beyond Brando (by comparison Al Pacino looks much older).  The film is far more ambitious, both technically and thematically, addressing America's changing role in the world rather than just the activities of one family.\"\"\""
   ]
  },
  {
   "cell_type": "code",
   "execution_count": 100,
   "metadata": {},
   "outputs": [
    {
     "name": "stdout",
     "output_type": "stream",
     "text": [
      "prob negativa: 0.00556\n",
      "prob positiva: 0.99444\n",
      "although the casual way it has been titled leaves it with plenty to answer for, 'godfather ii' rightly remains the only sequel ever to win an oscar for best picture of the year. with brando out of the picture the focus has shifted to michael and much more money was obviously available to spend on the movie itself (with plush production design and cool fifties cars gliding across the screen a recurrent motif). robert de niro as the young don corleone brings a lean and hungry look to the part by then completely beyond brando (by comparison al pacino looks much older). the film is far more ambitious, both technically and thematically, addressing america's changing role in the world rather than just the activities of one family.\n",
      "Predicted sentiment: positivo\n"
     ]
    }
   ],
   "source": [
    "sentiment = predict_sentiment(text, model, tokenizer, device, max_length)\n",
    "print(predict_tratamento_texto(text,lemma= False))\n",
    "print(f\"Predicted sentiment: {sentiment}\")"
   ]
  },
  {
   "cell_type": "code",
   "execution_count": 101,
   "metadata": {},
   "outputs": [],
   "source": [
    "# The Godfather Part II (1974) 10/10\n",
    "\n",
    "text = \"\"\"One of the all time greats. Or probably the alone greatest thing ever made in the history_epoch of cinematography. This movie is both \"prequel\" and \"sequel\" of the first godfather movie. I have never watched anything like this in my entire life. This movie has explained the life of underworld people in a great way. It also shows how vengeance eradicates happiness from your life. People don't even care about their family in greed of power. It's a masterpiece that can never be written off even after centuries. Even if you are not into these kind of movies, I will suggest to watch it for atleast once in your life or you'll be deprived of one of the greatest things to watch that have been ever made.\"\"\""
   ]
  },
  {
   "cell_type": "code",
   "execution_count": 102,
   "metadata": {},
   "outputs": [
    {
     "name": "stdout",
     "output_type": "stream",
     "text": [
      "prob negativa: 0.00770\n",
      "prob positiva: 0.99230\n",
      "one of the all time greats. or probably the alone greatest thing ever made in the history_epoch of cinematography. this movie is both \"prequel\" and \"sequel\" of the first godfather movie. i have never watched anything like this in my entire life. this movie has explained the life of underworld people in a great way. it also shows how vengeance eradicates happiness from your life. people don't even care about their family in greed of power. it's a masterpiece that can never be written off even after centuries. even if you are not into these kind of movies, i will suggest to watch it for atleast once in your life or you'll be deprived of one of the greatest things to watch that have been ever made.\n",
      "Predicted sentiment: positivo\n"
     ]
    }
   ],
   "source": [
    "sentiment = predict_sentiment(text, model, tokenizer, device, max_length)\n",
    "print(predict_tratamento_texto(text,lemma= False))\n",
    "print(f\"Predicted sentiment: {sentiment}\")"
   ]
  },
  {
   "cell_type": "markdown",
   "metadata": {},
   "source": [
    "### Simples test sentiment prections"
   ]
  },
  {
   "cell_type": "code",
   "execution_count": 103,
   "metadata": {},
   "outputs": [
    {
     "name": "stdout",
     "output_type": "stream",
     "text": [
      "prob negativa: 0.99852\n",
      "prob positiva: 0.00148\n",
      "Texto:  The movie was so bad and I would not recommend it to anyone.\n",
      "Predicted sentiment: negativo\n"
     ]
    }
   ],
   "source": [
    "# Test sentiment prediction\n",
    "test_text = \"The movie was so bad and I would not recommend it to anyone.\"\n",
    "sentiment = predict_sentiment(test_text, model, tokenizer, device, max_length)\n",
    "print(\"Texto: \", test_text)\n",
    "print(f\"Predicted sentiment: {sentiment}\")"
   ]
  },
  {
   "cell_type": "code",
   "execution_count": 104,
   "metadata": {},
   "outputs": [
    {
     "name": "stdout",
     "output_type": "stream",
     "text": [
      "prob negativa: 0.02250\n",
      "prob positiva: 0.97750\n",
      "Worst movie of the year.\n",
      "Predicted sentiment: positivo\n"
     ]
    }
   ],
   "source": [
    "# Test sentiment prediction\n",
    "test_text = \"Best movie of the year. \"\n",
    "sentiment = predict_sentiment(test_text, model, tokenizer, device, max_length)\n",
    "print(\"Worst movie of the year.\")\n",
    "print(f\"Predicted sentiment: {sentiment}\")"
   ]
  },
  {
   "cell_type": "code",
   "execution_count": 105,
   "metadata": {},
   "outputs": [
    {
     "name": "stdout",
     "output_type": "stream",
     "text": [
      "prob negativa: 0.94617\n",
      "prob positiva: 0.05383\n",
      "This movie is more or less,and I would not recommend it to anyone, but i busy.\n",
      "Predicted sentiment: negativo\n"
     ]
    }
   ],
   "source": [
    "# Test sentiment prediction\n",
    "test_text = \"This movie is more or less,and I would not recommend it to anyone, but i busy.\"\n",
    "sentiment = predict_sentiment(test_text, model, tokenizer, device, max_length)\n",
    "print(test_text)\n",
    "print(f\"Predicted sentiment: {sentiment}\")"
   ]
  }
 ],
 "metadata": {
  "kernelspec": {
   "display_name": ".venv-tcc",
   "language": "python",
   "name": "python3"
  },
  "language_info": {
   "codemirror_mode": {
    "name": "ipython",
    "version": 3
   },
   "file_extension": ".py",
   "mimetype": "text/x-python",
   "name": "python",
   "nbconvert_exporter": "python",
   "pygments_lexer": "ipython3",
   "version": "3.11.5"
  }
 },
 "nbformat": 4,
 "nbformat_minor": 2
}
