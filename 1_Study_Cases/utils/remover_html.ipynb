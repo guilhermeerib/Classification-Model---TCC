{
 "cells": [
  {
   "cell_type": "code",
   "execution_count": 1,
   "metadata": {},
   "outputs": [],
   "source": [
    "import re\n",
    "import pandas as pd\n",
    "def has_html_tags(text):\n",
    "    # Verifica se o texto contém tags HTML\n",
    "    return bool(re.search(re.compile(\"<.*?>\"), text))\n",
    "\n",
    "\n",
    "def remove_tags(raw_text):\n",
    "    cleaned_text = re.sub(re.compile(\"<.*?>\"), \"\", raw_text)\n",
    "    return cleaned_text\n"
   ]
  },
  {
   "cell_type": "code",
   "execution_count": null,
   "metadata": {},
   "outputs": [],
   "source": [
    "# DATA_PATH = \"D:/tcc2/guilherme/3_Data_Processing/Scraper_Dataset_Tratamento.ipynb\"\n",
    "DATA_PATH = \"D:/tcc2/guilherme/2_Web_Scrapping/data/reviews_movies_scraper2.csv\"\n",
    "# DATA_PATH = \"D:/tcc2/guilherme/2_Web_Scrapping/data/reviews_scraper_original.csv\"\n",
    "df = pd.read_csv(DATA_PATH)\n",
    "df = df[['review','rating']]\n",
    "df\n",
    "\n",
    "# Aplicar a função para verificar a presença de tags HTML a toda a coluna 'review'\n",
    "df[\"has_html\"] = df[\"review\"].apply(has_html_tags)\n",
    "\n",
    "# Contar o número de itens que contêm tags HTML\n",
    "count_html_tags = df[\"has_html\"].sum()\n",
    "\n",
    "if count_html_tags > 0:\n",
    "    print(f\"Número de reviews que contêm tags HTML: {count_html_tags}\")\n",
    "    \n",
    "    # Exibir os comentários que contêm tags HTML\n",
    "    reviews_with_html = df[df[\"has_html\"]][\"review\"]\n",
    "    print(\"Reviews que contêm tags HTML:\")\n",
    "    for review in reviews_with_html:\n",
    "        print(review)\n",
    "        \n",
    "    df[\"review\"] = df[\"review\"].apply(remove_tags)\n",
    "    df[\"review\"][1]\n",
    "    # Remover a coluna auxiliar 'has_html'\n",
    "    df = df.drop(columns=[\"has_html\"])"
   ]
  }
 ],
 "metadata": {
  "kernelspec": {
   "display_name": ".venv",
   "language": "python",
   "name": "python3"
  },
  "language_info": {
   "codemirror_mode": {
    "name": "ipython",
    "version": 3
   },
   "file_extension": ".py",
   "mimetype": "text/x-python",
   "name": "python",
   "nbconvert_exporter": "python",
   "pygments_lexer": "ipython3",
   "version": "3.11.5"
  }
 },
 "nbformat": 4,
 "nbformat_minor": 2
}
