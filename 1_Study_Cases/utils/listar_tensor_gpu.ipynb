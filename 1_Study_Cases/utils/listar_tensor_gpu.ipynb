{
 "cells": [
  {
   "cell_type": "markdown",
   "metadata": {},
   "source": [
    "### Listar tensores na GPU e CPU\n",
    "\n",
    "Exemplo para ser usado em códigos de redes neurais, onde houver erros de tensores em dispositivos diferentes"
   ]
  },
  {
   "cell_type": "code",
   "execution_count": null,
   "metadata": {},
   "outputs": [],
   "source": [
    "import torch\n",
    "import gc\n",
    "\n",
    "def get_tensors_in_gpu():\n",
    "    print(\"\\nTensores na GPU:\")\n",
    "    for obj in gc.get_objects():\n",
    "        if torch.is_tensor(obj):\n",
    "            if obj.is_cuda:\n",
    "                print(type(obj), obj.size(), obj.device)\n",
    "                \n",
    "get_tensors_in_gpu()\n",
    "# Liberar os tensores para serem liberados da memória\n",
    "torch.cuda.empty_cache()\n"
   ]
  },
  {
   "cell_type": "code",
   "execution_count": null,
   "metadata": {},
   "outputs": [],
   "source": [
    "\n",
    "# Função para listar tensores na CPU\n",
    "def get_tensors_in_cpu():\n",
    "    print(\"\\nTensores na CPU:\")\n",
    "    for obj in gc.get_objects():\n",
    "        if torch.is_tensor(obj):\n",
    "            if not obj.is_cuda:\n",
    "                print(type(obj), obj.size(), obj.device)\n",
    "\n",
    "# Listar tensores na CPU\n",
    "get_tensors_in_cpu()"
   ]
  },
  {
   "cell_type": "code",
   "execution_count": 1,
   "metadata": {},
   "outputs": [],
   "source": [
    "test = 'teste?teste'"
   ]
  },
  {
   "cell_type": "code",
   "execution_count": 6,
   "metadata": {},
   "outputs": [],
   "source": [
    "test = test + '?teste'"
   ]
  }
 ],
 "metadata": {
  "kernelspec": {
   "display_name": ".venv",
   "language": "python",
   "name": "python3"
  },
  "language_info": {
   "codemirror_mode": {
    "name": "ipython",
    "version": 3
   },
   "file_extension": ".py",
   "mimetype": "text/x-python",
   "name": "python",
   "nbconvert_exporter": "python",
   "pygments_lexer": "ipython3",
   "version": "3.11.5"
  }
 },
 "nbformat": 4,
 "nbformat_minor": 2
}
