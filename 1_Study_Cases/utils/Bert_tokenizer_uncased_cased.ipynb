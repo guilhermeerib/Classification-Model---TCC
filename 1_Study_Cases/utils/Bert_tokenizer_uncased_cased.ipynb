{
 "cells": [
  {
   "cell_type": "code",
   "execution_count": 1,
   "metadata": {},
   "outputs": [],
   "source": [
    "from transformers import (\n",
    "    BertTokenizer,\n",
    "    \n",
    ")"
   ]
  },
  {
   "cell_type": "code",
   "execution_count": 2,
   "metadata": {},
   "outputs": [],
   "source": [
    "TEXTO = \"🙂 👌 ❤️HELLO hello 🙂\""
   ]
  },
  {
   "cell_type": "code",
   "execution_count": 3,
   "metadata": {},
   "outputs": [
    {
     "name": "stderr",
     "output_type": "stream",
     "text": [
      "d:\\tcc2\\guilherme\\.venv\\Lib\\site-packages\\huggingface_hub\\file_download.py:1132: FutureWarning: `resume_download` is deprecated and will be removed in version 1.0.0. Downloads always resume when possible. If you want to force a new download, use `force_download=True`.\n",
      "  warnings.warn(\n"
     ]
    },
    {
     "data": {
      "text/plain": [
       "{'input_ids': [101, 100, 100, 100, 19082, 100, 102], 'token_type_ids': [0, 0, 0, 0, 0, 0, 0], 'attention_mask': [1, 1, 1, 1, 1, 1, 1]}"
      ]
     },
     "execution_count": 3,
     "metadata": {},
     "output_type": "execute_result"
    }
   ],
   "source": [
    "BertTokenizer.from_pretrained('bert-base-cased')(TEXTO)\n"
   ]
  },
  {
   "cell_type": "code",
   "execution_count": 4,
   "metadata": {},
   "outputs": [
    {
     "data": {
      "text/plain": [
       "{'input_ids': [101, 100, 100, 100, 7592, 100, 102], 'token_type_ids': [0, 0, 0, 0, 0, 0, 0], 'attention_mask': [1, 1, 1, 1, 1, 1, 1]}"
      ]
     },
     "execution_count": 4,
     "metadata": {},
     "output_type": "execute_result"
    }
   ],
   "source": [
    "\n",
    "BertTokenizer.from_pretrained('bert-base-uncased')(TEXTO)"
   ]
  },
  {
   "cell_type": "markdown",
   "metadata": {},
   "source": [
    "no modelo uncased, os tokens são convertidos para minúsculas e são removidos a acentuação.\n",
    "\n",
    "os inputs ids, são iguais independente da conversão prévia\n"
   ]
  },
  {
   "cell_type": "code",
   "execution_count": 5,
   "metadata": {},
   "outputs": [
    {
     "name": "stdout",
     "output_type": "stream",
     "text": [
      "Este é um exemplo com espaços extras.\n"
     ]
    }
   ],
   "source": [
    "import re\n",
    "\n",
    "def normalize_spaces(text):\n",
    "    # Substitui múltiplos espaços por um único espaço\n",
    "    text = re.sub(r'\\s+', ' ', text)\n",
    "    # Remove espaços em branco extras no início e no final do texto\n",
    "    text = text.strip()\n",
    "    # Remove caracteres invisíveis (como espaços em branco, tabs e quebras de linha) no início e no final do texto\n",
    "    # text = text.strip(\"\\t\\n\\r\")\n",
    "    return text\n",
    "\n",
    "# Exemplo de uso\n",
    "text = \"\"\"   Este \n",
    "\n",
    "é  \n",
    "        um  \n",
    "                exemplo   com    \n",
    "\n",
    "\n",
    "espaços  extras.   \n",
    "\n",
    "\n",
    "\"\"\"\n",
    "normalized_text = normalize_spaces(text)\n",
    "print(normalized_text)\n"
   ]
  }
 ],
 "metadata": {
  "kernelspec": {
   "display_name": ".venv",
   "language": "python",
   "name": "python3"
  },
  "language_info": {
   "codemirror_mode": {
    "name": "ipython",
    "version": 3
   },
   "file_extension": ".py",
   "mimetype": "text/x-python",
   "name": "python",
   "nbconvert_exporter": "python",
   "pygments_lexer": "ipython3",
   "version": "3.11.5"
  }
 },
 "nbformat": 4,
 "nbformat_minor": 2
}
