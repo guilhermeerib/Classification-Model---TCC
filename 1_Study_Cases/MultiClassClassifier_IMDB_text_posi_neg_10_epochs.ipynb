{
 "cells": [
  {
   "cell_type": "markdown",
   "metadata": {},
   "source": [
    "## Text Classification with BERT\n",
    "\n",
    "\n"
   ]
  },
  {
   "cell_type": "code",
   "execution_count": 1,
   "metadata": {},
   "outputs": [],
   "source": [
    "### Instalando as dependências necessárias\n",
    "# ! pip3 install torch torchvision torchaudio --index-url https://download.pytorch.org/whl/cu121\n",
    "# ! pip install transformers\n",
    "# # ! pip install torchviz\n",
    "# ! pip install scikit-learn\n",
    "# ! pip install ipywidgets\n",
    "# Tratamento de dados\n",
    "# ! pip install -U pip setuptools wheel\n",
    "# ! pip install -U 'spacy'\n",
    "# ! python -m spacy download en_core_web_sm"
   ]
  },
  {
   "cell_type": "code",
   "execution_count": 1,
   "metadata": {},
   "outputs": [],
   "source": [
    "import re\n",
    "import spacy\n",
    "import torch\n",
    "import pandas as pd\n",
    "import numpy as np\n",
    "from torch import nn\n",
    "from torch.utils.data import DataLoader, Dataset\n",
    "import torch.nn.functional as F\n",
    "from torch.optim import AdamW\n",
    "from transformers import (\n",
    "    BertTokenizer,\n",
    "    BertModel,\n",
    "    get_linear_schedule_with_warmup,\n",
    ")\n",
    "from tqdm import tqdm\n",
    "from sklearn.model_selection import train_test_split\n",
    "from sklearn.metrics import accuracy_score, classification_report"
   ]
  },
  {
   "cell_type": "code",
   "execution_count": 175,
   "metadata": {},
   "outputs": [],
   "source": [
    "# Name do modelo de classificação a ser baixado\n",
    "\n",
    "MODEL_CLASSIFICATION_NAME= \"D:/tcc2/guilherme/1_Study_Cases/saved_models/BinaryClassificationModel_IMDB_dataset_origin.pth\"\n"
   ]
  },
  {
   "cell_type": "markdown",
   "metadata": {},
   "source": [
    "### Baixar CSV DAtaset\n",
    "\n",
    "Caso você queira executar o modelo no colab, você deve baixar o conjunto de dados do IMDB no link abaixo e adiciona-lo a raiz do seu projeto:\n",
    "\n",
    "<a href=\"https://www.kaggle.com/datasets/lakshmi25npathi/imdb-dataset-of-50k-movie-reviews\" target=\"_blank\">Conjunto de dados IMDB de 50 mil críticas de filmes</a>\n"
   ]
  },
  {
   "cell_type": "code",
   "execution_count": 3,
   "metadata": {},
   "outputs": [],
   "source": [
    "def load_imdb_data(data_path):\n",
    "    df = pd.read_csv(data_path)\n",
    "    df[\"sentiment\"] = [\n",
    "        1 if sentiment == \"positive\" else 0 for sentiment in df[\"sentiment\"].tolist()\n",
    "    ]\n",
    "    return df"
   ]
  },
  {
   "cell_type": "code",
   "execution_count": 4,
   "metadata": {},
   "outputs": [],
   "source": [
    "def load_texts_labels(df):\n",
    "    texts = df[\"review\"].tolist()\n",
    "    labels = df[\"sentiment\"].tolist()\n",
    "    return texts, labels"
   ]
  },
  {
   "cell_type": "code",
   "execution_count": 5,
   "metadata": {},
   "outputs": [],
   "source": [
    "DATA_PATH = \"D:/tcc2/guilherme/1_Study_Cases/data/IMDB Dataset.csv\"\n",
    "df = load_imdb_data(DATA_PATH)\n"
   ]
  },
  {
   "cell_type": "code",
   "execution_count": 6,
   "metadata": {},
   "outputs": [
    {
     "data": {
      "text/plain": [
       "418"
      ]
     },
     "execution_count": 6,
     "metadata": {},
     "output_type": "execute_result"
    }
   ],
   "source": [
    "df.duplicated().sum()"
   ]
  },
  {
   "cell_type": "code",
   "execution_count": 7,
   "metadata": {},
   "outputs": [
    {
     "data": {
      "text/plain": [
       "0"
      ]
     },
     "execution_count": 7,
     "metadata": {},
     "output_type": "execute_result"
    }
   ],
   "source": [
    "df = df.drop_duplicates()\n",
    "df.duplicated().sum()"
   ]
  },
  {
   "cell_type": "code",
   "execution_count": 8,
   "metadata": {},
   "outputs": [
    {
     "data": {
      "text/plain": [
       "49582"
      ]
     },
     "execution_count": 8,
     "metadata": {},
     "output_type": "execute_result"
    }
   ],
   "source": [
    "df[\"review\"].size"
   ]
  },
  {
   "cell_type": "code",
   "execution_count": 9,
   "metadata": {},
   "outputs": [],
   "source": [
    "def maior_text(texts):\n",
    "    return max(texts, key=lambda x: len(x.split()))"
   ]
  },
  {
   "cell_type": "code",
   "execution_count": 10,
   "metadata": {},
   "outputs": [
    {
     "name": "stdout",
     "output_type": "stream",
     "text": [
      "13704\n"
     ]
    }
   ],
   "source": [
    "texts, labels = load_texts_labels(df)\n",
    "maior_string = maior_text(texts)\n",
    "tam_maior_string = len(maior_string)\n",
    "print(tam_maior_string)"
   ]
  },
  {
   "cell_type": "code",
   "execution_count": 12,
   "metadata": {},
   "outputs": [],
   "source": [
    "class TextClassificationDataset(Dataset):\n",
    "    def __init__(self, texts, labels, tokenizer, max_length):\n",
    "        self.texts = texts\n",
    "        self.labels = labels\n",
    "        self.tokenizer = tokenizer\n",
    "        self.max_length = max_length\n",
    "\n",
    "    def __len__(self):\n",
    "        return len(self.texts)\n",
    "\n",
    "    def __getitem__(self, idx):\n",
    "        text = self.texts[idx]\n",
    "        label = self.labels[idx]\n",
    "        encoding = self.tokenizer(\n",
    "            text,\n",
    "            return_tensors=\"pt\",\n",
    "            max_length=self.max_length,\n",
    "            padding=\"max_length\",\n",
    "            truncation=True,\n",
    "        )\n",
    "        return {\n",
    "            \"input_ids\": encoding[\"input_ids\"].flatten(),\n",
    "            \"attention_mask\": encoding[\"attention_mask\"].flatten(),\n",
    "            \"label\": torch.tensor(label),\n",
    "        }"
   ]
  },
  {
   "cell_type": "code",
   "execution_count": 15,
   "metadata": {},
   "outputs": [],
   "source": [
    "# original com funcoes de ativacao relu\n",
    "\n",
    "class MultiClassClassifier(nn.Module):\n",
    "    def __init__(self, bert_model_name: str, hidden_size: int, num_classes: int):\n",
    "        super(MultiClassClassifier, self).__init__()\n",
    "        self.bert = BertModel.from_pretrained(bert_model_name)\n",
    "        self.dropout = nn.Dropout(0.1)\n",
    "        self.linear1 = nn.Linear(self.bert.config.hidden_size, hidden_size)\n",
    "        self.linear2 = nn.Linear(hidden_size, num_classes)\n",
    "\n",
    "    def forward(self, input_ids, attention_mask):\n",
    "        outputs_bert = self.bert(input_ids=input_ids, attention_mask=attention_mask)\n",
    "        pooled_output = outputs_bert.pooler_output\n",
    "        drop = F.relu(self.dropout(pooled_output))\n",
    "        logits = F.relu(self.linear1(drop))\n",
    "        logits = F.relu(self.linear2(logits))\n",
    "\n",
    "        return logits"
   ]
  },
  {
   "cell_type": "code",
   "execution_count": 16,
   "metadata": {},
   "outputs": [],
   "source": [
    "def train_model_epoch(\n",
    "    model: MultiClassClassifier, data_loader, optimizer, scheduler, loss_func, device\n",
    "):\n",
    "    model.train()\n",
    "    losses = []\n",
    "    model_prediction = []\n",
    "    actual_labels = []\n",
    "    for batch in tqdm(data_loader, colour=\"green\", desc=\"Train_epoch: \"):\n",
    "    \n",
    "        optimizer.zero_grad()\n",
    "        input_ids = batch[\"input_ids\"].to(device)\n",
    "        attention_mask = batch[\"attention_mask\"].to(device)\n",
    "        labels = batch[\"label\"].to(device)\n",
    "        outputs = model(input_ids=input_ids, attention_mask=attention_mask)\n",
    "\n",
    "        loss = loss_func(outputs, labels)\n",
    "        loss.backward()\n",
    "        losses.append(loss.item())\n",
    "\n",
    "        _, preds = torch.max(outputs, dim=1)\n",
    "        model_prediction.extend(preds.cpu().tolist())\n",
    "        actual_labels.extend(labels.cpu().tolist())\n",
    "\n",
    "        optimizer.step()\n",
    "        scheduler.step()\n",
    "\n",
    "    train_accuracy = accuracy_score(actual_labels, model_prediction)\n",
    "    train_loss = np.mean(losses)\n",
    "\n",
    "\n",
    "    return train_accuracy, train_loss"
   ]
  },
  {
   "cell_type": "code",
   "execution_count": 17,
   "metadata": {},
   "outputs": [],
   "source": [
    "def eval_model_epoch(\n",
    "    model: MultiClassClassifier, data_loader: TextClassificationDataset,loss_func, device: str\n",
    "):\n",
    "    model.eval()\n",
    "    losses = []\n",
    "    model_prediction = []\n",
    "    actual_labels = []\n",
    "    correct_predictions = 0\n",
    "    with torch.no_grad():\n",
    "        for batch in tqdm(data_loader, colour=\"blue\", desc=\"Validation_epoch: \"):\n",
    "            input_ids = batch[\"input_ids\"].to(device)\n",
    "            attention_mask = batch[\"attention_mask\"].to(device)\n",
    "            labels = batch[\"label\"].to(device)\n",
    "            outputs = model(input_ids=input_ids, attention_mask=attention_mask)\n",
    "            _, preds = torch.max(outputs, dim=1)\n",
    "            model_prediction.extend(preds.cpu().tolist())\n",
    "            actual_labels.extend(labels.cpu().tolist())\n",
    "            correct_predictions += torch.sum(preds == labels)\n",
    "            loss = loss_func(outputs, labels)\n",
    "            losses.append(loss.item())\n",
    "    val_losses = np.mean(losses)\n",
    "    val_accuracies = accuracy_score(actual_labels, model_prediction)\n",
    "    report = classification_report(actual_labels, model_prediction,output_dict=True)\n",
    "    return (val_accuracies, val_losses, report)"
   ]
  },
  {
   "cell_type": "code",
   "execution_count": 18,
   "metadata": {},
   "outputs": [],
   "source": [
    "# Set up parameters\n",
    "BERT_MODEL_NAME = \"bert-base-uncased\"\n",
    "hidden_size = 10  # Tamanho camada oculto, neuronios antes da saída\n",
    "num_outputs = 3  # numero de classes de saída [negativo,neutro, positivo]\n",
    "max_length = 256  # 128,256,512 (tamanho do texto a ser tokenizado vetorizado)\n",
    "batch_size = 8  # 8, 16, 32 (tamanho do lote na iteracao, treinamento e classe)\n",
    "num_epochs = 10  # recomend in the Bert Article [2,3,4]\n",
    "learning_rate = 2e-5  # Taxa de aprendizagem (Adam): 5e-5, 3e-5, 2e-5"
   ]
  },
  {
   "cell_type": "code",
   "execution_count": 20,
   "metadata": {},
   "outputs": [],
   "source": [
    "# temp_texts e temp_labels são variáveis usadas \n",
    "# para separar o dataset de validação e treinamento\n",
    "# Sem perder a vantagem da função train_text_split\n",
    "# definindo train_data como 70% dos dados\n",
    "# definindo temp_text como 30% dos dados\n",
    "train_texts, temp_texts, train_labels, temp_labels = train_test_split(\n",
    "    texts, labels, test_size=0.3, random_state=42\n",
    ")\n",
    "\n",
    "# define validatin_data and test_data \n",
    "val_texts, test_texts, val_labels, test_labels = train_test_split(\n",
    "    temp_texts, temp_labels, test_size=0.5, random_state=42\n",
    ")"
   ]
  },
  {
   "cell_type": "code",
   "execution_count": 21,
   "metadata": {},
   "outputs": [
    {
     "name": "stderr",
     "output_type": "stream",
     "text": [
      "d:\\tcc2\\guilherme\\.venv\\Lib\\site-packages\\huggingface_hub\\file_download.py:1132: FutureWarning: `resume_download` is deprecated and will be removed in version 1.0.0. Downloads always resume when possible. If you want to force a new download, use `force_download=True`.\n",
      "  warnings.warn(\n"
     ]
    }
   ],
   "source": [
    "tokenizer = BertTokenizer.from_pretrained(BERT_MODEL_NAME)\n"
   ]
  },
  {
   "cell_type": "code",
   "execution_count": 22,
   "metadata": {},
   "outputs": [],
   "source": [
    "# Creating personalized dataset train,eval and test\n",
    "train_dataset = TextClassificationDataset(\n",
    "    train_texts, train_labels, tokenizer, max_length\n",
    ")\n",
    "val_dataset = TextClassificationDataset(val_texts, val_labels, tokenizer, max_length)\n",
    "test_dataset= TextClassificationDataset(test_texts, test_labels, tokenizer, max_length)\n",
    "\n",
    "# creating iterator data_loader train, eval and test\n",
    "train_dataloader = DataLoader(train_dataset, batch_size=batch_size, shuffle=True)\n",
    "val_dataloader = DataLoader(val_dataset, batch_size=batch_size)\n",
    "test_dataloader = DataLoader(test_dataset, batch_size=batch_size)\n"
   ]
  },
  {
   "cell_type": "code",
   "execution_count": 29,
   "metadata": {},
   "outputs": [
    {
     "name": "stdout",
     "output_type": "stream",
     "text": [
      "cuda\n"
     ]
    },
    {
     "name": "stderr",
     "output_type": "stream",
     "text": [
      "d:\\tcc2\\guilherme\\.venv\\Lib\\site-packages\\huggingface_hub\\file_download.py:1132: FutureWarning: `resume_download` is deprecated and will be removed in version 1.0.0. Downloads always resume when possible. If you want to force a new download, use `force_download=True`.\n",
      "  warnings.warn(\n"
     ]
    }
   ],
   "source": [
    "device = torch.device(\"cuda\" if torch.cuda.is_available() else \"cpu\")\n",
    "print(device)\n",
    "model = MultiClassClassifier(BERT_MODEL_NAME,hidden_size, num_outputs).to(device)\n"
   ]
  },
  {
   "cell_type": "code",
   "execution_count": 30,
   "metadata": {},
   "outputs": [],
   "source": [
    "optimizer = AdamW(model.parameters(), lr=learning_rate)\n",
    "total_steps = len(train_dataloader) * num_epochs\n",
    "scheduler = get_linear_schedule_with_warmup(\n",
    "    optimizer, num_warmup_steps=0, num_training_steps=total_steps\n",
    ")\n",
    "loss_func = nn.CrossEntropyLoss().to(device)"
   ]
  },
  {
   "cell_type": "markdown",
   "metadata": {},
   "source": [
    "## Fit model\n",
    "\n",
    "on ocours epoch  training and validation epochs and adjustment weight models"
   ]
  },
  {
   "cell_type": "code",
   "execution_count": null,
   "metadata": {},
   "outputs": [],
   "source": [
    "history = {\n",
    "    \"train_losses\": [],\n",
    "    \"train_accuracies\": [],\n",
    "    \"val_losses\": [],\n",
    "    \"val_accuracies\": [],\n",
    "    \"val_reports\": [],\n",
    "}\n",
    "\n",
    "best_accuracy = 0\n",
    "epochs_without_improvements = 0\n"
   ]
  },
  {
   "cell_type": "code",
   "execution_count": 143,
   "metadata": {},
   "outputs": [
    {
     "name": "stdout",
     "output_type": "stream",
     "text": [
      "Epoch 1/1\n",
      "--------------------------------------------------\n"
     ]
    },
    {
     "name": "stderr",
     "output_type": "stream",
     "text": [
      "Train_epoch: 100%|\u001b[32m██████████\u001b[0m| 4339/4339 [28:34<00:00,  2.53it/s]\n",
      "Validation_epoch: 100%|\u001b[34m██████████\u001b[0m| 930/930 [02:14<00:00,  6.91it/s]"
     ]
    },
    {
     "name": "stdout",
     "output_type": "stream",
     "text": [
      "Train => Loss = 0.0272, Accuracy = 0.9954\n",
      "Validation => Loss = 0.2852, Accuracy = 0.9269\n",
      "{'0': {'precision': 0.9305029745808545, 'recall': 0.9230150214592274, 'f1-score': 0.9267438728790736, 'support': 3728.0}, '1': {'precision': 0.9232415084247125, 'recall': 0.93070908600701, 'f1-score': 0.9269602577873255, 'support': 3709.0}, 'accuracy': 0.926852225359688, 'macro avg': {'precision': 0.9268722415027835, 'recall': 0.9268620537331187, 'f1-score': 0.9268520653331995, 'support': 7437.0}, 'weighted avg': {'precision': 0.9268815172764132, 'recall': 0.926852225359688, 'f1-score': 0.9268517889238103, 'support': 7437.0}}\n",
      "\n"
     ]
    },
    {
     "name": "stderr",
     "output_type": "stream",
     "text": [
      "\n"
     ]
    }
   ],
   "source": [
    "# Foi executado até chegar em 10 épocas para demonstrar o overfiting \n",
    "# as informações estão no gráfico de perda e de acuracia\n",
    "for epoch in range(num_epochs):\n",
    "    print(f\"Epoch {epoch + 1}/{1}\")\n",
    "    print(\"-\" * 50)\n",
    "    # Treinamento\n",
    "    train_accuracy, train_loss = train_model_epoch(\n",
    "        model, train_dataloader, optimizer, scheduler, loss_func, device\n",
    "    )\n",
    "    # Validation\n",
    "    val_accuracy, val_loss, report = eval_model_epoch(\n",
    "        model, val_dataloader, loss_func, device\n",
    "    )\n",
    "\n",
    "    history[\"train_losses\"].append(train_loss)\n",
    "    history[\"train_accuracies\"].append(train_accuracy)\n",
    "    history[\"val_losses\"].append(val_loss)\n",
    "    history[\"val_accuracies\"].append(val_accuracy)\n",
    "    history[\"val_reports\"].append(report)\n",
    "    print(f\"Train => Loss = {train_loss:.4f}, Accuracy = {train_accuracy:.4f}\")\n",
    "    print(f\"Validation => Loss = {val_loss:.4f}, Accuracy = {val_accuracy:.4f}\")\n",
    "    print(report)\n",
    "    print()\n",
    "    if val_accuracy > best_accuracy:\n",
    "        torch.save(model.state_dict(), MODEL_CLASSIFICATION_NAME)\n",
    "        epochs_without_improvements = 0\n",
    "        best_accuracy = val_accuracy\n",
    "    else:\n",
    "        epochs_without_improvements += 1\n",
    "\n",
    "    if epochs_without_improvements > 4:\n",
    "        break"
   ]
  },
  {
   "cell_type": "markdown",
   "metadata": {},
   "source": [
    "## Saving & Loading Model for Inference\n",
    "\n",
    "Save:\n"
   ]
  },
  {
   "cell_type": "code",
   "execution_count": 88,
   "metadata": {},
   "outputs": [],
   "source": [
    "# PATH_MODEL_SAVE = \"sentiment_classifier_Bert_IMDB_Dataset_sem_lemma.pth\"\n",
    "# torch.save(model.state_dict(), PATH_MODEL_SAVE)"
   ]
  },
  {
   "cell_type": "markdown",
   "metadata": {},
   "source": [
    "load:\n"
   ]
  },
  {
   "cell_type": "code",
   "execution_count": 176,
   "metadata": {},
   "outputs": [
    {
     "name": "stderr",
     "output_type": "stream",
     "text": [
      "d:\\tcc2\\guilherme\\.venv\\Lib\\site-packages\\huggingface_hub\\file_download.py:1132: FutureWarning: `resume_download` is deprecated and will be removed in version 1.0.0. Downloads always resume when possible. If you want to force a new download, use `force_download=True`.\n",
      "  warnings.warn(\n"
     ]
    },
    {
     "data": {
      "text/plain": [
       "<All keys matched successfully>"
      ]
     },
     "execution_count": 176,
     "metadata": {},
     "output_type": "execute_result"
    }
   ],
   "source": [
    "# PATH_MODEL_SAVE = \"sentiment_classifier_en_49500_reviews.pth\"\n",
    "load_model = MultiClassClassifier(BERT_MODEL_NAME,hidden_size, num_outputs).to(device)\n",
    "load_model.load_state_dict(torch.load(MODEL_CLASSIFICATION_NAME))\n",
    "# saved_model.eval()"
   ]
  },
  {
   "cell_type": "markdown",
   "metadata": {},
   "source": [
    "## Ploting loss function and acurracy in train_epoch and eval_epoch"
   ]
  },
  {
   "cell_type": "code",
   "execution_count": 145,
   "metadata": {},
   "outputs": [
    {
     "data": {
      "text/plain": [
       "{'train_losses': [0.3268703249053256,\n",
       "  0.136695322405704,\n",
       "  0.059833070534678734,\n",
       "  0.03349747616561796,\n",
       "  0.02606207493814552,\n",
       "  0.026454601832220124,\n",
       "  0.0266729584368348,\n",
       "  0.02628238601606845,\n",
       "  0.026425555681946725,\n",
       "  0.02658206394114378,\n",
       "  0.02719210777499338],\n",
       " 'train_accuracies': [0.8749531794738814,\n",
       "  0.9534964128273835,\n",
       "  0.9841530526983029,\n",
       "  0.9929985305557957,\n",
       "  0.9957357305442706,\n",
       "  0.995476416861152,\n",
       "  0.995706917912813,\n",
       "  0.9956781052813554,\n",
       "  0.9958797937015588,\n",
       "  0.9955916673869825,\n",
       "  0.9954476042296942],\n",
       " 'val_losses': [0.21313217627185008,\n",
       "  0.23902042837192614,\n",
       "  0.27980562997080627,\n",
       "  0.28515978003802,\n",
       "  0.28515978003802,\n",
       "  0.28515978003802,\n",
       "  0.28515978003802,\n",
       "  0.28515978003802,\n",
       "  0.28515978003802,\n",
       "  0.28515978003802,\n",
       "  0.28515978003802],\n",
       " 'val_accuracies': [0.917977679171709,\n",
       "  0.9139437945408094,\n",
       "  0.9193223073820089,\n",
       "  0.926852225359688,\n",
       "  0.926852225359688,\n",
       "  0.926852225359688,\n",
       "  0.926852225359688,\n",
       "  0.926852225359688,\n",
       "  0.926852225359688,\n",
       "  0.926852225359688,\n",
       "  0.926852225359688],\n",
       " 'val_reports': [{'0': {'precision': 0.938167509836987,\n",
       "    'recall': 0.8953862660944206,\n",
       "    'f1-score': 0.9162777930277244,\n",
       "    'support': 3728.0},\n",
       "   '1': {'precision': 0.8994586233565351,\n",
       "    'recall': 0.9406848207063898,\n",
       "    'f1-score': 0.9196099103848181,\n",
       "    'support': 3709.0},\n",
       "   'accuracy': 0.917977679171709,\n",
       "   'macro avg': {'precision': 0.9188130665967611,\n",
       "    'recall': 0.9180355434004053,\n",
       "    'f1-score': 0.9179438517062712,\n",
       "    'support': 7437.0},\n",
       "   'weighted avg': {'precision': 0.9188625132044745,\n",
       "    'recall': 0.917977679171709,\n",
       "    'f1-score': 0.9179395952702227,\n",
       "    'support': 7437.0}},\n",
       "  {'0': {'precision': 0.8776908023483366,\n",
       "    'recall': 0.9624463519313304,\n",
       "    'f1-score': 0.9181166837256909,\n",
       "    'support': 3728.0},\n",
       "   '1': {'precision': 0.9581964765601673,\n",
       "    'recall': 0.8651927743327043,\n",
       "    'f1-score': 0.9093227543213375,\n",
       "    'support': 3709.0},\n",
       "   'accuracy': 0.9139437945408094,\n",
       "   'macro avg': {'precision': 0.917943639454252,\n",
       "    'recall': 0.9138195631320174,\n",
       "    'f1-score': 0.9137197190235142,\n",
       "    'support': 7437.0},\n",
       "   'weighted avg': {'precision': 0.9178408017636492,\n",
       "    'recall': 0.9139437945408094,\n",
       "    'f1-score': 0.9137309523607928,\n",
       "    'support': 7437.0}},\n",
       "  {'0': {'precision': 0.9445707788516202,\n",
       "    'recall': 0.891362660944206,\n",
       "    'f1-score': 0.9171956941760971,\n",
       "    'support': 3728.0},\n",
       "   '1': {'precision': 0.8966573105384027,\n",
       "    'recall': 0.9474251819897547,\n",
       "    'f1-score': 0.9213424226533823,\n",
       "    'support': 3709.0},\n",
       "   'accuracy': 0.9193223073820089,\n",
       "   'macro avg': {'precision': 0.9206140446950115,\n",
       "    'recall': 0.9193939214669804,\n",
       "    'f1-score': 0.9192690584147397,\n",
       "    'support': 7437.0},\n",
       "   'weighted avg': {'precision': 0.9206752492061013,\n",
       "    'recall': 0.9193223073820089,\n",
       "    'f1-score': 0.9192637613970533,\n",
       "    'support': 7437.0}},\n",
       "  {'0': {'precision': 0.9305029745808545,\n",
       "    'recall': 0.9230150214592274,\n",
       "    'f1-score': 0.9267438728790736,\n",
       "    'support': 3728.0},\n",
       "   '1': {'precision': 0.9232415084247125,\n",
       "    'recall': 0.93070908600701,\n",
       "    'f1-score': 0.9269602577873255,\n",
       "    'support': 3709.0},\n",
       "   'accuracy': 0.926852225359688,\n",
       "   'macro avg': {'precision': 0.9268722415027835,\n",
       "    'recall': 0.9268620537331187,\n",
       "    'f1-score': 0.9268520653331995,\n",
       "    'support': 7437.0},\n",
       "   'weighted avg': {'precision': 0.9268815172764132,\n",
       "    'recall': 0.926852225359688,\n",
       "    'f1-score': 0.9268517889238103,\n",
       "    'support': 7437.0}},\n",
       "  {'0': {'precision': 0.9305029745808545,\n",
       "    'recall': 0.9230150214592274,\n",
       "    'f1-score': 0.9267438728790736,\n",
       "    'support': 3728.0},\n",
       "   '1': {'precision': 0.9232415084247125,\n",
       "    'recall': 0.93070908600701,\n",
       "    'f1-score': 0.9269602577873255,\n",
       "    'support': 3709.0},\n",
       "   'accuracy': 0.926852225359688,\n",
       "   'macro avg': {'precision': 0.9268722415027835,\n",
       "    'recall': 0.9268620537331187,\n",
       "    'f1-score': 0.9268520653331995,\n",
       "    'support': 7437.0},\n",
       "   'weighted avg': {'precision': 0.9268815172764132,\n",
       "    'recall': 0.926852225359688,\n",
       "    'f1-score': 0.9268517889238103,\n",
       "    'support': 7437.0}},\n",
       "  {'0': {'precision': 0.9305029745808545,\n",
       "    'recall': 0.9230150214592274,\n",
       "    'f1-score': 0.9267438728790736,\n",
       "    'support': 3728.0},\n",
       "   '1': {'precision': 0.9232415084247125,\n",
       "    'recall': 0.93070908600701,\n",
       "    'f1-score': 0.9269602577873255,\n",
       "    'support': 3709.0},\n",
       "   'accuracy': 0.926852225359688,\n",
       "   'macro avg': {'precision': 0.9268722415027835,\n",
       "    'recall': 0.9268620537331187,\n",
       "    'f1-score': 0.9268520653331995,\n",
       "    'support': 7437.0},\n",
       "   'weighted avg': {'precision': 0.9268815172764132,\n",
       "    'recall': 0.926852225359688,\n",
       "    'f1-score': 0.9268517889238103,\n",
       "    'support': 7437.0}},\n",
       "  {'0': {'precision': 0.9305029745808545,\n",
       "    'recall': 0.9230150214592274,\n",
       "    'f1-score': 0.9267438728790736,\n",
       "    'support': 3728.0},\n",
       "   '1': {'precision': 0.9232415084247125,\n",
       "    'recall': 0.93070908600701,\n",
       "    'f1-score': 0.9269602577873255,\n",
       "    'support': 3709.0},\n",
       "   'accuracy': 0.926852225359688,\n",
       "   'macro avg': {'precision': 0.9268722415027835,\n",
       "    'recall': 0.9268620537331187,\n",
       "    'f1-score': 0.9268520653331995,\n",
       "    'support': 7437.0},\n",
       "   'weighted avg': {'precision': 0.9268815172764132,\n",
       "    'recall': 0.926852225359688,\n",
       "    'f1-score': 0.9268517889238103,\n",
       "    'support': 7437.0}},\n",
       "  {'0': {'precision': 0.9305029745808545,\n",
       "    'recall': 0.9230150214592274,\n",
       "    'f1-score': 0.9267438728790736,\n",
       "    'support': 3728.0},\n",
       "   '1': {'precision': 0.9232415084247125,\n",
       "    'recall': 0.93070908600701,\n",
       "    'f1-score': 0.9269602577873255,\n",
       "    'support': 3709.0},\n",
       "   'accuracy': 0.926852225359688,\n",
       "   'macro avg': {'precision': 0.9268722415027835,\n",
       "    'recall': 0.9268620537331187,\n",
       "    'f1-score': 0.9268520653331995,\n",
       "    'support': 7437.0},\n",
       "   'weighted avg': {'precision': 0.9268815172764132,\n",
       "    'recall': 0.926852225359688,\n",
       "    'f1-score': 0.9268517889238103,\n",
       "    'support': 7437.0}},\n",
       "  {'0': {'precision': 0.9305029745808545,\n",
       "    'recall': 0.9230150214592274,\n",
       "    'f1-score': 0.9267438728790736,\n",
       "    'support': 3728.0},\n",
       "   '1': {'precision': 0.9232415084247125,\n",
       "    'recall': 0.93070908600701,\n",
       "    'f1-score': 0.9269602577873255,\n",
       "    'support': 3709.0},\n",
       "   'accuracy': 0.926852225359688,\n",
       "   'macro avg': {'precision': 0.9268722415027835,\n",
       "    'recall': 0.9268620537331187,\n",
       "    'f1-score': 0.9268520653331995,\n",
       "    'support': 7437.0},\n",
       "   'weighted avg': {'precision': 0.9268815172764132,\n",
       "    'recall': 0.926852225359688,\n",
       "    'f1-score': 0.9268517889238103,\n",
       "    'support': 7437.0}},\n",
       "  {'0': {'precision': 0.9305029745808545,\n",
       "    'recall': 0.9230150214592274,\n",
       "    'f1-score': 0.9267438728790736,\n",
       "    'support': 3728.0},\n",
       "   '1': {'precision': 0.9232415084247125,\n",
       "    'recall': 0.93070908600701,\n",
       "    'f1-score': 0.9269602577873255,\n",
       "    'support': 3709.0},\n",
       "   'accuracy': 0.926852225359688,\n",
       "   'macro avg': {'precision': 0.9268722415027835,\n",
       "    'recall': 0.9268620537331187,\n",
       "    'f1-score': 0.9268520653331995,\n",
       "    'support': 7437.0},\n",
       "   'weighted avg': {'precision': 0.9268815172764132,\n",
       "    'recall': 0.926852225359688,\n",
       "    'f1-score': 0.9268517889238103,\n",
       "    'support': 7437.0}},\n",
       "  {'0': {'precision': 0.9305029745808545,\n",
       "    'recall': 0.9230150214592274,\n",
       "    'f1-score': 0.9267438728790736,\n",
       "    'support': 3728.0},\n",
       "   '1': {'precision': 0.9232415084247125,\n",
       "    'recall': 0.93070908600701,\n",
       "    'f1-score': 0.9269602577873255,\n",
       "    'support': 3709.0},\n",
       "   'accuracy': 0.926852225359688,\n",
       "   'macro avg': {'precision': 0.9268722415027835,\n",
       "    'recall': 0.9268620537331187,\n",
       "    'f1-score': 0.9268520653331995,\n",
       "    'support': 7437.0},\n",
       "   'weighted avg': {'precision': 0.9268815172764132,\n",
       "    'recall': 0.926852225359688,\n",
       "    'f1-score': 0.9268517889238103,\n",
       "    'support': 7437.0}}]}"
      ]
     },
     "execution_count": 145,
     "metadata": {},
     "output_type": "execute_result"
    }
   ],
   "source": [
    "history"
   ]
  },
  {
   "cell_type": "code",
   "execution_count": 146,
   "metadata": {},
   "outputs": [
    {
     "data": {
      "image/png": "[encoded data removed]",
      "text/plain": [
       "<Figure size 640x480 with 1 Axes>"
      ]
     },
     "metadata": {},
     "output_type": "display_data"
    },
    {
     "data": {
      "image/png": "[encoded data removed]",
      "text/plain": [
       "<Figure size 640x480 with 1 Axes>"
      ]
     },
     "metadata": {},
     "output_type": "display_data"
    }
   ],
   "source": [
    "import matplotlib.pyplot as plt\n",
    "\n",
    "train_loss = history[\"train_losses\"]\n",
    "val_loss = history[\"val_losses\"]\n",
    "\n",
    "\n",
    "# Plotting the training and validation loss\n",
    "def plot_loss_fun_graph(train_loss, val_loss):\n",
    "    plt.plot(train_loss, \"b\", label=\"Training loss\")\n",
    "    plt.plot(val_loss, \"r\", label=\"Validation loss\")\n",
    "    plt.title(\"Training and validation loss\")\n",
    "    plt.xlabel(\"Epochs\")\n",
    "    plt.ylabel(\"Loss\")\n",
    "    plt.legend()\n",
    "    plt.show()\n",
    "    \n",
    "plot_loss_fun_graph(train_loss, val_loss)\n",
    "\n",
    "# Plotting the training and validation accuracy\n",
    "train_acc = history[\"train_accuracies\"]\n",
    "val_acc = history[\"val_accuracies\"]\n",
    "\n",
    "\n",
    "# Encontrar o índice do melhor valor de acurácia de validação\n",
    "def plot_accurary_graph(train_acc, val_acc):\n",
    "    best_epoch = np.argmax(val_acc)\n",
    "    best_accuracy = val_acc[best_epoch]\n",
    "    plt.clf()\n",
    "    plt.plot(train_acc, \"r\", label=\"train accuracy\")\n",
    "    plt.plot(val_acc, \"b\", label=\"validation accuracy\")\n",
    "    # Adicionar texto para destacar o melhor valor de acurácia de validação\n",
    "    plt.text(\n",
    "        best_epoch,\n",
    "        best_accuracy,\n",
    "        f\"{best_accuracy:.2f}\",\n",
    "        fontsize=12,\n",
    "        ha=\"left\",\n",
    "    )\n",
    "    plt.title(\"Training and validation accuracy\")\n",
    "    plt.xlabel(\"Epoch\")\n",
    "    plt.ylabel(\"Accuracy\")\n",
    "    plt.grid()\n",
    "    plt.legend()\n",
    "    plt.show()\n",
    "\n",
    "\n",
    "plot_accurary_graph(train_acc, val_acc)"
   ]
  },
  {
   "cell_type": "markdown",
   "metadata": {},
   "source": [
    "### Get predicitons in test_texts and test_labels"
   ]
  },
  {
   "cell_type": "code",
   "execution_count": 228,
   "metadata": {},
   "outputs": [],
   "source": [
    "def get_predictions(model, data_loader,device):\n",
    "    model = model.eval()\n",
    "\n",
    "    # outputs corresponde a saida do modelo\n",
    "    outputs=[]\n",
    "    # corresponde ao indice(classe) com maior probabilidade na saída do modelo\n",
    "    predictions = []\n",
    "    # corresponde a probabilidade de predicao\n",
    "    predictions_prob = []\n",
    "    # corresponde ao indice real(classe verdadeira)\n",
    "    real_values = []\n",
    "    \n",
    "\n",
    "    with torch.no_grad():\n",
    "        for batch in tqdm(data_loader):\n",
    "            input_ids = batch[\"input_ids\"].to(device)\n",
    "            attention_mask = batch[\"attention_mask\"].to(device)\n",
    "            labels = batch[\"label\"].to(device)\n",
    "            m_output = model(input_ids=input_ids, attention_mask=attention_mask)\n",
    "            probs = F.softmax(m_output, dim=1)\n",
    "            \n",
    "            max_value, max_index = torch.max(probs, dim=1)\n",
    "\n",
    "\n",
    "            # review_texts.extend(texts)\n",
    "            outputs.extend(probs)\n",
    "            predictions.extend(max_index)\n",
    "            predictions_prob.extend(max_value)\n",
    "            real_values.extend(labels)\n",
    "    outputs = torch.stack(outputs).cpu()\n",
    "    predictions = torch.stack(predictions).cpu()\n",
    "    predictions_prob = torch.stack(predictions_prob).cpu()\n",
    "    real_values = torch.stack(real_values).cpu()\n",
    "    return outputs, predictions, predictions_prob, real_values"
   ]
  },
  {
   "cell_type": "code",
   "execution_count": 230,
   "metadata": {},
   "outputs": [
    {
     "name": "stderr",
     "output_type": "stream",
     "text": [
      "100%|██████████| 5552/5552 [30:32<00:00,  3.03it/s]   \n"
     ]
    }
   ],
   "source": [
    "#  CArregando com o modelo final atualizado\n",
    "test_outputs, test_predictions, test_pred_probs, test_real_values=get_predictions(model,test_dataloader,device)"
   ]
  },
  {
   "cell_type": "code",
   "execution_count": 257,
   "metadata": {},
   "outputs": [
    {
     "name": "stdout",
     "output_type": "stream",
     "text": [
      "              precision    recall  f1-score   support\n",
      "\n",
      "    negativo       0.72      0.82      0.77     17465\n",
      "    positivo       0.87      0.79      0.83     26945\n",
      "\n",
      "    accuracy                           0.80     44410\n",
      "   macro avg       0.79      0.81      0.80     44410\n",
      "weighted avg       0.81      0.80      0.80     44410\n",
      "\n"
     ]
    }
   ],
   "source": [
    "classes_names = [\"negativo\", \"positivo\"]\n",
    "test_report = classification_report(\n",
    "    test_predictions, test_real_values, target_names=classes_names, output_dict=True\n",
    ")\n",
    "print(\n",
    "    classification_report(\n",
    "        test_predictions, test_real_values, target_names=classes_names\n",
    "    )\n",
    ")"
   ]
  },
  {
   "cell_type": "code",
   "execution_count": 260,
   "metadata": {},
   "outputs": [
    {
     "data": {
      "image/png": "[encoded data removed]",
      "text/plain": [
       "<Figure size 800x600 with 2 Axes>"
      ]
     },
     "metadata": {},
     "output_type": "display_data"
    }
   ],
   "source": [
    "import matplotlib.pyplot as plt\n",
    "import seaborn as sns\n",
    "\n",
    "def show_report(classification_report):\n",
    "    plt.figure(figsize=(8, 6))\n",
    "    sns.heatmap(pd.DataFrame(classification_report).iloc[:-1, :].T, annot=True)\n",
    "    plt.title(\"Relatório de Classificação\")\n",
    "    plt.show()\n",
    "\n",
    "\n",
    "show_report(test_report)"
   ]
  },
  {
   "cell_type": "markdown",
   "metadata": {},
   "source": [
    "É possível identificar com o report dos dados de teste que o modelo atingiu uma precião de 79% a 81%.\n",
    "\n",
    "E que a precisão nos dados positivos foi maior, ocorrido pela quantidade de dados maior "
   ]
  },
  {
   "cell_type": "code",
   "execution_count": 232,
   "metadata": {},
   "outputs": [
    {
     "data": {
      "image/png": "[encoded data removed]",
      "text/plain": [
       "<Figure size 640x480 with 2 Axes>"
      ]
     },
     "metadata": {},
     "output_type": "display_data"
    }
   ],
   "source": [
    "from sklearn.metrics import confusion_matrix, ConfusionMatrixDisplay\n",
    "import matplotlib.pyplot as plt\n",
    "import seaborn as sns\n",
    "\n",
    "def show_confusion_matrix(confusion_matrix):\n",
    "  hmap = sns.heatmap(confusion_matrix, annot=True, fmt=\"d\", cmap=\"Blues\")\n",
    "  hmap.yaxis.set_ticklabels(hmap.yaxis.get_ticklabels(), rotation=0, ha='right')\n",
    "  hmap.xaxis.set_ticklabels(hmap.xaxis.get_ticklabels(), rotation=30, ha='right')\n",
    "  plt.ylabel('True sentiment')\n",
    "  plt.xlabel('Predicted sentiment');\n",
    "  \n",
    "classes_names = ['negativo','positivo']  \n",
    "cm = confusion_matrix(test_predictions,test_real_values)\n",
    "df_cm = pd.DataFrame(cm, index=classes_names, columns=classes_names)\n",
    "show_confusion_matrix(df_cm)\n",
    "# cm_display = ConfusionMatrixDisplay(cm,display_labels=classes_names).plot()\n"
   ]
  },
  {
   "cell_type": "markdown",
   "metadata": {},
   "source": [
    "Conclui-se através da matriz de confusão e do report, que o modelo conseguiu aprender durante as epocas, e que a incidência de classificações verdadeiros_positivo e verdadeiro_negativo foram corespondentes a 80% nas duas classes"
   ]
  },
  {
   "cell_type": "code",
   "execution_count": 235,
   "metadata": {},
   "outputs": [
    {
     "name": "stdout",
     "output_type": "stream",
     "text": [
      "tensor([[0.0955, 0.9034, 0.0011],\n",
      "        [0.0059, 0.9926, 0.0014],\n",
      "        [0.0063, 0.9923, 0.0014],\n",
      "        ...,\n",
      "        [0.0062, 0.9924, 0.0014],\n",
      "        [0.0059, 0.9927, 0.0015],\n",
      "        [0.5892, 0.4096, 0.0012]])\n",
      "tensor([1, 1, 1,  ..., 1, 1, 0])\n",
      "tensor([0.9034, 0.9926, 0.9923,  ..., 0.9924, 0.9927, 0.5892])\n",
      "tensor([1, 1, 1,  ..., 1, 1, 0])\n"
     ]
    }
   ],
   "source": [
    "print(test_outputs)\n",
    "print(test_predictions)\n",
    "print(test_pred_probs)\n",
    "print(test_real_values)"
   ]
  },
  {
   "cell_type": "code",
   "execution_count": null,
   "metadata": {},
   "outputs": [],
   "source": [
    "test-ou"
   ]
  },
  {
   "cell_type": "code",
   "execution_count": 236,
   "metadata": {},
   "outputs": [],
   "source": [
    "df_predction_prob = pd.DataFrame(\n",
    "    {\n",
    "        \"classes_prediction\": test_predictions, # [0,1]\n",
    "        \"real_classe\": test_real_values, #[0,1]\n",
    "        \"probabilidade\": test_pred_probs,#[0 a 1]\n",
    "    }\n",
    ")"
   ]
  },
  {
   "cell_type": "code",
   "execution_count": 237,
   "metadata": {},
   "outputs": [
    {
     "data": {
      "text/html": [
       "<div>\n",
       "<style scoped>\n",
       "    .dataframe tbody tr th:only-of-type {\n",
       "        vertical-align: middle;\n",
       "    }\n",
       "\n",
       "    .dataframe tbody tr th {\n",
       "        vertical-align: top;\n",
       "    }\n",
       "\n",
       "    .dataframe thead th {\n",
       "        text-align: right;\n",
       "    }\n",
       "</style>\n",
       "<table border=\"1\" class=\"dataframe\">\n",
       "  <thead>\n",
       "    <tr style=\"text-align: right;\">\n",
       "      <th></th>\n",
       "      <th>classes_prediction</th>\n",
       "      <th>real_classe</th>\n",
       "      <th>probabilidade</th>\n",
       "    </tr>\n",
       "  </thead>\n",
       "  <tbody>\n",
       "    <tr>\n",
       "      <th>0</th>\n",
       "      <td>1</td>\n",
       "      <td>1</td>\n",
       "      <td>0.903395</td>\n",
       "    </tr>\n",
       "    <tr>\n",
       "      <th>1</th>\n",
       "      <td>1</td>\n",
       "      <td>1</td>\n",
       "      <td>0.992622</td>\n",
       "    </tr>\n",
       "    <tr>\n",
       "      <th>2</th>\n",
       "      <td>1</td>\n",
       "      <td>1</td>\n",
       "      <td>0.992317</td>\n",
       "    </tr>\n",
       "    <tr>\n",
       "      <th>3</th>\n",
       "      <td>0</td>\n",
       "      <td>0</td>\n",
       "      <td>0.689169</td>\n",
       "    </tr>\n",
       "    <tr>\n",
       "      <th>4</th>\n",
       "      <td>0</td>\n",
       "      <td>0</td>\n",
       "      <td>0.991475</td>\n",
       "    </tr>\n",
       "    <tr>\n",
       "      <th>...</th>\n",
       "      <td>...</td>\n",
       "      <td>...</td>\n",
       "      <td>...</td>\n",
       "    </tr>\n",
       "    <tr>\n",
       "      <th>44405</th>\n",
       "      <td>1</td>\n",
       "      <td>1</td>\n",
       "      <td>0.980538</td>\n",
       "    </tr>\n",
       "    <tr>\n",
       "      <th>44406</th>\n",
       "      <td>0</td>\n",
       "      <td>0</td>\n",
       "      <td>0.996321</td>\n",
       "    </tr>\n",
       "    <tr>\n",
       "      <th>44407</th>\n",
       "      <td>1</td>\n",
       "      <td>1</td>\n",
       "      <td>0.992421</td>\n",
       "    </tr>\n",
       "    <tr>\n",
       "      <th>44408</th>\n",
       "      <td>1</td>\n",
       "      <td>1</td>\n",
       "      <td>0.992660</td>\n",
       "    </tr>\n",
       "    <tr>\n",
       "      <th>44409</th>\n",
       "      <td>0</td>\n",
       "      <td>0</td>\n",
       "      <td>0.589221</td>\n",
       "    </tr>\n",
       "  </tbody>\n",
       "</table>\n",
       "<p>44410 rows × 3 columns</p>\n",
       "</div>"
      ],
      "text/plain": [
       "       classes_prediction  real_classe  probabilidade\n",
       "0                       1            1       0.903395\n",
       "1                       1            1       0.992622\n",
       "2                       1            1       0.992317\n",
       "3                       0            0       0.689169\n",
       "4                       0            0       0.991475\n",
       "...                   ...          ...            ...\n",
       "44405                   1            1       0.980538\n",
       "44406                   0            0       0.996321\n",
       "44407                   1            1       0.992421\n",
       "44408                   1            1       0.992660\n",
       "44409                   0            0       0.589221\n",
       "\n",
       "[44410 rows x 3 columns]"
      ]
     },
     "execution_count": 237,
     "metadata": {},
     "output_type": "execute_result"
    }
   ],
   "source": [
    "df_predction_prob"
   ]
  },
  {
   "cell_type": "code",
   "execution_count": 239,
   "metadata": {},
   "outputs": [
    {
     "data": {
      "text/plain": [
       "array([0, 1], dtype=int64)"
      ]
     },
     "execution_count": 239,
     "metadata": {},
     "output_type": "execute_result"
    }
   ],
   "source": [
    "unique_classes = np.unique(test_predictions)\n",
    "unique_classes"
   ]
  },
  {
   "cell_type": "code",
   "execution_count": 241,
   "metadata": {},
   "outputs": [
    {
     "data": {
      "text/plain": [
       "[0.9447653, 0.9623413]"
      ]
     },
     "execution_count": 241,
     "metadata": {},
     "output_type": "execute_result"
    }
   ],
   "source": [
    "\n",
    "mean_probs = [\n",
    "    np.mean([p for pred, p in zip(test_predictions, test_pred_probs) if pred == cls])\n",
    "    for cls in unique_classes\n",
    "]\n",
    "mean_probs"
   ]
  },
  {
   "cell_type": "code",
   "execution_count": 242,
   "metadata": {},
   "outputs": [
    {
     "data": {
      "image/png": "[encoded data removed]",
      "text/plain": [
       "<Figure size 640x480 with 1 Axes>"
      ]
     },
     "metadata": {},
     "output_type": "display_data"
    }
   ],
   "source": [
    "import matplotlib.pyplot as plt\n",
    "import numpy as np\n",
    "\n",
    "# Suponha que 'test_predictions' seja a sua lista de previsões e 'test_pred_probs' seja a lista de probabilidades\n",
    "# test_predictions = ...\n",
    "# test_pred_probs = ...\n",
    "\n",
    "# Calcular a média de probabilidade para cada class\n",
    "\n",
    "# Criar o gráfico de barras\n",
    "plt.bar(unique_classes, mean_probs)\n",
    "plt.xlabel(\"Classes\")\n",
    "plt.ylabel(\"Média de Probabilidade\")\n",
    "plt.title(\"Previsões por Classe e Média de Probabilidade\")\n",
    "plt.show()"
   ]
  },
  {
   "cell_type": "code",
   "execution_count": 247,
   "metadata": {},
   "outputs": [
    {
     "data": {
      "image/png": "[encoded data removed]",
      "text/plain": [
       "<Figure size 1000x600 with 1 Axes>"
      ]
     },
     "metadata": {},
     "output_type": "display_data"
    }
   ],
   "source": [
    "import matplotlib.pyplot as plt\n",
    "\n",
    "# Conta a quantidade de cada classe em classes_prediction\n",
    "counts = df_predction_prob['classes_prediction'].value_counts()\n",
    "\n",
    "# Cria um gráfico de barras para mostrar a quantidade de cada classe\n",
    "plt.figure(figsize=(10, 6))\n",
    "plt.bar(counts.index, counts.values)\n",
    "plt.title('Quantidade de cada classe em classes_prediction')\n",
    "plt.xlabel('classes_prediction')\n",
    "plt.ylabel('Quantidade')\n",
    "plt.show()\n"
   ]
  },
  {
   "cell_type": "markdown",
   "metadata": {},
   "source": [
    "## Prediction sentiment in data web scraping(testing model )\n",
    "\n",
    "Testando o modelo nos dados do scraper, dados que o modelo não viu duranto o treinamento,\n",
    "validação e testes realizados acima. Devemos observar o resultado nos novos dados e julgar\n",
    "se são adequados para serem colocados em produção"
   ]
  },
  {
   "cell_type": "code",
   "execution_count": 150,
   "metadata": {},
   "outputs": [
    {
     "data": {
      "text/html": [
       "<div>\n",
       "<style scoped>\n",
       "    .dataframe tbody tr th:only-of-type {\n",
       "        vertical-align: middle;\n",
       "    }\n",
       "\n",
       "    .dataframe tbody tr th {\n",
       "        vertical-align: top;\n",
       "    }\n",
       "\n",
       "    .dataframe thead th {\n",
       "        text-align: right;\n",
       "    }\n",
       "</style>\n",
       "<table border=\"1\" class=\"dataframe\">\n",
       "  <thead>\n",
       "    <tr style=\"text-align: right;\">\n",
       "      <th></th>\n",
       "      <th>review</th>\n",
       "      <th>rating</th>\n",
       "    </tr>\n",
       "  </thead>\n",
       "  <tbody>\n",
       "    <tr>\n",
       "      <th>0</th>\n",
       "      <td>movie takes place fantasy land absolutely ridi...</td>\n",
       "      <td>1</td>\n",
       "    </tr>\n",
       "    <tr>\n",
       "      <th>1</th>\n",
       "      <td>sentimental pathetic slow conventionally voice...</td>\n",
       "      <td>1</td>\n",
       "    </tr>\n",
       "    <tr>\n",
       "      <th>2</th>\n",
       "      <td>things life understand universe begin happens ...</td>\n",
       "      <td>1</td>\n",
       "    </tr>\n",
       "    <tr>\n",
       "      <th>3</th>\n",
       "      <td>movie inspired brilliant stir crazy starring g...</td>\n",
       "      <td>1</td>\n",
       "    </tr>\n",
       "    <tr>\n",
       "      <th>4</th>\n",
       "      <td>life understand gushing cornball sentimental p...</td>\n",
       "      <td>1</td>\n",
       "    </tr>\n",
       "    <tr>\n",
       "      <th>...</th>\n",
       "      <td>...</td>\n",
       "      <td>...</td>\n",
       "    </tr>\n",
       "    <tr>\n",
       "      <th>44405</th>\n",
       "      <td>uma thurman returns bride time looks continue ...</td>\n",
       "      <td>10</td>\n",
       "    </tr>\n",
       "    <tr>\n",
       "      <th>44406</th>\n",
       "      <td>quentin tarantino kill bill vol 2 completes 2 ...</td>\n",
       "      <td>10</td>\n",
       "    </tr>\n",
       "    <tr>\n",
       "      <th>44407</th>\n",
       "      <td>vol 2 completely different tone features film ...</td>\n",
       "      <td>10</td>\n",
       "    </tr>\n",
       "    <tr>\n",
       "      <th>44408</th>\n",
       "      <td>movie great mixes different genres movies mart...</td>\n",
       "      <td>10</td>\n",
       "    </tr>\n",
       "    <tr>\n",
       "      <th>44409</th>\n",
       "      <td>kill bill volume 2 directed quentin tarantino ...</td>\n",
       "      <td>10</td>\n",
       "    </tr>\n",
       "  </tbody>\n",
       "</table>\n",
       "<p>44410 rows × 2 columns</p>\n",
       "</div>"
      ],
      "text/plain": [
       "                                                  review  rating\n",
       "0      movie takes place fantasy land absolutely ridi...       1\n",
       "1      sentimental pathetic slow conventionally voice...       1\n",
       "2      things life understand universe begin happens ...       1\n",
       "3      movie inspired brilliant stir crazy starring g...       1\n",
       "4      life understand gushing cornball sentimental p...       1\n",
       "...                                                  ...     ...\n",
       "44405  uma thurman returns bride time looks continue ...      10\n",
       "44406  quentin tarantino kill bill vol 2 completes 2 ...      10\n",
       "44407  vol 2 completely different tone features film ...      10\n",
       "44408  movie great mixes different genres movies mart...      10\n",
       "44409  kill bill volume 2 directed quentin tarantino ...      10\n",
       "\n",
       "[44410 rows x 2 columns]"
      ]
     },
     "execution_count": 150,
     "metadata": {},
     "output_type": "execute_result"
    }
   ],
   "source": [
    "DATA_PATH = \"D:/tcc2/guilherme/3_Data_Processing/data/Scraper_Dataset_tretead_text.csv\"\n",
    "df = pd.read_csv(DATA_PATH)\n",
    "df = df[['review','rating']]\n",
    "df\n"
   ]
  },
  {
   "cell_type": "code",
   "execution_count": 151,
   "metadata": {},
   "outputs": [],
   "source": [
    "# # Para Classe Positivo[7,8,9,10] e Negativo [...]\n",
    "def categorize_rating(rating):\n",
    "    if int(rating) <= 6:\n",
    "        return 0\n",
    "    else:\n",
    "        return 1"
   ]
  },
  {
   "cell_type": "code",
   "execution_count": 152,
   "metadata": {},
   "outputs": [],
   "source": [
    "def load_texts_labels(df):\n",
    "    texts = df[\"review\"].tolist()\n",
    "    labels = df[\"rating\"].tolist()\n",
    "    return texts, labels"
   ]
  },
  {
   "cell_type": "code",
   "execution_count": 153,
   "metadata": {},
   "outputs": [],
   "source": [
    "df['rating'] = df['rating'].apply(categorize_rating)\n",
    "\n"
   ]
  },
  {
   "cell_type": "code",
   "execution_count": 154,
   "metadata": {},
   "outputs": [
    {
     "name": "stdout",
     "output_type": "stream",
     "text": [
      "rating\n",
      "1    24471\n",
      "0    19939\n",
      "Name: count, dtype: int64\n"
     ]
    }
   ],
   "source": [
    "print(df['rating'].value_counts())"
   ]
  },
  {
   "cell_type": "code",
   "execution_count": 155,
   "metadata": {},
   "outputs": [],
   "source": [
    "test_texts, test_labels = load_texts_labels(df)\n"
   ]
  },
  {
   "cell_type": "code",
   "execution_count": 156,
   "metadata": {},
   "outputs": [],
   "source": [
    "\n",
    "test_dataset = TextClassificationDataset(test_texts, test_labels, tokenizer, max_length)\n",
    "\n",
    "test_dataloader = DataLoader(test_dataset, batch_size=batch_size, shuffle=True)"
   ]
  },
  {
   "cell_type": "code",
   "execution_count": 157,
   "metadata": {},
   "outputs": [],
   "source": [
    "def get_predictions(model, data_loader):\n",
    "    model = model.eval()\n",
    "\n",
    "    predictions = []\n",
    "    prediction_probs = []\n",
    "    real_values = []\n",
    "\n",
    "    with torch.no_grad():\n",
    "        for batch in tqdm(data_loader):\n",
    "            input_ids = batch[\"input_ids\"].to(device)\n",
    "            attention_mask = batch[\"attention_mask\"].to(device)\n",
    "            labels = batch[\"label\"].to(device)\n",
    "            outputs = model(input_ids=input_ids, attention_mask=attention_mask)\n",
    "            _, preds = torch.max(outputs, dim=1)\n",
    "\n",
    "            probs = F.softmax(outputs, dim=1)\n",
    "\n",
    "            # review_texts.extend(texts)\n",
    "            predictions.extend(preds)\n",
    "            prediction_probs.extend(probs)\n",
    "            real_values.extend(labels)\n",
    "\n",
    "    predictions = torch.stack(predictions).cpu()\n",
    "    prediction_probs = torch.stack(prediction_probs).cpu()\n",
    "    real_values = torch.stack(real_values).cpu()\n",
    "    return predictions, prediction_probs, real_values"
   ]
  },
  {
   "cell_type": "code",
   "execution_count": 158,
   "metadata": {},
   "outputs": [
    {
     "name": "stderr",
     "output_type": "stream",
     "text": [
      "100%|██████████| 5552/5552 [11:04<00:00,  8.36it/s]\n"
     ]
    },
    {
     "name": "stdout",
     "output_type": "stream",
     "text": [
      "              precision    recall  f1-score   support\n",
      "\n",
      "           0       0.72      0.82      0.77     17465\n",
      "           1       0.87      0.79      0.83     26945\n",
      "\n",
      "    accuracy                           0.80     44410\n",
      "   macro avg       0.79      0.81      0.80     44410\n",
      "weighted avg       0.81      0.80      0.80     44410\n",
      "\n"
     ]
    }
   ],
   "source": [
    "predictions,prediction_probs,real_values = get_predictions(model, test_dataloader)\n",
    "print(classification_report(predictions,real_values))"
   ]
  },
  {
   "cell_type": "code",
   "execution_count": 159,
   "metadata": {},
   "outputs": [
    {
     "name": "stdout",
     "output_type": "stream",
     "text": [
      "0.8022967800045034\n"
     ]
    }
   ],
   "source": [
    "print(accuracy_score(predictions,real_values))"
   ]
  },
  {
   "cell_type": "code",
   "execution_count": 160,
   "metadata": {},
   "outputs": [
    {
     "data": {
      "image/png": "[encoded data removed]",
      "text/plain": [
       "<Figure size 640x480 with 2 Axes>"
      ]
     },
     "metadata": {},
     "output_type": "display_data"
    }
   ],
   "source": [
    "from sklearn.metrics import confusion_matrix, ConfusionMatrixDisplay\n",
    "import matplotlib.pyplot as plt\n",
    "import seaborn as sns\n",
    "\n",
    "def show_confusion_matrix(confusion_matrix):\n",
    "  hmap = sns.heatmap(confusion_matrix, annot=True, fmt=\"d\", cmap=\"Blues\")\n",
    "  hmap.yaxis.set_ticklabels(hmap.yaxis.get_ticklabels(), rotation=0, ha='right')\n",
    "  hmap.xaxis.set_ticklabels(hmap.xaxis.get_ticklabels(), rotation=30, ha='right')\n",
    "  plt.ylabel('True sentiment')\n",
    "  plt.xlabel('Predicted sentiment');\n",
    "  \n",
    "classes_names = ['negativo','positivo']  \n",
    "cm = confusion_matrix(predictions,real_values)\n",
    "df_cm = pd.DataFrame(cm, index=classes_names, columns=classes_names)\n",
    "show_confusion_matrix(df_cm)\n",
    "# cm_display = ConfusionMatrixDisplay(cm,display_labels=classes_names).plot()\n"
   ]
  },
  {
   "cell_type": "code",
   "execution_count": null,
   "metadata": {},
   "outputs": [],
   "source": [
    "sns.barplot(x='values', y='class_names', data=pred_df, orient='h')\n",
    "plt.ylabel('sentiment')\n",
    "plt.xlabel('probability')\n",
    "plt.xlim([0, 1]);"
   ]
  },
  {
   "cell_type": "code",
   "execution_count": 161,
   "metadata": {},
   "outputs": [],
   "source": [
    "def predict_tratamento_texto(text: str, lemma:bool):\n",
    "    nlp = spacy.load(\"en_core_web_sm\", exclude=[\"parser\", \"ner\"])\n",
    "    text = text.lower()\n",
    "    text = re.sub(r\"\\s+\", \" \", text).strip()\n",
    "    text = re.sub(re.compile(\"<.*?>\"), \"\", text)\n",
    "    doc = nlp(text)\n",
    "    if lemma == True:\n",
    "        text = \" \".join(\n",
    "            [token.lemma_ for token in doc if not token.is_stop and not token.is_punct]\n",
    "        )  # retorna o lemma\n",
    "    else:\n",
    "        text = \" \".join(\n",
    "            [token.text for token in doc if not token.is_stop and not token.is_punct]\n",
    "        )  # return text\n",
    "    return text\n",
    "\n"
   ]
  },
  {
   "cell_type": "code",
   "execution_count": 179,
   "metadata": {},
   "outputs": [],
   "source": [
    "def predict_sentiment(\n",
    "    text: str,\n",
    "    model: MultiClassClassifier,\n",
    "    tokenizer: BertTokenizer,\n",
    "    device: str,\n",
    "    max_length: int,\n",
    "):\n",
    "    model.eval()\n",
    "    text = predict_tratamento_texto(text, lemma=False)\n",
    "    encoding = tokenizer(\n",
    "        text,\n",
    "        return_tensors=\"pt\",\n",
    "        max_length=max_length,\n",
    "        padding=\"max_length\",\n",
    "        truncation=True,\n",
    "    )\n",
    "    input_ids = encoding[\"input_ids\"].to(device)\n",
    "    attention_mask = encoding[\"attention_mask\"].to(device)\n",
    "\n",
    "    with torch.no_grad():\n",
    "        outputs = model(input_ids=input_ids, attention_mask=attention_mask)\n",
    "        prob = F.softmax(outputs, dim=1)\n",
    "\n",
    "    prob_neg = prob[0, 0].item()\n",
    "    prob_pos = prob[0, 1].item()\n",
    "    print(f\"prob negativa: {prob_neg:.5f}\")\n",
    "    print(f\"prob positiva: {prob_pos:.5f}\")\n",
    "\n",
    "    prob_acept = 0.75\n",
    "    if prob_neg >= prob_acept:\n",
    "        return \"negative\"\n",
    "    elif prob_pos >= prob_acept:\n",
    "        return \"positive\"\n",
    "    else:\n",
    "        return \"neutral\""
   ]
  },
  {
   "cell_type": "code",
   "execution_count": 180,
   "metadata": {},
   "outputs": [],
   "source": [
    "# Capita marvel 2019 5/10\n",
    "text = \"\"\"\n",
    "    Plot\n",
    "\n",
    "Carol Danvers     becomes one of the universe's most powerful heroes when Earth is caught in the middle of a galactic war between two alien races.\n",
    "\n",
    "Cast\n",
    "\n",
    "Brie Larson, Samuel L. Jackson (Because duh), Jude \"Just consistently dreadful\" Law, Annette Bening, Djimon Hounsou, Clark Gregg and blink and you'll miss him Lee Pace who returns as Ronan but looks so different I didn't even think it was him.\n",
    "\n",
    "Verdict\n",
    "\n",
    "I watched this back when it was initially released, I watched it a second time a few days ago as the missus is wanting us to binge watch the entire MCU as she's very behind. My opinion has changed on the 2nd viewing and not in a good way, my rating has shifted from a 6/10 to 5/10.\n",
    "\n",
    "You see straight out of the gate the first thing you notice about Carol Danvers is she's not really a character you can get behind. She's not funny, she's not entertaining, she comes across as a surly teenage girl who is just upset at the slightest thing and just doesn't want to be there. This is not a character you can build a movie around, like trying to make a teenage Groot movie! It wouldn't work, but he's okay as a side character.\n",
    "\n",
    "Supporting cast are also hit and miss, Jackson and Gregg are great, but Lynch and Law just stink up every scene they're in.\n",
    "\n",
    "I'm a Marvel fan but I recognize where it's weak, this is a distinctly average film that serves as a standalone origin story and doesn't contribute much to the universe as a whole.\n",
    "\n",
    "Rants\n",
    "\n",
    "I remember when the movie came out all the controversy with Brie Larson, I just had to Google what the controversy even was as I don't remember due to not focusing on such things. Now I can't really get a definitive answer. From what I see it's a combination of people not liking her attitude and her comments on feminism. So I Googled further to see what she said, she came across arrogant in them and a smidge out of touch but none of it explained the overwhelming hate I've seen aimed at her. Then I remembered that people talk about all the different types of bigotry but misogyny rarely comes up, I remembered that it's visibly increased over the past decade and appreciated why she's been targeted. News flash, the outspoken loud brash man hating femnists you likely thing of when you hear that word make up a very small percentage. Feminism is good, if you disagree I hope you simply don't know the meaning of the word.\n",
    "\n",
    "The Good\n",
    "\n",
    "Jackson and Gregg Has a couple of decent moments Not a bad soundtrack Goose!\n",
    "\n",
    "The Bad\n",
    "\n",
    "Larson isn't great Law and Lynch are terrible Lead just comes across unlikable.\n",
    "\n",
    "Overall just a weak entry to the MC\n",
    "\"\"\""
   ]
  },
  {
   "cell_type": "code",
   "execution_count": 181,
   "metadata": {},
   "outputs": [
    {
     "name": "stdout",
     "output_type": "stream",
     "text": [
      "prob negativa: 0.99602\n",
      "prob positiva: 0.00369\n",
      "plot carol danvers universe powerful heroes earth caught middle galactic war alien races cast brie larson samuel l. jackson duh jude consistently dreadful law annette bening djimon hounsou clark gregg blink miss lee pace returns ronan looks different think verdict watched initially released watched second time days ago missus wanting binge watch entire mcu opinion changed 2nd viewing good way rating shifted 6/10 5/10 straight gate thing notice carol danvers character funny entertaining comes surly teenage girl upset slightest thing want character build movie like trying teenage groot movie work okay character supporting cast hit miss jackson gregg great lynch law stink scene marvel fan recognize weak distinctly average film serves standalone origin story contribute universe rants remember movie came controversy brie larson google controversy remember focusing things definitive answer combination people liking attitude comments feminism googled said came arrogant smidge touch explained overwhelming hate seen aimed remembered people talk different types bigotry misogyny rarely comes remembered visibly increased past decade appreciated targeted news flash outspoken loud brash man hating femnists likely thing hear word small percentage feminism good disagree hope simply know meaning word good jackson gregg couple decent moments bad soundtrack goose bad larson great law lynch terrible lead comes unlikable overall weak entry mc\n",
      "Predicted sentiment: negative\n"
     ]
    }
   ],
   "source": [
    "# Test sentiment prediction\n",
    "# test_text = \" very perfect very good very bad bad well, \"\n",
    "sentiment = predict_sentiment(text, model, tokenizer, device, max_length)\n",
    "# sentiment2 = predict_sentiment(text, saved_model, tokenizer, device, max_length)\n",
    "\n",
    "print(predict_tratamento_texto(text,lemma= False))\n",
    "print(f\"Predicted sentiment: {sentiment}\")\n",
    "# print(f\"Predicted sentiment: {sentiment2}\")"
   ]
  },
  {
   "cell_type": "code",
   "execution_count": 182,
   "metadata": {},
   "outputs": [],
   "source": [
    "# CApita marvel 2019 6/10\n",
    "text=\"\"\"Mediocre Marvel is still pretty good.\n",
    "\n",
    "My first review in a long time! Dont know why I decided to write about this movie.\n",
    "\n",
    "I agree with most mediocre reviews I read here.\n",
    "\n",
    "The pacing was pretty good.\n",
    "\n",
    "Most of the action was good!\n",
    "\n",
    "The story was ok and had some good twists.\n",
    "\n",
    "I thought about giving this movie a 6 but after letting it sink in I decided to give it 8 out of 10\n",
    "\n",
    "It entertained me and my company from beginning to end.\n",
    "\n",
    "There were some eye rolling moments but they are easily forgiven.\"\"\""
   ]
  },
  {
   "cell_type": "code",
   "execution_count": 183,
   "metadata": {},
   "outputs": [
    {
     "name": "stdout",
     "output_type": "stream",
     "text": [
      "prob negativa: 0.00612\n",
      "prob positiva: 0.99249\n",
      "mediocre marvel pretty good review long time nt know decided write movie agree mediocre reviews read pacing pretty good action good story ok good twists thought giving movie 6 letting sink decided 8 10 entertained company beginning end eye rolling moments easily forgiven\n",
      "Predicted sentiment: positive\n"
     ]
    }
   ],
   "source": [
    "# Test sentiment prediction\n",
    "# test_text = \" very perfect very good very bad bad well, \"\n",
    "sentiment = predict_sentiment(text, model, tokenizer, device, max_length)\n",
    "# sentiment2 = predict_sentiment(text, saved_model, tokenizer, device, max_length)\n",
    "\n",
    "print(predict_tratamento_texto(text,lemma= False))\n",
    "print(f\"Predicted sentiment: {sentiment}\")\n",
    "# print(f\"Predicted sentiment: {sentiment2}\")"
   ]
  },
  {
   "cell_type": "code",
   "execution_count": 184,
   "metadata": {},
   "outputs": [
    {
     "name": "stdout",
     "output_type": "stream",
     "text": [
      "prob negativa: 0.99634\n",
      "prob positiva: 0.00336\n",
      "Texto:  The movie was so bad and I would not recommend it to anyone.\n",
      "Predicted sentiment: negative\n"
     ]
    }
   ],
   "source": [
    "# Test sentiment prediction\n",
    "test_text = \"The movie was so bad and I would not recommend it to anyone.\"\n",
    "sentiment = predict_sentiment(test_text, model, tokenizer, device, max_length)\n",
    "print(\"Texto: \", test_text)\n",
    "print(f\"Predicted sentiment: {sentiment}\")"
   ]
  },
  {
   "cell_type": "code",
   "execution_count": 185,
   "metadata": {},
   "outputs": [
    {
     "name": "stdout",
     "output_type": "stream",
     "text": [
      "prob negativa: 0.00591\n",
      "prob positiva: 0.99257\n",
      "Worst movie of the year.\n",
      "Predicted sentiment: positive\n"
     ]
    }
   ],
   "source": [
    "# Test sentiment prediction\n",
    "test_text = \"Best movie of the year. \"\n",
    "sentiment = predict_sentiment(test_text, model, tokenizer, device, max_length)\n",
    "print(\"Worst movie of the year.\")\n",
    "print(f\"Predicted sentiment: {sentiment}\")"
   ]
  },
  {
   "cell_type": "code",
   "execution_count": 186,
   "metadata": {},
   "outputs": [
    {
     "name": "stdout",
     "output_type": "stream",
     "text": [
      "prob negativa: 0.86379\n",
      "prob positiva: 0.13521\n",
      "This movie is more or less very hungry\n",
      "Predicted sentiment: negative\n"
     ]
    }
   ],
   "source": [
    "# Test sentiment prediction\n",
    "test_text = \"This movie is more or less very hungry\"\n",
    "sentiment = predict_sentiment(test_text, model, tokenizer, device, max_length)\n",
    "print(test_text)\n",
    "print(f\"Predicted sentiment: {sentiment}\")"
   ]
  }
 ],
 "metadata": {
  "kernelspec": {
   "display_name": ".venv-tcc",
   "language": "python",
   "name": "python3"
  },
  "language_info": {
   "codemirror_mode": {
    "name": "ipython",
    "version": 3
   },
   "file_extension": ".py",
   "mimetype": "text/x-python",
   "name": "python",
   "nbconvert_exporter": "python",
   "pygments_lexer": "ipython3",
   "version": "3.11.5"
  }
 },
 "nbformat": 4,
 "nbformat_minor": 2
}
