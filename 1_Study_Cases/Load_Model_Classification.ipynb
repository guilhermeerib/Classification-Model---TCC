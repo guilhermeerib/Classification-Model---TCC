{
 "cells": [
  {
   "cell_type": "code",
   "execution_count": 1,
   "metadata": {},
   "outputs": [],
   "source": [
    "import re\n",
    "import torch\n",
    "import spacy\n",
    "from torch import nn\n",
    "from torch.utils.data import Dataset\n",
    "from torch.optim import AdamW\n",
    "from transformers import (\n",
    "    BertTokenizer,\n",
    "    BertModel,\n",
    ")\n",
    "from sklearn.model_selection import train_test_split\n",
    "from sklearn.metrics import accuracy_score, classification_report"
   ]
  },
  {
   "cell_type": "code",
   "execution_count": 2,
   "metadata": {},
   "outputs": [],
   "source": [
    "class MultiClassClassifier(nn.Module):\n",
    "    def __init__(self, bert_model_name: str, hidden_size: int, num_classes: int):\n",
    "        super(MultiClassClassifier, self).__init__()\n",
    "        self.bert = BertModel.from_pretrained(bert_model_name)\n",
    "        self.dropout = nn.Dropout(0.1)\n",
    "        self.linear1 = nn.Linear(self.bert.config.hidden_size, hidden_size)\n",
    "        self.linear2 = nn.Linear(hidden_size, num_classes)\n",
    "        self.softmax = nn.Softmax(dim=1)\n",
    "\n",
    "    def forward(self, input_ids, attention_mask):\n",
    "        outputs_bert = self.bert(input_ids=input_ids, attention_mask=attention_mask)\n",
    "        pooled_output = outputs_bert.pooler_output\n",
    "        x = self.dropout(pooled_output)\n",
    "        logits = self.linear1(x)\n",
    "        logits = self.linear2(logits)\n",
    "        probs = self.softmax(logits)\n",
    "        return probs"
   ]
  },
  {
   "cell_type": "code",
   "execution_count": 3,
   "metadata": {},
   "outputs": [],
   "source": [
    "def predict_tratamento_texto(text: str, lemma=True):\n",
    "    nlp = spacy.load(\"en_core_web_sm\", exclude=[\"parser\", \"ner\"])\n",
    "    text = text.lower()\n",
    "    text = re.sub(r\"\\s+\", \" \", text).strip()\n",
    "    text = re.sub(re.compile(\"<.*?>\"), \"\", text)\n",
    "    doc = nlp(text)\n",
    "    if lemma == True:\n",
    "        text = \" \".join(\n",
    "            [token.lemma_ for token in doc if not token.is_stop and not token.is_punct]\n",
    "        )  # retorna o lemma\n",
    "    else:\n",
    "        text = \" \".join(\n",
    "            [token.text for token in doc if not token.is_stop and not token.is_punct]\n",
    "        )  # return text\n",
    "    return text"
   ]
  },
  {
   "cell_type": "code",
   "execution_count": 4,
   "metadata": {},
   "outputs": [],
   "source": [
    "def predict_sentiment(\n",
    "    text: str, model: BertModel, tokenizer: BertTokenizer, device: str, max_length: int\n",
    "):\n",
    "    model.eval()\n",
    "    text = predict_tratamento_texto(text, lemma=False)\n",
    "    encoding = tokenizer(\n",
    "        text,\n",
    "        return_tensors=\"pt\",\n",
    "        max_length=max_length,\n",
    "        padding=\"max_length\",\n",
    "        truncation=True,\n",
    "    )\n",
    "    input_ids = encoding[\"input_ids\"].to(device)\n",
    "    attention_mask = encoding[\"attention_mask\"].to(device)\n",
    "\n",
    "    with torch.no_grad():\n",
    "        prob = model(input_ids=input_ids, attention_mask=attention_mask)\n",
    "\n",
    "    prob_neg = prob[0, 0].item()\n",
    "    prob_pos = prob[0, 1].item()\n",
    "    print(f\"prob negativa: {prob_neg:.5f}\")\n",
    "    print(f\"prob positiva: {prob_pos:.5f}\")\n",
    "\n",
    "    if prob_neg >= 0.85 and prob_pos < 0.6:\n",
    "        return \"negative\"\n",
    "    elif prob_neg < 0.6 and prob_pos >= 0.85:\n",
    "        return \"positive\"\n",
    "    else:\n",
    "        return \"neutral\""
   ]
  },
  {
   "cell_type": "code",
   "execution_count": 5,
   "metadata": {},
   "outputs": [],
   "source": [
    "# Set up parameters\n",
    "BERT_MODEL_NAME = \"bert-base-uncased\"\n",
    "hidden_state = 10\n",
    "num_classes = 2  # numero de neuronios de saída\n",
    "max_length = 128\n",
    "batch_size = 16\n",
    "num_epochs = 4\n",
    "learning_rate = 2e-5"
   ]
  },
  {
   "cell_type": "code",
   "execution_count": 6,
   "metadata": {},
   "outputs": [],
   "source": [
    "device = torch.device(\"cuda\" if torch.cuda.is_available() else \"cpu\")"
   ]
  },
  {
   "cell_type": "code",
   "execution_count": 7,
   "metadata": {},
   "outputs": [],
   "source": [
    "tokenizer = BertTokenizer.from_pretrained(BERT_MODEL_NAME)"
   ]
  },
  {
   "cell_type": "code",
   "execution_count": 8,
   "metadata": {},
   "outputs": [
    {
     "data": {
      "text/plain": [
       "<All keys matched successfully>"
      ]
     },
     "execution_count": 8,
     "metadata": {},
     "output_type": "execute_result"
    }
   ],
   "source": [
    "PATH_MODEL_SAVE = \"D:/tcc2/guilherme/saved_models/sentiment_classifier_Bert_IMDB_Dataset_sem_lemma.pth\"\n",
    "model = MultiClassClassifier(BERT_MODEL_NAME, hidden_state, num_classes).to(device)\n",
    "model.load_state_dict(torch.load(PATH_MODEL_SAVE))"
   ]
  },
  {
   "cell_type": "code",
   "execution_count": 9,
   "metadata": {},
   "outputs": [],
   "source": [
    "optimizer = AdamW(model.parameters(), lr=learning_rate)"
   ]
  },
  {
   "cell_type": "code",
   "execution_count": 10,
   "metadata": {},
   "outputs": [],
   "source": [
    "# Capita marvel 2019 5/10\n",
    "text = \"\"\"Plot\n",
    "\n",
    "Carol Danvers     becomes one of the universe's most powerful heroes when Earth is caught in the middle of a galactic war between two alien races.\n",
    "\n",
    "Cast\n",
    "\n",
    "Brie Larson, Samuel L. Jackson (Because duh), Jude \"Just consistently dreadful\" Law, Annette Bening, Djimon Hounsou, Clark Gregg and blink and you'll miss him Lee Pace who returns as Ronan but looks so different I didn't even think it was him.\n",
    "\n",
    "Verdict\n",
    "\n",
    "I watched this back when it was initially released, I watched it a second time a few days ago as the missus is wanting us to binge watch the entire MCU as she's very behind. My opinion has changed on the 2nd viewing and not in a good way, my rating has shifted from a 6/10 to 5/10.\n",
    "\n",
    "You see straight out of the gate the first thing you notice about Carol Danvers is she's not really a character you can get behind. She's not funny, she's not entertaining, she comes across as a surly teenage girl who is just upset at the slightest thing and just doesn't want to be there. This is not a character you can build a movie around, like trying to make a teenage Groot movie! It wouldn't work, but he's okay as a side character.\n",
    "\n",
    "Supporting cast are also hit and miss, Jackson and Gregg are great, but Lynch and Law just stink up every scene they're in.\n",
    "\n",
    "I'm a Marvel fan but I recognize where it's weak, this is a distinctly average film that serves as a standalone origin story and doesn't contribute much to the universe as a whole.\n",
    "\n",
    "Rants\n",
    "\n",
    "I remember when the movie came out all the controversy with Brie Larson, I just had to Google what the controversy even was as I don't remember due to not focusing on such things. Now I can't really get a definitive answer. From what I see it's a combination of people not liking her attitude and her comments on feminism. So I Googled further to see what she said, she came across arrogant in them and a smidge out of touch but none of it explained the overwhelming hate I've seen aimed at her. Then I remembered that people talk about all the different types of bigotry but misogyny rarely comes up, I remembered that it's visibly increased over the past decade and appreciated why she's been targeted. News flash, the outspoken loud brash man hating femnists you likely thing of when you hear that word make up a very small percentage. Feminism is good, if you disagree I hope you simply don't know the meaning of the word.\n",
    "\n",
    "The Good\n",
    "\n",
    "Jackson and Gregg Has a couple of decent moments Not a bad soundtrack Goose!\n",
    "\n",
    "The Bad\n",
    "\n",
    "Larson isn't great Law and Lynch are terrible Lead just comes across unlikable.\n",
    "\n",
    "Overall just a weak entry to the MC\n",
    "\"\"\""
   ]
  },
  {
   "cell_type": "code",
   "execution_count": 11,
   "metadata": {},
   "outputs": [
    {
     "name": "stdout",
     "output_type": "stream",
     "text": [
      "prob negativa: 0.83986\n",
      "prob positiva: 0.16014\n",
      "plot carol danvers universe powerful heroes earth caught middle galactic war alien races cast brie larson samuel l. jackson duh jude consistently dreadful law annette bening djimon hounsou clark gregg blink miss lee pace returns ronan looks different think verdict watched initially released watched second time days ago missus wanting binge watch entire mcu opinion changed 2nd viewing good way rating shifted 6/10 5/10 straight gate thing notice carol danvers character funny entertaining comes surly teenage girl upset slightest thing want character build movie like trying teenage groot movie work okay character supporting cast hit miss jackson gregg great lynch law stink scene marvel fan recognize weak distinctly average film serves standalone origin story contribute universe rants remember movie came controversy brie larson google controversy remember focusing things definitive answer combination people liking attitude comments feminism googled said came arrogant smidge touch explained overwhelming hate seen aimed remembered people talk different types bigotry misogyny rarely comes remembered visibly increased past decade appreciated targeted news flash outspoken loud brash man hating femnists likely thing hear word small percentage feminism good disagree hope simply know meaning word good jackson gregg couple decent moments bad soundtrack goose bad larson great law lynch terrible lead comes unlikable overall weak entry mc\n",
      "Predicted sentiment: neutral\n"
     ]
    }
   ],
   "source": [
    "# Test sentiment prediction\n",
    "# test_text = \" very perfect very good very bad bad well, \"\n",
    "sentiment = predict_sentiment(text, model, tokenizer, device, max_length)\n",
    "# sentiment2 = predict_sentiment(text, saved_model, tokenizer, device, max_length)\n",
    "\n",
    "print(predict_tratamento_texto(text, lemma=False))\n",
    "print(f\"Predicted sentiment: {sentiment}\")\n",
    "# print(f\"Predicted sentiment: {sentiment2}\")"
   ]
  },
  {
   "cell_type": "code",
   "execution_count": 12,
   "metadata": {},
   "outputs": [
    {
     "name": "stdout",
     "output_type": "stream",
     "text": [
      "prob negativa: 0.99997\n",
      "prob positiva: 0.00003\n",
      "I am a Marvel fan. I go see all the movies, then buy the blu-rays. I have character statues, posters and have read the comics including Captain Marvel. There is a reason people become fans of certain things, and those things done well over time generate more fans until it becomes a \"Juggernaut\" like the MCU has. I fear that it's not unstoppable however, as the sub-par Captain Marvel has painfully illustrated. The movie is a pastiche of poorly written scenes with a bit of uninspired action sprinkled here and there with barely any plot at all. Carol Danvers has no character development whatsoever, no adversity to overcome besides amnesia and no villain to fight. I know there are people saying they like this movie, but I feel like they either aren't being honest or they like it for personal reasons that are not present in the movie. Objectively speaking, in terms of the technical aspects of storytelling, Captain Marvel just isn't effective. Subjectively, I was bored the entire time and the nostalgia parts made me feel as though JJ Abrams was poking me in the ribs asking me if I 'member the 90's. Yes. Yes I do. And for the record, people are criticizing this movie because it was bad, not because they \"haaaate the wooomans!\" Dismissing legitimate criticisms using this tactic will not produce better films, which is the only thing most people want. The problem is that they built the movie around the idea of \"strong woman\" and promoted it as an identity film, so when the movie ends up being bad some people rush to defend it because they don't want the IDEA to fail. The movie itself is secondary - just a vehicle to slap their bumper stickers on, which is a real shame because this could have been a great addition to the MCU. I hope they learn something from this, but from what I've heard it appears that Marvel actually plans to escalate the identity politics in the next phase which would be an absolute disaster for them. When pointing to the box office as a defense for how \"good\" Captain Marvel was, just remember that tons of paying customers didn't like it at all.\n",
      "Predicted sentiment: negative\n"
     ]
    }
   ],
   "source": [
    "# Capitã Marvel (2019) nota 3/10\n",
    "test_text = f\"I am a Marvel fan. I go see all the movies, then buy the blu-rays. I have character statues, posters and have read the comics including Captain Marvel. There is a reason people become fans of certain things, and those things done well over time generate more fans until it becomes a \\\"Juggernaut\\\" like the MCU has. I fear that it's not unstoppable however, as the sub-par Captain Marvel has painfully illustrated. The movie is a pastiche of poorly written scenes with a bit of uninspired action sprinkled here and there with barely any plot at all. Carol Danvers has no character development whatsoever, no adversity to overcome besides amnesia and no villain to fight. I know there are people saying they like this movie, but I feel like they either aren't being honest or they like it for personal reasons that are not present in the movie. Objectively speaking, in terms of the technical aspects of storytelling, Captain Marvel just isn't effective. Subjectively, I was bored the entire time and the nostalgia parts made me feel as though JJ Abrams was poking me in the ribs asking me if I 'member the 90's. Yes. Yes I do. And for the record, people are criticizing this movie because it was bad, not because they \\\"haaaate the wooomans!\\\" Dismissing legitimate criticisms using this tactic will not produce better films, which is the only thing most people want. The problem is that they built the movie around the idea of \\\"strong woman\\\" and promoted it as an identity film, so when the movie ends up being bad some people rush to defend it because they don't want the IDEA to fail. The movie itself is secondary - just a vehicle to slap their bumper stickers on, which is a real shame because this could have been a great addition to the MCU. I hope they learn something from this, but from what I've heard it appears that Marvel actually plans to escalate the identity politics in the next phase which would be an absolute disaster for them. When pointing to the box office as a defense for how \\\"good\\\" Captain Marvel was, just remember that tons of paying customers didn't like it at all.\"\n",
    "sentiment = predict_sentiment(test_text, model, tokenizer, device, max_length)\n",
    "print(test_text)\n",
    "print(f\"Predicted sentiment: {sentiment}\")"
   ]
  },
  {
   "cell_type": "code",
   "execution_count": 13,
   "metadata": {},
   "outputs": [
    {
     "name": "stdout",
     "output_type": "stream",
     "text": [
      "prob negativa: 0.00002\n",
      "prob positiva: 0.99998\n",
      "I loved every moment of this film. We speak so much about representation and here it is in a beautifully wrapped box. Where was this hitter when I was growing up in southwest Virginia? Not in my library I assure you. And yes, I know this isn't the real origin story. But I needed this movie. I am 41 years old. It shouldn't have taken this long.\n",
      "Predicted sentiment: positive\n"
     ]
    }
   ],
   "source": [
    "# Capitã Marvel (2019) nota 10/10\n",
    "test_text = \"\"\"I loved every moment of this film. We speak so much about representation and here it is in a beautifully wrapped box. Where was this hitter when I was growing up in southwest Virginia? Not in my library I assure you. And yes, I know this isn't the real origin story. But I needed this movie. I am 41 years old. It shouldn't have taken this long.\"\"\"\n",
    "sentiment = predict_sentiment(test_text, model, tokenizer, device, max_length)\n",
    "print(test_text)\n",
    "print(f\"Predicted sentiment: {sentiment}\")"
   ]
  }
 ],
 "metadata": {
  "kernelspec": {
   "display_name": ".venv-tcc",
   "language": "python",
   "name": "python3"
  },
  "language_info": {
   "codemirror_mode": {
    "name": "ipython",
    "version": 3
   },
   "file_extension": ".py",
   "mimetype": "text/x-python",
   "name": "python",
   "nbconvert_exporter": "python",
   "pygments_lexer": "ipython3",
   "version": "3.10.11"
  }
 },
 "nbformat": 4,
 "nbformat_minor": 2
}
