{
 "cells": [
  {
   "cell_type": "code",
   "execution_count": 1,
   "metadata": {},
   "outputs": [
    {
     "name": "stdout",
     "output_type": "stream",
     "text": [
      "2.3.0+cu121\n"
     ]
    }
   ],
   "source": [
    "import torch\n",
    "\n",
    "print(torch.__version__)"
   ]
  },
  {
   "cell_type": "code",
   "execution_count": null,
   "metadata": {},
   "outputs": [],
   "source": [
    "texto = \"This movie is very best!\"\n",
    "saida_modelo = MultiClassClassifier(texto)\n",
    "probabilidades = Softmax(saida_modelo)\n",
    "\n",
    "probilidade_negativa = probabilidades[0]\n",
    "probabilidade_positiva = probabilidades[1]\n",
    "\n",
    "maior_probabilidade = \"\"\n",
    "\n",
    "if probilidade_negativa > probabilidade_positiva:\n",
    "    maior_probabilidade = \"negativo\"\n",
    "else:\n",
    "    maior_probabilidade = \"positiva\"\n",
    "\n",
    "if probilidade_negativa > 70:\n",
    "    predicao = \"negativa\"\n",
    "elif probabilidade_positiva > 70:\n",
    "    predicao = \"positivo\"\n",
    "else:\n",
    "    predicao = \"neutra\""
   ]
  },
  {
   "cell_type": "code",
   "execution_count": null,
   "metadata": {},
   "outputs": [],
   "source": [
    "%%time\n",
    "\n",
    "history_epoch = {\n",
    "    \"train_losses\": [],\n",
    "    \"train_accuracies\": [],\n",
    "    \"val_losses\": [],\n",
    "    \"val_accuracies\": [],\n",
    "    \"val_reports\": [],\n",
    "}\n",
    "\n",
    "best_accuracy = 0\n",
    "epochs_without_improvements = 0\n",
    "\n",
    "for epoch in range(num_epochs):\n",
    "    print(f\"Epoch {epoch + 1}/{num_epochs}\")\n",
    "    print(\"-\" * 50)\n",
    "    \n",
    "        # Treinamento\n",
    "        train_accuracy, train_loss = train_model_epoch(\n",
    "            model, train_dataloader, optimizer, scheduler, loss_func, device\n",
    "        )\n",
    "        # Validation\n",
    "        val_accuracy, val_loss, report = eval_model_epoch(\n",
    "            model, val_dataloader, loss_func, device\n",
    "        )\n",
    "\n",
    "        history_epoch[\"train_losses\"].append(train_loss)\n",
    "        history_epoch[\"train_accuracies\"].append(train_accuracy)\n",
    "        history_epoch[\"val_losses\"].append(val_loss)\n",
    "        history_epoch[\"val_accuracies\"].append(val_accuracy)\n",
    "        history_epoch[\"val_reports\"].append(report)\n",
    "\n",
    "        print(f\"Train => Loss = {train_loss:.4f}, Accuracy = {train_accuracy:.4f}\")\n",
    "        print(f\"Validation => Loss = {val_loss:.4f}, Accuracy = {val_accuracy:.4f}\")\n",
    "        print(report)\n",
    "        print()\n",
    "        if val_accuracy > best_accuracy:\n",
    "            try:\n",
    "                torch.save(model.state_dict(), PATH_MODEL_SAVED)\n",
    "                print(f\"Modelo salvo com sucesso!na época: {epoch}\")\n",
    "            except Exception as e:\n",
    "                print(\"Ocorreu um erro durante a execução do treinamento ou validação.\")\n",
    "                print(\"Detalhes do erro:\", str(e))\n",
    "            epochs_without_improvements = 0\n",
    "            best_accuracy = val_accuracy\n",
    "        else:\n",
    "            epochs_without_improvements += 1\n",
    "\n",
    "        if epochs_without_improvements > 4:\n",
    "            break\n",
    "    \n"
   ]
  }
 ],
 "metadata": {
  "kernelspec": {
   "display_name": ".venv",
   "language": "python",
   "name": "python3"
  },
  "language_info": {
   "codemirror_mode": {
    "name": "ipython",
    "version": 3
   },
   "file_extension": ".py",
   "mimetype": "text/x-python",
   "name": "python",
   "nbconvert_exporter": "python",
   "pygments_lexer": "ipython3",
   "version": "3.11.5"
  }
 },
 "nbformat": 4,
 "nbformat_minor": 2
}
