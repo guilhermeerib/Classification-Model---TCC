{
 "cells": [
  {
   "cell_type": "code",
   "execution_count": 1,
   "metadata": {},
   "outputs": [],
   "source": [
    "#! pip install -U pip setuptools wheel\n",
    "#! pip install -U 'spacy[cuda12x]'\n",
    "#! python -m spacy download en_core_web_trf\n",
    "#! python -m spacy download en_core_web_sm\n",
    "#! pip install pandas"
   ]
  },
  {
   "cell_type": "markdown",
   "metadata": {},
   "source": [
    "### Baixar CSV DAtaset\n",
    "\n",
    "Para realizar o tratamento de dados a seguir, o IMDB Dataset deve ser baixado, e colocado na pasta raiz do projeto\n",
    "\n",
    "<a href=\"https://www.kaggle.com/datasets/lakshmi25npathi/imdb-dataset-of-50k-movie-reviews\" target=\"_blank\">Conjunto de dados IMDB de 50 mil críticas de filmes</a>\n"
   ]
  },
  {
   "cell_type": "code",
   "execution_count": 2,
   "metadata": {},
   "outputs": [],
   "source": [
    "import re\n",
    "import spacy\n",
    "from spacy.tokens import Doc\n",
    "import pandas as pd\n",
    "from tqdm import tqdm\n"
   ]
  },
  {
   "cell_type": "code",
   "execution_count": 3,
   "metadata": {},
   "outputs": [],
   "source": [
    "# Carregar o modelo em inglês\n",
    "# nlp = spacy.load(\"en_core_web_trf\", exclude=[\"parser\", \"ner\"])\n",
    "nlp = spacy.load(\"en_core_web_sm\", exclude=[\"parser\", \"ner\"])\n",
    "file_path = \"D:/tcc2/guilherme/IMDB Dataset.csv\"\n",
    "df = pd.read_csv(file_path)\n",
    "# df = df[:1000]"
   ]
  },
  {
   "cell_type": "code",
   "execution_count": 4,
   "metadata": {},
   "outputs": [
    {
     "data": {
      "text/html": [
       "<div>\n",
       "<style scoped>\n",
       "    .dataframe tbody tr th:only-of-type {\n",
       "        vertical-align: middle;\n",
       "    }\n",
       "\n",
       "    .dataframe tbody tr th {\n",
       "        vertical-align: top;\n",
       "    }\n",
       "\n",
       "    .dataframe thead th {\n",
       "        text-align: right;\n",
       "    }\n",
       "</style>\n",
       "<table border=\"1\" class=\"dataframe\">\n",
       "  <thead>\n",
       "    <tr style=\"text-align: right;\">\n",
       "      <th></th>\n",
       "      <th>review</th>\n",
       "      <th>sentiment</th>\n",
       "    </tr>\n",
       "  </thead>\n",
       "  <tbody>\n",
       "    <tr>\n",
       "      <th>0</th>\n",
       "      <td>One of the other reviewers has mentioned that ...</td>\n",
       "      <td>positive</td>\n",
       "    </tr>\n",
       "    <tr>\n",
       "      <th>1</th>\n",
       "      <td>A wonderful little production. &lt;br /&gt;&lt;br /&gt;The...</td>\n",
       "      <td>positive</td>\n",
       "    </tr>\n",
       "    <tr>\n",
       "      <th>2</th>\n",
       "      <td>I thought this was a wonderful way to spend ti...</td>\n",
       "      <td>positive</td>\n",
       "    </tr>\n",
       "    <tr>\n",
       "      <th>3</th>\n",
       "      <td>Basically there's a family where a little boy ...</td>\n",
       "      <td>negative</td>\n",
       "    </tr>\n",
       "    <tr>\n",
       "      <th>4</th>\n",
       "      <td>Petter Mattei's \"Love in the Time of Money\" is...</td>\n",
       "      <td>positive</td>\n",
       "    </tr>\n",
       "  </tbody>\n",
       "</table>\n",
       "</div>"
      ],
      "text/plain": [
       "                                              review sentiment\n",
       "0  One of the other reviewers has mentioned that ...  positive\n",
       "1  A wonderful little production. <br /><br />The...  positive\n",
       "2  I thought this was a wonderful way to spend ti...  positive\n",
       "3  Basically there's a family where a little boy ...  negative\n",
       "4  Petter Mattei's \"Love in the Time of Money\" is...  positive"
      ]
     },
     "execution_count": 4,
     "metadata": {},
     "output_type": "execute_result"
    }
   ],
   "source": [
    "df.head()"
   ]
  },
  {
   "cell_type": "code",
   "execution_count": 5,
   "metadata": {},
   "outputs": [
    {
     "data": {
      "text/plain": [
       "sentiment\n",
       "positive    25000\n",
       "negative    25000\n",
       "Name: count, dtype: int64"
      ]
     },
     "execution_count": 5,
     "metadata": {},
     "output_type": "execute_result"
    }
   ],
   "source": [
    "df[\"sentiment\"].value_counts()"
   ]
  },
  {
   "cell_type": "code",
   "execution_count": 6,
   "metadata": {},
   "outputs": [
    {
     "data": {
      "text/plain": [
       "review       0\n",
       "sentiment    0\n",
       "dtype: int64"
      ]
     },
     "execution_count": 6,
     "metadata": {},
     "output_type": "execute_result"
    }
   ],
   "source": [
    "df.isnull().sum()"
   ]
  },
  {
   "cell_type": "code",
   "execution_count": 7,
   "metadata": {},
   "outputs": [
    {
     "data": {
      "text/plain": [
       "418"
      ]
     },
     "execution_count": 7,
     "metadata": {},
     "output_type": "execute_result"
    }
   ],
   "source": [
    "df.duplicated().sum()"
   ]
  },
  {
   "cell_type": "code",
   "execution_count": 8,
   "metadata": {},
   "outputs": [],
   "source": [
    "# Remove linhas de reviews_treated duplicadoss\n",
    "df = df.drop_duplicates()"
   ]
  },
  {
   "cell_type": "code",
   "execution_count": 9,
   "metadata": {},
   "outputs": [
    {
     "data": {
      "text/plain": [
       "0"
      ]
     },
     "execution_count": 9,
     "metadata": {},
     "output_type": "execute_result"
    }
   ],
   "source": [
    "df.duplicated().sum()"
   ]
  },
  {
   "cell_type": "code",
   "execution_count": 10,
   "metadata": {},
   "outputs": [
    {
     "data": {
      "text/plain": [
       "sentiment\n",
       "positive    24884\n",
       "negative    24698\n",
       "Name: count, dtype: int64"
      ]
     },
     "execution_count": 10,
     "metadata": {},
     "output_type": "execute_result"
    }
   ],
   "source": [
    "df[\"sentiment\"].value_counts()"
   ]
  },
  {
   "cell_type": "code",
   "execution_count": 11,
   "metadata": {},
   "outputs": [],
   "source": [
    "def obter_maior_texto(series):\n",
    "    return max(text.split() for text in series)"
   ]
  },
  {
   "cell_type": "code",
   "execution_count": 12,
   "metadata": {},
   "outputs": [
    {
     "name": "stdout",
     "output_type": "stream",
     "text": [
      "13704\n"
     ]
    }
   ],
   "source": [
    "maior_string = max(df[\"review\"], key=lambda x: len(x.split()))\n",
    "tam_maior_string = len(maior_string)\n",
    "print(tam_maior_string)"
   ]
  },
  {
   "cell_type": "code",
   "execution_count": 13,
   "metadata": {},
   "outputs": [],
   "source": [
    "# funcoes de tratamento comuns\n",
    "def remove_extra_spaces(text):\n",
    "    r\"Remover espacos do inicio e fim de frases e ubstituir sequências de espaços por um espaço\"\n",
    "    return re.sub(\" +\", \" \", text).strip()\n",
    "\n",
    "\n",
    "def remove_tags(raw_text):\n",
    "    cleaned_text = re.sub(re.compile(\"<.*?>\"), \"\", raw_text)\n",
    "    return cleaned_text\n",
    "\n",
    "\n",
    "def normalize_lowercase(text: str) -> str:\n",
    "    return text.lower()\n",
    "\n",
    "\n",
    "# funcoes de tratamento spacy\n",
    "def lemmatize_text_remove_stopwords_and_puntuaction(doc: Doc | str):\n",
    "    if not isinstance(doc, Doc):\n",
    "        doc = nlp(doc)\n",
    "    return \" \".join(\n",
    "        [token.lemma_ for token in doc if not token.is_stop and not token.is_punct]\n",
    "    )\n",
    "\n",
    "\n",
    "def remove_stopwords_and_puntuaction(doc: Doc | str):\n",
    "    if not isinstance(doc, Doc):\n",
    "        doc = nlp(doc)\n",
    "    return \" \".join(\n",
    "        [token.text for token in doc if not token.is_stop and not token.is_punct]\n",
    "    )\n",
    "\n",
    "\n",
    "# def remove_punctuation(doc):\n",
    "#     return \" \".join([token.text for token in doc if not token.is_punct])\n",
    "\n",
    "\n",
    "# def remove_stopwords(doc):\n",
    "#     return \" \".join([token.text for token in doc if not token.is_stop])\n",
    "\n",
    "\n",
    "# def lemmatize_text(doc):\n",
    "#     return \" \".join([token.lemma_ for token in doc])"
   ]
  },
  {
   "cell_type": "code",
   "execution_count": 14,
   "metadata": {},
   "outputs": [],
   "source": [
    "# Aplicar as funções de str ao DataFrame \n",
    "reviews_treated = df[\"review\"]\n",
    "\n",
    "reviews_treated = reviews_treated.apply(remove_tags)\n",
    "reviews_treated = reviews_treated.apply(normalize_lowercase)\n",
    "reviews_treated = reviews_treated.apply(remove_extra_spaces)\n"
   ]
  },
  {
   "cell_type": "code",
   "execution_count": 15,
   "metadata": {},
   "outputs": [
    {
     "name": "stderr",
     "output_type": "stream",
     "text": [
      "Progresso: 100%|\u001b[32m██████████\u001b[0m| 49582/49582 [09:17<00:00, 88.89it/s] \n"
     ]
    }
   ],
   "source": [
    "len_texts = len(reviews_treated)\n",
    "# Processar os textos com nlp.pipe e atualizar a barra de progresso a cada iteração\n",
    "docs = list(\n",
    "    tqdm(\n",
    "        nlp.pipe(\n",
    "            reviews_treated,\n",
    "            batch_size=500,\n",
    "            disable=[\"parser\", \"ner\"],\n",
    "        ),\n",
    "        colour=\"green\",\n",
    "        desc=\"Progresso: \",\n",
    "        total=len_texts,\n",
    "    )\n",
    ")"
   ]
  },
  {
   "cell_type": "code",
   "execution_count": 18,
   "metadata": {},
   "outputs": [],
   "source": [
    "reviews_treated = [lemmatize_text_remove_stopwords_and_puntuaction(doc) for doc in docs]"
   ]
  },
  {
   "cell_type": "code",
   "execution_count": 40,
   "metadata": {},
   "outputs": [],
   "source": [
    "# reviews_treated = [remove_stopwords_and_puntuaction(doc) for doc in docs]\n",
    "# durou 3.3s  em 50k arquivos"
   ]
  },
  {
   "cell_type": "code",
   "execution_count": 19,
   "metadata": {},
   "outputs": [
    {
     "name": "stderr",
     "output_type": "stream",
     "text": [
      "100%|██████████| 49582/49582 [00:01<00:00, 41609.39it/s]\n"
     ]
    }
   ],
   "source": [
    "reviews_treated = [remove_extra_spaces(text) for text in reviews_treated]"
   ]
  },
  {
   "cell_type": "code",
   "execution_count": 20,
   "metadata": {},
   "outputs": [],
   "source": [
    "df[\"review\"]= reviews_treated"
   ]
  },
  {
   "cell_type": "code",
   "execution_count": 21,
   "metadata": {},
   "outputs": [
    {
     "name": "stdout",
     "output_type": "stream",
     "text": [
      "8532\n"
     ]
    }
   ],
   "source": [
    "maior_string = max(df[\"review\"], key=lambda x: len(x.split()))\n",
    "tam_maior_string= len(maior_string)\n",
    "print(tam_maior_string)"
   ]
  },
  {
   "cell_type": "code",
   "execution_count": 22,
   "metadata": {},
   "outputs": [],
   "source": [
    "df.to_csv(\"IMDB_Dataset_tratado_lemma.csv\", index=False)"
   ]
  }
 ],
 "metadata": {
  "kernelspec": {
   "display_name": ".venv-tcc",
   "language": "python",
   "name": "python3"
  },
  "language_info": {
   "codemirror_mode": {
    "name": "ipython",
    "version": 3
   },
   "file_extension": ".py",
   "mimetype": "text/x-python",
   "name": "python",
   "nbconvert_exporter": "python",
   "pygments_lexer": "ipython3",
   "version": "3.11.5"
  }
 },
 "nbformat": 4,
 "nbformat_minor": 2
}
